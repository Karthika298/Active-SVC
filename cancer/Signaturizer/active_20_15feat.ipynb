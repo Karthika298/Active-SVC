{
 "cells": [
  {
   "cell_type": "code",
   "execution_count": 1,
   "id": "b66601d9",
   "metadata": {},
   "outputs": [],
   "source": [
    "import pandas as pd\n",
    "import numpy as np\n",
    "import datetime\n",
    "import sklearn\n",
    "import matplotlib.pyplot as plt\n",
    "from sklearn.metrics import roc_curve, auc\n",
    "from sklearn.ensemble import RandomForestClassifier\n",
    "from sklearn.neighbors import KNeighborsClassifier\n",
    "from sklearn.svm import SVC\n",
    "from sklearn.linear_model import LogisticRegression\n",
    "from xgboost import XGBClassifier\n",
    "from sklearn.naive_bayes import GaussianNB\n",
    "from sklearn.neural_network import MLPClassifier\n",
    "from sklearn.ensemble import ExtraTreesClassifier\n",
    "from sklearn.tree import DecisionTreeClassifier\n",
    "from sklearn.discriminant_analysis import LinearDiscriminantAnalysis\n",
    "import xgboost as xgb\n",
    "\n",
    "from sklearn.metrics import accuracy_score\n",
    "from sklearn.metrics import confusion_matrix\n",
    "from sklearn.metrics import classification_report\n",
    "from sklearn.metrics import accuracy_score, roc_auc_score, matthews_corrcoef, cohen_kappa_score, f1_score, precision_score, recall_score, roc_curve"
   ]
  },
  {
   "cell_type": "code",
   "execution_count": 2,
   "id": "549e17d6",
   "metadata": {},
   "outputs": [],
   "source": [
    "feat_file=pd.read_csv('cancer_preprocess.csv')"
   ]
  },
  {
   "cell_type": "code",
   "execution_count": 3,
   "id": "d759c0e2",
   "metadata": {},
   "outputs": [
    {
     "data": {
      "text/html": [
       "<div>\n",
       "<style scoped>\n",
       "    .dataframe tbody tr th:only-of-type {\n",
       "        vertical-align: middle;\n",
       "    }\n",
       "\n",
       "    .dataframe tbody tr th {\n",
       "        vertical-align: top;\n",
       "    }\n",
       "\n",
       "    .dataframe thead th {\n",
       "        text-align: right;\n",
       "    }\n",
       "</style>\n",
       "<table border=\"1\" class=\"dataframe\">\n",
       "  <thead>\n",
       "    <tr style=\"text-align: right;\">\n",
       "      <th></th>\n",
       "      <th>A1_0</th>\n",
       "      <th>A1_1</th>\n",
       "      <th>A1_2</th>\n",
       "      <th>A1_3</th>\n",
       "      <th>A1_4</th>\n",
       "      <th>A1_5</th>\n",
       "      <th>A1_6</th>\n",
       "      <th>A1_7</th>\n",
       "      <th>A1_8</th>\n",
       "      <th>A1_9</th>\n",
       "      <th>...</th>\n",
       "      <th>E5_118</th>\n",
       "      <th>E5_119</th>\n",
       "      <th>E5_120</th>\n",
       "      <th>E5_121</th>\n",
       "      <th>E5_122</th>\n",
       "      <th>E5_123</th>\n",
       "      <th>E5_124</th>\n",
       "      <th>E5_125</th>\n",
       "      <th>E5_126</th>\n",
       "      <th>E5_127</th>\n",
       "    </tr>\n",
       "  </thead>\n",
       "  <tbody>\n",
       "    <tr>\n",
       "      <th>0</th>\n",
       "      <td>0.183793</td>\n",
       "      <td>0.239916</td>\n",
       "      <td>0.850030</td>\n",
       "      <td>0.210690</td>\n",
       "      <td>0.896150</td>\n",
       "      <td>0.866617</td>\n",
       "      <td>0.860076</td>\n",
       "      <td>0.115359</td>\n",
       "      <td>0.374133</td>\n",
       "      <td>0.927302</td>\n",
       "      <td>...</td>\n",
       "      <td>0.793461</td>\n",
       "      <td>0.576311</td>\n",
       "      <td>0.189772</td>\n",
       "      <td>0.784201</td>\n",
       "      <td>0.335585</td>\n",
       "      <td>0.644900</td>\n",
       "      <td>0.301631</td>\n",
       "      <td>0.547792</td>\n",
       "      <td>0.479534</td>\n",
       "      <td>0.308149</td>\n",
       "    </tr>\n",
       "    <tr>\n",
       "      <th>1</th>\n",
       "      <td>0.908285</td>\n",
       "      <td>0.882967</td>\n",
       "      <td>0.804499</td>\n",
       "      <td>0.167710</td>\n",
       "      <td>0.854424</td>\n",
       "      <td>0.773797</td>\n",
       "      <td>0.818178</td>\n",
       "      <td>0.146237</td>\n",
       "      <td>0.822128</td>\n",
       "      <td>0.880442</td>\n",
       "      <td>...</td>\n",
       "      <td>0.792318</td>\n",
       "      <td>0.645596</td>\n",
       "      <td>0.668128</td>\n",
       "      <td>0.267654</td>\n",
       "      <td>0.732278</td>\n",
       "      <td>0.791278</td>\n",
       "      <td>0.680896</td>\n",
       "      <td>0.315371</td>\n",
       "      <td>0.368137</td>\n",
       "      <td>0.192646</td>\n",
       "    </tr>\n",
       "    <tr>\n",
       "      <th>2</th>\n",
       "      <td>0.187789</td>\n",
       "      <td>0.896291</td>\n",
       "      <td>0.089300</td>\n",
       "      <td>0.872091</td>\n",
       "      <td>0.140625</td>\n",
       "      <td>0.809294</td>\n",
       "      <td>0.833710</td>\n",
       "      <td>0.439762</td>\n",
       "      <td>0.836772</td>\n",
       "      <td>0.120445</td>\n",
       "      <td>...</td>\n",
       "      <td>0.594850</td>\n",
       "      <td>0.744443</td>\n",
       "      <td>0.246511</td>\n",
       "      <td>0.767050</td>\n",
       "      <td>0.736697</td>\n",
       "      <td>0.710731</td>\n",
       "      <td>0.586913</td>\n",
       "      <td>0.777560</td>\n",
       "      <td>0.706049</td>\n",
       "      <td>0.311375</td>\n",
       "    </tr>\n",
       "    <tr>\n",
       "      <th>3</th>\n",
       "      <td>0.911319</td>\n",
       "      <td>0.907869</td>\n",
       "      <td>0.831656</td>\n",
       "      <td>0.767504</td>\n",
       "      <td>0.886981</td>\n",
       "      <td>0.589135</td>\n",
       "      <td>0.704022</td>\n",
       "      <td>0.613958</td>\n",
       "      <td>0.852084</td>\n",
       "      <td>0.481431</td>\n",
       "      <td>...</td>\n",
       "      <td>0.593676</td>\n",
       "      <td>0.227899</td>\n",
       "      <td>0.264702</td>\n",
       "      <td>0.535805</td>\n",
       "      <td>0.480239</td>\n",
       "      <td>0.731689</td>\n",
       "      <td>0.799642</td>\n",
       "      <td>0.856727</td>\n",
       "      <td>0.824530</td>\n",
       "      <td>0.582091</td>\n",
       "    </tr>\n",
       "    <tr>\n",
       "      <th>4</th>\n",
       "      <td>0.181163</td>\n",
       "      <td>0.800212</td>\n",
       "      <td>0.827693</td>\n",
       "      <td>0.149731</td>\n",
       "      <td>0.739144</td>\n",
       "      <td>0.843704</td>\n",
       "      <td>0.841885</td>\n",
       "      <td>0.127548</td>\n",
       "      <td>0.112236</td>\n",
       "      <td>0.898438</td>\n",
       "      <td>...</td>\n",
       "      <td>0.391759</td>\n",
       "      <td>0.808125</td>\n",
       "      <td>0.147298</td>\n",
       "      <td>0.859803</td>\n",
       "      <td>0.620034</td>\n",
       "      <td>0.734427</td>\n",
       "      <td>0.126441</td>\n",
       "      <td>0.508898</td>\n",
       "      <td>0.552177</td>\n",
       "      <td>0.360427</td>\n",
       "    </tr>\n",
       "  </tbody>\n",
       "</table>\n",
       "<p>5 rows × 3200 columns</p>\n",
       "</div>"
      ],
      "text/plain": [
       "       A1_0      A1_1      A1_2      A1_3      A1_4      A1_5      A1_6  \\\n",
       "0  0.183793  0.239916  0.850030  0.210690  0.896150  0.866617  0.860076   \n",
       "1  0.908285  0.882967  0.804499  0.167710  0.854424  0.773797  0.818178   \n",
       "2  0.187789  0.896291  0.089300  0.872091  0.140625  0.809294  0.833710   \n",
       "3  0.911319  0.907869  0.831656  0.767504  0.886981  0.589135  0.704022   \n",
       "4  0.181163  0.800212  0.827693  0.149731  0.739144  0.843704  0.841885   \n",
       "\n",
       "       A1_7      A1_8      A1_9  ...    E5_118    E5_119    E5_120    E5_121  \\\n",
       "0  0.115359  0.374133  0.927302  ...  0.793461  0.576311  0.189772  0.784201   \n",
       "1  0.146237  0.822128  0.880442  ...  0.792318  0.645596  0.668128  0.267654   \n",
       "2  0.439762  0.836772  0.120445  ...  0.594850  0.744443  0.246511  0.767050   \n",
       "3  0.613958  0.852084  0.481431  ...  0.593676  0.227899  0.264702  0.535805   \n",
       "4  0.127548  0.112236  0.898438  ...  0.391759  0.808125  0.147298  0.859803   \n",
       "\n",
       "     E5_122    E5_123    E5_124    E5_125    E5_126    E5_127  \n",
       "0  0.335585  0.644900  0.301631  0.547792  0.479534  0.308149  \n",
       "1  0.732278  0.791278  0.680896  0.315371  0.368137  0.192646  \n",
       "2  0.736697  0.710731  0.586913  0.777560  0.706049  0.311375  \n",
       "3  0.480239  0.731689  0.799642  0.856727  0.824530  0.582091  \n",
       "4  0.620034  0.734427  0.126441  0.508898  0.552177  0.360427  \n",
       "\n",
       "[5 rows x 3200 columns]"
      ]
     },
     "execution_count": 3,
     "metadata": {},
     "output_type": "execute_result"
    }
   ],
   "source": [
    "feat_file.head()"
   ]
  },
  {
   "cell_type": "code",
   "execution_count": 4,
   "id": "e27455e1",
   "metadata": {},
   "outputs": [
    {
     "data": {
      "text/plain": [
       "(2129, 3200)"
      ]
     },
     "execution_count": 4,
     "metadata": {},
     "output_type": "execute_result"
    }
   ],
   "source": [
    "feat_file.shape"
   ]
  },
  {
   "cell_type": "code",
   "execution_count": 5,
   "id": "ab7abbc0",
   "metadata": {},
   "outputs": [],
   "source": [
    "X=feat_file.values"
   ]
  },
  {
   "cell_type": "code",
   "execution_count": 6,
   "id": "0b410c9e",
   "metadata": {
    "scrolled": true
   },
   "outputs": [
    {
     "data": {
      "text/html": [
       "<div>\n",
       "<style scoped>\n",
       "    .dataframe tbody tr th:only-of-type {\n",
       "        vertical-align: middle;\n",
       "    }\n",
       "\n",
       "    .dataframe tbody tr th {\n",
       "        vertical-align: top;\n",
       "    }\n",
       "\n",
       "    .dataframe thead th {\n",
       "        text-align: right;\n",
       "    }\n",
       "</style>\n",
       "<table border=\"1\" class=\"dataframe\">\n",
       "  <thead>\n",
       "    <tr style=\"text-align: right;\">\n",
       "      <th></th>\n",
       "      <th>Status</th>\n",
       "    </tr>\n",
       "  </thead>\n",
       "  <tbody>\n",
       "    <tr>\n",
       "      <th>0</th>\n",
       "      <td>0</td>\n",
       "    </tr>\n",
       "    <tr>\n",
       "      <th>1</th>\n",
       "      <td>0</td>\n",
       "    </tr>\n",
       "    <tr>\n",
       "      <th>2</th>\n",
       "      <td>0</td>\n",
       "    </tr>\n",
       "    <tr>\n",
       "      <th>3</th>\n",
       "      <td>1</td>\n",
       "    </tr>\n",
       "    <tr>\n",
       "      <th>4</th>\n",
       "      <td>0</td>\n",
       "    </tr>\n",
       "  </tbody>\n",
       "</table>\n",
       "</div>"
      ],
      "text/plain": [
       "   Status\n",
       "0       0\n",
       "1       0\n",
       "2       0\n",
       "3       1\n",
       "4       0"
      ]
     },
     "execution_count": 6,
     "metadata": {},
     "output_type": "execute_result"
    }
   ],
   "source": [
    "label= pd.read_csv('cancer_label.csv')\n",
    "label.head()"
   ]
  },
  {
   "cell_type": "code",
   "execution_count": 7,
   "id": "aae99626",
   "metadata": {},
   "outputs": [],
   "source": [
    "y=label.values.ravel()"
   ]
  },
  {
   "cell_type": "markdown",
   "id": "65e88af9",
   "metadata": {},
   "source": [
    "# split\n"
   ]
  },
  {
   "cell_type": "code",
   "execution_count": 8,
   "id": "34aa7a83",
   "metadata": {},
   "outputs": [],
   "source": [
    "from sklearn.model_selection import train_test_split\n",
    "X_train, X_test, y_train, y_test = train_test_split(X, y, test_size=0.2, random_state=42,shuffle=True)"
   ]
  },
  {
   "cell_type": "code",
   "execution_count": 9,
   "id": "c2f140f8",
   "metadata": {},
   "outputs": [
    {
     "data": {
      "text/plain": [
       "(1703, 3200)"
      ]
     },
     "execution_count": 9,
     "metadata": {},
     "output_type": "execute_result"
    }
   ],
   "source": [
    "X_train.shape"
   ]
  },
  {
   "cell_type": "code",
   "execution_count": 10,
   "id": "fb97298c",
   "metadata": {},
   "outputs": [],
   "source": [
    "X_train_filtered=pd.read_csv('min_acqui_20(15)_train.csv')"
   ]
  },
  {
   "cell_type": "code",
   "execution_count": 11,
   "id": "f3712b86",
   "metadata": {},
   "outputs": [
    {
     "data": {
      "text/html": [
       "<div>\n",
       "<style scoped>\n",
       "    .dataframe tbody tr th:only-of-type {\n",
       "        vertical-align: middle;\n",
       "    }\n",
       "\n",
       "    .dataframe tbody tr th {\n",
       "        vertical-align: top;\n",
       "    }\n",
       "\n",
       "    .dataframe thead th {\n",
       "        text-align: right;\n",
       "    }\n",
       "</style>\n",
       "<table border=\"1\" class=\"dataframe\">\n",
       "  <thead>\n",
       "    <tr style=\"text-align: right;\">\n",
       "      <th></th>\n",
       "      <th>E4_89</th>\n",
       "      <th>E4_28</th>\n",
       "      <th>E4_84</th>\n",
       "      <th>C1_97</th>\n",
       "      <th>D1_98</th>\n",
       "      <th>E1_40</th>\n",
       "      <th>E3_86</th>\n",
       "      <th>E3_84</th>\n",
       "      <th>E5_99</th>\n",
       "      <th>D4_84</th>\n",
       "      <th>B5_114</th>\n",
       "      <th>B2_98</th>\n",
       "      <th>B4_100</th>\n",
       "      <th>B1_10</th>\n",
       "      <th>C5_110</th>\n",
       "    </tr>\n",
       "  </thead>\n",
       "  <tbody>\n",
       "    <tr>\n",
       "      <th>0</th>\n",
       "      <td>0.786429</td>\n",
       "      <td>0.561138</td>\n",
       "      <td>0.258345</td>\n",
       "      <td>0.248749</td>\n",
       "      <td>0.021182</td>\n",
       "      <td>0.599582</td>\n",
       "      <td>0.454504</td>\n",
       "      <td>0.715381</td>\n",
       "      <td>0.755007</td>\n",
       "      <td>0.173080</td>\n",
       "      <td>0.263680</td>\n",
       "      <td>0.564490</td>\n",
       "      <td>0.797628</td>\n",
       "      <td>0.110611</td>\n",
       "      <td>0.274015</td>\n",
       "    </tr>\n",
       "    <tr>\n",
       "      <th>1</th>\n",
       "      <td>0.859290</td>\n",
       "      <td>0.852287</td>\n",
       "      <td>0.311888</td>\n",
       "      <td>0.196984</td>\n",
       "      <td>0.784381</td>\n",
       "      <td>0.146209</td>\n",
       "      <td>0.256918</td>\n",
       "      <td>0.795471</td>\n",
       "      <td>0.544956</td>\n",
       "      <td>0.110214</td>\n",
       "      <td>0.153174</td>\n",
       "      <td>0.737769</td>\n",
       "      <td>0.224427</td>\n",
       "      <td>0.761057</td>\n",
       "      <td>0.191864</td>\n",
       "    </tr>\n",
       "    <tr>\n",
       "      <th>2</th>\n",
       "      <td>0.143003</td>\n",
       "      <td>0.746479</td>\n",
       "      <td>0.418028</td>\n",
       "      <td>0.898705</td>\n",
       "      <td>0.814408</td>\n",
       "      <td>0.217695</td>\n",
       "      <td>0.430020</td>\n",
       "      <td>0.496394</td>\n",
       "      <td>0.489269</td>\n",
       "      <td>0.135345</td>\n",
       "      <td>0.394745</td>\n",
       "      <td>0.364919</td>\n",
       "      <td>0.150245</td>\n",
       "      <td>0.710013</td>\n",
       "      <td>0.326009</td>\n",
       "    </tr>\n",
       "    <tr>\n",
       "      <th>3</th>\n",
       "      <td>0.866164</td>\n",
       "      <td>0.822966</td>\n",
       "      <td>0.611352</td>\n",
       "      <td>0.231740</td>\n",
       "      <td>0.895338</td>\n",
       "      <td>0.208094</td>\n",
       "      <td>0.139817</td>\n",
       "      <td>0.492059</td>\n",
       "      <td>0.352601</td>\n",
       "      <td>0.146327</td>\n",
       "      <td>0.160720</td>\n",
       "      <td>0.083903</td>\n",
       "      <td>0.192012</td>\n",
       "      <td>0.826963</td>\n",
       "      <td>0.388578</td>\n",
       "    </tr>\n",
       "    <tr>\n",
       "      <th>4</th>\n",
       "      <td>0.387573</td>\n",
       "      <td>0.158970</td>\n",
       "      <td>0.264245</td>\n",
       "      <td>0.230294</td>\n",
       "      <td>0.562063</td>\n",
       "      <td>0.385392</td>\n",
       "      <td>0.760659</td>\n",
       "      <td>0.838540</td>\n",
       "      <td>0.212667</td>\n",
       "      <td>0.163507</td>\n",
       "      <td>0.732251</td>\n",
       "      <td>0.671126</td>\n",
       "      <td>0.153444</td>\n",
       "      <td>0.823512</td>\n",
       "      <td>0.261580</td>\n",
       "    </tr>\n",
       "  </tbody>\n",
       "</table>\n",
       "</div>"
      ],
      "text/plain": [
       "      E4_89     E4_28     E4_84     C1_97     D1_98     E1_40     E3_86  \\\n",
       "0  0.786429  0.561138  0.258345  0.248749  0.021182  0.599582  0.454504   \n",
       "1  0.859290  0.852287  0.311888  0.196984  0.784381  0.146209  0.256918   \n",
       "2  0.143003  0.746479  0.418028  0.898705  0.814408  0.217695  0.430020   \n",
       "3  0.866164  0.822966  0.611352  0.231740  0.895338  0.208094  0.139817   \n",
       "4  0.387573  0.158970  0.264245  0.230294  0.562063  0.385392  0.760659   \n",
       "\n",
       "      E3_84     E5_99     D4_84    B5_114     B2_98    B4_100     B1_10  \\\n",
       "0  0.715381  0.755007  0.173080  0.263680  0.564490  0.797628  0.110611   \n",
       "1  0.795471  0.544956  0.110214  0.153174  0.737769  0.224427  0.761057   \n",
       "2  0.496394  0.489269  0.135345  0.394745  0.364919  0.150245  0.710013   \n",
       "3  0.492059  0.352601  0.146327  0.160720  0.083903  0.192012  0.826963   \n",
       "4  0.838540  0.212667  0.163507  0.732251  0.671126  0.153444  0.823512   \n",
       "\n",
       "     C5_110  \n",
       "0  0.274015  \n",
       "1  0.191864  \n",
       "2  0.326009  \n",
       "3  0.388578  \n",
       "4  0.261580  "
      ]
     },
     "execution_count": 11,
     "metadata": {},
     "output_type": "execute_result"
    }
   ],
   "source": [
    "X_train_filtered.head()"
   ]
  },
  {
   "cell_type": "code",
   "execution_count": 12,
   "id": "0b17a24c",
   "metadata": {},
   "outputs": [],
   "source": [
    "X_test_filtered=pd.read_csv('min_acqui_20(15)_test.csv')"
   ]
  },
  {
   "cell_type": "code",
   "execution_count": 13,
   "id": "74390d88",
   "metadata": {},
   "outputs": [
    {
     "data": {
      "text/html": [
       "<div>\n",
       "<style scoped>\n",
       "    .dataframe tbody tr th:only-of-type {\n",
       "        vertical-align: middle;\n",
       "    }\n",
       "\n",
       "    .dataframe tbody tr th {\n",
       "        vertical-align: top;\n",
       "    }\n",
       "\n",
       "    .dataframe thead th {\n",
       "        text-align: right;\n",
       "    }\n",
       "</style>\n",
       "<table border=\"1\" class=\"dataframe\">\n",
       "  <thead>\n",
       "    <tr style=\"text-align: right;\">\n",
       "      <th></th>\n",
       "      <th>E4_89</th>\n",
       "      <th>E4_28</th>\n",
       "      <th>E4_84</th>\n",
       "      <th>C1_97</th>\n",
       "      <th>D1_98</th>\n",
       "      <th>E1_40</th>\n",
       "      <th>E3_86</th>\n",
       "      <th>E3_84</th>\n",
       "      <th>E5_99</th>\n",
       "      <th>D4_84</th>\n",
       "      <th>B5_114</th>\n",
       "      <th>B2_98</th>\n",
       "      <th>B4_100</th>\n",
       "      <th>B1_10</th>\n",
       "      <th>C5_110</th>\n",
       "    </tr>\n",
       "  </thead>\n",
       "  <tbody>\n",
       "    <tr>\n",
       "      <th>0</th>\n",
       "      <td>0.874179</td>\n",
       "      <td>0.873852</td>\n",
       "      <td>0.200238</td>\n",
       "      <td>0.175636</td>\n",
       "      <td>0.855091</td>\n",
       "      <td>0.296361</td>\n",
       "      <td>0.322225</td>\n",
       "      <td>0.676283</td>\n",
       "      <td>0.421249</td>\n",
       "      <td>0.151439</td>\n",
       "      <td>0.250993</td>\n",
       "      <td>0.606397</td>\n",
       "      <td>0.139666</td>\n",
       "      <td>0.626038</td>\n",
       "      <td>0.277871</td>\n",
       "    </tr>\n",
       "    <tr>\n",
       "      <th>1</th>\n",
       "      <td>0.747822</td>\n",
       "      <td>0.815728</td>\n",
       "      <td>0.269469</td>\n",
       "      <td>0.532944</td>\n",
       "      <td>0.746239</td>\n",
       "      <td>0.348138</td>\n",
       "      <td>0.624252</td>\n",
       "      <td>0.876427</td>\n",
       "      <td>0.487525</td>\n",
       "      <td>0.147516</td>\n",
       "      <td>0.367832</td>\n",
       "      <td>0.507946</td>\n",
       "      <td>0.139218</td>\n",
       "      <td>0.809413</td>\n",
       "      <td>0.185769</td>\n",
       "    </tr>\n",
       "    <tr>\n",
       "      <th>2</th>\n",
       "      <td>0.145007</td>\n",
       "      <td>0.612936</td>\n",
       "      <td>0.431691</td>\n",
       "      <td>0.204306</td>\n",
       "      <td>0.905475</td>\n",
       "      <td>0.920974</td>\n",
       "      <td>0.384639</td>\n",
       "      <td>0.552976</td>\n",
       "      <td>0.230539</td>\n",
       "      <td>0.117669</td>\n",
       "      <td>0.291854</td>\n",
       "      <td>0.532184</td>\n",
       "      <td>0.554220</td>\n",
       "      <td>0.640466</td>\n",
       "      <td>0.220049</td>\n",
       "    </tr>\n",
       "    <tr>\n",
       "      <th>3</th>\n",
       "      <td>0.135729</td>\n",
       "      <td>0.431600</td>\n",
       "      <td>0.301753</td>\n",
       "      <td>0.771572</td>\n",
       "      <td>0.849031</td>\n",
       "      <td>0.547933</td>\n",
       "      <td>0.749096</td>\n",
       "      <td>0.849332</td>\n",
       "      <td>0.577864</td>\n",
       "      <td>0.119563</td>\n",
       "      <td>0.357084</td>\n",
       "      <td>0.782663</td>\n",
       "      <td>0.340001</td>\n",
       "      <td>0.089889</td>\n",
       "      <td>0.241542</td>\n",
       "    </tr>\n",
       "    <tr>\n",
       "      <th>4</th>\n",
       "      <td>0.443421</td>\n",
       "      <td>0.547341</td>\n",
       "      <td>0.446868</td>\n",
       "      <td>0.216046</td>\n",
       "      <td>0.809537</td>\n",
       "      <td>0.327387</td>\n",
       "      <td>0.732435</td>\n",
       "      <td>0.814533</td>\n",
       "      <td>0.114572</td>\n",
       "      <td>0.139217</td>\n",
       "      <td>0.479699</td>\n",
       "      <td>0.323070</td>\n",
       "      <td>0.133860</td>\n",
       "      <td>0.806045</td>\n",
       "      <td>0.259948</td>\n",
       "    </tr>\n",
       "  </tbody>\n",
       "</table>\n",
       "</div>"
      ],
      "text/plain": [
       "      E4_89     E4_28     E4_84     C1_97     D1_98     E1_40     E3_86  \\\n",
       "0  0.874179  0.873852  0.200238  0.175636  0.855091  0.296361  0.322225   \n",
       "1  0.747822  0.815728  0.269469  0.532944  0.746239  0.348138  0.624252   \n",
       "2  0.145007  0.612936  0.431691  0.204306  0.905475  0.920974  0.384639   \n",
       "3  0.135729  0.431600  0.301753  0.771572  0.849031  0.547933  0.749096   \n",
       "4  0.443421  0.547341  0.446868  0.216046  0.809537  0.327387  0.732435   \n",
       "\n",
       "      E3_84     E5_99     D4_84    B5_114     B2_98    B4_100     B1_10  \\\n",
       "0  0.676283  0.421249  0.151439  0.250993  0.606397  0.139666  0.626038   \n",
       "1  0.876427  0.487525  0.147516  0.367832  0.507946  0.139218  0.809413   \n",
       "2  0.552976  0.230539  0.117669  0.291854  0.532184  0.554220  0.640466   \n",
       "3  0.849332  0.577864  0.119563  0.357084  0.782663  0.340001  0.089889   \n",
       "4  0.814533  0.114572  0.139217  0.479699  0.323070  0.133860  0.806045   \n",
       "\n",
       "     C5_110  \n",
       "0  0.277871  \n",
       "1  0.185769  \n",
       "2  0.220049  \n",
       "3  0.241542  \n",
       "4  0.259948  "
      ]
     },
     "execution_count": 13,
     "metadata": {},
     "output_type": "execute_result"
    }
   ],
   "source": [
    "X_test_filtered.head()"
   ]
  },
  {
   "cell_type": "markdown",
   "id": "54f51a1c",
   "metadata": {},
   "source": [
    "## RFC"
   ]
  },
  {
   "cell_type": "code",
   "execution_count": 14,
   "id": "12c91ee6",
   "metadata": {},
   "outputs": [],
   "source": [
    "#define random forest classifier\n",
    "forest = RandomForestClassifier(n_jobs=-1, class_weight='balanced', max_depth=5)\n",
    "forest.fit(X_train_filtered,y_train)\n",
    "end=datetime.datetime.now()\n",
    "\n",
    "y_pred_train=forest.predict(X_train_filtered)\n",
    "y_pred_test=forest.predict(X_test_filtered)\n",
    "y_prediction_values=forest.predict_proba(X_test_filtered)"
   ]
  },
  {
   "cell_type": "code",
   "execution_count": 15,
   "id": "58e57037",
   "metadata": {},
   "outputs": [
    {
     "name": "stdout",
     "output_type": "stream",
     "text": [
      "confusion matrix\n",
      " [[131  68]\n",
      " [ 73 154]]\n",
      "Classification Report:\n",
      "               precision    recall  f1-score   support\n",
      "\n",
      "           0     0.6422    0.6583    0.6501       199\n",
      "           1     0.6937    0.6784    0.6860       227\n",
      "\n",
      "    accuracy                         0.6690       426\n",
      "   macro avg     0.6679    0.6684    0.6680       426\n",
      "weighted avg     0.6696    0.6690    0.6692       426\n",
      "\n"
     ]
    }
   ],
   "source": [
    "rfc_acc_train=accuracy_score(y_train,y_pred_train)*100\n",
    "rfc_acc_test=accuracy_score(y_test,y_pred_test)*100\n",
    "rfc_mcc_train=matthews_corrcoef(y_train, y_pred_train)\n",
    "rfc_mcc_test=matthews_corrcoef(y_test, y_pred_test)\n",
    "rfc_f1_train=f1_score(y_train, y_pred_train, average='macro')\n",
    "rfc_f1_test=f1_score(y_test, y_pred_test, average='macro')\n",
    "rfc_prec_train=precision_score(y_train, y_pred_train)\n",
    "rfc_prec_test=precision_score(y_test, y_pred_test)\n",
    "rfc_recall_train=recall_score(y_train, y_pred_train)\n",
    "rfc_recall_test=recall_score(y_test, y_pred_test)\n",
    "kappa_train=sklearn.metrics.cohen_kappa_score(y_train,y_pred_train)\n",
    "rfc_kappa_train=kappa_train\n",
    "kappa_test=sklearn.metrics.cohen_kappa_score(y_test,y_pred_test)\n",
    "rfc_kappa_test=kappa_test\n",
    "\n",
    "print(\"confusion matrix\\n\",confusion_matrix(y_test,y_pred_test))\n",
    "print(\"Classification Report:\\n\",classification_report(y_test,y_pred_test,digits=4))"
   ]
  },
  {
   "cell_type": "code",
   "execution_count": 16,
   "id": "03cd520f",
   "metadata": {
    "scrolled": true
   },
   "outputs": [
    {
     "data": {
      "image/png": "[encoded data removed]",
      "text/plain": [
       "<Figure size 640x480 with 1 Axes>"
      ]
     },
     "metadata": {},
     "output_type": "display_data"
    }
   ],
   "source": [
    "#auc\n",
    "fpr, tpr, _ = roc_curve(y_test,y_prediction_values[:, 1])\n",
    "roc_auc = auc(fpr, tpr)\n",
    "auc_1=roc_auc\n",
    "\n",
    "#\n",
    "figcount=0\n",
    "Figureset=[]\n",
    "image=plt.figure(figcount)\n",
    "plt.plot(fpr, tpr, 'b', label = 'AUC = %0.2f' % roc_auc)\n",
    "plt.title(\"AUC/ROC\")\n",
    "plt.xlabel('False Positive Rate')\n",
    "plt.ylabel('True Positive Rate')\n",
    "plt.title(\"AUC/ROC\")\n",
    "plt.legend(loc=\"lower right\")\n",
    "figcount+=1\n",
    "Figureset.append(image)\n",
    "plt.show()"
   ]
  },
  {
   "cell_type": "markdown",
   "id": "137b5dd3",
   "metadata": {},
   "source": [
    "## KNN"
   ]
  },
  {
   "cell_type": "code",
   "execution_count": 17,
   "id": "ba092324",
   "metadata": {},
   "outputs": [],
   "source": [
    "from sklearn.neighbors import KNeighborsClassifier\n",
    "KNN=KNeighborsClassifier()\n",
    "KNN.fit(X_train_filtered,y_train)\n",
    "y_pred_test=KNN.predict(X_test_filtered)\n",
    "y_pred_train=KNN.predict(X_train_filtered)\n",
    "y_prediction_values=KNN.predict_proba(X_test_filtered)"
   ]
  },
  {
   "cell_type": "code",
   "execution_count": 18,
   "id": "3e98d5a2",
   "metadata": {},
   "outputs": [
    {
     "name": "stdout",
     "output_type": "stream",
     "text": [
      "confusion matrix\n",
      " [[127  72]\n",
      " [ 75 152]]\n",
      "Classification Report:\n",
      "               precision    recall  f1-score   support\n",
      "\n",
      "           0     0.6287    0.6382    0.6334       199\n",
      "           1     0.6786    0.6696    0.6741       227\n",
      "\n",
      "    accuracy                         0.6549       426\n",
      "   macro avg     0.6536    0.6539    0.6537       426\n",
      "weighted avg     0.6553    0.6549    0.6551       426\n",
      "\n"
     ]
    }
   ],
   "source": [
    "knn_acc_train=accuracy_score(y_train,y_pred_train)*100\n",
    "knn_acc_test=accuracy_score(y_test,y_pred_test)*100\n",
    "knn_mcc_train=matthews_corrcoef(y_train, y_pred_train)\n",
    "knn_mcc_test=matthews_corrcoef(y_test, y_pred_test)\n",
    "knn_f1_train=f1_score(y_train, y_pred_train, average='macro')\n",
    "knn_f1_test=f1_score(y_test, y_pred_test, average='macro')\n",
    "knn_prec_train=precision_score(y_train, y_pred_train)\n",
    "knn_prec_test=precision_score(y_test, y_pred_test)\n",
    "knn_recall_train=recall_score(y_train, y_pred_train)\n",
    "knn_recall_test=recall_score(y_test, y_pred_test)\n",
    "knn_kappa_train=sklearn.metrics.cohen_kappa_score(y_train,y_pred_train)\n",
    "rfc_kappa=knn_kappa_train\n",
    "knn_kappa_test=sklearn.metrics.cohen_kappa_score(y_test,y_pred_test)\n",
    "rfc_kappa=knn_kappa_test\n",
    "\n",
    "print(\"confusion matrix\\n\",confusion_matrix(y_test,y_pred_test))\n",
    "print(\"Classification Report:\\n\",classification_report(y_test,y_pred_test,digits=4))"
   ]
  },
  {
   "cell_type": "code",
   "execution_count": 19,
   "id": "a0c47a36",
   "metadata": {},
   "outputs": [
    {
     "data": {
      "image/png": "[encoded data removed]",
      "text/plain": [
       "<Figure size 640x480 with 1 Axes>"
      ]
     },
     "metadata": {},
     "output_type": "display_data"
    }
   ],
   "source": [
    "#auc\n",
    "fpr, tpr, _ = roc_curve(y_test,y_prediction_values[:, 1])\n",
    "roc_auc = auc(fpr, tpr)\n",
    "auc_2=roc_auc\n",
    "\n",
    "#\n",
    "figcount=0\n",
    "Figureset=[]\n",
    "image=plt.figure(figcount)\n",
    "plt.plot(fpr, tpr, 'b', label = 'AUC = %0.2f' % roc_auc)\n",
    "plt.title(\"AUC/ROC\")\n",
    "plt.xlabel('False Positive Rate')\n",
    "plt.ylabel('True Positive Rate')\n",
    "plt.title(\"AUC/ROC\")\n",
    "plt.legend(loc=\"lower right\")\n",
    "figcount+=1\n",
    "Figureset.append(image)\n",
    "plt.show()"
   ]
  },
  {
   "cell_type": "markdown",
   "id": "d050448c",
   "metadata": {},
   "source": [
    "# SVC"
   ]
  },
  {
   "cell_type": "code",
   "execution_count": 20,
   "id": "c161b476",
   "metadata": {},
   "outputs": [],
   "source": [
    "from sklearn.svm import SVC\n",
    "model=SVC(probability=True)\n",
    "model.fit(X_train_filtered,y_train)\n",
    "y_pred_test=model.predict(X_test_filtered)\n",
    "y_pred_train=model.predict(X_train_filtered)\n",
    "y_prediction_values=model.predict_proba(X_test_filtered)"
   ]
  },
  {
   "cell_type": "code",
   "execution_count": 21,
   "id": "80f8418b",
   "metadata": {},
   "outputs": [
    {
     "name": "stdout",
     "output_type": "stream",
     "text": [
      "confusion matrix\n",
      " [[129  70]\n",
      " [ 74 153]]\n",
      "Classification Report:\n",
      "               precision    recall  f1-score   support\n",
      "\n",
      "           0     0.6355    0.6482    0.6418       199\n",
      "           1     0.6861    0.6740    0.6800       227\n",
      "\n",
      "    accuracy                         0.6620       426\n",
      "   macro avg     0.6608    0.6611    0.6609       426\n",
      "weighted avg     0.6624    0.6620    0.6622       426\n",
      "\n"
     ]
    }
   ],
   "source": [
    "svc_acc_train=accuracy_score(y_train,y_pred_train)*100\n",
    "svc_acc_test=accuracy_score(y_test,y_pred_test)*100\n",
    "svc_mcc_train=matthews_corrcoef(y_train, y_pred_train)\n",
    "svc_mcc_test=matthews_corrcoef(y_test, y_pred_test)\n",
    "svc_f1_train=f1_score(y_train, y_pred_train, average='macro')\n",
    "svc_f1_test=f1_score(y_test, y_pred_test, average='macro')\n",
    "svc_prec_train=precision_score(y_train, y_pred_train)\n",
    "svc_prec_test=precision_score(y_test, y_pred_test)\n",
    "svc_recall_train=recall_score(y_train, y_pred_train)\n",
    "svc_recall_test=recall_score(y_test, y_pred_test)\n",
    "svc_kappa_train=sklearn.metrics.cohen_kappa_score(y_train,y_pred_train)\n",
    "svc_kappa=knn_kappa_train\n",
    "svc_kappa_test=sklearn.metrics.cohen_kappa_score(y_test,y_pred_test)\n",
    "svc_kappa=knn_kappa_test\n",
    "\n",
    "print(\"confusion matrix\\n\",confusion_matrix(y_test,y_pred_test))\n",
    "print(\"Classification Report:\\n\",classification_report(y_test,y_pred_test,digits=4))"
   ]
  },
  {
   "cell_type": "code",
   "execution_count": 22,
   "id": "148f0a1d",
   "metadata": {},
   "outputs": [
    {
     "data": {
      "image/png": "[encoded data removed]",
      "text/plain": [
       "<Figure size 640x480 with 1 Axes>"
      ]
     },
     "metadata": {},
     "output_type": "display_data"
    }
   ],
   "source": [
    "#auc\n",
    "fpr, tpr, _ = roc_curve(y_test,y_prediction_values[:, 1])\n",
    "roc_auc = auc(fpr, tpr)\n",
    "auc_3=roc_auc\n",
    "\n",
    "#\n",
    "figcount=0\n",
    "Figureset=[]\n",
    "image=plt.figure(figcount)\n",
    "plt.plot(fpr, tpr, 'b', label = 'AUC = %0.2f' % roc_auc)\n",
    "plt.title(\"AUC/ROC\")\n",
    "plt.xlabel('False Positive Rate')\n",
    "plt.ylabel('True Positive Rate')\n",
    "plt.title(\"AUC/ROC\")\n",
    "plt.legend(loc=\"lower right\")\n",
    "figcount+=1\n",
    "Figureset.append(image)\n",
    "plt.show()"
   ]
  },
  {
   "cell_type": "markdown",
   "id": "31030dd7",
   "metadata": {},
   "source": [
    "## Logistic Regression"
   ]
  },
  {
   "cell_type": "code",
   "execution_count": 23,
   "id": "ddfa0c0c",
   "metadata": {},
   "outputs": [],
   "source": [
    "from sklearn.linear_model import LogisticRegression\n",
    "lr=LogisticRegression()\n",
    "lr.fit(X_train_filtered,y_train)\n",
    "y_pred_test=lr.predict(X_test_filtered)\n",
    "y_pred_train=lr.predict(X_train_filtered)\n",
    "y_prediction_values=lr.predict_proba(X_test_filtered)"
   ]
  },
  {
   "cell_type": "code",
   "execution_count": 24,
   "id": "07acb54c",
   "metadata": {},
   "outputs": [
    {
     "name": "stdout",
     "output_type": "stream",
     "text": [
      "confusion matrix\n",
      " [[134  65]\n",
      " [ 76 151]]\n",
      "Classification Report:\n",
      "               precision    recall  f1-score   support\n",
      "\n",
      "           0     0.6381    0.6734    0.6553       199\n",
      "           1     0.6991    0.6652    0.6817       227\n",
      "\n",
      "    accuracy                         0.6690       426\n",
      "   macro avg     0.6686    0.6693    0.6685       426\n",
      "weighted avg     0.6706    0.6690    0.6694       426\n",
      "\n"
     ]
    }
   ],
   "source": [
    "lr_acc_train=accuracy_score(y_train,y_pred_train)*100\n",
    "lr_acc_test=accuracy_score(y_test,y_pred_test)*100\n",
    "lr_mcc_train=matthews_corrcoef(y_train, y_pred_train)\n",
    "lr_mcc_test=matthews_corrcoef(y_test, y_pred_test)\n",
    "lr_f1_train=f1_score(y_train, y_pred_train, average='macro')\n",
    "lr_f1_test=f1_score(y_test, y_pred_test, average='macro')\n",
    "lr_prec_train=precision_score(y_train, y_pred_train)\n",
    "lr_prec_test=precision_score(y_test, y_pred_test)\n",
    "lr_recall_train=recall_score(y_train, y_pred_train)\n",
    "lr_recall_test=recall_score(y_test, y_pred_test)\n",
    "lr_kappa_train=sklearn.metrics.cohen_kappa_score(y_train,y_pred_train)\n",
    "lr_kappa=knn_kappa_train\n",
    "lr_kappa_test=sklearn.metrics.cohen_kappa_score(y_test,y_pred_test)\n",
    "lr_kappa=knn_kappa_test\n",
    "\n",
    "print(\"confusion matrix\\n\",confusion_matrix(y_test,y_pred_test))\n",
    "print(\"Classification Report:\\n\",classification_report(y_test,y_pred_test,digits=4))"
   ]
  },
  {
   "cell_type": "code",
   "execution_count": 25,
   "id": "773143f2",
   "metadata": {},
   "outputs": [
    {
     "data": {
      "image/png": "[encoded data removed]",
      "text/plain": [
       "<Figure size 640x480 with 1 Axes>"
      ]
     },
     "metadata": {},
     "output_type": "display_data"
    }
   ],
   "source": [
    "#auc\n",
    "fpr, tpr, _ = roc_curve(y_test,y_prediction_values[:, 1])\n",
    "roc_auc = auc(fpr, tpr)\n",
    "auc_4=roc_auc\n",
    "\n",
    "#\n",
    "figcount=0\n",
    "Figureset=[]\n",
    "image=plt.figure(figcount)\n",
    "plt.plot(fpr, tpr, 'b', label = 'AUC = %0.2f' % roc_auc)\n",
    "plt.title(\"AUC/ROC\")\n",
    "plt.xlabel('False Positive Rate')\n",
    "plt.ylabel('True Positive Rate')\n",
    "plt.title(\"AUC/ROC\")\n",
    "plt.legend(loc=\"lower right\")\n",
    "figcount+=1\n",
    "Figureset.append(image)\n",
    "plt.show()"
   ]
  },
  {
   "cell_type": "markdown",
   "id": "9df14299",
   "metadata": {},
   "source": [
    "# XGB"
   ]
  },
  {
   "cell_type": "code",
   "execution_count": 26,
   "id": "b56884e6",
   "metadata": {},
   "outputs": [
    {
     "name": "stdout",
     "output_type": "stream",
     "text": [
      "[11:31:09] WARNING: ../src/learner.cc:767: \n",
      "Parameters: { \"silent\" } are not used.\n",
      "\n"
     ]
    }
   ],
   "source": [
    "from xgboost import XGBClassifier\n",
    "xgb = XGBClassifier(learning_rate=0.02, n_estimators=600, objective='binary:logistic',silent=True, nthread=1)\n",
    "xgb.fit(X_train_filtered, y_train)\n",
    "y_pred_train = xgb.predict(X_train_filtered)\n",
    "y_pred_test = xgb.predict(X_test_filtered)\n",
    "\n",
    "y_prediction_values=xgb.predict_proba(X_test_filtered)"
   ]
  },
  {
   "cell_type": "code",
   "execution_count": 27,
   "id": "085fc35b",
   "metadata": {},
   "outputs": [
    {
     "name": "stdout",
     "output_type": "stream",
     "text": [
      "confusion matrix\n",
      " [[129  70]\n",
      " [ 76 151]]\n",
      "Classification Report:\n",
      "               precision    recall  f1-score   support\n",
      "\n",
      "           0     0.6293    0.6482    0.6386       199\n",
      "           1     0.6833    0.6652    0.6741       227\n",
      "\n",
      "    accuracy                         0.6573       426\n",
      "   macro avg     0.6563    0.6567    0.6564       426\n",
      "weighted avg     0.6580    0.6573    0.6575       426\n",
      "\n"
     ]
    }
   ],
   "source": [
    "xgb_acc_train=accuracy_score(y_train,y_pred_train)*100\n",
    "xgb_acc_test=accuracy_score(y_test,y_pred_test)*100\n",
    "xgb_mcc_train=matthews_corrcoef(y_train, y_pred_train)\n",
    "xgb_mcc_test=matthews_corrcoef(y_test, y_pred_test)\n",
    "xgb_f1_train=f1_score(y_train, y_pred_train, average='macro')\n",
    "xgb_f1_test=f1_score(y_test, y_pred_test, average='macro')\n",
    "xgb_prec_train=precision_score(y_train, y_pred_train)\n",
    "xgb_prec_test=precision_score(y_test, y_pred_test)\n",
    "xgb_recall_train=recall_score(y_train, y_pred_train)\n",
    "xgb_recall_test=recall_score(y_test, y_pred_test)\n",
    "xgb_kappa_train=sklearn.metrics.cohen_kappa_score(y_train,y_pred_train)\n",
    "xgb_kappa=knn_kappa_train\n",
    "xgb_kappa_test=sklearn.metrics.cohen_kappa_score(y_test,y_pred_test)\n",
    "xgb_kappa=knn_kappa_test\n",
    "\n",
    "print(\"confusion matrix\\n\",confusion_matrix(y_test,y_pred_test))\n",
    "print(\"Classification Report:\\n\",classification_report(y_test,y_pred_test,digits=4))"
   ]
  },
  {
   "cell_type": "code",
   "execution_count": 28,
   "id": "6c29f537",
   "metadata": {},
   "outputs": [
    {
     "data": {
      "image/png": "[encoded data removed]",
      "text/plain": [
       "<Figure size 640x480 with 1 Axes>"
      ]
     },
     "metadata": {},
     "output_type": "display_data"
    }
   ],
   "source": [
    "#auc\n",
    "fpr, tpr, _ = roc_curve(y_test,y_prediction_values[:, 1])\n",
    "roc_auc = auc(fpr, tpr)\n",
    "auc_5=roc_auc\n",
    "\n",
    "#\n",
    "figcount=0\n",
    "Figureset=[]\n",
    "image=plt.figure(figcount)\n",
    "plt.plot(fpr, tpr, 'b', label = 'AUC = %0.2f' % roc_auc)\n",
    "plt.title(\"AUC/ROC\")\n",
    "plt.xlabel('False Positive Rate')\n",
    "plt.ylabel('True Positive Rate')\n",
    "plt.title(\"AUC/ROC\")\n",
    "plt.legend(loc=\"lower right\")\n",
    "figcount+=1\n",
    "Figureset.append(image)\n",
    "plt.show()"
   ]
  },
  {
   "cell_type": "markdown",
   "id": "38bb0c0a",
   "metadata": {},
   "source": [
    "## Gaussian NB"
   ]
  },
  {
   "cell_type": "code",
   "execution_count": 29,
   "id": "81feedda",
   "metadata": {},
   "outputs": [],
   "source": [
    "from sklearn.naive_bayes import GaussianNB\n",
    "clf = GaussianNB()\n",
    "clf.fit(X_train_filtered, y_train)\n",
    "\n",
    "y_pred_train = clf.predict(X_train_filtered)\n",
    "y_pred_test = clf.predict(X_test_filtered)\n",
    "y_prediction_values=clf.predict_proba(X_test_filtered)"
   ]
  },
  {
   "cell_type": "code",
   "execution_count": 30,
   "id": "307db28e",
   "metadata": {},
   "outputs": [
    {
     "name": "stdout",
     "output_type": "stream",
     "text": [
      "confusion matrix\n",
      " [[125  74]\n",
      " [ 72 155]]\n",
      "Classification Report:\n",
      "               precision    recall  f1-score   support\n",
      "\n",
      "           0     0.6345    0.6281    0.6313       199\n",
      "           1     0.6769    0.6828    0.6798       227\n",
      "\n",
      "    accuracy                         0.6573       426\n",
      "   macro avg     0.6557    0.6555    0.6556       426\n",
      "weighted avg     0.6571    0.6573    0.6572       426\n",
      "\n"
     ]
    }
   ],
   "source": [
    "clf_acc_train=accuracy_score(y_train,y_pred_train)*100\n",
    "clf_acc_test=accuracy_score(y_test,y_pred_test)*100\n",
    "clf_mcc_train=matthews_corrcoef(y_train, y_pred_train)\n",
    "clf_mcc_test=matthews_corrcoef(y_test, y_pred_test)\n",
    "clf_f1_train=f1_score(y_train, y_pred_train, average='macro')\n",
    "clf_f1_test=f1_score(y_test, y_pred_test, average='macro')\n",
    "clf_prec_train=precision_score(y_train, y_pred_train)\n",
    "clf_prec_test=precision_score(y_test, y_pred_test)\n",
    "clf_recall_train=recall_score(y_train, y_pred_train)\n",
    "clf_recall_test=recall_score(y_test, y_pred_test)\n",
    "clf_kappa_train=sklearn.metrics.cohen_kappa_score(y_train,y_pred_train)\n",
    "clf_kappa=knn_kappa_train\n",
    "clf_kappa_test=sklearn.metrics.cohen_kappa_score(y_test,y_pred_test)\n",
    "clf_kappa=knn_kappa_test\n",
    "\n",
    "print(\"confusion matrix\\n\",confusion_matrix(y_test,y_pred_test))\n",
    "print(\"Classification Report:\\n\",classification_report(y_test,y_pred_test,digits=4))"
   ]
  },
  {
   "cell_type": "code",
   "execution_count": 31,
   "id": "9959460c",
   "metadata": {},
   "outputs": [
    {
     "data": {
      "image/png": "[encoded data removed]",
      "text/plain": [
       "<Figure size 640x480 with 1 Axes>"
      ]
     },
     "metadata": {},
     "output_type": "display_data"
    }
   ],
   "source": [
    "#auc\n",
    "fpr, tpr, _ = roc_curve(y_test,y_prediction_values[:, 1])\n",
    "roc_auc = auc(fpr, tpr)\n",
    "auc_6=roc_auc\n",
    "\n",
    "#\n",
    "figcount=0\n",
    "Figureset=[]\n",
    "image=plt.figure(figcount)\n",
    "plt.plot(fpr, tpr, 'b', label = 'AUC = %0.2f' % roc_auc)\n",
    "plt.title(\"AUC/ROC\")\n",
    "plt.xlabel('False Positive Rate')\n",
    "plt.ylabel('True Positive Rate')\n",
    "plt.title(\"AUC/ROC\")\n",
    "plt.legend(loc=\"lower right\")\n",
    "figcount+=1\n",
    "Figureset.append(image)\n",
    "plt.show()"
   ]
  },
  {
   "cell_type": "markdown",
   "id": "72bd5a44",
   "metadata": {},
   "source": [
    "## MLP"
   ]
  },
  {
   "cell_type": "code",
   "execution_count": 32,
   "id": "824efea7",
   "metadata": {},
   "outputs": [],
   "source": [
    "from sklearn.neural_network import MLPClassifier\n",
    "mlp = MLPClassifier(hidden_layer_sizes=(100,), max_iter=1000)\n",
    "mlp.fit(X_train_filtered, y_train)\n",
    "\n",
    "y_pred_train = mlp.predict(X_train_filtered)\n",
    "y_pred_test = mlp.predict(X_test_filtered)\n",
    "y_prediction_values=mlp.predict_proba(X_test_filtered)"
   ]
  },
  {
   "cell_type": "code",
   "execution_count": 33,
   "id": "82052571",
   "metadata": {},
   "outputs": [
    {
     "name": "stdout",
     "output_type": "stream",
     "text": [
      "confusion matrix\n",
      " [[127  72]\n",
      " [ 88 139]]\n",
      "Classification Report:\n",
      "               precision    recall  f1-score   support\n",
      "\n",
      "           0     0.5907    0.6382    0.6135       199\n",
      "           1     0.6588    0.6123    0.6347       227\n",
      "\n",
      "    accuracy                         0.6244       426\n",
      "   macro avg     0.6247    0.6253    0.6241       426\n",
      "weighted avg     0.6270    0.6244    0.6248       426\n",
      "\n"
     ]
    }
   ],
   "source": [
    "mlp_acc_train=accuracy_score(y_train,y_pred_train)*100\n",
    "mlp_acc_test=accuracy_score(y_test,y_pred_test)*100\n",
    "mlp_mcc_train=matthews_corrcoef(y_train, y_pred_train)\n",
    "mlp_mcc_test=matthews_corrcoef(y_test, y_pred_test)\n",
    "mlp_f1_train=f1_score(y_train, y_pred_train, average='macro')\n",
    "mlp_f1_test=f1_score(y_test, y_pred_test, average='macro')\n",
    "mlp_prec_train=precision_score(y_train, y_pred_train)\n",
    "mlp_prec_test=precision_score(y_test, y_pred_test)\n",
    "mlp_recall_train=recall_score(y_train, y_pred_train)\n",
    "mlp_recall_test=recall_score(y_test, y_pred_test)\n",
    "mlp_kappa_train=sklearn.metrics.cohen_kappa_score(y_train,y_pred_train)\n",
    "mlp_kappa=knn_kappa_train\n",
    "mlp_kappa_test=sklearn.metrics.cohen_kappa_score(y_test,y_pred_test)\n",
    "mlp_kappa=knn_kappa_test\n",
    "\n",
    "print(\"confusion matrix\\n\",confusion_matrix(y_test,y_pred_test))\n",
    "print(\"Classification Report:\\n\",classification_report(y_test,y_pred_test,digits=4))"
   ]
  },
  {
   "cell_type": "code",
   "execution_count": 34,
   "id": "44cd7257",
   "metadata": {},
   "outputs": [
    {
     "data": {
      "image/png": "[encoded data removed]",
      "text/plain": [
       "<Figure size 640x480 with 1 Axes>"
      ]
     },
     "metadata": {},
     "output_type": "display_data"
    }
   ],
   "source": [
    "#auc\n",
    "fpr, tpr, _ = roc_curve(y_test,y_prediction_values[:, 1])\n",
    "roc_auc = auc(fpr, tpr)\n",
    "auc_7=roc_auc\n",
    "\n",
    "#\n",
    "figcount=0\n",
    "Figureset=[]\n",
    "image=plt.figure(figcount)\n",
    "plt.plot(fpr, tpr, 'b', label = 'AUC = %0.2f' % roc_auc)\n",
    "plt.title(\"AUC/ROC\")\n",
    "plt.xlabel('False Positive Rate')\n",
    "plt.ylabel('True Positive Rate')\n",
    "plt.title(\"AUC/ROC\")\n",
    "plt.legend(loc=\"lower right\")\n",
    "figcount+=1\n",
    "Figureset.append(image)\n",
    "plt.show()"
   ]
  },
  {
   "cell_type": "markdown",
   "id": "769e5d9c",
   "metadata": {},
   "source": [
    "## Extratree classifier"
   ]
  },
  {
   "cell_type": "code",
   "execution_count": 35,
   "id": "7e00b6c5",
   "metadata": {},
   "outputs": [],
   "source": [
    "from sklearn.ensemble import ExtraTreesClassifier\n",
    "etc=ExtraTreesClassifier(n_estimators=100, max_depth=None, min_samples_split=2, random_state=42)\n",
    "etc.fit(X_train_filtered, y_train)\n",
    "\n",
    "\n",
    "y_pred_train = etc.predict(X_train_filtered)\n",
    "y_pred_test = etc.predict(X_test_filtered)\n",
    "y_prediction_values=etc.predict_proba(X_test_filtered)"
   ]
  },
  {
   "cell_type": "code",
   "execution_count": 36,
   "id": "58bf8105",
   "metadata": {},
   "outputs": [
    {
     "name": "stdout",
     "output_type": "stream",
     "text": [
      "confusion matrix\n",
      " [[138  61]\n",
      " [ 73 154]]\n",
      "Classification Report:\n",
      "               precision    recall  f1-score   support\n",
      "\n",
      "           0     0.6540    0.6935    0.6732       199\n",
      "           1     0.7163    0.6784    0.6968       227\n",
      "\n",
      "    accuracy                         0.6854       426\n",
      "   macro avg     0.6852    0.6859    0.6850       426\n",
      "weighted avg     0.6872    0.6854    0.6858       426\n",
      "\n"
     ]
    }
   ],
   "source": [
    "etc_acc_train=accuracy_score(y_train,y_pred_train)*100\n",
    "etc_acc_test=accuracy_score(y_test,y_pred_test)*100\n",
    "etc_mcc_train=matthews_corrcoef(y_train, y_pred_train)\n",
    "etc_mcc_test=matthews_corrcoef(y_test, y_pred_test)\n",
    "etc_f1_train=f1_score(y_train, y_pred_train, average='macro')\n",
    "etc_f1_test=f1_score(y_test, y_pred_test, average='macro')\n",
    "etc_prec_train=precision_score(y_train, y_pred_train)\n",
    "etc_prec_test=precision_score(y_test, y_pred_test)\n",
    "etc_recall_train=recall_score(y_train, y_pred_train)\n",
    "etc_recall_test=recall_score(y_test, y_pred_test)\n",
    "etc_kappa_train=sklearn.metrics.cohen_kappa_score(y_train,y_pred_train)\n",
    "etc_kappa=knn_kappa_train\n",
    "etc_kappa_test=sklearn.metrics.cohen_kappa_score(y_test,y_pred_test)\n",
    "etc_kappa=knn_kappa_test\n",
    "\n",
    "print(\"confusion matrix\\n\",confusion_matrix(y_test,y_pred_test))\n",
    "print(\"Classification Report:\\n\",classification_report(y_test,y_pred_test,digits=4))"
   ]
  },
  {
   "cell_type": "code",
   "execution_count": 37,
   "id": "8063b42a",
   "metadata": {},
   "outputs": [
    {
     "data": {
      "image/png": "[encoded data removed]",
      "text/plain": [
       "<Figure size 640x480 with 1 Axes>"
      ]
     },
     "metadata": {},
     "output_type": "display_data"
    }
   ],
   "source": [
    "#auc\n",
    "fpr, tpr, _ = roc_curve(y_test,y_prediction_values[:, 1])\n",
    "roc_auc = auc(fpr, tpr)\n",
    "auc_8=roc_auc\n",
    "\n",
    "#\n",
    "figcount=0\n",
    "Figureset=[]\n",
    "image=plt.figure(figcount)\n",
    "plt.plot(fpr, tpr, 'b', label = 'AUC = %0.2f' % roc_auc)\n",
    "plt.title(\"AUC/ROC\")\n",
    "plt.xlabel('False Positive Rate')\n",
    "plt.ylabel('True Positive Rate')\n",
    "plt.title(\"AUC/ROC\")\n",
    "plt.legend(loc=\"lower right\")\n",
    "figcount+=1\n",
    "Figureset.append(image)\n",
    "plt.show()"
   ]
  },
  {
   "cell_type": "markdown",
   "id": "b8afe666",
   "metadata": {},
   "source": [
    "## Decision Tree classifier"
   ]
  },
  {
   "cell_type": "code",
   "execution_count": 38,
   "id": "c4d11400",
   "metadata": {},
   "outputs": [],
   "source": [
    "## Decision Tree classifier\n",
    "\n",
    "from sklearn.tree import DecisionTreeClassifier\n",
    "dtc= DecisionTreeClassifier(criterion='gini',max_depth=5,min_samples_split=2,min_samples_leaf=1,random_state=42)\n",
    "dtc.fit(X_train_filtered, y_train)\n",
    "\n",
    "\n",
    "y_pred_train = dtc.predict(X_train_filtered)\n",
    "y_pred_test = dtc.predict(X_test_filtered)\n",
    "y_prediction_values=dtc.predict_proba(X_test_filtered)\n",
    "                            "
   ]
  },
  {
   "cell_type": "code",
   "execution_count": 39,
   "id": "5ce3b927",
   "metadata": {},
   "outputs": [
    {
     "name": "stdout",
     "output_type": "stream",
     "text": [
      "confusion matrix\n",
      " [[117  82]\n",
      " [ 64 163]]\n",
      "Classification Report:\n",
      "               precision    recall  f1-score   support\n",
      "\n",
      "           0     0.6464    0.5879    0.6158       199\n",
      "           1     0.6653    0.7181    0.6907       227\n",
      "\n",
      "    accuracy                         0.6573       426\n",
      "   macro avg     0.6559    0.6530    0.6532       426\n",
      "weighted avg     0.6565    0.6573    0.6557       426\n",
      "\n"
     ]
    }
   ],
   "source": [
    "dtc_acc_train=accuracy_score(y_train,y_pred_train)*100\n",
    "dtc_acc_test=accuracy_score(y_test,y_pred_test)*100\n",
    "dtc_mcc_train=matthews_corrcoef(y_train, y_pred_train)\n",
    "dtc_mcc_test=matthews_corrcoef(y_test, y_pred_test)\n",
    "dtc_f1_train=f1_score(y_train, y_pred_train, average='macro')\n",
    "dtc_f1_test=f1_score(y_test, y_pred_test, average='macro')\n",
    "dtc_prec_train=precision_score(y_train, y_pred_train)\n",
    "dtc_prec_test=precision_score(y_test, y_pred_test)\n",
    "dtc_recall_train=recall_score(y_train, y_pred_train)\n",
    "dtc_recall_test=recall_score(y_test, y_pred_test)\n",
    "dtc_kappa_train=sklearn.metrics.cohen_kappa_score(y_train,y_pred_train)\n",
    "dtc_kappa=knn_kappa_train\n",
    "dtc_kappa_test=sklearn.metrics.cohen_kappa_score(y_test,y_pred_test)\n",
    "dtc_kappa=knn_kappa_test\n",
    "print(\"confusion matrix\\n\",confusion_matrix(y_test,y_pred_test))\n",
    "print(\"Classification Report:\\n\",classification_report(y_test,y_pred_test,digits=4))"
   ]
  },
  {
   "cell_type": "code",
   "execution_count": 40,
   "id": "30caaaec",
   "metadata": {},
   "outputs": [
    {
     "data": {
      "image/png": "[encoded data removed]",
      "text/plain": [
       "<Figure size 640x480 with 1 Axes>"
      ]
     },
     "metadata": {},
     "output_type": "display_data"
    }
   ],
   "source": [
    "#auc\n",
    "fpr, tpr, _ = roc_curve(y_test,y_prediction_values[:, 1])\n",
    "roc_auc = auc(fpr, tpr)\n",
    "auc_9=roc_auc\n",
    "\n",
    "#\n",
    "figcount=0\n",
    "Figureset=[]\n",
    "image=plt.figure(figcount)\n",
    "plt.plot(fpr, tpr, 'b', label = 'AUC = %0.2f' % roc_auc)\n",
    "plt.title(\"AUC/ROC\")\n",
    "plt.xlabel('False Positive Rate')\n",
    "plt.ylabel('True Positive Rate')\n",
    "plt.title(\"AUC/ROC\")\n",
    "plt.legend(loc=\"lower right\")\n",
    "figcount+=1\n",
    "Figureset.append(image)\n",
    "plt.show()"
   ]
  },
  {
   "cell_type": "markdown",
   "id": "daa30fbc",
   "metadata": {},
   "source": [
    "## LDA"
   ]
  },
  {
   "cell_type": "code",
   "execution_count": 41,
   "id": "9e1ae8df",
   "metadata": {},
   "outputs": [],
   "source": [
    "from sklearn.discriminant_analysis import LinearDiscriminantAnalysis\n",
    "lda = LinearDiscriminantAnalysis()\n",
    "lda.fit(X_train_filtered, y_train)\n",
    "\n",
    "\n",
    "y_pred_train =lda.predict(X_train_filtered)\n",
    "y_pred_test = lda.predict(X_test_filtered)\n",
    "y_prediction_values=lda.predict_proba(X_test_filtered)\n",
    "                            "
   ]
  },
  {
   "cell_type": "code",
   "execution_count": 42,
   "id": "d864fdf3",
   "metadata": {},
   "outputs": [
    {
     "name": "stdout",
     "output_type": "stream",
     "text": [
      "confusion matrix\n",
      " [[134  65]\n",
      " [ 74 153]]\n",
      "Classification Report:\n",
      "               precision    recall  f1-score   support\n",
      "\n",
      "           0     0.6442    0.6734    0.6585       199\n",
      "           1     0.7018    0.6740    0.6876       227\n",
      "\n",
      "    accuracy                         0.6737       426\n",
      "   macro avg     0.6730    0.6737    0.6731       426\n",
      "weighted avg     0.6749    0.6737    0.6740       426\n",
      "\n"
     ]
    }
   ],
   "source": [
    "lda_acc_train=accuracy_score(y_train,y_pred_train)*100\n",
    "lda_acc_test=accuracy_score(y_test,y_pred_test)*100\n",
    "lda_mcc_train=matthews_corrcoef(y_train, y_pred_train)\n",
    "lda_mcc_test=matthews_corrcoef(y_test, y_pred_test)\n",
    "lda_f1_train=f1_score(y_train, y_pred_train, average='macro')\n",
    "lda_f1_test=f1_score(y_test, y_pred_test, average='macro')\n",
    "lda_prec_train=precision_score(y_train, y_pred_train)\n",
    "lda_prec_test=precision_score(y_test, y_pred_test)\n",
    "lda_recall_train=recall_score(y_train, y_pred_train)\n",
    "lda_recall_test=recall_score(y_test, y_pred_test)\n",
    "lda_kappa_train=sklearn.metrics.cohen_kappa_score(y_train,y_pred_train)\n",
    "lda_kappa=knn_kappa_train\n",
    "lda_kappa_test=sklearn.metrics.cohen_kappa_score(y_test,y_pred_test)\n",
    "lda_kappa=knn_kappa_test\n",
    "\n",
    "print(\"confusion matrix\\n\",confusion_matrix(y_test,y_pred_test))\n",
    "print(\"Classification Report:\\n\",classification_report(y_test,y_pred_test,digits=4))"
   ]
  },
  {
   "cell_type": "code",
   "execution_count": 43,
   "id": "b01e9ff9",
   "metadata": {},
   "outputs": [
    {
     "data": {
      "image/png": "[encoded data removed]",
      "text/plain": [
       "<Figure size 640x480 with 1 Axes>"
      ]
     },
     "metadata": {},
     "output_type": "display_data"
    }
   ],
   "source": [
    "#auc\n",
    "fpr, tpr, _ = roc_curve(y_test,y_prediction_values[:, 1])\n",
    "roc_auc = auc(fpr, tpr)\n",
    "auc_10=roc_auc\n",
    "\n",
    "#\n",
    "figcount=0\n",
    "Figureset=[]\n",
    "image=plt.figure(figcount)\n",
    "plt.plot(fpr, tpr, 'b', label = 'AUC = %0.2f' % roc_auc)\n",
    "plt.title(\"AUC/ROC\")\n",
    "plt.xlabel('False Positive Rate')\n",
    "plt.ylabel('True Positive Rate')\n",
    "plt.title(\"AUC/ROC\")\n",
    "plt.legend(loc=\"lower right\")\n",
    "figcount+=1\n",
    "Figureset.append(image)\n",
    "plt.show()"
   ]
  },
  {
   "cell_type": "code",
   "execution_count": 44,
   "id": "8975d0fe",
   "metadata": {},
   "outputs": [],
   "source": [
    "data_train = {'Model': ['RFC','KNN','SVC','LR','XGB','GNB','MLP','ETC','DTC','LDA'],\n",
    "         'Accuracy_train':[rfc_acc_train,knn_acc_train,svc_acc_train,lr_acc_train,xgb_acc_train,clf_acc_train,mlp_acc_train,etc_acc_train,dtc_acc_train,lda_acc_train],\n",
    "       'MCC Score_train':[rfc_mcc_train,knn_mcc_train,svc_mcc_train,lr_mcc_train,xgb_mcc_train,clf_mcc_train,mlp_mcc_train,etc_mcc_train,dtc_mcc_train,lda_mcc_train],\n",
    "       'F1 Score_train':[rfc_f1_train,knn_f1_train,svc_f1_train,lr_f1_train,xgb_f1_train,clf_f1_train,mlp_f1_train,etc_f1_train,dtc_f1_train,lda_f1_train],\n",
    "       'Precision_train':[rfc_prec_train,knn_prec_train,svc_prec_train,lr_prec_train,xgb_prec_train,clf_prec_train,mlp_prec_train,etc_prec_train,dtc_prec_train,lda_prec_train],\n",
    "       'Recall_train':[rfc_recall_train,knn_recall_train,svc_recall_train,lr_recall_train,xgb_recall_train,clf_recall_train,mlp_recall_train,etc_recall_train,dtc_recall_train,lda_recall_train],\n",
    "         'kappa Score_train':[rfc_kappa_train,knn_kappa_train,svc_kappa_train,lr_kappa_train,xgb_kappa_train,clf_kappa_train,mlp_kappa_train,etc_kappa_train,dtc_kappa_train,lda_kappa_train],\n",
    "       'AUC/ROC':[auc_1,auc_2,auc_3,auc_4,auc_5,auc_6,auc_7,auc_8,auc_9,auc_10]}\n",
    "df_train = pd.DataFrame(data_train)"
   ]
  },
  {
   "cell_type": "code",
   "execution_count": 45,
   "id": "afd640eb",
   "metadata": {},
   "outputs": [],
   "source": [
    "data_test = {'Model': ['RFC','KNN','SVC','LR','XGB','GNB','MLP','ETC','DTC','LDA'],\n",
    "             'Accuracy_test': [rfc_acc_test,knn_acc_test,svc_acc_test,lr_acc_test,xgb_acc_test,clf_acc_test,mlp_acc_test,etc_acc_test,dtc_acc_test,lda_acc_test],\n",
    "             'MCC Score_test':[rfc_mcc_test,knn_mcc_test,svc_mcc_test,lr_mcc_test,xgb_mcc_test,clf_mcc_test,mlp_mcc_test,etc_mcc_test,dtc_mcc_test,lda_mcc_test],\n",
    "              'F1 Score_test':[rfc_f1_test,knn_f1_test,svc_f1_test,lr_f1_test,xgb_f1_test,clf_f1_test,mlp_f1_test,etc_f1_test,dtc_f1_test,lda_f1_test],\n",
    "               'Precision_test':[rfc_prec_test,knn_prec_test,svc_prec_test,lr_prec_test,xgb_prec_test,clf_prec_test,mlp_prec_test,etc_prec_test,dtc_prec_test,lda_prec_test],\n",
    "             'Recall_test':[rfc_recall_test,knn_recall_test,svc_recall_test,lr_recall_test,xgb_recall_test,clf_recall_test,mlp_recall_test,etc_recall_test,dtc_recall_test,lda_recall_test],\n",
    "              'kappa Score_test':[rfc_kappa_test,knn_kappa_test,svc_kappa_test,lr_kappa_test,xgb_kappa_test,clf_kappa_test,mlp_kappa_test,etc_kappa_test,dtc_kappa_test,lda_kappa],\n",
    "               'AUC/ROC':[auc_1,auc_2,auc_3,auc_4,auc_5,auc_6,auc_7,auc_8,auc_9,auc_10]}\n",
    "             \n",
    "             \n",
    "df_test = pd.DataFrame(data_test)             "
   ]
  },
  {
   "cell_type": "code",
   "execution_count": 46,
   "id": "a8bc683a",
   "metadata": {},
   "outputs": [
    {
     "data": {
      "text/html": [
       "<div>\n",
       "<style scoped>\n",
       "    .dataframe tbody tr th:only-of-type {\n",
       "        vertical-align: middle;\n",
       "    }\n",
       "\n",
       "    .dataframe tbody tr th {\n",
       "        vertical-align: top;\n",
       "    }\n",
       "\n",
       "    .dataframe thead th {\n",
       "        text-align: right;\n",
       "    }\n",
       "</style>\n",
       "<table border=\"1\" class=\"dataframe\">\n",
       "  <thead>\n",
       "    <tr style=\"text-align: right;\">\n",
       "      <th></th>\n",
       "      <th>Model</th>\n",
       "      <th>Accuracy_train</th>\n",
       "      <th>MCC Score_train</th>\n",
       "      <th>F1 Score_train</th>\n",
       "      <th>Precision_train</th>\n",
       "      <th>Recall_train</th>\n",
       "      <th>kappa Score_train</th>\n",
       "      <th>AUC/ROC</th>\n",
       "    </tr>\n",
       "  </thead>\n",
       "  <tbody>\n",
       "    <tr>\n",
       "      <th>0</th>\n",
       "      <td>RFC</td>\n",
       "      <td>76.277158</td>\n",
       "      <td>0.524986</td>\n",
       "      <td>0.762467</td>\n",
       "      <td>0.766629</td>\n",
       "      <td>0.775371</td>\n",
       "      <td>0.524950</td>\n",
       "      <td>0.721736</td>\n",
       "    </tr>\n",
       "    <tr>\n",
       "      <th>1</th>\n",
       "      <td>KNN</td>\n",
       "      <td>76.335878</td>\n",
       "      <td>0.526221</td>\n",
       "      <td>0.762666</td>\n",
       "      <td>0.758170</td>\n",
       "      <td>0.793615</td>\n",
       "      <td>0.525608</td>\n",
       "      <td>0.709760</td>\n",
       "    </tr>\n",
       "    <tr>\n",
       "      <th>2</th>\n",
       "      <td>SVC</td>\n",
       "      <td>73.576042</td>\n",
       "      <td>0.471587</td>\n",
       "      <td>0.734236</td>\n",
       "      <td>0.723560</td>\n",
       "      <td>0.787913</td>\n",
       "      <td>0.469590</td>\n",
       "      <td>0.719633</td>\n",
       "    </tr>\n",
       "    <tr>\n",
       "      <th>3</th>\n",
       "      <td>LR</td>\n",
       "      <td>68.232531</td>\n",
       "      <td>0.363636</td>\n",
       "      <td>0.680994</td>\n",
       "      <td>0.679487</td>\n",
       "      <td>0.725200</td>\n",
       "      <td>0.362757</td>\n",
       "      <td>0.703141</td>\n",
       "    </tr>\n",
       "    <tr>\n",
       "      <th>4</th>\n",
       "      <td>XGB</td>\n",
       "      <td>99.001762</td>\n",
       "      <td>0.980031</td>\n",
       "      <td>0.990007</td>\n",
       "      <td>0.987528</td>\n",
       "      <td>0.993158</td>\n",
       "      <td>0.980014</td>\n",
       "      <td>0.716224</td>\n",
       "    </tr>\n",
       "    <tr>\n",
       "      <th>5</th>\n",
       "      <td>GNB</td>\n",
       "      <td>65.942454</td>\n",
       "      <td>0.317728</td>\n",
       "      <td>0.657397</td>\n",
       "      <td>0.655172</td>\n",
       "      <td>0.714937</td>\n",
       "      <td>0.316312</td>\n",
       "      <td>0.693600</td>\n",
       "    </tr>\n",
       "    <tr>\n",
       "      <th>6</th>\n",
       "      <td>MLP</td>\n",
       "      <td>76.746917</td>\n",
       "      <td>0.534771</td>\n",
       "      <td>0.767347</td>\n",
       "      <td>0.778035</td>\n",
       "      <td>0.767389</td>\n",
       "      <td>0.534717</td>\n",
       "      <td>0.688177</td>\n",
       "    </tr>\n",
       "    <tr>\n",
       "      <th>7</th>\n",
       "      <td>ETC</td>\n",
       "      <td>99.706400</td>\n",
       "      <td>0.994124</td>\n",
       "      <td>0.997061</td>\n",
       "      <td>0.997717</td>\n",
       "      <td>0.996579</td>\n",
       "      <td>0.994123</td>\n",
       "      <td>0.746663</td>\n",
       "    </tr>\n",
       "    <tr>\n",
       "      <th>8</th>\n",
       "      <td>DTC</td>\n",
       "      <td>72.636524</td>\n",
       "      <td>0.457392</td>\n",
       "      <td>0.722099</td>\n",
       "      <td>0.698168</td>\n",
       "      <td>0.825542</td>\n",
       "      <td>0.449137</td>\n",
       "      <td>0.666781</td>\n",
       "    </tr>\n",
       "    <tr>\n",
       "      <th>9</th>\n",
       "      <td>LDA</td>\n",
       "      <td>68.173811</td>\n",
       "      <td>0.362479</td>\n",
       "      <td>0.680331</td>\n",
       "      <td>0.678381</td>\n",
       "      <td>0.726340</td>\n",
       "      <td>0.361511</td>\n",
       "      <td>0.702389</td>\n",
       "    </tr>\n",
       "  </tbody>\n",
       "</table>\n",
       "</div>"
      ],
      "text/plain": [
       "  Model  Accuracy_train  MCC Score_train  F1 Score_train  Precision_train  \\\n",
       "0   RFC       76.277158         0.524986        0.762467         0.766629   \n",
       "1   KNN       76.335878         0.526221        0.762666         0.758170   \n",
       "2   SVC       73.576042         0.471587        0.734236         0.723560   \n",
       "3    LR       68.232531         0.363636        0.680994         0.679487   \n",
       "4   XGB       99.001762         0.980031        0.990007         0.987528   \n",
       "5   GNB       65.942454         0.317728        0.657397         0.655172   \n",
       "6   MLP       76.746917         0.534771        0.767347         0.778035   \n",
       "7   ETC       99.706400         0.994124        0.997061         0.997717   \n",
       "8   DTC       72.636524         0.457392        0.722099         0.698168   \n",
       "9   LDA       68.173811         0.362479        0.680331         0.678381   \n",
       "\n",
       "   Recall_train  kappa Score_train   AUC/ROC  \n",
       "0      0.775371           0.524950  0.721736  \n",
       "1      0.793615           0.525608  0.709760  \n",
       "2      0.787913           0.469590  0.719633  \n",
       "3      0.725200           0.362757  0.703141  \n",
       "4      0.993158           0.980014  0.716224  \n",
       "5      0.714937           0.316312  0.693600  \n",
       "6      0.767389           0.534717  0.688177  \n",
       "7      0.996579           0.994123  0.746663  \n",
       "8      0.825542           0.449137  0.666781  \n",
       "9      0.726340           0.361511  0.702389  "
      ]
     },
     "execution_count": 46,
     "metadata": {},
     "output_type": "execute_result"
    }
   ],
   "source": [
    "df_train"
   ]
  },
  {
   "cell_type": "code",
   "execution_count": 47,
   "id": "db6154a0",
   "metadata": {},
   "outputs": [
    {
     "data": {
      "text/html": [
       "<div>\n",
       "<style scoped>\n",
       "    .dataframe tbody tr th:only-of-type {\n",
       "        vertical-align: middle;\n",
       "    }\n",
       "\n",
       "    .dataframe tbody tr th {\n",
       "        vertical-align: top;\n",
       "    }\n",
       "\n",
       "    .dataframe thead th {\n",
       "        text-align: right;\n",
       "    }\n",
       "</style>\n",
       "<table border=\"1\" class=\"dataframe\">\n",
       "  <thead>\n",
       "    <tr style=\"text-align: right;\">\n",
       "      <th></th>\n",
       "      <th>Model</th>\n",
       "      <th>Accuracy_test</th>\n",
       "      <th>MCC Score_test</th>\n",
       "      <th>F1 Score_test</th>\n",
       "      <th>Precision_test</th>\n",
       "      <th>Recall_test</th>\n",
       "      <th>kappa Score_test</th>\n",
       "      <th>AUC/ROC</th>\n",
       "    </tr>\n",
       "  </thead>\n",
       "  <tbody>\n",
       "    <tr>\n",
       "      <th>0</th>\n",
       "      <td>RFC</td>\n",
       "      <td>66.901408</td>\n",
       "      <td>0.336278</td>\n",
       "      <td>0.668046</td>\n",
       "      <td>0.693694</td>\n",
       "      <td>0.678414</td>\n",
       "      <td>0.336185</td>\n",
       "      <td>0.721736</td>\n",
       "    </tr>\n",
       "    <tr>\n",
       "      <th>1</th>\n",
       "      <td>KNN</td>\n",
       "      <td>65.492958</td>\n",
       "      <td>0.307539</td>\n",
       "      <td>0.653737</td>\n",
       "      <td>0.678571</td>\n",
       "      <td>0.669604</td>\n",
       "      <td>0.307509</td>\n",
       "      <td>0.709760</td>\n",
       "    </tr>\n",
       "    <tr>\n",
       "      <th>2</th>\n",
       "      <td>SVC</td>\n",
       "      <td>66.197183</td>\n",
       "      <td>0.321908</td>\n",
       "      <td>0.660896</td>\n",
       "      <td>0.686099</td>\n",
       "      <td>0.674009</td>\n",
       "      <td>0.321851</td>\n",
       "      <td>0.719633</td>\n",
       "    </tr>\n",
       "    <tr>\n",
       "      <th>3</th>\n",
       "      <td>LR</td>\n",
       "      <td>66.901408</td>\n",
       "      <td>0.337866</td>\n",
       "      <td>0.668486</td>\n",
       "      <td>0.699074</td>\n",
       "      <td>0.665198</td>\n",
       "      <td>0.337415</td>\n",
       "      <td>0.703141</td>\n",
       "    </tr>\n",
       "    <tr>\n",
       "      <th>4</th>\n",
       "      <td>XGB</td>\n",
       "      <td>65.727700</td>\n",
       "      <td>0.312982</td>\n",
       "      <td>0.656361</td>\n",
       "      <td>0.683258</td>\n",
       "      <td>0.665198</td>\n",
       "      <td>0.312858</td>\n",
       "      <td>0.716224</td>\n",
       "    </tr>\n",
       "    <tr>\n",
       "      <th>5</th>\n",
       "      <td>GNB</td>\n",
       "      <td>65.727700</td>\n",
       "      <td>0.311167</td>\n",
       "      <td>0.655569</td>\n",
       "      <td>0.676856</td>\n",
       "      <td>0.682819</td>\n",
       "      <td>0.311153</td>\n",
       "      <td>0.693600</td>\n",
       "    </tr>\n",
       "    <tr>\n",
       "      <th>6</th>\n",
       "      <td>MLP</td>\n",
       "      <td>62.441315</td>\n",
       "      <td>0.249995</td>\n",
       "      <td>0.624115</td>\n",
       "      <td>0.658768</td>\n",
       "      <td>0.612335</td>\n",
       "      <td>0.249290</td>\n",
       "      <td>0.688177</td>\n",
       "    </tr>\n",
       "    <tr>\n",
       "      <th>7</th>\n",
       "      <td>ETC</td>\n",
       "      <td>68.544601</td>\n",
       "      <td>0.371094</td>\n",
       "      <td>0.685002</td>\n",
       "      <td>0.716279</td>\n",
       "      <td>0.678414</td>\n",
       "      <td>0.370504</td>\n",
       "      <td>0.746663</td>\n",
       "    </tr>\n",
       "    <tr>\n",
       "      <th>8</th>\n",
       "      <td>DTC</td>\n",
       "      <td>65.727700</td>\n",
       "      <td>0.308845</td>\n",
       "      <td>0.653234</td>\n",
       "      <td>0.665306</td>\n",
       "      <td>0.718062</td>\n",
       "      <td>0.307718</td>\n",
       "      <td>0.666781</td>\n",
       "    </tr>\n",
       "    <tr>\n",
       "      <th>9</th>\n",
       "      <td>LDA</td>\n",
       "      <td>67.370892</td>\n",
       "      <td>0.346720</td>\n",
       "      <td>0.673059</td>\n",
       "      <td>0.701835</td>\n",
       "      <td>0.674009</td>\n",
       "      <td>0.307509</td>\n",
       "      <td>0.702389</td>\n",
       "    </tr>\n",
       "  </tbody>\n",
       "</table>\n",
       "</div>"
      ],
      "text/plain": [
       "  Model  Accuracy_test  MCC Score_test  F1 Score_test  Precision_test  \\\n",
       "0   RFC      66.901408        0.336278       0.668046        0.693694   \n",
       "1   KNN      65.492958        0.307539       0.653737        0.678571   \n",
       "2   SVC      66.197183        0.321908       0.660896        0.686099   \n",
       "3    LR      66.901408        0.337866       0.668486        0.699074   \n",
       "4   XGB      65.727700        0.312982       0.656361        0.683258   \n",
       "5   GNB      65.727700        0.311167       0.655569        0.676856   \n",
       "6   MLP      62.441315        0.249995       0.624115        0.658768   \n",
       "7   ETC      68.544601        0.371094       0.685002        0.716279   \n",
       "8   DTC      65.727700        0.308845       0.653234        0.665306   \n",
       "9   LDA      67.370892        0.346720       0.673059        0.701835   \n",
       "\n",
       "   Recall_test  kappa Score_test   AUC/ROC  \n",
       "0     0.678414          0.336185  0.721736  \n",
       "1     0.669604          0.307509  0.709760  \n",
       "2     0.674009          0.321851  0.719633  \n",
       "3     0.665198          0.337415  0.703141  \n",
       "4     0.665198          0.312858  0.716224  \n",
       "5     0.682819          0.311153  0.693600  \n",
       "6     0.612335          0.249290  0.688177  \n",
       "7     0.678414          0.370504  0.746663  \n",
       "8     0.718062          0.307718  0.666781  \n",
       "9     0.674009          0.307509  0.702389  "
      ]
     },
     "execution_count": 47,
     "metadata": {},
     "output_type": "execute_result"
    }
   ],
   "source": [
    "df_test"
   ]
  },
  {
   "cell_type": "code",
   "execution_count": null,
   "id": "aed410e9",
   "metadata": {},
   "outputs": [],
   "source": []
  }
 ],
 "metadata": {
  "kernelspec": {
   "display_name": "asvm",
   "language": "python",
   "name": "asvm"
  },
  "language_info": {
   "codemirror_mode": {
    "name": "ipython",
    "version": 3
   },
   "file_extension": ".py",
   "mimetype": "text/x-python",
   "name": "python",
   "nbconvert_exporter": "python",
   "pygments_lexer": "ipython3",
   "version": "3.10.9"
  }
 },
 "nbformat": 4,
 "nbformat_minor": 5
}

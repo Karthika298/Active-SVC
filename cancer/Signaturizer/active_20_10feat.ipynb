{
 "cells": [
  {
   "cell_type": "code",
   "execution_count": 1,
   "id": "b66601d9",
   "metadata": {},
   "outputs": [],
   "source": [
    "import pandas as pd\n",
    "import numpy as np\n",
    "import datetime\n",
    "import sklearn\n",
    "import matplotlib.pyplot as plt\n",
    "from sklearn.metrics import roc_curve, auc\n",
    "from sklearn.ensemble import RandomForestClassifier\n",
    "from sklearn.neighbors import KNeighborsClassifier\n",
    "from sklearn.svm import SVC\n",
    "from sklearn.linear_model import LogisticRegression\n",
    "from xgboost import XGBClassifier\n",
    "from sklearn.naive_bayes import GaussianNB\n",
    "from sklearn.neural_network import MLPClassifier\n",
    "from sklearn.ensemble import ExtraTreesClassifier\n",
    "from sklearn.tree import DecisionTreeClassifier\n",
    "from sklearn.discriminant_analysis import LinearDiscriminantAnalysis\n",
    "import xgboost as xgb\n",
    "\n",
    "from sklearn.metrics import accuracy_score\n",
    "from sklearn.metrics import confusion_matrix\n",
    "from sklearn.metrics import classification_report\n",
    "from sklearn.metrics import accuracy_score, roc_auc_score, matthews_corrcoef, cohen_kappa_score, f1_score, precision_score, recall_score, roc_curve"
   ]
  },
  {
   "cell_type": "code",
   "execution_count": 2,
   "id": "549e17d6",
   "metadata": {},
   "outputs": [],
   "source": [
    "feat_file=pd.read_csv('cancer_preprocess.csv')"
   ]
  },
  {
   "cell_type": "code",
   "execution_count": 3,
   "id": "d759c0e2",
   "metadata": {},
   "outputs": [
    {
     "data": {
      "text/html": [
       "<div>\n",
       "<style scoped>\n",
       "    .dataframe tbody tr th:only-of-type {\n",
       "        vertical-align: middle;\n",
       "    }\n",
       "\n",
       "    .dataframe tbody tr th {\n",
       "        vertical-align: top;\n",
       "    }\n",
       "\n",
       "    .dataframe thead th {\n",
       "        text-align: right;\n",
       "    }\n",
       "</style>\n",
       "<table border=\"1\" class=\"dataframe\">\n",
       "  <thead>\n",
       "    <tr style=\"text-align: right;\">\n",
       "      <th></th>\n",
       "      <th>A1_0</th>\n",
       "      <th>A1_1</th>\n",
       "      <th>A1_2</th>\n",
       "      <th>A1_3</th>\n",
       "      <th>A1_4</th>\n",
       "      <th>A1_5</th>\n",
       "      <th>A1_6</th>\n",
       "      <th>A1_7</th>\n",
       "      <th>A1_8</th>\n",
       "      <th>A1_9</th>\n",
       "      <th>...</th>\n",
       "      <th>E5_118</th>\n",
       "      <th>E5_119</th>\n",
       "      <th>E5_120</th>\n",
       "      <th>E5_121</th>\n",
       "      <th>E5_122</th>\n",
       "      <th>E5_123</th>\n",
       "      <th>E5_124</th>\n",
       "      <th>E5_125</th>\n",
       "      <th>E5_126</th>\n",
       "      <th>E5_127</th>\n",
       "    </tr>\n",
       "  </thead>\n",
       "  <tbody>\n",
       "    <tr>\n",
       "      <th>0</th>\n",
       "      <td>0.183793</td>\n",
       "      <td>0.239916</td>\n",
       "      <td>0.850030</td>\n",
       "      <td>0.210690</td>\n",
       "      <td>0.896150</td>\n",
       "      <td>0.866617</td>\n",
       "      <td>0.860076</td>\n",
       "      <td>0.115359</td>\n",
       "      <td>0.374133</td>\n",
       "      <td>0.927302</td>\n",
       "      <td>...</td>\n",
       "      <td>0.793461</td>\n",
       "      <td>0.576311</td>\n",
       "      <td>0.189772</td>\n",
       "      <td>0.784201</td>\n",
       "      <td>0.335585</td>\n",
       "      <td>0.644900</td>\n",
       "      <td>0.301631</td>\n",
       "      <td>0.547792</td>\n",
       "      <td>0.479534</td>\n",
       "      <td>0.308149</td>\n",
       "    </tr>\n",
       "    <tr>\n",
       "      <th>1</th>\n",
       "      <td>0.908285</td>\n",
       "      <td>0.882967</td>\n",
       "      <td>0.804499</td>\n",
       "      <td>0.167710</td>\n",
       "      <td>0.854424</td>\n",
       "      <td>0.773797</td>\n",
       "      <td>0.818178</td>\n",
       "      <td>0.146237</td>\n",
       "      <td>0.822128</td>\n",
       "      <td>0.880442</td>\n",
       "      <td>...</td>\n",
       "      <td>0.792318</td>\n",
       "      <td>0.645596</td>\n",
       "      <td>0.668128</td>\n",
       "      <td>0.267654</td>\n",
       "      <td>0.732278</td>\n",
       "      <td>0.791278</td>\n",
       "      <td>0.680896</td>\n",
       "      <td>0.315371</td>\n",
       "      <td>0.368137</td>\n",
       "      <td>0.192646</td>\n",
       "    </tr>\n",
       "    <tr>\n",
       "      <th>2</th>\n",
       "      <td>0.187789</td>\n",
       "      <td>0.896291</td>\n",
       "      <td>0.089300</td>\n",
       "      <td>0.872091</td>\n",
       "      <td>0.140625</td>\n",
       "      <td>0.809294</td>\n",
       "      <td>0.833710</td>\n",
       "      <td>0.439762</td>\n",
       "      <td>0.836772</td>\n",
       "      <td>0.120445</td>\n",
       "      <td>...</td>\n",
       "      <td>0.594850</td>\n",
       "      <td>0.744443</td>\n",
       "      <td>0.246511</td>\n",
       "      <td>0.767050</td>\n",
       "      <td>0.736697</td>\n",
       "      <td>0.710731</td>\n",
       "      <td>0.586913</td>\n",
       "      <td>0.777560</td>\n",
       "      <td>0.706049</td>\n",
       "      <td>0.311375</td>\n",
       "    </tr>\n",
       "    <tr>\n",
       "      <th>3</th>\n",
       "      <td>0.911319</td>\n",
       "      <td>0.907869</td>\n",
       "      <td>0.831656</td>\n",
       "      <td>0.767504</td>\n",
       "      <td>0.886981</td>\n",
       "      <td>0.589135</td>\n",
       "      <td>0.704022</td>\n",
       "      <td>0.613958</td>\n",
       "      <td>0.852084</td>\n",
       "      <td>0.481431</td>\n",
       "      <td>...</td>\n",
       "      <td>0.593676</td>\n",
       "      <td>0.227899</td>\n",
       "      <td>0.264702</td>\n",
       "      <td>0.535805</td>\n",
       "      <td>0.480239</td>\n",
       "      <td>0.731689</td>\n",
       "      <td>0.799642</td>\n",
       "      <td>0.856727</td>\n",
       "      <td>0.824530</td>\n",
       "      <td>0.582091</td>\n",
       "    </tr>\n",
       "    <tr>\n",
       "      <th>4</th>\n",
       "      <td>0.181163</td>\n",
       "      <td>0.800212</td>\n",
       "      <td>0.827693</td>\n",
       "      <td>0.149731</td>\n",
       "      <td>0.739144</td>\n",
       "      <td>0.843704</td>\n",
       "      <td>0.841885</td>\n",
       "      <td>0.127548</td>\n",
       "      <td>0.112236</td>\n",
       "      <td>0.898438</td>\n",
       "      <td>...</td>\n",
       "      <td>0.391759</td>\n",
       "      <td>0.808125</td>\n",
       "      <td>0.147298</td>\n",
       "      <td>0.859803</td>\n",
       "      <td>0.620034</td>\n",
       "      <td>0.734427</td>\n",
       "      <td>0.126441</td>\n",
       "      <td>0.508898</td>\n",
       "      <td>0.552177</td>\n",
       "      <td>0.360427</td>\n",
       "    </tr>\n",
       "  </tbody>\n",
       "</table>\n",
       "<p>5 rows × 3200 columns</p>\n",
       "</div>"
      ],
      "text/plain": [
       "       A1_0      A1_1      A1_2      A1_3      A1_4      A1_5      A1_6  \\\n",
       "0  0.183793  0.239916  0.850030  0.210690  0.896150  0.866617  0.860076   \n",
       "1  0.908285  0.882967  0.804499  0.167710  0.854424  0.773797  0.818178   \n",
       "2  0.187789  0.896291  0.089300  0.872091  0.140625  0.809294  0.833710   \n",
       "3  0.911319  0.907869  0.831656  0.767504  0.886981  0.589135  0.704022   \n",
       "4  0.181163  0.800212  0.827693  0.149731  0.739144  0.843704  0.841885   \n",
       "\n",
       "       A1_7      A1_8      A1_9  ...    E5_118    E5_119    E5_120    E5_121  \\\n",
       "0  0.115359  0.374133  0.927302  ...  0.793461  0.576311  0.189772  0.784201   \n",
       "1  0.146237  0.822128  0.880442  ...  0.792318  0.645596  0.668128  0.267654   \n",
       "2  0.439762  0.836772  0.120445  ...  0.594850  0.744443  0.246511  0.767050   \n",
       "3  0.613958  0.852084  0.481431  ...  0.593676  0.227899  0.264702  0.535805   \n",
       "4  0.127548  0.112236  0.898438  ...  0.391759  0.808125  0.147298  0.859803   \n",
       "\n",
       "     E5_122    E5_123    E5_124    E5_125    E5_126    E5_127  \n",
       "0  0.335585  0.644900  0.301631  0.547792  0.479534  0.308149  \n",
       "1  0.732278  0.791278  0.680896  0.315371  0.368137  0.192646  \n",
       "2  0.736697  0.710731  0.586913  0.777560  0.706049  0.311375  \n",
       "3  0.480239  0.731689  0.799642  0.856727  0.824530  0.582091  \n",
       "4  0.620034  0.734427  0.126441  0.508898  0.552177  0.360427  \n",
       "\n",
       "[5 rows x 3200 columns]"
      ]
     },
     "execution_count": 3,
     "metadata": {},
     "output_type": "execute_result"
    }
   ],
   "source": [
    "feat_file.head()"
   ]
  },
  {
   "cell_type": "code",
   "execution_count": 4,
   "id": "e27455e1",
   "metadata": {},
   "outputs": [
    {
     "data": {
      "text/plain": [
       "(2129, 3200)"
      ]
     },
     "execution_count": 4,
     "metadata": {},
     "output_type": "execute_result"
    }
   ],
   "source": [
    "feat_file.shape"
   ]
  },
  {
   "cell_type": "code",
   "execution_count": 5,
   "id": "ab7abbc0",
   "metadata": {},
   "outputs": [],
   "source": [
    "X=feat_file.values"
   ]
  },
  {
   "cell_type": "code",
   "execution_count": 6,
   "id": "0b410c9e",
   "metadata": {
    "scrolled": true
   },
   "outputs": [
    {
     "data": {
      "text/html": [
       "<div>\n",
       "<style scoped>\n",
       "    .dataframe tbody tr th:only-of-type {\n",
       "        vertical-align: middle;\n",
       "    }\n",
       "\n",
       "    .dataframe tbody tr th {\n",
       "        vertical-align: top;\n",
       "    }\n",
       "\n",
       "    .dataframe thead th {\n",
       "        text-align: right;\n",
       "    }\n",
       "</style>\n",
       "<table border=\"1\" class=\"dataframe\">\n",
       "  <thead>\n",
       "    <tr style=\"text-align: right;\">\n",
       "      <th></th>\n",
       "      <th>Status</th>\n",
       "    </tr>\n",
       "  </thead>\n",
       "  <tbody>\n",
       "    <tr>\n",
       "      <th>0</th>\n",
       "      <td>0</td>\n",
       "    </tr>\n",
       "    <tr>\n",
       "      <th>1</th>\n",
       "      <td>0</td>\n",
       "    </tr>\n",
       "    <tr>\n",
       "      <th>2</th>\n",
       "      <td>0</td>\n",
       "    </tr>\n",
       "    <tr>\n",
       "      <th>3</th>\n",
       "      <td>1</td>\n",
       "    </tr>\n",
       "    <tr>\n",
       "      <th>4</th>\n",
       "      <td>0</td>\n",
       "    </tr>\n",
       "  </tbody>\n",
       "</table>\n",
       "</div>"
      ],
      "text/plain": [
       "   Status\n",
       "0       0\n",
       "1       0\n",
       "2       0\n",
       "3       1\n",
       "4       0"
      ]
     },
     "execution_count": 6,
     "metadata": {},
     "output_type": "execute_result"
    }
   ],
   "source": [
    "label= pd.read_csv('cancer_label.csv')\n",
    "label.head()"
   ]
  },
  {
   "cell_type": "code",
   "execution_count": 7,
   "id": "aae99626",
   "metadata": {},
   "outputs": [],
   "source": [
    "y=label.values.ravel()"
   ]
  },
  {
   "cell_type": "markdown",
   "id": "65e88af9",
   "metadata": {},
   "source": [
    "# split\n"
   ]
  },
  {
   "cell_type": "code",
   "execution_count": 8,
   "id": "34aa7a83",
   "metadata": {},
   "outputs": [],
   "source": [
    "from sklearn.model_selection import train_test_split\n",
    "X_train, X_test, y_train, y_test = train_test_split(X, y, test_size=0.2, random_state=42,shuffle=True)"
   ]
  },
  {
   "cell_type": "code",
   "execution_count": 9,
   "id": "c2f140f8",
   "metadata": {},
   "outputs": [
    {
     "data": {
      "text/plain": [
       "(1703, 3200)"
      ]
     },
     "execution_count": 9,
     "metadata": {},
     "output_type": "execute_result"
    }
   ],
   "source": [
    "X_train.shape"
   ]
  },
  {
   "cell_type": "code",
   "execution_count": 10,
   "id": "fb97298c",
   "metadata": {},
   "outputs": [],
   "source": [
    "X_train_filtered=pd.read_csv('min_acqui_20(10)_train.csv')"
   ]
  },
  {
   "cell_type": "code",
   "execution_count": 11,
   "id": "f3712b86",
   "metadata": {},
   "outputs": [
    {
     "data": {
      "text/html": [
       "<div>\n",
       "<style scoped>\n",
       "    .dataframe tbody tr th:only-of-type {\n",
       "        vertical-align: middle;\n",
       "    }\n",
       "\n",
       "    .dataframe tbody tr th {\n",
       "        vertical-align: top;\n",
       "    }\n",
       "\n",
       "    .dataframe thead th {\n",
       "        text-align: right;\n",
       "    }\n",
       "</style>\n",
       "<table border=\"1\" class=\"dataframe\">\n",
       "  <thead>\n",
       "    <tr style=\"text-align: right;\">\n",
       "      <th></th>\n",
       "      <th>C1_105</th>\n",
       "      <th>B5_106</th>\n",
       "      <th>E3_56</th>\n",
       "      <th>B1_16</th>\n",
       "      <th>B5_9</th>\n",
       "      <th>C5_81</th>\n",
       "      <th>C4_50</th>\n",
       "      <th>B1_125</th>\n",
       "      <th>E5_20</th>\n",
       "      <th>A1_57</th>\n",
       "    </tr>\n",
       "  </thead>\n",
       "  <tbody>\n",
       "    <tr>\n",
       "      <th>0</th>\n",
       "      <td>0.168730</td>\n",
       "      <td>0.149829</td>\n",
       "      <td>0.301257</td>\n",
       "      <td>0.334682</td>\n",
       "      <td>0.197676</td>\n",
       "      <td>0.642825</td>\n",
       "      <td>0.829659</td>\n",
       "      <td>0.401854</td>\n",
       "      <td>0.229261</td>\n",
       "      <td>0.871392</td>\n",
       "    </tr>\n",
       "    <tr>\n",
       "      <th>1</th>\n",
       "      <td>0.128466</td>\n",
       "      <td>0.616915</td>\n",
       "      <td>0.633823</td>\n",
       "      <td>0.493317</td>\n",
       "      <td>0.150770</td>\n",
       "      <td>0.780629</td>\n",
       "      <td>0.233263</td>\n",
       "      <td>0.672113</td>\n",
       "      <td>0.504131</td>\n",
       "      <td>0.127748</td>\n",
       "    </tr>\n",
       "    <tr>\n",
       "      <th>2</th>\n",
       "      <td>0.403856</td>\n",
       "      <td>0.159859</td>\n",
       "      <td>0.859782</td>\n",
       "      <td>0.107324</td>\n",
       "      <td>0.715680</td>\n",
       "      <td>0.690129</td>\n",
       "      <td>0.313706</td>\n",
       "      <td>0.370212</td>\n",
       "      <td>0.514947</td>\n",
       "      <td>0.907899</td>\n",
       "    </tr>\n",
       "    <tr>\n",
       "      <th>3</th>\n",
       "      <td>0.478226</td>\n",
       "      <td>0.235789</td>\n",
       "      <td>0.755887</td>\n",
       "      <td>0.439276</td>\n",
       "      <td>0.179501</td>\n",
       "      <td>0.881382</td>\n",
       "      <td>0.309607</td>\n",
       "      <td>0.198907</td>\n",
       "      <td>0.808675</td>\n",
       "      <td>0.895637</td>\n",
       "    </tr>\n",
       "    <tr>\n",
       "      <th>4</th>\n",
       "      <td>0.265481</td>\n",
       "      <td>0.586934</td>\n",
       "      <td>0.338353</td>\n",
       "      <td>0.331117</td>\n",
       "      <td>0.594272</td>\n",
       "      <td>0.698586</td>\n",
       "      <td>0.290308</td>\n",
       "      <td>0.409121</td>\n",
       "      <td>0.851157</td>\n",
       "      <td>0.894762</td>\n",
       "    </tr>\n",
       "  </tbody>\n",
       "</table>\n",
       "</div>"
      ],
      "text/plain": [
       "     C1_105    B5_106     E3_56     B1_16      B5_9     C5_81     C4_50  \\\n",
       "0  0.168730  0.149829  0.301257  0.334682  0.197676  0.642825  0.829659   \n",
       "1  0.128466  0.616915  0.633823  0.493317  0.150770  0.780629  0.233263   \n",
       "2  0.403856  0.159859  0.859782  0.107324  0.715680  0.690129  0.313706   \n",
       "3  0.478226  0.235789  0.755887  0.439276  0.179501  0.881382  0.309607   \n",
       "4  0.265481  0.586934  0.338353  0.331117  0.594272  0.698586  0.290308   \n",
       "\n",
       "     B1_125     E5_20     A1_57  \n",
       "0  0.401854  0.229261  0.871392  \n",
       "1  0.672113  0.504131  0.127748  \n",
       "2  0.370212  0.514947  0.907899  \n",
       "3  0.198907  0.808675  0.895637  \n",
       "4  0.409121  0.851157  0.894762  "
      ]
     },
     "execution_count": 11,
     "metadata": {},
     "output_type": "execute_result"
    }
   ],
   "source": [
    "X_train_filtered.head()"
   ]
  },
  {
   "cell_type": "code",
   "execution_count": 12,
   "id": "0b17a24c",
   "metadata": {},
   "outputs": [],
   "source": [
    "X_test_filtered=pd.read_csv('min_acqui_20(10)_test.csv')"
   ]
  },
  {
   "cell_type": "code",
   "execution_count": 13,
   "id": "74390d88",
   "metadata": {},
   "outputs": [
    {
     "data": {
      "text/html": [
       "<div>\n",
       "<style scoped>\n",
       "    .dataframe tbody tr th:only-of-type {\n",
       "        vertical-align: middle;\n",
       "    }\n",
       "\n",
       "    .dataframe tbody tr th {\n",
       "        vertical-align: top;\n",
       "    }\n",
       "\n",
       "    .dataframe thead th {\n",
       "        text-align: right;\n",
       "    }\n",
       "</style>\n",
       "<table border=\"1\" class=\"dataframe\">\n",
       "  <thead>\n",
       "    <tr style=\"text-align: right;\">\n",
       "      <th></th>\n",
       "      <th>C1_105</th>\n",
       "      <th>B5_106</th>\n",
       "      <th>E3_56</th>\n",
       "      <th>B1_16</th>\n",
       "      <th>B5_9</th>\n",
       "      <th>C5_81</th>\n",
       "      <th>C4_50</th>\n",
       "      <th>B1_125</th>\n",
       "      <th>E5_20</th>\n",
       "      <th>A1_57</th>\n",
       "    </tr>\n",
       "  </thead>\n",
       "  <tbody>\n",
       "    <tr>\n",
       "      <th>0</th>\n",
       "      <td>0.113438</td>\n",
       "      <td>0.471283</td>\n",
       "      <td>0.847360</td>\n",
       "      <td>0.519765</td>\n",
       "      <td>0.713113</td>\n",
       "      <td>0.752180</td>\n",
       "      <td>0.227426</td>\n",
       "      <td>0.489513</td>\n",
       "      <td>0.473774</td>\n",
       "      <td>0.133677</td>\n",
       "    </tr>\n",
       "    <tr>\n",
       "      <th>1</th>\n",
       "      <td>0.160236</td>\n",
       "      <td>0.133839</td>\n",
       "      <td>0.653202</td>\n",
       "      <td>0.398911</td>\n",
       "      <td>0.548880</td>\n",
       "      <td>0.780802</td>\n",
       "      <td>0.194413</td>\n",
       "      <td>0.329191</td>\n",
       "      <td>0.247706</td>\n",
       "      <td>0.884547</td>\n",
       "    </tr>\n",
       "    <tr>\n",
       "      <th>2</th>\n",
       "      <td>0.530444</td>\n",
       "      <td>0.504593</td>\n",
       "      <td>0.159903</td>\n",
       "      <td>0.651806</td>\n",
       "      <td>0.969173</td>\n",
       "      <td>0.749182</td>\n",
       "      <td>0.238075</td>\n",
       "      <td>0.597877</td>\n",
       "      <td>0.348038</td>\n",
       "      <td>0.797139</td>\n",
       "    </tr>\n",
       "    <tr>\n",
       "      <th>3</th>\n",
       "      <td>0.175571</td>\n",
       "      <td>0.143250</td>\n",
       "      <td>0.738228</td>\n",
       "      <td>0.465893</td>\n",
       "      <td>0.644827</td>\n",
       "      <td>0.756456</td>\n",
       "      <td>0.319517</td>\n",
       "      <td>0.734036</td>\n",
       "      <td>0.724904</td>\n",
       "      <td>0.903582</td>\n",
       "    </tr>\n",
       "    <tr>\n",
       "      <th>4</th>\n",
       "      <td>0.484406</td>\n",
       "      <td>0.275574</td>\n",
       "      <td>0.518020</td>\n",
       "      <td>0.351686</td>\n",
       "      <td>0.771056</td>\n",
       "      <td>0.681310</td>\n",
       "      <td>0.285426</td>\n",
       "      <td>0.441768</td>\n",
       "      <td>0.738571</td>\n",
       "      <td>0.882518</td>\n",
       "    </tr>\n",
       "  </tbody>\n",
       "</table>\n",
       "</div>"
      ],
      "text/plain": [
       "     C1_105    B5_106     E3_56     B1_16      B5_9     C5_81     C4_50  \\\n",
       "0  0.113438  0.471283  0.847360  0.519765  0.713113  0.752180  0.227426   \n",
       "1  0.160236  0.133839  0.653202  0.398911  0.548880  0.780802  0.194413   \n",
       "2  0.530444  0.504593  0.159903  0.651806  0.969173  0.749182  0.238075   \n",
       "3  0.175571  0.143250  0.738228  0.465893  0.644827  0.756456  0.319517   \n",
       "4  0.484406  0.275574  0.518020  0.351686  0.771056  0.681310  0.285426   \n",
       "\n",
       "     B1_125     E5_20     A1_57  \n",
       "0  0.489513  0.473774  0.133677  \n",
       "1  0.329191  0.247706  0.884547  \n",
       "2  0.597877  0.348038  0.797139  \n",
       "3  0.734036  0.724904  0.903582  \n",
       "4  0.441768  0.738571  0.882518  "
      ]
     },
     "execution_count": 13,
     "metadata": {},
     "output_type": "execute_result"
    }
   ],
   "source": [
    "X_test_filtered.head()"
   ]
  },
  {
   "cell_type": "markdown",
   "id": "54f51a1c",
   "metadata": {},
   "source": [
    "## RFC"
   ]
  },
  {
   "cell_type": "code",
   "execution_count": 14,
   "id": "12c91ee6",
   "metadata": {},
   "outputs": [],
   "source": [
    "#define random forest classifier\n",
    "forest = RandomForestClassifier(n_jobs=-1, class_weight='balanced', max_depth=5)\n",
    "forest.fit(X_train_filtered,y_train)\n",
    "end=datetime.datetime.now()\n",
    "\n",
    "y_pred_train=forest.predict(X_train_filtered)\n",
    "y_pred_test=forest.predict(X_test_filtered)\n",
    "y_prediction_values=forest.predict_proba(X_test_filtered)"
   ]
  },
  {
   "cell_type": "code",
   "execution_count": 15,
   "id": "58e57037",
   "metadata": {},
   "outputs": [
    {
     "name": "stdout",
     "output_type": "stream",
     "text": [
      "confusion matrix\n",
      " [[123  76]\n",
      " [ 85 142]]\n",
      "Classification Report:\n",
      "               precision    recall  f1-score   support\n",
      "\n",
      "           0     0.5913    0.6181    0.6044       199\n",
      "           1     0.6514    0.6256    0.6382       227\n",
      "\n",
      "    accuracy                         0.6221       426\n",
      "   macro avg     0.6214    0.6218    0.6213       426\n",
      "weighted avg     0.6233    0.6221    0.6224       426\n",
      "\n"
     ]
    }
   ],
   "source": [
    "rfc_acc_train=accuracy_score(y_train,y_pred_train)*100\n",
    "rfc_acc_test=accuracy_score(y_test,y_pred_test)*100\n",
    "rfc_mcc_train=matthews_corrcoef(y_train, y_pred_train)\n",
    "rfc_mcc_test=matthews_corrcoef(y_test, y_pred_test)\n",
    "rfc_f1_train=f1_score(y_train, y_pred_train, average='macro')\n",
    "rfc_f1_test=f1_score(y_test, y_pred_test, average='macro')\n",
    "rfc_prec_train=precision_score(y_train, y_pred_train)\n",
    "rfc_prec_test=precision_score(y_test, y_pred_test)\n",
    "rfc_recall_train=recall_score(y_train, y_pred_train)\n",
    "rfc_recall_test=recall_score(y_test, y_pred_test)\n",
    "kappa_train=sklearn.metrics.cohen_kappa_score(y_train,y_pred_train)\n",
    "rfc_kappa_train=kappa_train\n",
    "kappa_test=sklearn.metrics.cohen_kappa_score(y_test,y_pred_test)\n",
    "rfc_kappa_test=kappa_test\n",
    "\n",
    "print(\"confusion matrix\\n\",confusion_matrix(y_test,y_pred_test))\n",
    "print(\"Classification Report:\\n\",classification_report(y_test,y_pred_test,digits=4))"
   ]
  },
  {
   "cell_type": "code",
   "execution_count": 16,
   "id": "03cd520f",
   "metadata": {
    "scrolled": true
   },
   "outputs": [
    {
     "data": {
      "image/png": "[encoded data removed]",
      "text/plain": [
       "<Figure size 640x480 with 1 Axes>"
      ]
     },
     "metadata": {},
     "output_type": "display_data"
    }
   ],
   "source": [
    "#auc\n",
    "fpr, tpr, _ = roc_curve(y_test,y_prediction_values[:, 1])\n",
    "roc_auc = auc(fpr, tpr)\n",
    "auc_1=roc_auc\n",
    "\n",
    "#\n",
    "figcount=0\n",
    "Figureset=[]\n",
    "image=plt.figure(figcount)\n",
    "plt.plot(fpr, tpr, 'b', label = 'AUC = %0.2f' % roc_auc)\n",
    "plt.title(\"AUC/ROC\")\n",
    "plt.xlabel('False Positive Rate')\n",
    "plt.ylabel('True Positive Rate')\n",
    "plt.title(\"AUC/ROC\")\n",
    "plt.legend(loc=\"lower right\")\n",
    "figcount+=1\n",
    "Figureset.append(image)\n",
    "plt.show()"
   ]
  },
  {
   "cell_type": "markdown",
   "id": "137b5dd3",
   "metadata": {},
   "source": [
    "## KNN"
   ]
  },
  {
   "cell_type": "code",
   "execution_count": 17,
   "id": "ba092324",
   "metadata": {},
   "outputs": [],
   "source": [
    "from sklearn.neighbors import KNeighborsClassifier\n",
    "KNN=KNeighborsClassifier()\n",
    "KNN.fit(X_train_filtered,y_train)\n",
    "y_pred_test=KNN.predict(X_test_filtered)\n",
    "y_pred_train=KNN.predict(X_train_filtered)\n",
    "y_prediction_values=KNN.predict_proba(X_test_filtered)"
   ]
  },
  {
   "cell_type": "code",
   "execution_count": 18,
   "id": "3e98d5a2",
   "metadata": {},
   "outputs": [
    {
     "name": "stdout",
     "output_type": "stream",
     "text": [
      "confusion matrix\n",
      " [[108  91]\n",
      " [ 75 152]]\n",
      "Classification Report:\n",
      "               precision    recall  f1-score   support\n",
      "\n",
      "           0     0.5902    0.5427    0.5654       199\n",
      "           1     0.6255    0.6696    0.6468       227\n",
      "\n",
      "    accuracy                         0.6103       426\n",
      "   macro avg     0.6078    0.6062    0.6061       426\n",
      "weighted avg     0.6090    0.6103    0.6088       426\n",
      "\n"
     ]
    }
   ],
   "source": [
    "knn_acc_train=accuracy_score(y_train,y_pred_train)*100\n",
    "knn_acc_test=accuracy_score(y_test,y_pred_test)*100\n",
    "knn_mcc_train=matthews_corrcoef(y_train, y_pred_train)\n",
    "knn_mcc_test=matthews_corrcoef(y_test, y_pred_test)\n",
    "knn_f1_train=f1_score(y_train, y_pred_train, average='macro')\n",
    "knn_f1_test=f1_score(y_test, y_pred_test, average='macro')\n",
    "knn_prec_train=precision_score(y_train, y_pred_train)\n",
    "knn_prec_test=precision_score(y_test, y_pred_test)\n",
    "knn_recall_train=recall_score(y_train, y_pred_train)\n",
    "knn_recall_test=recall_score(y_test, y_pred_test)\n",
    "knn_kappa_train=sklearn.metrics.cohen_kappa_score(y_train,y_pred_train)\n",
    "rfc_kappa=knn_kappa_train\n",
    "knn_kappa_test=sklearn.metrics.cohen_kappa_score(y_test,y_pred_test)\n",
    "rfc_kappa=knn_kappa_test\n",
    "\n",
    "print(\"confusion matrix\\n\",confusion_matrix(y_test,y_pred_test))\n",
    "print(\"Classification Report:\\n\",classification_report(y_test,y_pred_test,digits=4))"
   ]
  },
  {
   "cell_type": "code",
   "execution_count": 19,
   "id": "a0c47a36",
   "metadata": {},
   "outputs": [
    {
     "data": {
      "image/png": "[encoded data removed]",
      "text/plain": [
       "<Figure size 640x480 with 1 Axes>"
      ]
     },
     "metadata": {},
     "output_type": "display_data"
    }
   ],
   "source": [
    "#auc\n",
    "fpr, tpr, _ = roc_curve(y_test,y_prediction_values[:, 1])\n",
    "roc_auc = auc(fpr, tpr)\n",
    "auc_2=roc_auc\n",
    "\n",
    "#\n",
    "figcount=0\n",
    "Figureset=[]\n",
    "image=plt.figure(figcount)\n",
    "plt.plot(fpr, tpr, 'b', label = 'AUC = %0.2f' % roc_auc)\n",
    "plt.title(\"AUC/ROC\")\n",
    "plt.xlabel('False Positive Rate')\n",
    "plt.ylabel('True Positive Rate')\n",
    "plt.title(\"AUC/ROC\")\n",
    "plt.legend(loc=\"lower right\")\n",
    "figcount+=1\n",
    "Figureset.append(image)\n",
    "plt.show()"
   ]
  },
  {
   "cell_type": "markdown",
   "id": "d050448c",
   "metadata": {},
   "source": [
    "# SVC"
   ]
  },
  {
   "cell_type": "code",
   "execution_count": 20,
   "id": "c161b476",
   "metadata": {},
   "outputs": [],
   "source": [
    "from sklearn.svm import SVC\n",
    "model=SVC(probability=True)\n",
    "model.fit(X_train_filtered,y_train)\n",
    "y_pred_test=model.predict(X_test_filtered)\n",
    "y_pred_train=model.predict(X_train_filtered)\n",
    "y_prediction_values=model.predict_proba(X_test_filtered)"
   ]
  },
  {
   "cell_type": "code",
   "execution_count": 21,
   "id": "80f8418b",
   "metadata": {},
   "outputs": [
    {
     "name": "stdout",
     "output_type": "stream",
     "text": [
      "confusion matrix\n",
      " [[100  99]\n",
      " [ 73 154]]\n",
      "Classification Report:\n",
      "               precision    recall  f1-score   support\n",
      "\n",
      "           0     0.5780    0.5025    0.5376       199\n",
      "           1     0.6087    0.6784    0.6417       227\n",
      "\n",
      "    accuracy                         0.5962       426\n",
      "   macro avg     0.5934    0.5905    0.5897       426\n",
      "weighted avg     0.5944    0.5962    0.5931       426\n",
      "\n"
     ]
    }
   ],
   "source": [
    "svc_acc_train=accuracy_score(y_train,y_pred_train)*100\n",
    "svc_acc_test=accuracy_score(y_test,y_pred_test)*100\n",
    "svc_mcc_train=matthews_corrcoef(y_train, y_pred_train)\n",
    "svc_mcc_test=matthews_corrcoef(y_test, y_pred_test)\n",
    "svc_f1_train=f1_score(y_train, y_pred_train, average='macro')\n",
    "svc_f1_test=f1_score(y_test, y_pred_test, average='macro')\n",
    "svc_prec_train=precision_score(y_train, y_pred_train)\n",
    "svc_prec_test=precision_score(y_test, y_pred_test)\n",
    "svc_recall_train=recall_score(y_train, y_pred_train)\n",
    "svc_recall_test=recall_score(y_test, y_pred_test)\n",
    "svc_kappa_train=sklearn.metrics.cohen_kappa_score(y_train,y_pred_train)\n",
    "svc_kappa=knn_kappa_train\n",
    "svc_kappa_test=sklearn.metrics.cohen_kappa_score(y_test,y_pred_test)\n",
    "svc_kappa=knn_kappa_test\n",
    "\n",
    "print(\"confusion matrix\\n\",confusion_matrix(y_test,y_pred_test))\n",
    "print(\"Classification Report:\\n\",classification_report(y_test,y_pred_test,digits=4))"
   ]
  },
  {
   "cell_type": "code",
   "execution_count": 22,
   "id": "148f0a1d",
   "metadata": {},
   "outputs": [
    {
     "data": {
      "image/png": "[encoded data removed]",
      "text/plain": [
       "<Figure size 640x480 with 1 Axes>"
      ]
     },
     "metadata": {},
     "output_type": "display_data"
    }
   ],
   "source": [
    "#auc\n",
    "fpr, tpr, _ = roc_curve(y_test,y_prediction_values[:, 1])\n",
    "roc_auc = auc(fpr, tpr)\n",
    "auc_3=roc_auc\n",
    "\n",
    "#\n",
    "figcount=0\n",
    "Figureset=[]\n",
    "image=plt.figure(figcount)\n",
    "plt.plot(fpr, tpr, 'b', label = 'AUC = %0.2f' % roc_auc)\n",
    "plt.title(\"AUC/ROC\")\n",
    "plt.xlabel('False Positive Rate')\n",
    "plt.ylabel('True Positive Rate')\n",
    "plt.title(\"AUC/ROC\")\n",
    "plt.legend(loc=\"lower right\")\n",
    "figcount+=1\n",
    "Figureset.append(image)\n",
    "plt.show()"
   ]
  },
  {
   "cell_type": "markdown",
   "id": "31030dd7",
   "metadata": {},
   "source": [
    "## Logistic Regression"
   ]
  },
  {
   "cell_type": "code",
   "execution_count": 23,
   "id": "ddfa0c0c",
   "metadata": {},
   "outputs": [],
   "source": [
    "from sklearn.linear_model import LogisticRegression\n",
    "lr=LogisticRegression()\n",
    "lr.fit(X_train_filtered,y_train)\n",
    "y_pred_test=lr.predict(X_test_filtered)\n",
    "y_pred_train=lr.predict(X_train_filtered)\n",
    "y_prediction_values=lr.predict_proba(X_test_filtered)"
   ]
  },
  {
   "cell_type": "code",
   "execution_count": 24,
   "id": "07acb54c",
   "metadata": {},
   "outputs": [
    {
     "name": "stdout",
     "output_type": "stream",
     "text": [
      "confusion matrix\n",
      " [[102  97]\n",
      " [ 65 162]]\n",
      "Classification Report:\n",
      "               precision    recall  f1-score   support\n",
      "\n",
      "           0     0.6108    0.5126    0.5574       199\n",
      "           1     0.6255    0.7137    0.6667       227\n",
      "\n",
      "    accuracy                         0.6197       426\n",
      "   macro avg     0.6181    0.6131    0.6120       426\n",
      "weighted avg     0.6186    0.6197    0.6156       426\n",
      "\n"
     ]
    }
   ],
   "source": [
    "lr_acc_train=accuracy_score(y_train,y_pred_train)*100\n",
    "lr_acc_test=accuracy_score(y_test,y_pred_test)*100\n",
    "lr_mcc_train=matthews_corrcoef(y_train, y_pred_train)\n",
    "lr_mcc_test=matthews_corrcoef(y_test, y_pred_test)\n",
    "lr_f1_train=f1_score(y_train, y_pred_train, average='macro')\n",
    "lr_f1_test=f1_score(y_test, y_pred_test, average='macro')\n",
    "lr_prec_train=precision_score(y_train, y_pred_train)\n",
    "lr_prec_test=precision_score(y_test, y_pred_test)\n",
    "lr_recall_train=recall_score(y_train, y_pred_train)\n",
    "lr_recall_test=recall_score(y_test, y_pred_test)\n",
    "lr_kappa_train=sklearn.metrics.cohen_kappa_score(y_train,y_pred_train)\n",
    "lr_kappa=knn_kappa_train\n",
    "lr_kappa_test=sklearn.metrics.cohen_kappa_score(y_test,y_pred_test)\n",
    "lr_kappa=knn_kappa_test\n",
    "\n",
    "print(\"confusion matrix\\n\",confusion_matrix(y_test,y_pred_test))\n",
    "print(\"Classification Report:\\n\",classification_report(y_test,y_pred_test,digits=4))"
   ]
  },
  {
   "cell_type": "code",
   "execution_count": 25,
   "id": "773143f2",
   "metadata": {},
   "outputs": [
    {
     "data": {
      "image/png": "[encoded data removed]",
      "text/plain": [
       "<Figure size 640x480 with 1 Axes>"
      ]
     },
     "metadata": {},
     "output_type": "display_data"
    }
   ],
   "source": [
    "#auc\n",
    "fpr, tpr, _ = roc_curve(y_test,y_prediction_values[:, 1])\n",
    "roc_auc = auc(fpr, tpr)\n",
    "auc_4=roc_auc\n",
    "\n",
    "#\n",
    "figcount=0\n",
    "Figureset=[]\n",
    "image=plt.figure(figcount)\n",
    "plt.plot(fpr, tpr, 'b', label = 'AUC = %0.2f' % roc_auc)\n",
    "plt.title(\"AUC/ROC\")\n",
    "plt.xlabel('False Positive Rate')\n",
    "plt.ylabel('True Positive Rate')\n",
    "plt.title(\"AUC/ROC\")\n",
    "plt.legend(loc=\"lower right\")\n",
    "figcount+=1\n",
    "Figureset.append(image)\n",
    "plt.show()"
   ]
  },
  {
   "cell_type": "markdown",
   "id": "9df14299",
   "metadata": {},
   "source": [
    "# XGB"
   ]
  },
  {
   "cell_type": "code",
   "execution_count": 26,
   "id": "b56884e6",
   "metadata": {},
   "outputs": [
    {
     "name": "stdout",
     "output_type": "stream",
     "text": [
      "[11:33:13] WARNING: ../src/learner.cc:767: \n",
      "Parameters: { \"silent\" } are not used.\n",
      "\n"
     ]
    }
   ],
   "source": [
    "from xgboost import XGBClassifier\n",
    "xgb = XGBClassifier(learning_rate=0.02, n_estimators=600, objective='binary:logistic',silent=True, nthread=1)\n",
    "xgb.fit(X_train_filtered, y_train)\n",
    "y_pred_train = xgb.predict(X_train_filtered)\n",
    "y_pred_test = xgb.predict(X_test_filtered)\n",
    "\n",
    "y_prediction_values=xgb.predict_proba(X_test_filtered)"
   ]
  },
  {
   "cell_type": "code",
   "execution_count": 27,
   "id": "085fc35b",
   "metadata": {},
   "outputs": [
    {
     "name": "stdout",
     "output_type": "stream",
     "text": [
      "confusion matrix\n",
      " [[117  82]\n",
      " [ 82 145]]\n",
      "Classification Report:\n",
      "               precision    recall  f1-score   support\n",
      "\n",
      "           0     0.5879    0.5879    0.5879       199\n",
      "           1     0.6388    0.6388    0.6388       227\n",
      "\n",
      "    accuracy                         0.6150       426\n",
      "   macro avg     0.6134    0.6134    0.6134       426\n",
      "weighted avg     0.6150    0.6150    0.6150       426\n",
      "\n"
     ]
    }
   ],
   "source": [
    "xgb_acc_train=accuracy_score(y_train,y_pred_train)*100\n",
    "xgb_acc_test=accuracy_score(y_test,y_pred_test)*100\n",
    "xgb_mcc_train=matthews_corrcoef(y_train, y_pred_train)\n",
    "xgb_mcc_test=matthews_corrcoef(y_test, y_pred_test)\n",
    "xgb_f1_train=f1_score(y_train, y_pred_train, average='macro')\n",
    "xgb_f1_test=f1_score(y_test, y_pred_test, average='macro')\n",
    "xgb_prec_train=precision_score(y_train, y_pred_train)\n",
    "xgb_prec_test=precision_score(y_test, y_pred_test)\n",
    "xgb_recall_train=recall_score(y_train, y_pred_train)\n",
    "xgb_recall_test=recall_score(y_test, y_pred_test)\n",
    "xgb_kappa_train=sklearn.metrics.cohen_kappa_score(y_train,y_pred_train)\n",
    "xgb_kappa=knn_kappa_train\n",
    "xgb_kappa_test=sklearn.metrics.cohen_kappa_score(y_test,y_pred_test)\n",
    "xgb_kappa=knn_kappa_test\n",
    "\n",
    "print(\"confusion matrix\\n\",confusion_matrix(y_test,y_pred_test))\n",
    "print(\"Classification Report:\\n\",classification_report(y_test,y_pred_test,digits=4))"
   ]
  },
  {
   "cell_type": "code",
   "execution_count": 28,
   "id": "6c29f537",
   "metadata": {},
   "outputs": [
    {
     "data": {
      "image/png": "[encoded data removed]",
      "text/plain": [
       "<Figure size 640x480 with 1 Axes>"
      ]
     },
     "metadata": {},
     "output_type": "display_data"
    }
   ],
   "source": [
    "#auc\n",
    "fpr, tpr, _ = roc_curve(y_test,y_prediction_values[:, 1])\n",
    "roc_auc = auc(fpr, tpr)\n",
    "auc_5=roc_auc\n",
    "\n",
    "#\n",
    "figcount=0\n",
    "Figureset=[]\n",
    "image=plt.figure(figcount)\n",
    "plt.plot(fpr, tpr, 'b', label = 'AUC = %0.2f' % roc_auc)\n",
    "plt.title(\"AUC/ROC\")\n",
    "plt.xlabel('False Positive Rate')\n",
    "plt.ylabel('True Positive Rate')\n",
    "plt.title(\"AUC/ROC\")\n",
    "plt.legend(loc=\"lower right\")\n",
    "figcount+=1\n",
    "Figureset.append(image)\n",
    "plt.show()"
   ]
  },
  {
   "cell_type": "markdown",
   "id": "38bb0c0a",
   "metadata": {},
   "source": [
    "## Gaussian NB"
   ]
  },
  {
   "cell_type": "code",
   "execution_count": 29,
   "id": "81feedda",
   "metadata": {},
   "outputs": [],
   "source": [
    "from sklearn.naive_bayes import GaussianNB\n",
    "clf = GaussianNB()\n",
    "clf.fit(X_train_filtered, y_train)\n",
    "\n",
    "y_pred_train = clf.predict(X_train_filtered)\n",
    "y_pred_test = clf.predict(X_test_filtered)\n",
    "y_prediction_values=clf.predict_proba(X_test_filtered)"
   ]
  },
  {
   "cell_type": "code",
   "execution_count": 30,
   "id": "307db28e",
   "metadata": {},
   "outputs": [
    {
     "name": "stdout",
     "output_type": "stream",
     "text": [
      "confusion matrix\n",
      " [[ 83 116]\n",
      " [ 63 164]]\n",
      "Classification Report:\n",
      "               precision    recall  f1-score   support\n",
      "\n",
      "           0     0.5685    0.4171    0.4812       199\n",
      "           1     0.5857    0.7225    0.6469       227\n",
      "\n",
      "    accuracy                         0.5798       426\n",
      "   macro avg     0.5771    0.5698    0.5641       426\n",
      "weighted avg     0.5777    0.5798    0.5695       426\n",
      "\n"
     ]
    }
   ],
   "source": [
    "clf_acc_train=accuracy_score(y_train,y_pred_train)*100\n",
    "clf_acc_test=accuracy_score(y_test,y_pred_test)*100\n",
    "clf_mcc_train=matthews_corrcoef(y_train, y_pred_train)\n",
    "clf_mcc_test=matthews_corrcoef(y_test, y_pred_test)\n",
    "clf_f1_train=f1_score(y_train, y_pred_train, average='macro')\n",
    "clf_f1_test=f1_score(y_test, y_pred_test, average='macro')\n",
    "clf_prec_train=precision_score(y_train, y_pred_train)\n",
    "clf_prec_test=precision_score(y_test, y_pred_test)\n",
    "clf_recall_train=recall_score(y_train, y_pred_train)\n",
    "clf_recall_test=recall_score(y_test, y_pred_test)\n",
    "clf_kappa_train=sklearn.metrics.cohen_kappa_score(y_train,y_pred_train)\n",
    "clf_kappa=knn_kappa_train\n",
    "clf_kappa_test=sklearn.metrics.cohen_kappa_score(y_test,y_pred_test)\n",
    "clf_kappa=knn_kappa_test\n",
    "\n",
    "print(\"confusion matrix\\n\",confusion_matrix(y_test,y_pred_test))\n",
    "print(\"Classification Report:\\n\",classification_report(y_test,y_pred_test,digits=4))"
   ]
  },
  {
   "cell_type": "code",
   "execution_count": 31,
   "id": "9959460c",
   "metadata": {},
   "outputs": [
    {
     "data": {
      "image/png": "[encoded data removed]",
      "text/plain": [
       "<Figure size 640x480 with 1 Axes>"
      ]
     },
     "metadata": {},
     "output_type": "display_data"
    }
   ],
   "source": [
    "#auc\n",
    "fpr, tpr, _ = roc_curve(y_test,y_prediction_values[:, 1])\n",
    "roc_auc = auc(fpr, tpr)\n",
    "auc_6=roc_auc\n",
    "\n",
    "#\n",
    "figcount=0\n",
    "Figureset=[]\n",
    "image=plt.figure(figcount)\n",
    "plt.plot(fpr, tpr, 'b', label = 'AUC = %0.2f' % roc_auc)\n",
    "plt.title(\"AUC/ROC\")\n",
    "plt.xlabel('False Positive Rate')\n",
    "plt.ylabel('True Positive Rate')\n",
    "plt.title(\"AUC/ROC\")\n",
    "plt.legend(loc=\"lower right\")\n",
    "figcount+=1\n",
    "Figureset.append(image)\n",
    "plt.show()"
   ]
  },
  {
   "cell_type": "markdown",
   "id": "72bd5a44",
   "metadata": {},
   "source": [
    "## MLP"
   ]
  },
  {
   "cell_type": "code",
   "execution_count": 32,
   "id": "824efea7",
   "metadata": {},
   "outputs": [],
   "source": [
    "from sklearn.neural_network import MLPClassifier\n",
    "mlp = MLPClassifier(hidden_layer_sizes=(100,), max_iter=1000)\n",
    "mlp.fit(X_train_filtered, y_train)\n",
    "\n",
    "y_pred_train = mlp.predict(X_train_filtered)\n",
    "y_pred_test = mlp.predict(X_test_filtered)\n",
    "y_prediction_values=mlp.predict_proba(X_test_filtered)"
   ]
  },
  {
   "cell_type": "code",
   "execution_count": 33,
   "id": "82052571",
   "metadata": {},
   "outputs": [
    {
     "name": "stdout",
     "output_type": "stream",
     "text": [
      "confusion matrix\n",
      " [[107  92]\n",
      " [ 68 159]]\n",
      "Classification Report:\n",
      "               precision    recall  f1-score   support\n",
      "\n",
      "           0     0.6114    0.5377    0.5722       199\n",
      "           1     0.6335    0.7004    0.6653       227\n",
      "\n",
      "    accuracy                         0.6244       426\n",
      "   macro avg     0.6224    0.6191    0.6187       426\n",
      "weighted avg     0.6232    0.6244    0.6218       426\n",
      "\n"
     ]
    }
   ],
   "source": [
    "mlp_acc_train=accuracy_score(y_train,y_pred_train)*100\n",
    "mlp_acc_test=accuracy_score(y_test,y_pred_test)*100\n",
    "mlp_mcc_train=matthews_corrcoef(y_train, y_pred_train)\n",
    "mlp_mcc_test=matthews_corrcoef(y_test, y_pred_test)\n",
    "mlp_f1_train=f1_score(y_train, y_pred_train, average='macro')\n",
    "mlp_f1_test=f1_score(y_test, y_pred_test, average='macro')\n",
    "mlp_prec_train=precision_score(y_train, y_pred_train)\n",
    "mlp_prec_test=precision_score(y_test, y_pred_test)\n",
    "mlp_recall_train=recall_score(y_train, y_pred_train)\n",
    "mlp_recall_test=recall_score(y_test, y_pred_test)\n",
    "mlp_kappa_train=sklearn.metrics.cohen_kappa_score(y_train,y_pred_train)\n",
    "mlp_kappa=knn_kappa_train\n",
    "mlp_kappa_test=sklearn.metrics.cohen_kappa_score(y_test,y_pred_test)\n",
    "mlp_kappa=knn_kappa_test\n",
    "\n",
    "print(\"confusion matrix\\n\",confusion_matrix(y_test,y_pred_test))\n",
    "print(\"Classification Report:\\n\",classification_report(y_test,y_pred_test,digits=4))"
   ]
  },
  {
   "cell_type": "code",
   "execution_count": 34,
   "id": "44cd7257",
   "metadata": {},
   "outputs": [
    {
     "data": {
      "image/png": "[encoded data removed]",
      "text/plain": [
       "<Figure size 640x480 with 1 Axes>"
      ]
     },
     "metadata": {},
     "output_type": "display_data"
    }
   ],
   "source": [
    "#auc\n",
    "fpr, tpr, _ = roc_curve(y_test,y_prediction_values[:, 1])\n",
    "roc_auc = auc(fpr, tpr)\n",
    "auc_7=roc_auc\n",
    "\n",
    "#\n",
    "figcount=0\n",
    "Figureset=[]\n",
    "image=plt.figure(figcount)\n",
    "plt.plot(fpr, tpr, 'b', label = 'AUC = %0.2f' % roc_auc)\n",
    "plt.title(\"AUC/ROC\")\n",
    "plt.xlabel('False Positive Rate')\n",
    "plt.ylabel('True Positive Rate')\n",
    "plt.title(\"AUC/ROC\")\n",
    "plt.legend(loc=\"lower right\")\n",
    "figcount+=1\n",
    "Figureset.append(image)\n",
    "plt.show()"
   ]
  },
  {
   "cell_type": "markdown",
   "id": "769e5d9c",
   "metadata": {},
   "source": [
    "## Extratree classifier"
   ]
  },
  {
   "cell_type": "code",
   "execution_count": 35,
   "id": "7e00b6c5",
   "metadata": {},
   "outputs": [],
   "source": [
    "from sklearn.ensemble import ExtraTreesClassifier\n",
    "etc=ExtraTreesClassifier(n_estimators=100, max_depth=None, min_samples_split=2, random_state=42)\n",
    "etc.fit(X_train_filtered, y_train)\n",
    "\n",
    "\n",
    "y_pred_train = etc.predict(X_train_filtered)\n",
    "y_pred_test = etc.predict(X_test_filtered)\n",
    "y_prediction_values=etc.predict_proba(X_test_filtered)"
   ]
  },
  {
   "cell_type": "code",
   "execution_count": 36,
   "id": "58bf8105",
   "metadata": {},
   "outputs": [
    {
     "name": "stdout",
     "output_type": "stream",
     "text": [
      "confusion matrix\n",
      " [[115  84]\n",
      " [ 79 148]]\n",
      "Classification Report:\n",
      "               precision    recall  f1-score   support\n",
      "\n",
      "           0     0.5928    0.5779    0.5852       199\n",
      "           1     0.6379    0.6520    0.6449       227\n",
      "\n",
      "    accuracy                         0.6174       426\n",
      "   macro avg     0.6154    0.6149    0.6151       426\n",
      "weighted avg     0.6168    0.6174    0.6170       426\n",
      "\n"
     ]
    }
   ],
   "source": [
    "etc_acc_train=accuracy_score(y_train,y_pred_train)*100\n",
    "etc_acc_test=accuracy_score(y_test,y_pred_test)*100\n",
    "etc_mcc_train=matthews_corrcoef(y_train, y_pred_train)\n",
    "etc_mcc_test=matthews_corrcoef(y_test, y_pred_test)\n",
    "etc_f1_train=f1_score(y_train, y_pred_train, average='macro')\n",
    "etc_f1_test=f1_score(y_test, y_pred_test, average='macro')\n",
    "etc_prec_train=precision_score(y_train, y_pred_train)\n",
    "etc_prec_test=precision_score(y_test, y_pred_test)\n",
    "etc_recall_train=recall_score(y_train, y_pred_train)\n",
    "etc_recall_test=recall_score(y_test, y_pred_test)\n",
    "etc_kappa_train=sklearn.metrics.cohen_kappa_score(y_train,y_pred_train)\n",
    "etc_kappa=knn_kappa_train\n",
    "etc_kappa_test=sklearn.metrics.cohen_kappa_score(y_test,y_pred_test)\n",
    "etc_kappa=knn_kappa_test\n",
    "\n",
    "print(\"confusion matrix\\n\",confusion_matrix(y_test,y_pred_test))\n",
    "print(\"Classification Report:\\n\",classification_report(y_test,y_pred_test,digits=4))"
   ]
  },
  {
   "cell_type": "code",
   "execution_count": 37,
   "id": "8063b42a",
   "metadata": {},
   "outputs": [
    {
     "data": {
      "image/png": "[encoded data removed]",
      "text/plain": [
       "<Figure size 640x480 with 1 Axes>"
      ]
     },
     "metadata": {},
     "output_type": "display_data"
    }
   ],
   "source": [
    "#auc\n",
    "fpr, tpr, _ = roc_curve(y_test,y_prediction_values[:, 1])\n",
    "roc_auc = auc(fpr, tpr)\n",
    "auc_8=roc_auc\n",
    "\n",
    "#\n",
    "figcount=0\n",
    "Figureset=[]\n",
    "image=plt.figure(figcount)\n",
    "plt.plot(fpr, tpr, 'b', label = 'AUC = %0.2f' % roc_auc)\n",
    "plt.title(\"AUC/ROC\")\n",
    "plt.xlabel('False Positive Rate')\n",
    "plt.ylabel('True Positive Rate')\n",
    "plt.title(\"AUC/ROC\")\n",
    "plt.legend(loc=\"lower right\")\n",
    "figcount+=1\n",
    "Figureset.append(image)\n",
    "plt.show()"
   ]
  },
  {
   "cell_type": "markdown",
   "id": "b8afe666",
   "metadata": {},
   "source": [
    "## Decision Tree classifier"
   ]
  },
  {
   "cell_type": "code",
   "execution_count": 38,
   "id": "c4d11400",
   "metadata": {},
   "outputs": [],
   "source": [
    "## Decision Tree classifier\n",
    "\n",
    "from sklearn.tree import DecisionTreeClassifier\n",
    "dtc= DecisionTreeClassifier(criterion='gini',max_depth=5,min_samples_split=2,min_samples_leaf=1,random_state=42)\n",
    "dtc.fit(X_train_filtered, y_train)\n",
    "\n",
    "\n",
    "y_pred_train = dtc.predict(X_train_filtered)\n",
    "y_pred_test = dtc.predict(X_test_filtered)\n",
    "y_prediction_values=dtc.predict_proba(X_test_filtered)\n",
    "                            "
   ]
  },
  {
   "cell_type": "code",
   "execution_count": 39,
   "id": "5ce3b927",
   "metadata": {},
   "outputs": [
    {
     "name": "stdout",
     "output_type": "stream",
     "text": [
      "confusion matrix\n",
      " [[137  62]\n",
      " [113 114]]\n",
      "Classification Report:\n",
      "               precision    recall  f1-score   support\n",
      "\n",
      "           0     0.5480    0.6884    0.6102       199\n",
      "           1     0.6477    0.5022    0.5658       227\n",
      "\n",
      "    accuracy                         0.5892       426\n",
      "   macro avg     0.5979    0.5953    0.5880       426\n",
      "weighted avg     0.6011    0.5892    0.5865       426\n",
      "\n"
     ]
    }
   ],
   "source": [
    "dtc_acc_train=accuracy_score(y_train,y_pred_train)*100\n",
    "dtc_acc_test=accuracy_score(y_test,y_pred_test)*100\n",
    "dtc_mcc_train=matthews_corrcoef(y_train, y_pred_train)\n",
    "dtc_mcc_test=matthews_corrcoef(y_test, y_pred_test)\n",
    "dtc_f1_train=f1_score(y_train, y_pred_train, average='macro')\n",
    "dtc_f1_test=f1_score(y_test, y_pred_test, average='macro')\n",
    "dtc_prec_train=precision_score(y_train, y_pred_train)\n",
    "dtc_prec_test=precision_score(y_test, y_pred_test)\n",
    "dtc_recall_train=recall_score(y_train, y_pred_train)\n",
    "dtc_recall_test=recall_score(y_test, y_pred_test)\n",
    "dtc_kappa_train=sklearn.metrics.cohen_kappa_score(y_train,y_pred_train)\n",
    "dtc_kappa=knn_kappa_train\n",
    "dtc_kappa_test=sklearn.metrics.cohen_kappa_score(y_test,y_pred_test)\n",
    "dtc_kappa=knn_kappa_test\n",
    "print(\"confusion matrix\\n\",confusion_matrix(y_test,y_pred_test))\n",
    "print(\"Classification Report:\\n\",classification_report(y_test,y_pred_test,digits=4))"
   ]
  },
  {
   "cell_type": "code",
   "execution_count": 40,
   "id": "30caaaec",
   "metadata": {},
   "outputs": [
    {
     "data": {
      "image/png": "[encoded data removed]",
      "text/plain": [
       "<Figure size 640x480 with 1 Axes>"
      ]
     },
     "metadata": {},
     "output_type": "display_data"
    }
   ],
   "source": [
    "#auc\n",
    "fpr, tpr, _ = roc_curve(y_test,y_prediction_values[:, 1])\n",
    "roc_auc = auc(fpr, tpr)\n",
    "auc_9=roc_auc\n",
    "\n",
    "#\n",
    "figcount=0\n",
    "Figureset=[]\n",
    "image=plt.figure(figcount)\n",
    "plt.plot(fpr, tpr, 'b', label = 'AUC = %0.2f' % roc_auc)\n",
    "plt.title(\"AUC/ROC\")\n",
    "plt.xlabel('False Positive Rate')\n",
    "plt.ylabel('True Positive Rate')\n",
    "plt.title(\"AUC/ROC\")\n",
    "plt.legend(loc=\"lower right\")\n",
    "figcount+=1\n",
    "Figureset.append(image)\n",
    "plt.show()"
   ]
  },
  {
   "cell_type": "markdown",
   "id": "daa30fbc",
   "metadata": {},
   "source": [
    "## LDA"
   ]
  },
  {
   "cell_type": "code",
   "execution_count": 41,
   "id": "9e1ae8df",
   "metadata": {},
   "outputs": [],
   "source": [
    "from sklearn.discriminant_analysis import LinearDiscriminantAnalysis\n",
    "lda = LinearDiscriminantAnalysis()\n",
    "lda.fit(X_train_filtered, y_train)\n",
    "\n",
    "\n",
    "y_pred_train =lda.predict(X_train_filtered)\n",
    "y_pred_test = lda.predict(X_test_filtered)\n",
    "y_prediction_values=lda.predict_proba(X_test_filtered)\n",
    "                            "
   ]
  },
  {
   "cell_type": "code",
   "execution_count": 42,
   "id": "d864fdf3",
   "metadata": {},
   "outputs": [
    {
     "name": "stdout",
     "output_type": "stream",
     "text": [
      "confusion matrix\n",
      " [[ 99 100]\n",
      " [ 65 162]]\n",
      "Classification Report:\n",
      "               precision    recall  f1-score   support\n",
      "\n",
      "           0     0.6037    0.4975    0.5455       199\n",
      "           1     0.6183    0.7137    0.6626       227\n",
      "\n",
      "    accuracy                         0.6127       426\n",
      "   macro avg     0.6110    0.6056    0.6040       426\n",
      "weighted avg     0.6115    0.6127    0.6079       426\n",
      "\n"
     ]
    }
   ],
   "source": [
    "lda_acc_train=accuracy_score(y_train,y_pred_train)*100\n",
    "lda_acc_test=accuracy_score(y_test,y_pred_test)*100\n",
    "lda_mcc_train=matthews_corrcoef(y_train, y_pred_train)\n",
    "lda_mcc_test=matthews_corrcoef(y_test, y_pred_test)\n",
    "lda_f1_train=f1_score(y_train, y_pred_train, average='macro')\n",
    "lda_f1_test=f1_score(y_test, y_pred_test, average='macro')\n",
    "lda_prec_train=precision_score(y_train, y_pred_train)\n",
    "lda_prec_test=precision_score(y_test, y_pred_test)\n",
    "lda_recall_train=recall_score(y_train, y_pred_train)\n",
    "lda_recall_test=recall_score(y_test, y_pred_test)\n",
    "lda_kappa_train=sklearn.metrics.cohen_kappa_score(y_train,y_pred_train)\n",
    "lda_kappa=knn_kappa_train\n",
    "lda_kappa_test=sklearn.metrics.cohen_kappa_score(y_test,y_pred_test)\n",
    "lda_kappa=knn_kappa_test\n",
    "\n",
    "print(\"confusion matrix\\n\",confusion_matrix(y_test,y_pred_test))\n",
    "print(\"Classification Report:\\n\",classification_report(y_test,y_pred_test,digits=4))"
   ]
  },
  {
   "cell_type": "code",
   "execution_count": 43,
   "id": "b01e9ff9",
   "metadata": {},
   "outputs": [
    {
     "data": {
      "image/png": "[encoded data removed]",
      "text/plain": [
       "<Figure size 640x480 with 1 Axes>"
      ]
     },
     "metadata": {},
     "output_type": "display_data"
    }
   ],
   "source": [
    "#auc\n",
    "fpr, tpr, _ = roc_curve(y_test,y_prediction_values[:, 1])\n",
    "roc_auc = auc(fpr, tpr)\n",
    "auc_10=roc_auc\n",
    "\n",
    "#\n",
    "figcount=0\n",
    "Figureset=[]\n",
    "image=plt.figure(figcount)\n",
    "plt.plot(fpr, tpr, 'b', label = 'AUC = %0.2f' % roc_auc)\n",
    "plt.title(\"AUC/ROC\")\n",
    "plt.xlabel('False Positive Rate')\n",
    "plt.ylabel('True Positive Rate')\n",
    "plt.title(\"AUC/ROC\")\n",
    "plt.legend(loc=\"lower right\")\n",
    "figcount+=1\n",
    "Figureset.append(image)\n",
    "plt.show()"
   ]
  },
  {
   "cell_type": "code",
   "execution_count": 44,
   "id": "8975d0fe",
   "metadata": {},
   "outputs": [],
   "source": [
    "data_train = {'Model': ['RFC','KNN','SVC','LR','XGB','GNB','MLP','ETC','DTC','LDA'],\n",
    "         'Accuracy_train':[rfc_acc_train,knn_acc_train,svc_acc_train,lr_acc_train,xgb_acc_train,clf_acc_train,mlp_acc_train,etc_acc_train,dtc_acc_train,lda_acc_train],\n",
    "       'MCC Score_train':[rfc_mcc_train,knn_mcc_train,svc_mcc_train,lr_mcc_train,xgb_mcc_train,clf_mcc_train,mlp_mcc_train,etc_mcc_train,dtc_mcc_train,lda_mcc_train],\n",
    "       'F1 Score_train':[rfc_f1_train,knn_f1_train,svc_f1_train,lr_f1_train,xgb_f1_train,clf_f1_train,mlp_f1_train,etc_f1_train,dtc_f1_train,lda_f1_train],\n",
    "       'Precision_train':[rfc_prec_train,knn_prec_train,svc_prec_train,lr_prec_train,xgb_prec_train,clf_prec_train,mlp_prec_train,etc_prec_train,dtc_prec_train,lda_prec_train],\n",
    "       'Recall_train':[rfc_recall_train,knn_recall_train,svc_recall_train,lr_recall_train,xgb_recall_train,clf_recall_train,mlp_recall_train,etc_recall_train,dtc_recall_train,lda_recall_train],\n",
    "         'kappa Score_train':[rfc_kappa_train,knn_kappa_train,svc_kappa_train,lr_kappa_train,xgb_kappa_train,clf_kappa_train,mlp_kappa_train,etc_kappa_train,dtc_kappa_train,lda_kappa_train],\n",
    "       'AUC/ROC':[auc_1,auc_2,auc_3,auc_4,auc_5,auc_6,auc_7,auc_8,auc_9,auc_10]}\n",
    "df_train = pd.DataFrame(data_train)"
   ]
  },
  {
   "cell_type": "code",
   "execution_count": 45,
   "id": "afd640eb",
   "metadata": {},
   "outputs": [],
   "source": [
    "data_test = {'Model': ['RFC','KNN','SVC','LR','XGB','GNB','MLP','ETC','DTC','LDA'],\n",
    "             'Accuracy_test': [rfc_acc_test,knn_acc_test,svc_acc_test,lr_acc_test,xgb_acc_test,clf_acc_test,mlp_acc_test,etc_acc_test,dtc_acc_test,lda_acc_test],\n",
    "             'MCC Score_test':[rfc_mcc_test,knn_mcc_test,svc_mcc_test,lr_mcc_test,xgb_mcc_test,clf_mcc_test,mlp_mcc_test,etc_mcc_test,dtc_mcc_test,lda_mcc_test],\n",
    "              'F1 Score_test':[rfc_f1_test,knn_f1_test,svc_f1_test,lr_f1_test,xgb_f1_test,clf_f1_test,mlp_f1_test,etc_f1_test,dtc_f1_test,lda_f1_test],\n",
    "               'Precision_test':[rfc_prec_test,knn_prec_test,svc_prec_test,lr_prec_test,xgb_prec_test,clf_prec_test,mlp_prec_test,etc_prec_test,dtc_prec_test,lda_prec_test],\n",
    "             'Recall_test':[rfc_recall_test,knn_recall_test,svc_recall_test,lr_recall_test,xgb_recall_test,clf_recall_test,mlp_recall_test,etc_recall_test,dtc_recall_test,lda_recall_test],\n",
    "              'kappa Score_test':[rfc_kappa_test,knn_kappa_test,svc_kappa_test,lr_kappa_test,xgb_kappa_test,clf_kappa_test,mlp_kappa_test,etc_kappa_test,dtc_kappa_test,lda_kappa],\n",
    "               'AUC/ROC':[auc_1,auc_2,auc_3,auc_4,auc_5,auc_6,auc_7,auc_8,auc_9,auc_10]}\n",
    "             \n",
    "             \n",
    "df_test = pd.DataFrame(data_test)             "
   ]
  },
  {
   "cell_type": "code",
   "execution_count": 46,
   "id": "a8bc683a",
   "metadata": {},
   "outputs": [
    {
     "data": {
      "text/html": [
       "<div>\n",
       "<style scoped>\n",
       "    .dataframe tbody tr th:only-of-type {\n",
       "        vertical-align: middle;\n",
       "    }\n",
       "\n",
       "    .dataframe tbody tr th {\n",
       "        vertical-align: top;\n",
       "    }\n",
       "\n",
       "    .dataframe thead th {\n",
       "        text-align: right;\n",
       "    }\n",
       "</style>\n",
       "<table border=\"1\" class=\"dataframe\">\n",
       "  <thead>\n",
       "    <tr style=\"text-align: right;\">\n",
       "      <th></th>\n",
       "      <th>Model</th>\n",
       "      <th>Accuracy_train</th>\n",
       "      <th>MCC Score_train</th>\n",
       "      <th>F1 Score_train</th>\n",
       "      <th>Precision_train</th>\n",
       "      <th>Recall_train</th>\n",
       "      <th>kappa Score_train</th>\n",
       "      <th>AUC/ROC</th>\n",
       "    </tr>\n",
       "  </thead>\n",
       "  <tbody>\n",
       "    <tr>\n",
       "      <th>0</th>\n",
       "      <td>RFC</td>\n",
       "      <td>73.458602</td>\n",
       "      <td>0.469400</td>\n",
       "      <td>0.734529</td>\n",
       "      <td>0.749706</td>\n",
       "      <td>0.727480</td>\n",
       "      <td>0.469181</td>\n",
       "      <td>0.654772</td>\n",
       "    </tr>\n",
       "    <tr>\n",
       "      <th>1</th>\n",
       "      <td>KNN</td>\n",
       "      <td>74.633001</td>\n",
       "      <td>0.492139</td>\n",
       "      <td>0.746065</td>\n",
       "      <td>0.752554</td>\n",
       "      <td>0.755986</td>\n",
       "      <td>0.492133</td>\n",
       "      <td>0.632026</td>\n",
       "    </tr>\n",
       "    <tr>\n",
       "      <th>2</th>\n",
       "      <td>SVC</td>\n",
       "      <td>67.938931</td>\n",
       "      <td>0.359026</td>\n",
       "      <td>0.676201</td>\n",
       "      <td>0.666332</td>\n",
       "      <td>0.755986</td>\n",
       "      <td>0.355526</td>\n",
       "      <td>0.633586</td>\n",
       "    </tr>\n",
       "    <tr>\n",
       "      <th>3</th>\n",
       "      <td>LR</td>\n",
       "      <td>63.887258</td>\n",
       "      <td>0.277691</td>\n",
       "      <td>0.633719</td>\n",
       "      <td>0.627432</td>\n",
       "      <td>0.735462</td>\n",
       "      <td>0.273234</td>\n",
       "      <td>0.643747</td>\n",
       "    </tr>\n",
       "    <tr>\n",
       "      <th>4</th>\n",
       "      <td>XGB</td>\n",
       "      <td>98.179683</td>\n",
       "      <td>0.963560</td>\n",
       "      <td>0.981780</td>\n",
       "      <td>0.981777</td>\n",
       "      <td>0.982896</td>\n",
       "      <td>0.963560</td>\n",
       "      <td>0.642552</td>\n",
       "    </tr>\n",
       "    <tr>\n",
       "      <th>5</th>\n",
       "      <td>GNB</td>\n",
       "      <td>61.773341</td>\n",
       "      <td>0.237695</td>\n",
       "      <td>0.606798</td>\n",
       "      <td>0.601802</td>\n",
       "      <td>0.761688</td>\n",
       "      <td>0.228452</td>\n",
       "      <td>0.622739</td>\n",
       "    </tr>\n",
       "    <tr>\n",
       "      <th>6</th>\n",
       "      <td>MLP</td>\n",
       "      <td>64.004698</td>\n",
       "      <td>0.279641</td>\n",
       "      <td>0.635606</td>\n",
       "      <td>0.630178</td>\n",
       "      <td>0.728620</td>\n",
       "      <td>0.275956</td>\n",
       "      <td>0.645828</td>\n",
       "    </tr>\n",
       "    <tr>\n",
       "      <th>7</th>\n",
       "      <td>ETC</td>\n",
       "      <td>99.706400</td>\n",
       "      <td>0.994124</td>\n",
       "      <td>0.997061</td>\n",
       "      <td>0.997717</td>\n",
       "      <td>0.996579</td>\n",
       "      <td>0.994123</td>\n",
       "      <td>0.653156</td>\n",
       "    </tr>\n",
       "    <tr>\n",
       "      <th>8</th>\n",
       "      <td>DTC</td>\n",
       "      <td>68.761010</td>\n",
       "      <td>0.382895</td>\n",
       "      <td>0.686755</td>\n",
       "      <td>0.734057</td>\n",
       "      <td>0.616876</td>\n",
       "      <td>0.377726</td>\n",
       "      <td>0.618721</td>\n",
       "    </tr>\n",
       "    <tr>\n",
       "      <th>9</th>\n",
       "      <td>LDA</td>\n",
       "      <td>64.122137</td>\n",
       "      <td>0.282957</td>\n",
       "      <td>0.635465</td>\n",
       "      <td>0.627885</td>\n",
       "      <td>0.744584</td>\n",
       "      <td>0.277654</td>\n",
       "      <td>0.643836</td>\n",
       "    </tr>\n",
       "  </tbody>\n",
       "</table>\n",
       "</div>"
      ],
      "text/plain": [
       "  Model  Accuracy_train  MCC Score_train  F1 Score_train  Precision_train  \\\n",
       "0   RFC       73.458602         0.469400        0.734529         0.749706   \n",
       "1   KNN       74.633001         0.492139        0.746065         0.752554   \n",
       "2   SVC       67.938931         0.359026        0.676201         0.666332   \n",
       "3    LR       63.887258         0.277691        0.633719         0.627432   \n",
       "4   XGB       98.179683         0.963560        0.981780         0.981777   \n",
       "5   GNB       61.773341         0.237695        0.606798         0.601802   \n",
       "6   MLP       64.004698         0.279641        0.635606         0.630178   \n",
       "7   ETC       99.706400         0.994124        0.997061         0.997717   \n",
       "8   DTC       68.761010         0.382895        0.686755         0.734057   \n",
       "9   LDA       64.122137         0.282957        0.635465         0.627885   \n",
       "\n",
       "   Recall_train  kappa Score_train   AUC/ROC  \n",
       "0      0.727480           0.469181  0.654772  \n",
       "1      0.755986           0.492133  0.632026  \n",
       "2      0.755986           0.355526  0.633586  \n",
       "3      0.735462           0.273234  0.643747  \n",
       "4      0.982896           0.963560  0.642552  \n",
       "5      0.761688           0.228452  0.622739  \n",
       "6      0.728620           0.275956  0.645828  \n",
       "7      0.996579           0.994123  0.653156  \n",
       "8      0.616876           0.377726  0.618721  \n",
       "9      0.744584           0.277654  0.643836  "
      ]
     },
     "execution_count": 46,
     "metadata": {},
     "output_type": "execute_result"
    }
   ],
   "source": [
    "df_train"
   ]
  },
  {
   "cell_type": "code",
   "execution_count": 47,
   "id": "db6154a0",
   "metadata": {},
   "outputs": [
    {
     "data": {
      "text/html": [
       "<div>\n",
       "<style scoped>\n",
       "    .dataframe tbody tr th:only-of-type {\n",
       "        vertical-align: middle;\n",
       "    }\n",
       "\n",
       "    .dataframe tbody tr th {\n",
       "        vertical-align: top;\n",
       "    }\n",
       "\n",
       "    .dataframe thead th {\n",
       "        text-align: right;\n",
       "    }\n",
       "</style>\n",
       "<table border=\"1\" class=\"dataframe\">\n",
       "  <thead>\n",
       "    <tr style=\"text-align: right;\">\n",
       "      <th></th>\n",
       "      <th>Model</th>\n",
       "      <th>Accuracy_test</th>\n",
       "      <th>MCC Score_test</th>\n",
       "      <th>F1 Score_test</th>\n",
       "      <th>Precision_test</th>\n",
       "      <th>Recall_test</th>\n",
       "      <th>kappa Score_test</th>\n",
       "      <th>AUC/ROC</th>\n",
       "    </tr>\n",
       "  </thead>\n",
       "  <tbody>\n",
       "    <tr>\n",
       "      <th>0</th>\n",
       "      <td>RFC</td>\n",
       "      <td>62.206573</td>\n",
       "      <td>0.243181</td>\n",
       "      <td>0.621312</td>\n",
       "      <td>0.651376</td>\n",
       "      <td>0.625551</td>\n",
       "      <td>0.242963</td>\n",
       "      <td>0.654772</td>\n",
       "    </tr>\n",
       "    <tr>\n",
       "      <th>1</th>\n",
       "      <td>KNN</td>\n",
       "      <td>61.032864</td>\n",
       "      <td>0.213991</td>\n",
       "      <td>0.606127</td>\n",
       "      <td>0.625514</td>\n",
       "      <td>0.669604</td>\n",
       "      <td>0.213375</td>\n",
       "      <td>0.632026</td>\n",
       "    </tr>\n",
       "    <tr>\n",
       "      <th>2</th>\n",
       "      <td>SVC</td>\n",
       "      <td>59.624413</td>\n",
       "      <td>0.183806</td>\n",
       "      <td>0.589651</td>\n",
       "      <td>0.608696</td>\n",
       "      <td>0.678414</td>\n",
       "      <td>0.182396</td>\n",
       "      <td>0.633586</td>\n",
       "    </tr>\n",
       "    <tr>\n",
       "      <th>3</th>\n",
       "      <td>LR</td>\n",
       "      <td>61.971831</td>\n",
       "      <td>0.231186</td>\n",
       "      <td>0.612022</td>\n",
       "      <td>0.625483</td>\n",
       "      <td>0.713656</td>\n",
       "      <td>0.228485</td>\n",
       "      <td>0.643747</td>\n",
       "    </tr>\n",
       "    <tr>\n",
       "      <th>4</th>\n",
       "      <td>XGB</td>\n",
       "      <td>61.502347</td>\n",
       "      <td>0.226706</td>\n",
       "      <td>0.613353</td>\n",
       "      <td>0.638767</td>\n",
       "      <td>0.638767</td>\n",
       "      <td>0.226706</td>\n",
       "      <td>0.642552</td>\n",
       "    </tr>\n",
       "    <tr>\n",
       "      <th>5</th>\n",
       "      <td>GNB</td>\n",
       "      <td>57.981221</td>\n",
       "      <td>0.146697</td>\n",
       "      <td>0.564051</td>\n",
       "      <td>0.585714</td>\n",
       "      <td>0.722467</td>\n",
       "      <td>0.141883</td>\n",
       "      <td>0.622739</td>\n",
       "    </tr>\n",
       "    <tr>\n",
       "      <th>6</th>\n",
       "      <td>MLP</td>\n",
       "      <td>62.441315</td>\n",
       "      <td>0.241488</td>\n",
       "      <td>0.618732</td>\n",
       "      <td>0.633466</td>\n",
       "      <td>0.700441</td>\n",
       "      <td>0.239913</td>\n",
       "      <td>0.645828</td>\n",
       "    </tr>\n",
       "    <tr>\n",
       "      <th>7</th>\n",
       "      <td>ETC</td>\n",
       "      <td>61.737089</td>\n",
       "      <td>0.230293</td>\n",
       "      <td>0.615061</td>\n",
       "      <td>0.637931</td>\n",
       "      <td>0.651982</td>\n",
       "      <td>0.230229</td>\n",
       "      <td>0.653156</td>\n",
       "    </tr>\n",
       "    <tr>\n",
       "      <th>8</th>\n",
       "      <td>DTC</td>\n",
       "      <td>58.920188</td>\n",
       "      <td>0.193169</td>\n",
       "      <td>0.588001</td>\n",
       "      <td>0.647727</td>\n",
       "      <td>0.502203</td>\n",
       "      <td>0.187678</td>\n",
       "      <td>0.618721</td>\n",
       "    </tr>\n",
       "    <tr>\n",
       "      <th>9</th>\n",
       "      <td>LDA</td>\n",
       "      <td>61.267606</td>\n",
       "      <td>0.216494</td>\n",
       "      <td>0.604016</td>\n",
       "      <td>0.618321</td>\n",
       "      <td>0.713656</td>\n",
       "      <td>0.213375</td>\n",
       "      <td>0.643836</td>\n",
       "    </tr>\n",
       "  </tbody>\n",
       "</table>\n",
       "</div>"
      ],
      "text/plain": [
       "  Model  Accuracy_test  MCC Score_test  F1 Score_test  Precision_test  \\\n",
       "0   RFC      62.206573        0.243181       0.621312        0.651376   \n",
       "1   KNN      61.032864        0.213991       0.606127        0.625514   \n",
       "2   SVC      59.624413        0.183806       0.589651        0.608696   \n",
       "3    LR      61.971831        0.231186       0.612022        0.625483   \n",
       "4   XGB      61.502347        0.226706       0.613353        0.638767   \n",
       "5   GNB      57.981221        0.146697       0.564051        0.585714   \n",
       "6   MLP      62.441315        0.241488       0.618732        0.633466   \n",
       "7   ETC      61.737089        0.230293       0.615061        0.637931   \n",
       "8   DTC      58.920188        0.193169       0.588001        0.647727   \n",
       "9   LDA      61.267606        0.216494       0.604016        0.618321   \n",
       "\n",
       "   Recall_test  kappa Score_test   AUC/ROC  \n",
       "0     0.625551          0.242963  0.654772  \n",
       "1     0.669604          0.213375  0.632026  \n",
       "2     0.678414          0.182396  0.633586  \n",
       "3     0.713656          0.228485  0.643747  \n",
       "4     0.638767          0.226706  0.642552  \n",
       "5     0.722467          0.141883  0.622739  \n",
       "6     0.700441          0.239913  0.645828  \n",
       "7     0.651982          0.230229  0.653156  \n",
       "8     0.502203          0.187678  0.618721  \n",
       "9     0.713656          0.213375  0.643836  "
      ]
     },
     "execution_count": 47,
     "metadata": {},
     "output_type": "execute_result"
    }
   ],
   "source": [
    "df_test"
   ]
  },
  {
   "cell_type": "code",
   "execution_count": null,
   "id": "279b93b9",
   "metadata": {},
   "outputs": [],
   "source": []
  }
 ],
 "metadata": {
  "kernelspec": {
   "display_name": "asvm",
   "language": "python",
   "name": "asvm"
  },
  "language_info": {
   "codemirror_mode": {
    "name": "ipython",
    "version": 3
   },
   "file_extension": ".py",
   "mimetype": "text/x-python",
   "name": "python",
   "nbconvert_exporter": "python",
   "pygments_lexer": "ipython3",
   "version": "3.10.9"
  }
 },
 "nbformat": 4,
 "nbformat_minor": 5
}

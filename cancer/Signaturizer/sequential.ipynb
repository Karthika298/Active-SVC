{
 "cells": [
  {
   "cell_type": "code",
   "execution_count": 1,
   "id": "e4bcdfb6",
   "metadata": {},
   "outputs": [],
   "source": [
    "import pandas as pd\n",
    "import numpy as np\n",
    "import datetime\n",
    "import sklearn\n",
    "import matplotlib.pyplot as plt\n",
    "from sklearn.metrics import roc_curve, auc\n",
    "from sklearn.ensemble import RandomForestClassifier\n",
    "from sklearn.metrics import roc_curve, auc\n",
    "from sklearn.ensemble import RandomForestClassifier\n",
    "from sklearn.neighbors import KNeighborsClassifier\n",
    "from sklearn.svm import SVC\n",
    "from sklearn.linear_model import LogisticRegression\n",
    "from xgboost import XGBClassifier\n",
    "from sklearn.naive_bayes import GaussianNB\n",
    "from sklearn.neural_network import MLPClassifier\n",
    "from sklearn.ensemble import ExtraTreesClassifier\n",
    "from sklearn.tree import DecisionTreeClassifier\n",
    "from sklearn.discriminant_analysis import LinearDiscriminantAnalysis\n",
    "import xgboost as xgb\n",
    "\n",
    "from sklearn.metrics import accuracy_score\n",
    "from sklearn.metrics import confusion_matrix\n",
    "from sklearn.metrics import classification_report\n",
    "from sklearn.metrics import accuracy_score, roc_auc_score, matthews_corrcoef, cohen_kappa_score, f1_score, precision_score, recall_score, roc_curve"
   ]
  },
  {
   "cell_type": "markdown",
   "id": "670d4665",
   "metadata": {},
   "source": [
    "# Loading of data file"
   ]
  },
  {
   "cell_type": "code",
   "execution_count": 2,
   "id": "549e17d6",
   "metadata": {},
   "outputs": [],
   "source": [
    "feat_file=pd.read_csv('cancer_preprocess.csv')"
   ]
  },
  {
   "cell_type": "code",
   "execution_count": 3,
   "id": "d759c0e2",
   "metadata": {},
   "outputs": [
    {
     "data": {
      "text/html": [
       "<div>\n",
       "<style scoped>\n",
       "    .dataframe tbody tr th:only-of-type {\n",
       "        vertical-align: middle;\n",
       "    }\n",
       "\n",
       "    .dataframe tbody tr th {\n",
       "        vertical-align: top;\n",
       "    }\n",
       "\n",
       "    .dataframe thead th {\n",
       "        text-align: right;\n",
       "    }\n",
       "</style>\n",
       "<table border=\"1\" class=\"dataframe\">\n",
       "  <thead>\n",
       "    <tr style=\"text-align: right;\">\n",
       "      <th></th>\n",
       "      <th>A1_0</th>\n",
       "      <th>A1_1</th>\n",
       "      <th>A1_2</th>\n",
       "      <th>A1_3</th>\n",
       "      <th>A1_4</th>\n",
       "      <th>A1_5</th>\n",
       "      <th>A1_6</th>\n",
       "      <th>A1_7</th>\n",
       "      <th>A1_8</th>\n",
       "      <th>A1_9</th>\n",
       "      <th>...</th>\n",
       "      <th>E5_118</th>\n",
       "      <th>E5_119</th>\n",
       "      <th>E5_120</th>\n",
       "      <th>E5_121</th>\n",
       "      <th>E5_122</th>\n",
       "      <th>E5_123</th>\n",
       "      <th>E5_124</th>\n",
       "      <th>E5_125</th>\n",
       "      <th>E5_126</th>\n",
       "      <th>E5_127</th>\n",
       "    </tr>\n",
       "  </thead>\n",
       "  <tbody>\n",
       "    <tr>\n",
       "      <th>0</th>\n",
       "      <td>0.183793</td>\n",
       "      <td>0.239916</td>\n",
       "      <td>0.850030</td>\n",
       "      <td>0.210690</td>\n",
       "      <td>0.896150</td>\n",
       "      <td>0.866617</td>\n",
       "      <td>0.860076</td>\n",
       "      <td>0.115359</td>\n",
       "      <td>0.374133</td>\n",
       "      <td>0.927302</td>\n",
       "      <td>...</td>\n",
       "      <td>0.793461</td>\n",
       "      <td>0.576311</td>\n",
       "      <td>0.189772</td>\n",
       "      <td>0.784201</td>\n",
       "      <td>0.335585</td>\n",
       "      <td>0.644900</td>\n",
       "      <td>0.301631</td>\n",
       "      <td>0.547792</td>\n",
       "      <td>0.479534</td>\n",
       "      <td>0.308149</td>\n",
       "    </tr>\n",
       "    <tr>\n",
       "      <th>1</th>\n",
       "      <td>0.908285</td>\n",
       "      <td>0.882967</td>\n",
       "      <td>0.804499</td>\n",
       "      <td>0.167710</td>\n",
       "      <td>0.854424</td>\n",
       "      <td>0.773797</td>\n",
       "      <td>0.818178</td>\n",
       "      <td>0.146237</td>\n",
       "      <td>0.822128</td>\n",
       "      <td>0.880442</td>\n",
       "      <td>...</td>\n",
       "      <td>0.792318</td>\n",
       "      <td>0.645596</td>\n",
       "      <td>0.668128</td>\n",
       "      <td>0.267654</td>\n",
       "      <td>0.732278</td>\n",
       "      <td>0.791278</td>\n",
       "      <td>0.680896</td>\n",
       "      <td>0.315371</td>\n",
       "      <td>0.368137</td>\n",
       "      <td>0.192646</td>\n",
       "    </tr>\n",
       "    <tr>\n",
       "      <th>2</th>\n",
       "      <td>0.187789</td>\n",
       "      <td>0.896291</td>\n",
       "      <td>0.089300</td>\n",
       "      <td>0.872091</td>\n",
       "      <td>0.140625</td>\n",
       "      <td>0.809294</td>\n",
       "      <td>0.833710</td>\n",
       "      <td>0.439762</td>\n",
       "      <td>0.836772</td>\n",
       "      <td>0.120445</td>\n",
       "      <td>...</td>\n",
       "      <td>0.594850</td>\n",
       "      <td>0.744443</td>\n",
       "      <td>0.246511</td>\n",
       "      <td>0.767050</td>\n",
       "      <td>0.736697</td>\n",
       "      <td>0.710731</td>\n",
       "      <td>0.586913</td>\n",
       "      <td>0.777560</td>\n",
       "      <td>0.706049</td>\n",
       "      <td>0.311375</td>\n",
       "    </tr>\n",
       "    <tr>\n",
       "      <th>3</th>\n",
       "      <td>0.911319</td>\n",
       "      <td>0.907869</td>\n",
       "      <td>0.831656</td>\n",
       "      <td>0.767504</td>\n",
       "      <td>0.886981</td>\n",
       "      <td>0.589135</td>\n",
       "      <td>0.704022</td>\n",
       "      <td>0.613958</td>\n",
       "      <td>0.852084</td>\n",
       "      <td>0.481431</td>\n",
       "      <td>...</td>\n",
       "      <td>0.593676</td>\n",
       "      <td>0.227899</td>\n",
       "      <td>0.264702</td>\n",
       "      <td>0.535805</td>\n",
       "      <td>0.480239</td>\n",
       "      <td>0.731689</td>\n",
       "      <td>0.799642</td>\n",
       "      <td>0.856727</td>\n",
       "      <td>0.824530</td>\n",
       "      <td>0.582091</td>\n",
       "    </tr>\n",
       "    <tr>\n",
       "      <th>4</th>\n",
       "      <td>0.181163</td>\n",
       "      <td>0.800212</td>\n",
       "      <td>0.827693</td>\n",
       "      <td>0.149731</td>\n",
       "      <td>0.739144</td>\n",
       "      <td>0.843704</td>\n",
       "      <td>0.841885</td>\n",
       "      <td>0.127548</td>\n",
       "      <td>0.112236</td>\n",
       "      <td>0.898438</td>\n",
       "      <td>...</td>\n",
       "      <td>0.391759</td>\n",
       "      <td>0.808125</td>\n",
       "      <td>0.147298</td>\n",
       "      <td>0.859803</td>\n",
       "      <td>0.620034</td>\n",
       "      <td>0.734427</td>\n",
       "      <td>0.126441</td>\n",
       "      <td>0.508898</td>\n",
       "      <td>0.552177</td>\n",
       "      <td>0.360427</td>\n",
       "    </tr>\n",
       "  </tbody>\n",
       "</table>\n",
       "<p>5 rows × 3200 columns</p>\n",
       "</div>"
      ],
      "text/plain": [
       "       A1_0      A1_1      A1_2      A1_3      A1_4      A1_5      A1_6  \\\n",
       "0  0.183793  0.239916  0.850030  0.210690  0.896150  0.866617  0.860076   \n",
       "1  0.908285  0.882967  0.804499  0.167710  0.854424  0.773797  0.818178   \n",
       "2  0.187789  0.896291  0.089300  0.872091  0.140625  0.809294  0.833710   \n",
       "3  0.911319  0.907869  0.831656  0.767504  0.886981  0.589135  0.704022   \n",
       "4  0.181163  0.800212  0.827693  0.149731  0.739144  0.843704  0.841885   \n",
       "\n",
       "       A1_7      A1_8      A1_9  ...    E5_118    E5_119    E5_120    E5_121  \\\n",
       "0  0.115359  0.374133  0.927302  ...  0.793461  0.576311  0.189772  0.784201   \n",
       "1  0.146237  0.822128  0.880442  ...  0.792318  0.645596  0.668128  0.267654   \n",
       "2  0.439762  0.836772  0.120445  ...  0.594850  0.744443  0.246511  0.767050   \n",
       "3  0.613958  0.852084  0.481431  ...  0.593676  0.227899  0.264702  0.535805   \n",
       "4  0.127548  0.112236  0.898438  ...  0.391759  0.808125  0.147298  0.859803   \n",
       "\n",
       "     E5_122    E5_123    E5_124    E5_125    E5_126    E5_127  \n",
       "0  0.335585  0.644900  0.301631  0.547792  0.479534  0.308149  \n",
       "1  0.732278  0.791278  0.680896  0.315371  0.368137  0.192646  \n",
       "2  0.736697  0.710731  0.586913  0.777560  0.706049  0.311375  \n",
       "3  0.480239  0.731689  0.799642  0.856727  0.824530  0.582091  \n",
       "4  0.620034  0.734427  0.126441  0.508898  0.552177  0.360427  \n",
       "\n",
       "[5 rows x 3200 columns]"
      ]
     },
     "execution_count": 3,
     "metadata": {},
     "output_type": "execute_result"
    }
   ],
   "source": [
    "feat_file.head()"
   ]
  },
  {
   "cell_type": "code",
   "execution_count": 4,
   "id": "e27455e1",
   "metadata": {},
   "outputs": [
    {
     "data": {
      "text/plain": [
       "(2129, 3200)"
      ]
     },
     "execution_count": 4,
     "metadata": {},
     "output_type": "execute_result"
    }
   ],
   "source": [
    "feat_file.shape"
   ]
  },
  {
   "cell_type": "code",
   "execution_count": 5,
   "id": "ab7abbc0",
   "metadata": {},
   "outputs": [],
   "source": [
    "X=feat_file.values"
   ]
  },
  {
   "cell_type": "code",
   "execution_count": 6,
   "id": "0b410c9e",
   "metadata": {},
   "outputs": [
    {
     "data": {
      "text/html": [
       "<div>\n",
       "<style scoped>\n",
       "    .dataframe tbody tr th:only-of-type {\n",
       "        vertical-align: middle;\n",
       "    }\n",
       "\n",
       "    .dataframe tbody tr th {\n",
       "        vertical-align: top;\n",
       "    }\n",
       "\n",
       "    .dataframe thead th {\n",
       "        text-align: right;\n",
       "    }\n",
       "</style>\n",
       "<table border=\"1\" class=\"dataframe\">\n",
       "  <thead>\n",
       "    <tr style=\"text-align: right;\">\n",
       "      <th></th>\n",
       "      <th>Status</th>\n",
       "    </tr>\n",
       "  </thead>\n",
       "  <tbody>\n",
       "    <tr>\n",
       "      <th>0</th>\n",
       "      <td>0</td>\n",
       "    </tr>\n",
       "    <tr>\n",
       "      <th>1</th>\n",
       "      <td>0</td>\n",
       "    </tr>\n",
       "    <tr>\n",
       "      <th>2</th>\n",
       "      <td>0</td>\n",
       "    </tr>\n",
       "    <tr>\n",
       "      <th>3</th>\n",
       "      <td>1</td>\n",
       "    </tr>\n",
       "    <tr>\n",
       "      <th>4</th>\n",
       "      <td>0</td>\n",
       "    </tr>\n",
       "  </tbody>\n",
       "</table>\n",
       "</div>"
      ],
      "text/plain": [
       "   Status\n",
       "0       0\n",
       "1       0\n",
       "2       0\n",
       "3       1\n",
       "4       0"
      ]
     },
     "execution_count": 6,
     "metadata": {},
     "output_type": "execute_result"
    }
   ],
   "source": [
    "label= pd.read_csv('cancer_label.csv')\n",
    "label.head()"
   ]
  },
  {
   "cell_type": "code",
   "execution_count": 7,
   "id": "aae99626",
   "metadata": {},
   "outputs": [],
   "source": [
    "y=label.values.ravel()"
   ]
  },
  {
   "cell_type": "markdown",
   "id": "65e88af9",
   "metadata": {},
   "source": [
    "# split\n"
   ]
  },
  {
   "cell_type": "code",
   "execution_count": 8,
   "id": "34aa7a83",
   "metadata": {},
   "outputs": [],
   "source": [
    "from sklearn.model_selection import train_test_split\n",
    "X_train, X_test, y_train, y_test = train_test_split(X, y, test_size=0.2, random_state=42,shuffle=True)"
   ]
  },
  {
   "cell_type": "code",
   "execution_count": 9,
   "id": "c2f140f8",
   "metadata": {},
   "outputs": [
    {
     "data": {
      "text/plain": [
       "(1703, 3200)"
      ]
     },
     "execution_count": 9,
     "metadata": {},
     "output_type": "execute_result"
    }
   ],
   "source": [
    "X_train.shape"
   ]
  },
  {
   "cell_type": "code",
   "execution_count": 10,
   "id": "62b263fe",
   "metadata": {},
   "outputs": [
    {
     "data": {
      "text/plain": [
       "(1703,)"
      ]
     },
     "execution_count": 10,
     "metadata": {},
     "output_type": "execute_result"
    }
   ],
   "source": [
    "y_train.shape"
   ]
  },
  {
   "cell_type": "markdown",
   "id": "a0f3df4d",
   "metadata": {},
   "source": [
    "# boruta"
   ]
  },
  {
   "cell_type": "code",
   "execution_count": 11,
   "id": "a18256fb",
   "metadata": {},
   "outputs": [],
   "source": [
    "forest = RandomForestClassifier(n_jobs=-1, class_weight='balanced', max_depth=5)\n"
   ]
  },
  {
   "cell_type": "code",
   "execution_count": 12,
   "id": "f45e175b",
   "metadata": {},
   "outputs": [
    {
     "name": "stdout",
     "output_type": "stream",
     "text": [
      "Iteration: \t1 / 100\n",
      "Confirmed: \t0\n",
      "Tentative: \t3200\n",
      "Rejected: \t0\n",
      "Iteration: \t2 / 100\n",
      "Confirmed: \t0\n",
      "Tentative: \t3200\n",
      "Rejected: \t0\n",
      "Iteration: \t3 / 100\n",
      "Confirmed: \t0\n",
      "Tentative: \t3200\n",
      "Rejected: \t0\n",
      "Iteration: \t4 / 100\n",
      "Confirmed: \t0\n",
      "Tentative: \t3200\n",
      "Rejected: \t0\n",
      "Iteration: \t5 / 100\n",
      "Confirmed: \t0\n",
      "Tentative: \t3200\n",
      "Rejected: \t0\n",
      "Iteration: \t6 / 100\n",
      "Confirmed: \t0\n",
      "Tentative: \t3200\n",
      "Rejected: \t0\n",
      "Iteration: \t7 / 100\n",
      "Confirmed: \t0\n",
      "Tentative: \t3200\n",
      "Rejected: \t0\n",
      "Iteration: \t8 / 100\n",
      "Confirmed: \t0\n",
      "Tentative: \t776\n",
      "Rejected: \t2424\n",
      "Iteration: \t9 / 100\n",
      "Confirmed: \t158\n",
      "Tentative: \t618\n",
      "Rejected: \t2424\n",
      "Iteration: \t10 / 100\n",
      "Confirmed: \t158\n",
      "Tentative: \t618\n",
      "Rejected: \t2424\n",
      "Iteration: \t11 / 100\n",
      "Confirmed: \t158\n",
      "Tentative: \t618\n",
      "Rejected: \t2424\n",
      "Iteration: \t12 / 100\n",
      "Confirmed: \t176\n",
      "Tentative: \t413\n",
      "Rejected: \t2611\n",
      "Iteration: \t13 / 100\n",
      "Confirmed: \t176\n",
      "Tentative: \t413\n",
      "Rejected: \t2611\n",
      "Iteration: \t14 / 100\n",
      "Confirmed: \t176\n",
      "Tentative: \t413\n",
      "Rejected: \t2611\n",
      "Iteration: \t15 / 100\n",
      "Confirmed: \t176\n",
      "Tentative: \t413\n",
      "Rejected: \t2611\n",
      "Iteration: \t16 / 100\n",
      "Confirmed: \t185\n",
      "Tentative: \t352\n",
      "Rejected: \t2663\n",
      "Iteration: \t17 / 100\n",
      "Confirmed: \t185\n",
      "Tentative: \t352\n",
      "Rejected: \t2663\n",
      "Iteration: \t18 / 100\n",
      "Confirmed: \t185\n",
      "Tentative: \t352\n",
      "Rejected: \t2663\n",
      "Iteration: \t19 / 100\n",
      "Confirmed: \t197\n",
      "Tentative: \t295\n",
      "Rejected: \t2708\n",
      "Iteration: \t20 / 100\n",
      "Confirmed: \t197\n",
      "Tentative: \t295\n",
      "Rejected: \t2708\n",
      "Iteration: \t21 / 100\n",
      "Confirmed: \t197\n",
      "Tentative: \t295\n",
      "Rejected: \t2708\n",
      "Iteration: \t22 / 100\n",
      "Confirmed: \t204\n",
      "Tentative: \t288\n",
      "Rejected: \t2708\n",
      "Iteration: \t23 / 100\n",
      "Confirmed: \t204\n",
      "Tentative: \t273\n",
      "Rejected: \t2723\n",
      "Iteration: \t24 / 100\n",
      "Confirmed: \t204\n",
      "Tentative: \t273\n",
      "Rejected: \t2723\n",
      "Iteration: \t25 / 100\n",
      "Confirmed: \t204\n",
      "Tentative: \t273\n",
      "Rejected: \t2723\n",
      "Iteration: \t26 / 100\n",
      "Confirmed: \t208\n",
      "Tentative: \t269\n",
      "Rejected: \t2723\n",
      "Iteration: \t27 / 100\n",
      "Confirmed: \t208\n",
      "Tentative: \t261\n",
      "Rejected: \t2731\n",
      "Iteration: \t28 / 100\n",
      "Confirmed: \t208\n",
      "Tentative: \t261\n",
      "Rejected: \t2731\n",
      "Iteration: \t29 / 100\n",
      "Confirmed: \t210\n",
      "Tentative: \t259\n",
      "Rejected: \t2731\n",
      "Iteration: \t30 / 100\n",
      "Confirmed: \t210\n",
      "Tentative: \t250\n",
      "Rejected: \t2740\n",
      "Iteration: \t31 / 100\n",
      "Confirmed: \t210\n",
      "Tentative: \t250\n",
      "Rejected: \t2740\n",
      "Iteration: \t32 / 100\n",
      "Confirmed: \t216\n",
      "Tentative: \t234\n",
      "Rejected: \t2750\n",
      "Iteration: \t33 / 100\n",
      "Confirmed: \t216\n",
      "Tentative: \t234\n",
      "Rejected: \t2750\n",
      "Iteration: \t34 / 100\n",
      "Confirmed: \t217\n",
      "Tentative: \t233\n",
      "Rejected: \t2750\n",
      "Iteration: \t35 / 100\n",
      "Confirmed: \t217\n",
      "Tentative: \t233\n",
      "Rejected: \t2750\n",
      "Iteration: \t36 / 100\n",
      "Confirmed: \t217\n",
      "Tentative: \t233\n",
      "Rejected: \t2750\n",
      "Iteration: \t37 / 100\n",
      "Confirmed: \t219\n",
      "Tentative: \t219\n",
      "Rejected: \t2762\n",
      "Iteration: \t38 / 100\n",
      "Confirmed: \t219\n",
      "Tentative: \t219\n",
      "Rejected: \t2762\n",
      "Iteration: \t39 / 100\n",
      "Confirmed: \t219\n",
      "Tentative: \t219\n",
      "Rejected: \t2762\n",
      "Iteration: \t40 / 100\n",
      "Confirmed: \t222\n",
      "Tentative: \t216\n",
      "Rejected: \t2762\n",
      "Iteration: \t41 / 100\n",
      "Confirmed: \t222\n",
      "Tentative: \t216\n",
      "Rejected: \t2762\n",
      "Iteration: \t42 / 100\n",
      "Confirmed: \t222\n",
      "Tentative: \t216\n",
      "Rejected: \t2762\n",
      "Iteration: \t43 / 100\n",
      "Confirmed: \t224\n",
      "Tentative: \t214\n",
      "Rejected: \t2762\n",
      "Iteration: \t44 / 100\n",
      "Confirmed: \t224\n",
      "Tentative: \t214\n",
      "Rejected: \t2762\n",
      "Iteration: \t45 / 100\n",
      "Confirmed: \t224\n",
      "Tentative: \t210\n",
      "Rejected: \t2766\n",
      "Iteration: \t46 / 100\n",
      "Confirmed: \t227\n",
      "Tentative: \t207\n",
      "Rejected: \t2766\n",
      "Iteration: \t47 / 100\n",
      "Confirmed: \t227\n",
      "Tentative: \t207\n",
      "Rejected: \t2766\n",
      "Iteration: \t48 / 100\n",
      "Confirmed: \t227\n",
      "Tentative: \t207\n",
      "Rejected: \t2766\n",
      "Iteration: \t49 / 100\n",
      "Confirmed: \t228\n",
      "Tentative: \t206\n",
      "Rejected: \t2766\n",
      "Iteration: \t50 / 100\n",
      "Confirmed: \t228\n",
      "Tentative: \t206\n",
      "Rejected: \t2766\n",
      "Iteration: \t51 / 100\n",
      "Confirmed: \t229\n",
      "Tentative: \t195\n",
      "Rejected: \t2776\n",
      "Iteration: \t52 / 100\n",
      "Confirmed: \t229\n",
      "Tentative: \t195\n",
      "Rejected: \t2776\n",
      "Iteration: \t53 / 100\n",
      "Confirmed: \t229\n",
      "Tentative: \t195\n",
      "Rejected: \t2776\n",
      "Iteration: \t54 / 100\n",
      "Confirmed: \t229\n",
      "Tentative: \t195\n",
      "Rejected: \t2776\n",
      "Iteration: \t55 / 100\n",
      "Confirmed: \t229\n",
      "Tentative: \t195\n",
      "Rejected: \t2776\n",
      "Iteration: \t56 / 100\n",
      "Confirmed: \t229\n",
      "Tentative: \t195\n",
      "Rejected: \t2776\n",
      "Iteration: \t57 / 100\n",
      "Confirmed: \t229\n",
      "Tentative: \t195\n",
      "Rejected: \t2776\n",
      "Iteration: \t58 / 100\n",
      "Confirmed: \t229\n",
      "Tentative: \t190\n",
      "Rejected: \t2781\n",
      "Iteration: \t59 / 100\n",
      "Confirmed: \t229\n",
      "Tentative: \t184\n",
      "Rejected: \t2787\n",
      "Iteration: \t60 / 100\n",
      "Confirmed: \t229\n",
      "Tentative: \t184\n",
      "Rejected: \t2787\n",
      "Iteration: \t61 / 100\n",
      "Confirmed: \t229\n",
      "Tentative: \t184\n",
      "Rejected: \t2787\n",
      "Iteration: \t62 / 100\n",
      "Confirmed: \t230\n",
      "Tentative: \t177\n",
      "Rejected: \t2793\n",
      "Iteration: \t63 / 100\n",
      "Confirmed: \t230\n",
      "Tentative: \t177\n",
      "Rejected: \t2793\n",
      "Iteration: \t64 / 100\n",
      "Confirmed: \t230\n",
      "Tentative: \t177\n",
      "Rejected: \t2793\n",
      "Iteration: \t65 / 100\n",
      "Confirmed: \t230\n",
      "Tentative: \t174\n",
      "Rejected: \t2796\n",
      "Iteration: \t66 / 100\n",
      "Confirmed: \t230\n",
      "Tentative: \t174\n",
      "Rejected: \t2796\n",
      "Iteration: \t67 / 100\n",
      "Confirmed: \t231\n",
      "Tentative: \t173\n",
      "Rejected: \t2796\n",
      "Iteration: \t68 / 100\n",
      "Confirmed: \t231\n",
      "Tentative: \t169\n",
      "Rejected: \t2800\n",
      "Iteration: \t69 / 100\n",
      "Confirmed: \t231\n",
      "Tentative: \t169\n",
      "Rejected: \t2800\n",
      "Iteration: \t70 / 100\n",
      "Confirmed: \t231\n",
      "Tentative: \t169\n",
      "Rejected: \t2800\n",
      "Iteration: \t71 / 100\n",
      "Confirmed: \t231\n",
      "Tentative: \t169\n",
      "Rejected: \t2800\n",
      "Iteration: \t72 / 100\n",
      "Confirmed: \t231\n",
      "Tentative: \t169\n",
      "Rejected: \t2800\n",
      "Iteration: \t73 / 100\n",
      "Confirmed: \t231\n",
      "Tentative: \t165\n",
      "Rejected: \t2804\n",
      "Iteration: \t74 / 100\n",
      "Confirmed: \t231\n",
      "Tentative: \t165\n",
      "Rejected: \t2804\n",
      "Iteration: \t75 / 100\n",
      "Confirmed: \t232\n",
      "Tentative: \t164\n",
      "Rejected: \t2804\n",
      "Iteration: \t76 / 100\n",
      "Confirmed: \t232\n",
      "Tentative: \t164\n",
      "Rejected: \t2804\n",
      "Iteration: \t77 / 100\n",
      "Confirmed: \t233\n",
      "Tentative: \t163\n",
      "Rejected: \t2804\n",
      "Iteration: \t78 / 100\n",
      "Confirmed: \t233\n",
      "Tentative: \t163\n",
      "Rejected: \t2804\n",
      "Iteration: \t79 / 100\n",
      "Confirmed: \t233\n",
      "Tentative: \t163\n",
      "Rejected: \t2804\n",
      "Iteration: \t80 / 100\n",
      "Confirmed: \t234\n",
      "Tentative: \t162\n",
      "Rejected: \t2804\n",
      "Iteration: \t81 / 100\n",
      "Confirmed: \t234\n",
      "Tentative: \t162\n",
      "Rejected: \t2804\n",
      "Iteration: \t82 / 100\n",
      "Confirmed: \t234\n",
      "Tentative: \t161\n",
      "Rejected: \t2805\n",
      "Iteration: \t83 / 100\n",
      "Confirmed: \t235\n",
      "Tentative: \t160\n",
      "Rejected: \t2805\n",
      "Iteration: \t84 / 100\n",
      "Confirmed: \t235\n",
      "Tentative: \t160\n",
      "Rejected: \t2805\n",
      "Iteration: \t85 / 100\n",
      "Confirmed: \t235\n",
      "Tentative: \t160\n",
      "Rejected: \t2805\n",
      "Iteration: \t86 / 100\n",
      "Confirmed: \t235\n",
      "Tentative: \t160\n",
      "Rejected: \t2805\n",
      "Iteration: \t87 / 100\n",
      "Confirmed: \t235\n",
      "Tentative: \t160\n",
      "Rejected: \t2805\n",
      "Iteration: \t88 / 100\n",
      "Confirmed: \t235\n",
      "Tentative: \t160\n",
      "Rejected: \t2805\n",
      "Iteration: \t89 / 100\n",
      "Confirmed: \t235\n",
      "Tentative: \t157\n",
      "Rejected: \t2808\n",
      "Iteration: \t90 / 100\n",
      "Confirmed: \t237\n",
      "Tentative: \t155\n",
      "Rejected: \t2808\n",
      "Iteration: \t91 / 100\n",
      "Confirmed: \t237\n",
      "Tentative: \t155\n",
      "Rejected: \t2808\n",
      "Iteration: \t92 / 100\n",
      "Confirmed: \t237\n",
      "Tentative: \t155\n",
      "Rejected: \t2808\n",
      "Iteration: \t93 / 100\n",
      "Confirmed: \t237\n",
      "Tentative: \t155\n",
      "Rejected: \t2808\n",
      "Iteration: \t94 / 100\n",
      "Confirmed: \t237\n",
      "Tentative: \t155\n",
      "Rejected: \t2808\n",
      "Iteration: \t95 / 100\n",
      "Confirmed: \t237\n",
      "Tentative: \t152\n",
      "Rejected: \t2811\n",
      "Iteration: \t96 / 100\n",
      "Confirmed: \t237\n",
      "Tentative: \t152\n",
      "Rejected: \t2811\n",
      "Iteration: \t97 / 100\n",
      "Confirmed: \t237\n",
      "Tentative: \t152\n",
      "Rejected: \t2811\n",
      "Iteration: \t98 / 100\n",
      "Confirmed: \t237\n",
      "Tentative: \t150\n",
      "Rejected: \t2813\n",
      "Iteration: \t99 / 100\n",
      "Confirmed: \t237\n",
      "Tentative: \t150\n",
      "Rejected: \t2813\n",
      "\n",
      "\n",
      "BorutaPy finished running.\n",
      "\n",
      "Iteration: \t100 / 100\n",
      "Confirmed: \t237\n",
      "Tentative: \t48\n",
      "Rejected: \t2813\n"
     ]
    }
   ],
   "source": [
    "from boruta import BorutaPy\n",
    "\n",
    "# define Boruta feature selection method\n",
    "feat_selector = BorutaPy(forest, n_estimators='auto', verbose=2, random_state=1)\n",
    "\n",
    "# find all relevant features\n",
    "feat_selector.fit(X_train, y_train)\n",
    "\n",
    "# check selected features\n",
    "feat_selector.support_\n",
    "\n",
    "# check ranking of features\n",
    "feat_selector.ranking_\n",
    "\n",
    "# call transform() on X to filter it down to selected features\n",
    "X_train_filtered = feat_selector.transform(X_train)\n",
    "X_test_filtered = feat_selector.transform(X_test)"
   ]
  },
  {
   "cell_type": "code",
   "execution_count": 13,
   "id": "71aabf00",
   "metadata": {
    "scrolled": true
   },
   "outputs": [
    {
     "data": {
      "text/plain": [
       "(1703, 237)"
      ]
     },
     "execution_count": 13,
     "metadata": {},
     "output_type": "execute_result"
    }
   ],
   "source": [
    "X_train_filtered.shape"
   ]
  },
  {
   "cell_type": "code",
   "execution_count": 14,
   "id": "b3f5eb20",
   "metadata": {},
   "outputs": [
    {
     "data": {
      "text/plain": [
       "(1703,)"
      ]
     },
     "execution_count": 14,
     "metadata": {},
     "output_type": "execute_result"
    }
   ],
   "source": [
    "y_train.shape"
   ]
  },
  {
   "cell_type": "code",
   "execution_count": 15,
   "id": "6231e80a",
   "metadata": {},
   "outputs": [],
   "source": [
    "selected_feat_indices = np.where(feat_selector.support_ == True)[0]"
   ]
  },
  {
   "cell_type": "code",
   "execution_count": 16,
   "id": "f28e6e68",
   "metadata": {},
   "outputs": [
    {
     "data": {
      "text/plain": [
       "array([ 136,  151,  243,  253,  268,  421,  427,  430,  459,  468,  485,\n",
       "        492,  510,  549,  588,  608,  641,  642,  656,  657,  680,  684,\n",
       "        689,  698,  720,  724,  733,  747,  795,  849,  889,  911,  974,\n",
       "       1047, 1059, 1064, 1072, 1089, 1095, 1107, 1112, 1114, 1116, 1121,\n",
       "       1123, 1124, 1129, 1130, 1138, 1140, 1150, 1186, 1189, 1197, 1228,\n",
       "       1240, 1246, 1255, 1256, 1284, 1288, 1289, 1290, 1292, 1295, 1296,\n",
       "       1298, 1299, 1301, 1305, 1306, 1307, 1314, 1318, 1320, 1323, 1325,\n",
       "       1327, 1330, 1332, 1335, 1337, 1344, 1345, 1346, 1361, 1363, 1364,\n",
       "       1365, 1368, 1370, 1375, 1377, 1382, 1385, 1386, 1388, 1399, 1402,\n",
       "       1403, 1508, 1547, 1664, 1683, 1719, 1727, 1728, 1772, 1789, 1836,\n",
       "       1837, 1879, 1890, 1986, 2014, 2051, 2054, 2055, 2056, 2067, 2077,\n",
       "       2081, 2082, 2083, 2086, 2094, 2099, 2101, 2104, 2116, 2118, 2138,\n",
       "       2139, 2153, 2165, 2168, 2169, 2181, 2230, 2243, 2244, 2254, 2265,\n",
       "       2278, 2281, 2301, 2332, 2351, 2370, 2402, 2425, 2426, 2431, 2476,\n",
       "       2530, 2540, 2542, 2546, 2547, 2550, 2553, 2559, 2575, 2590, 2592,\n",
       "       2616, 2618, 2621, 2635, 2672, 2683, 2688, 2721, 2722, 2740, 2750,\n",
       "       2778, 2846, 2863, 2872, 2886, 2894, 2913, 2945, 2946, 2949, 2951,\n",
       "       2953, 2959, 2961, 2964, 2965, 2968, 2972, 2974, 2978, 2980, 2981,\n",
       "       2982, 2984, 2987, 2995, 2996, 2998, 3002, 3003, 3005, 3009, 3013,\n",
       "       3020, 3022, 3027, 3028, 3030, 3032, 3033, 3034, 3036, 3037, 3038,\n",
       "       3039, 3040, 3045, 3046, 3048, 3050, 3054, 3056, 3057, 3058, 3059,\n",
       "       3063, 3065, 3066, 3067, 3070, 3077])"
      ]
     },
     "execution_count": 16,
     "metadata": {},
     "output_type": "execute_result"
    }
   ],
   "source": [
    "selected_feat_indices"
   ]
  },
  {
   "cell_type": "code",
   "execution_count": 17,
   "id": "821232cc",
   "metadata": {},
   "outputs": [],
   "source": [
    "selected_feat_names = list(feat_file.columns[selected_feat_indices])"
   ]
  },
  {
   "cell_type": "code",
   "execution_count": 18,
   "id": "18d9f63b",
   "metadata": {},
   "outputs": [
    {
     "data": {
      "text/plain": [
       "['A2_8',\n",
       " 'A2_23',\n",
       " 'A2_115',\n",
       " 'A2_125',\n",
       " 'A3_12',\n",
       " 'A4_37',\n",
       " 'A4_43',\n",
       " 'A4_46',\n",
       " 'A4_75',\n",
       " 'A4_84',\n",
       " 'A4_101',\n",
       " 'A4_108',\n",
       " 'A4_126',\n",
       " 'A5_37',\n",
       " 'A5_76',\n",
       " 'A5_96',\n",
       " 'B1_1',\n",
       " 'B1_2',\n",
       " 'B1_16',\n",
       " 'B1_17',\n",
       " 'B1_40',\n",
       " 'B1_44',\n",
       " 'B1_49',\n",
       " 'B1_58',\n",
       " 'B1_80',\n",
       " 'B1_84',\n",
       " 'B1_93',\n",
       " 'B1_107',\n",
       " 'B2_27',\n",
       " 'B2_81',\n",
       " 'B2_121',\n",
       " 'B3_15',\n",
       " 'B3_78',\n",
       " 'B4_23',\n",
       " 'B4_35',\n",
       " 'B4_40',\n",
       " 'B4_48',\n",
       " 'B4_65',\n",
       " 'B4_71',\n",
       " 'B4_83',\n",
       " 'B4_88',\n",
       " 'B4_90',\n",
       " 'B4_92',\n",
       " 'B4_97',\n",
       " 'B4_99',\n",
       " 'B4_100',\n",
       " 'B4_105',\n",
       " 'B4_106',\n",
       " 'B4_114',\n",
       " 'B4_116',\n",
       " 'B4_126',\n",
       " 'B5_34',\n",
       " 'B5_37',\n",
       " 'B5_45',\n",
       " 'B5_76',\n",
       " 'B5_88',\n",
       " 'B5_94',\n",
       " 'B5_103',\n",
       " 'B5_104',\n",
       " 'C1_4',\n",
       " 'C1_8',\n",
       " 'C1_9',\n",
       " 'C1_10',\n",
       " 'C1_12',\n",
       " 'C1_15',\n",
       " 'C1_16',\n",
       " 'C1_18',\n",
       " 'C1_19',\n",
       " 'C1_21',\n",
       " 'C1_25',\n",
       " 'C1_26',\n",
       " 'C1_27',\n",
       " 'C1_34',\n",
       " 'C1_38',\n",
       " 'C1_40',\n",
       " 'C1_43',\n",
       " 'C1_45',\n",
       " 'C1_47',\n",
       " 'C1_50',\n",
       " 'C1_52',\n",
       " 'C1_55',\n",
       " 'C1_57',\n",
       " 'C1_64',\n",
       " 'C1_65',\n",
       " 'C1_66',\n",
       " 'C1_81',\n",
       " 'C1_83',\n",
       " 'C1_84',\n",
       " 'C1_85',\n",
       " 'C1_88',\n",
       " 'C1_90',\n",
       " 'C1_95',\n",
       " 'C1_97',\n",
       " 'C1_102',\n",
       " 'C1_105',\n",
       " 'C1_106',\n",
       " 'C1_108',\n",
       " 'C1_119',\n",
       " 'C1_122',\n",
       " 'C1_123',\n",
       " 'C2_100',\n",
       " 'C3_11',\n",
       " 'C4_0',\n",
       " 'C4_19',\n",
       " 'C4_55',\n",
       " 'C4_63',\n",
       " 'C4_64',\n",
       " 'C4_108',\n",
       " 'C4_125',\n",
       " 'C5_44',\n",
       " 'C5_45',\n",
       " 'C5_87',\n",
       " 'C5_98',\n",
       " 'D1_66',\n",
       " 'D1_94',\n",
       " 'D2_3',\n",
       " 'D2_6',\n",
       " 'D2_7',\n",
       " 'D2_8',\n",
       " 'D2_19',\n",
       " 'D2_29',\n",
       " 'D2_33',\n",
       " 'D2_34',\n",
       " 'D2_35',\n",
       " 'D2_38',\n",
       " 'D2_46',\n",
       " 'D2_51',\n",
       " 'D2_53',\n",
       " 'D2_56',\n",
       " 'D2_68',\n",
       " 'D2_70',\n",
       " 'D2_90',\n",
       " 'D2_91',\n",
       " 'D2_105',\n",
       " 'D2_117',\n",
       " 'D2_120',\n",
       " 'D2_121',\n",
       " 'D3_5',\n",
       " 'D3_54',\n",
       " 'D3_67',\n",
       " 'D3_68',\n",
       " 'D3_78',\n",
       " 'D3_89',\n",
       " 'D3_102',\n",
       " 'D3_105',\n",
       " 'D3_125',\n",
       " 'D4_28',\n",
       " 'D4_47',\n",
       " 'D4_66',\n",
       " 'D4_98',\n",
       " 'D4_121',\n",
       " 'D4_122',\n",
       " 'D4_127',\n",
       " 'D5_44',\n",
       " 'D5_98',\n",
       " 'D5_108',\n",
       " 'D5_110',\n",
       " 'D5_114',\n",
       " 'D5_115',\n",
       " 'D5_118',\n",
       " 'D5_121',\n",
       " 'D5_127',\n",
       " 'E1_15',\n",
       " 'E1_30',\n",
       " 'E1_32',\n",
       " 'E1_56',\n",
       " 'E1_58',\n",
       " 'E1_61',\n",
       " 'E1_75',\n",
       " 'E1_112',\n",
       " 'E1_123',\n",
       " 'E2_0',\n",
       " 'E2_33',\n",
       " 'E2_34',\n",
       " 'E2_52',\n",
       " 'E2_62',\n",
       " 'E2_90',\n",
       " 'E3_30',\n",
       " 'E3_47',\n",
       " 'E3_56',\n",
       " 'E3_70',\n",
       " 'E3_78',\n",
       " 'E3_97',\n",
       " 'E4_1',\n",
       " 'E4_2',\n",
       " 'E4_5',\n",
       " 'E4_7',\n",
       " 'E4_9',\n",
       " 'E4_15',\n",
       " 'E4_17',\n",
       " 'E4_20',\n",
       " 'E4_21',\n",
       " 'E4_24',\n",
       " 'E4_28',\n",
       " 'E4_30',\n",
       " 'E4_34',\n",
       " 'E4_36',\n",
       " 'E4_37',\n",
       " 'E4_38',\n",
       " 'E4_40',\n",
       " 'E4_43',\n",
       " 'E4_51',\n",
       " 'E4_52',\n",
       " 'E4_54',\n",
       " 'E4_58',\n",
       " 'E4_59',\n",
       " 'E4_61',\n",
       " 'E4_65',\n",
       " 'E4_69',\n",
       " 'E4_76',\n",
       " 'E4_78',\n",
       " 'E4_83',\n",
       " 'E4_84',\n",
       " 'E4_86',\n",
       " 'E4_88',\n",
       " 'E4_89',\n",
       " 'E4_90',\n",
       " 'E4_92',\n",
       " 'E4_93',\n",
       " 'E4_94',\n",
       " 'E4_95',\n",
       " 'E4_96',\n",
       " 'E4_101',\n",
       " 'E4_102',\n",
       " 'E4_104',\n",
       " 'E4_106',\n",
       " 'E4_110',\n",
       " 'E4_112',\n",
       " 'E4_113',\n",
       " 'E4_114',\n",
       " 'E4_115',\n",
       " 'E4_119',\n",
       " 'E4_121',\n",
       " 'E4_122',\n",
       " 'E4_123',\n",
       " 'E4_126',\n",
       " 'E5_5']"
      ]
     },
     "execution_count": 18,
     "metadata": {},
     "output_type": "execute_result"
    }
   ],
   "source": [
    "selected_feat_names"
   ]
  },
  {
   "cell_type": "code",
   "execution_count": 19,
   "id": "18ddc9ba",
   "metadata": {},
   "outputs": [],
   "source": [
    "train_x = pd.DataFrame(X_train)\n",
    "test_x = pd.DataFrame(X_test)"
   ]
  },
  {
   "cell_type": "code",
   "execution_count": 20,
   "id": "9a91b19c",
   "metadata": {},
   "outputs": [],
   "source": [
    "train_x.columns=feat_file.columns\n",
    "test_x.columns=feat_file.columns"
   ]
  },
  {
   "cell_type": "code",
   "execution_count": 21,
   "id": "c97450a4",
   "metadata": {},
   "outputs": [],
   "source": [
    "new_df=train_x.loc[:,selected_feat_names]\n",
    "X_train_filtered=new_df\n",
    "\n",
    "new_df_test=test_x.loc[:,selected_feat_names]\n",
    "X_test_filtered=new_df_test"
   ]
  },
  {
   "cell_type": "markdown",
   "id": "8d1eaf42",
   "metadata": {},
   "source": [
    "# Boruta+ActiveSVM"
   ]
  },
  {
   "cell_type": "code",
   "execution_count": 22,
   "id": "177c44c5",
   "metadata": {},
   "outputs": [],
   "source": [
    "from sklearn.preprocessing import StandardScaler\n",
    "from sklearn.decomposition import KernelPCA"
   ]
  },
  {
   "cell_type": "code",
   "execution_count": 23,
   "id": "cae54279",
   "metadata": {},
   "outputs": [],
   "source": [
    "import numpy as np\n",
    "import time\n",
    "import random\n",
    "import os\n",
    "\n",
    "from sklearn.preprocessing import normalize \n",
    "from sklearn.manifold import TSNE\n",
    "from sklearn.decomposition import PCA\n",
    "\n",
    "import matplotlib.pyplot as plt\n",
    "from matplotlib import gridspec\n",
    "\n",
    "from activeSVC import min_complexity, min_acquisition,min_complexity_cv, min_acquisition_cv,min_complexity_h5py, min_acquisition_h5py\n",
    "import pandas as pd\n",
    "import pickle\n",
    "import os, psutil"
   ]
  },
  {
   "cell_type": "code",
   "execution_count": 24,
   "id": "6fa9035a",
   "metadata": {},
   "outputs": [
    {
     "name": "stderr",
     "output_type": "stream",
     "text": [
      "2023-04-24 13:15:13.439188: I tensorflow/core/platform/cpu_feature_guard.cc:182] This TensorFlow binary is optimized to use available CPU instructions in performance-critical operations.\n",
      "To enable the following instructions: AVX2 FMA, in other operations, rebuild TensorFlow with the appropriate compiler flags.\n",
      "2023-04-24 13:15:14.045238: W tensorflow/compiler/tf2tensorrt/utils/py_utils.cc:38] TF-TRT Warning: Could not find TensorRT\n"
     ]
    }
   ],
   "source": [
    "from sklearn.decomposition import KernelPCA\n",
    "from sklearn.preprocessing import StandardScaler\n",
    "from sklearn.multiclass import OneVsRestClassifier\n",
    "from sklearn.utils import class_weight\n",
    "from sklearn.svm import SVC\n",
    "from sklearn.model_selection import GridSearchCV\n",
    "from sklearn.utils import class_weight\n",
    "from sklearn.metrics import roc_curve, auc, roc_auc_score, f1_score\n",
    "from sklearn.model_selection import train_test_split\n",
    "from skmultilearn.model_selection import iterative_train_test_split\n",
    "import pickle\n",
    "from keras.layers import Dense, Activation, Dropout, BatchNormalization, Input\n",
    "from keras.models import Sequential, Model\n",
    "from keras import optimizers, regularizers, initializers\n",
    "from keras.callbacks import ModelCheckpoint, Callback\n",
    "from keras import backend as K\n",
    "from keras.optimizers import Adam\n",
    "import tensorflow as tf\n",
    "import matplotlib.pyplot as plt\n",
    "import warnings\n",
    "warnings.filterwarnings(\"ignore\")"
   ]
  },
  {
   "cell_type": "code",
   "execution_count": 25,
   "id": "d574f4fa",
   "metadata": {},
   "outputs": [],
   "source": [
    "def text_create(path, name, msg):\n",
    "    full_path = path + \"/\" + name + '.pickle'\n",
    "    f=open(full_path,'wb') \n",
    "    pickle.dump(msg,f)\n",
    "    f.close()\n",
    "\n",
    "class TimerError(Exception):\n",
    "     \"\"\"A custom exception used to report errors in use of Timer class\"\"\"\n",
    "\n",
    "class Timer:\n",
    "    def __init__(self):\n",
    "        self._start_time = None\n",
    "\n",
    "    def start(self):\n",
    "        if self._start_time is not None:\n",
    "            raise TimerError(f\"Timer is running. Use .stop() to stop it\")\n",
    "\n",
    "        self._start_time = time.perf_counter()\n",
    "\n",
    "    def stop(self):\n",
    "        if self._start_time is None:\n",
    "            raise TimerError(f\"Timer is not running. Use .start() to start it\")\n",
    "\n",
    "        elapsed_time = time.perf_counter() - self._start_time\n",
    "        self._start_time = None\n",
    "        print(f\"Total run time: {elapsed_time:0.4f} seconds\")\n",
    "        return elapsed_time"
   ]
  },
  {
   "cell_type": "code",
   "execution_count": 26,
   "id": "2f816e20",
   "metadata": {},
   "outputs": [
    {
     "name": "stdout",
     "output_type": "stream",
     "text": [
      "(1703, 237)\n",
      "(1703,)\n",
      "(426, 237)\n",
      "(426,)\n"
     ]
    }
   ],
   "source": [
    "print(np.shape(X_train_filtered))\n",
    "print(np.shape(y_train))\n",
    "print(np.shape(X_test_filtered))\n",
    "print(np.shape(y_test))"
   ]
  },
  {
   "cell_type": "code",
   "execution_count": 27,
   "id": "36bd56b9",
   "metadata": {},
   "outputs": [
    {
     "name": "stdout",
     "output_type": "stream",
     "text": [
      "Elapsed time: 0.6275 seconds\n",
      "feature 0 : gene [143]  200 samples\n",
      "training error=0.4445096887844979 test error=0.43896713615023475\n",
      "training accuracy=0.5554903112155021 test accuracy=0.5610328638497653\n",
      "Elapsed time: 0.9740 seconds\n",
      "feature 1 : gene 16  234 samples\n",
      "training error=0.4345273047563124 test error=0.4014084507042254\n",
      "training accuracy=0.5654726952436876 test accuracy=0.5985915492957746\n",
      "Elapsed time: 0.8784 seconds\n",
      "feature 2 : gene 212  239 samples\n",
      "training error=0.38813857897827364 test error=0.4014084507042254\n",
      "training accuracy=0.6118614210217264 test accuracy=0.5985915492957746\n",
      "Elapsed time: 1.0399 seconds\n",
      "feature 3 : gene 102  256 samples\n",
      "training error=0.37522019964768055 test error=0.38967136150234744\n",
      "training accuracy=0.6247798003523194 test accuracy=0.6103286384976526\n",
      "Elapsed time: 1.0177 seconds\n",
      "feature 4 : gene 165  266 samples\n",
      "training error=0.3534938344098649 test error=0.3826291079812207\n",
      "training accuracy=0.6465061655901351 test accuracy=0.6173708920187794\n",
      "Elapsed time: 0.9942 seconds\n",
      "feature 5 : gene 110  274 samples\n",
      "training error=0.34233705226071637 test error=0.3755868544600939\n",
      "training accuracy=0.6576629477392836 test accuracy=0.6244131455399061\n",
      "Elapsed time: 1.0206 seconds\n",
      "feature 6 : gene 182  279 samples\n",
      "training error=0.3411626541397534 test error=0.3544600938967136\n",
      "training accuracy=0.6588373458602467 test accuracy=0.6455399061032864\n",
      "Elapsed time: 0.9594 seconds\n",
      "feature 7 : gene 18  286 samples\n",
      "training error=0.33881385789782736 test error=0.3732394366197183\n",
      "training accuracy=0.6611861421021726 test accuracy=0.6267605633802817\n",
      "Elapsed time: 0.8385 seconds\n",
      "feature 8 : gene 27  288 samples\n",
      "training error=0.3411626541397534 test error=0.3779342723004695\n",
      "training accuracy=0.6588373458602467 test accuracy=0.6220657276995305\n",
      "Elapsed time: 0.8730 seconds\n",
      "feature 9 : gene 43  291 samples\n",
      "training error=0.33235466823253085 test error=0.32629107981220656\n",
      "training accuracy=0.6676453317674692 test accuracy=0.6737089201877934\n",
      "Elapsed time: 0.9212 seconds\n",
      "feature 10 : gene 140  297 samples\n",
      "training error=0.32237228420434527 test error=0.3544600938967136\n",
      "training accuracy=0.6776277157956547 test accuracy=0.6455399061032864\n",
      "Elapsed time: 1.0356 seconds\n",
      "feature 11 : gene 29  304 samples\n",
      "training error=0.3247210804462713 test error=0.352112676056338\n",
      "training accuracy=0.6752789195537288 test accuracy=0.647887323943662\n",
      "Elapsed time: 1.1961 seconds\n",
      "feature 12 : gene 141  304 samples\n",
      "training error=0.3276570757486788 test error=0.36384976525821594\n",
      "training accuracy=0.6723429242513213 test accuracy=0.636150234741784\n",
      "Elapsed time: 0.8604 seconds\n",
      "feature 13 : gene 6  304 samples\n",
      "training error=0.32295948326482676 test error=0.36384976525821594\n",
      "training accuracy=0.6770405167351732 test accuracy=0.636150234741784\n",
      "Elapsed time: 0.8520 seconds\n",
      "feature 14 : gene 193  304 samples\n",
      "training error=0.31943628890193776 test error=0.3568075117370892\n",
      "training accuracy=0.6805637110980622 test accuracy=0.6431924882629108\n",
      "Elapsed time: 1.0243 seconds\n",
      "feature 15 : gene 228  313 samples\n",
      "training error=0.3211978860833823 test error=0.3568075117370892\n",
      "training accuracy=0.6788021139166177 test accuracy=0.6431924882629108\n",
      "Elapsed time: 0.9374 seconds\n",
      "feature 16 : gene 20  323 samples\n",
      "training error=0.3258954785672343 test error=0.3544600938967136\n",
      "training accuracy=0.6741045214327657 test accuracy=0.6455399061032864\n",
      "Elapsed time: 0.9562 seconds\n",
      "feature 17 : gene 174  323 samples\n",
      "training error=0.3211978860833823 test error=0.3568075117370892\n",
      "training accuracy=0.6788021139166177 test accuracy=0.6431924882629108\n",
      "Elapsed time: 1.0223 seconds\n",
      "feature 18 : gene 22  323 samples\n",
      "training error=0.3253082795067528 test error=0.36384976525821594\n",
      "training accuracy=0.6746917204932472 test accuracy=0.636150234741784\n",
      "Elapsed time: 0.9231 seconds\n",
      "feature 19 : gene 49  323 samples\n",
      "training error=0.3247210804462713 test error=0.3591549295774648\n",
      "training accuracy=0.6752789195537288 test accuracy=0.6408450704225352\n",
      "Total run time: 19.0286 seconds\n"
     ]
    }
   ],
   "source": [
    "'''\n",
    "Parameters\n",
    "'''\n",
    "num_features = 20\n",
    "num_samples=100\n",
    "init_samples=200\n",
    "\n",
    "if __name__ == '__main__':\n",
    "\n",
    "    t=Timer()\n",
    "    t.start()\n",
    "    feature_selected, num_samples_list, samples_global, train_errors,test_errors,train_scores,test_scores,step_times= min_acquisition(\n",
    "       X_train_filtered.values,y_train,X_test_filtered.values,y_test,num_features=num_features,num_samples=num_samples, init_samples=init_samples)\n",
    "    elapsed_time=t.stop()"
   ]
  },
  {
   "cell_type": "code",
   "execution_count": 28,
   "id": "30f29504",
   "metadata": {},
   "outputs": [
    {
     "data": {
      "text/plain": [
       "[143,\n",
       " 16,\n",
       " 212,\n",
       " 102,\n",
       " 165,\n",
       " 110,\n",
       " 182,\n",
       " 18,\n",
       " 27,\n",
       " 43,\n",
       " 140,\n",
       " 29,\n",
       " 141,\n",
       " 6,\n",
       " 193,\n",
       " 228,\n",
       " 20,\n",
       " 174,\n",
       " 22,\n",
       " 49]"
      ]
     },
     "execution_count": 28,
     "metadata": {},
     "output_type": "execute_result"
    }
   ],
   "source": [
    "feature_selected"
   ]
  },
  {
   "cell_type": "code",
   "execution_count": 29,
   "id": "8fe4f7d1",
   "metadata": {},
   "outputs": [],
   "source": [
    "selected_feat_names = list(X_train_filtered.columns[feature_selected])"
   ]
  },
  {
   "cell_type": "code",
   "execution_count": 30,
   "id": "8146a43f",
   "metadata": {},
   "outputs": [
    {
     "data": {
      "text/plain": [
       "['D3_102',\n",
       " 'B1_1',\n",
       " 'E4_84',\n",
       " 'C4_0',\n",
       " 'E1_56',\n",
       " 'C5_45',\n",
       " 'E3_97',\n",
       " 'B1_16',\n",
       " 'B1_107',\n",
       " 'B4_97',\n",
       " 'D3_68',\n",
       " 'B2_81',\n",
       " 'D3_78',\n",
       " 'A4_43',\n",
       " 'E4_28',\n",
       " 'E4_113',\n",
       " 'B1_40',\n",
       " 'E2_52',\n",
       " 'B1_49',\n",
       " 'B4_116']"
      ]
     },
     "execution_count": 30,
     "metadata": {},
     "output_type": "execute_result"
    }
   ],
   "source": [
    "selected_feat_names"
   ]
  },
  {
   "cell_type": "code",
   "execution_count": 31,
   "id": "c069058f",
   "metadata": {},
   "outputs": [],
   "source": [
    "new_df = X_train_filtered.loc[:,selected_feat_names]"
   ]
  },
  {
   "cell_type": "code",
   "execution_count": 32,
   "id": "2fd4b1ff",
   "metadata": {},
   "outputs": [],
   "source": [
    "new_test=X_test_filtered.loc[:,selected_feat_names]"
   ]
  },
  {
   "cell_type": "code",
   "execution_count": 33,
   "id": "5ce4ac93",
   "metadata": {},
   "outputs": [],
   "source": [
    "new_df.to_csv('sequential_train_signaturizer.csv',index=False)\n",
    "new_test.to_csv('sequential_test_signaturizer.csv',index=False)"
   ]
  },
  {
   "cell_type": "code",
   "execution_count": 34,
   "id": "9c143776",
   "metadata": {},
   "outputs": [],
   "source": [
    "X_train_filtered=new_df\n",
    "X_test_filtered=new_test"
   ]
  },
  {
   "cell_type": "code",
   "execution_count": 35,
   "id": "4cdb254e",
   "metadata": {},
   "outputs": [
    {
     "data": {
      "text/plain": [
       "(1703, 20)"
      ]
     },
     "execution_count": 35,
     "metadata": {},
     "output_type": "execute_result"
    }
   ],
   "source": [
    "X_train_filtered.shape"
   ]
  },
  {
   "cell_type": "code",
   "execution_count": 36,
   "id": "8a7fccc9",
   "metadata": {},
   "outputs": [
    {
     "data": {
      "text/plain": [
       "(426, 20)"
      ]
     },
     "execution_count": 36,
     "metadata": {},
     "output_type": "execute_result"
    }
   ],
   "source": [
    "X_test_filtered.shape"
   ]
  },
  {
   "cell_type": "code",
   "execution_count": 37,
   "id": "19805b67",
   "metadata": {},
   "outputs": [],
   "source": [
    "from sklearn import datasets\n",
    "from sklearn.cluster import KMeans\n",
    "from sklearn.metrics import silhouette_score\n",
    "import matplotlib.pyplot as plt\n",
    "from matplotlib.colors import ListedColormap\n",
    "import numpy as np\n",
    "import matplotlib.pyplot as plt\n",
    "from sklearn.datasets import make_blobs\n",
    "from sklearn.cluster import KMeans\n",
    "from sklearn.manifold import TSNE\n",
    "from sklearn.metrics import adjusted_rand_score\n",
    "from sklearn.metrics.cluster import normalized_mutual_info_score"
   ]
  },
  {
   "cell_type": "code",
   "execution_count": 38,
   "id": "608284d4",
   "metadata": {},
   "outputs": [],
   "source": [
    "km = KMeans(n_clusters=2, random_state=42)\n",
    "#Fit the KMeans model\n",
    "km.fit_predict(X_train_filtered)\n",
    "y_pred = km.labels_"
   ]
  },
  {
   "cell_type": "code",
   "execution_count": 39,
   "id": "fac41c2c",
   "metadata": {},
   "outputs": [],
   "source": [
    "from sklearn.metrics import silhouette_score\n",
    "score = silhouette_score(X_train_filtered,y_train, metric='euclidean')\n",
    "ari = adjusted_rand_score(y_train, y_pred)\n",
    "nmi = normalized_mutual_info_score(y_train, y_pred)"
   ]
  },
  {
   "cell_type": "code",
   "execution_count": 40,
   "id": "284f7782",
   "metadata": {},
   "outputs": [],
   "source": [
    "data = pd.DataFrame({'Clustering_scores': ['silhouette_score', 'adjusted_rand_score', 'normalized_mutual_info_score'],\n",
    "        'Scores':[score,ari,nmi]})"
   ]
  },
  {
   "cell_type": "code",
   "execution_count": 41,
   "id": "643cdbdf",
   "metadata": {},
   "outputs": [
    {
     "data": {
      "text/html": [
       "<div>\n",
       "<style scoped>\n",
       "    .dataframe tbody tr th:only-of-type {\n",
       "        vertical-align: middle;\n",
       "    }\n",
       "\n",
       "    .dataframe tbody tr th {\n",
       "        vertical-align: top;\n",
       "    }\n",
       "\n",
       "    .dataframe thead th {\n",
       "        text-align: right;\n",
       "    }\n",
       "</style>\n",
       "<table border=\"1\" class=\"dataframe\">\n",
       "  <thead>\n",
       "    <tr style=\"text-align: right;\">\n",
       "      <th></th>\n",
       "      <th>Clustering_scores</th>\n",
       "      <th>Scores</th>\n",
       "    </tr>\n",
       "  </thead>\n",
       "  <tbody>\n",
       "    <tr>\n",
       "      <th>0</th>\n",
       "      <td>silhouette_score</td>\n",
       "      <td>0.025644</td>\n",
       "    </tr>\n",
       "    <tr>\n",
       "      <th>1</th>\n",
       "      <td>adjusted_rand_score</td>\n",
       "      <td>0.070184</td>\n",
       "    </tr>\n",
       "    <tr>\n",
       "      <th>2</th>\n",
       "      <td>normalized_mutual_info_score</td>\n",
       "      <td>0.055115</td>\n",
       "    </tr>\n",
       "  </tbody>\n",
       "</table>\n",
       "</div>"
      ],
      "text/plain": [
       "              Clustering_scores    Scores\n",
       "0              silhouette_score  0.025644\n",
       "1           adjusted_rand_score  0.070184\n",
       "2  normalized_mutual_info_score  0.055115"
      ]
     },
     "execution_count": 41,
     "metadata": {},
     "output_type": "execute_result"
    }
   ],
   "source": [
    "data"
   ]
  },
  {
   "cell_type": "code",
   "execution_count": 42,
   "id": "ff0bf3b4",
   "metadata": {},
   "outputs": [
    {
     "data": {
      "image/png": "[encoded data removed]",
      "text/plain": [
       "<Figure size 640x480 with 1 Axes>"
      ]
     },
     "metadata": {},
     "output_type": "display_data"
    }
   ],
   "source": [
    "# Use t-SNE to reduce dimensionality of data to 2 dimensions\n",
    "tsne = TSNE(n_components=2, perplexity=30, random_state=0)\n",
    "X_tsne = tsne.fit_transform(X_train_filtered)\n",
    "colors = ['blue', 'green']  # red for cluster 0, grey for cluster 1\n",
    "cmap = ListedColormap(colors)\n",
    "\n",
    "#plt.legend()\n",
    "\n",
    "# Plot t-SNE reduced data points colored by cluster label\n",
    "plt.scatter(X_tsne[:, 0], X_tsne[:, 1], c=y_train,cmap=cmap)\n",
    "plt.title('Sequential using signaturizer, score=0.025')\n",
    "plt.show()"
   ]
  },
  {
   "cell_type": "markdown",
   "id": "1fb0d440",
   "metadata": {},
   "source": [
    "## RFC"
   ]
  },
  {
   "cell_type": "code",
   "execution_count": 43,
   "id": "12c91ee6",
   "metadata": {},
   "outputs": [],
   "source": [
    "#define random forest classifier\n",
    "forest = RandomForestClassifier(n_jobs=-1, class_weight='balanced', max_depth=5)\n",
    "forest.fit(X_train_filtered,y_train)\n",
    "end=datetime.datetime.now()\n",
    "\n",
    "y_pred_train=forest.predict(X_train_filtered)\n",
    "y_pred_test=forest.predict(X_test_filtered)\n",
    "y_prediction_values_train=forest.predict_proba(X_train_filtered)\n",
    "y_prediction_values_test=forest.predict_proba(X_test_filtered)"
   ]
  },
  {
   "cell_type": "code",
   "execution_count": 44,
   "id": "58e57037",
   "metadata": {},
   "outputs": [
    {
     "name": "stdout",
     "output_type": "stream",
     "text": [
      "confusion matrix\n",
      " [[126  73]\n",
      " [ 72 155]]\n",
      "Classification Report:\n",
      "               precision    recall  f1-score   support\n",
      "\n",
      "           0     0.6364    0.6332    0.6348       199\n",
      "           1     0.6798    0.6828    0.6813       227\n",
      "\n",
      "    accuracy                         0.6596       426\n",
      "   macro avg     0.6581    0.6580    0.6580       426\n",
      "weighted avg     0.6595    0.6596    0.6596       426\n",
      "\n"
     ]
    }
   ],
   "source": [
    "rfc_acc_train=accuracy_score(y_train,y_pred_train)*100\n",
    "rfc_acc_test=accuracy_score(y_test,y_pred_test)*100\n",
    "rfc_mcc_train=matthews_corrcoef(y_train, y_pred_train)\n",
    "rfc_mcc_test=matthews_corrcoef(y_test, y_pred_test)\n",
    "rfc_f1_train=f1_score(y_train, y_pred_train, average='macro')\n",
    "rfc_f1_test=f1_score(y_test, y_pred_test, average='macro')\n",
    "rfc_prec_train=precision_score(y_train, y_pred_train)\n",
    "rfc_prec_test=precision_score(y_test, y_pred_test)\n",
    "rfc_recall_train=recall_score(y_train, y_pred_train)\n",
    "rfc_recall_test=recall_score(y_test, y_pred_test)\n",
    "kappa_train=sklearn.metrics.cohen_kappa_score(y_train,y_pred_train)\n",
    "rfc_kappa_train=kappa_train\n",
    "kappa_test=sklearn.metrics.cohen_kappa_score(y_test,y_pred_test)\n",
    "rfc_kappa_test=kappa_test\n",
    "\n",
    "rfc_auc_train=roc_auc_score(y_train,y_prediction_values_train[:, 1])\n",
    "rfc_auc_test=roc_auc_score(y_test,y_prediction_values_test[:, 1])\n",
    "\n",
    "print(\"confusion matrix\\n\",confusion_matrix(y_test,y_pred_test))\n",
    "print(\"Classification Report:\\n\",classification_report(y_test,y_pred_test,digits=4))"
   ]
  },
  {
   "cell_type": "code",
   "execution_count": 45,
   "id": "03cd520f",
   "metadata": {
    "scrolled": true
   },
   "outputs": [
    {
     "data": {
      "image/png": "[encoded data removed]",
      "text/plain": [
       "<Figure size 640x480 with 1 Axes>"
      ]
     },
     "metadata": {},
     "output_type": "display_data"
    }
   ],
   "source": [
    "#auc\n",
    "fpr, tpr, _ = roc_curve(y_test,y_prediction_values_test[:, 1])\n",
    "roc_auc = auc(fpr, tpr)\n",
    "auc_1=roc_auc\n",
    "\n",
    "#\n",
    "figcount=0\n",
    "Figureset=[]\n",
    "image=plt.figure(figcount)\n",
    "plt.plot(fpr, tpr, 'b', label = 'AUC = %0.2f' % roc_auc)\n",
    "plt.title(\"AUC/ROC\")\n",
    "plt.xlabel('False Positive Rate')\n",
    "plt.ylabel('True Positive Rate')\n",
    "plt.title(\"AUC/ROC\")\n",
    "plt.legend(loc=\"lower right\")\n",
    "figcount+=1\n",
    "Figureset.append(image)\n",
    "plt.show()"
   ]
  },
  {
   "cell_type": "markdown",
   "id": "137b5dd3",
   "metadata": {},
   "source": [
    "## KNN"
   ]
  },
  {
   "cell_type": "code",
   "execution_count": 46,
   "id": "ba092324",
   "metadata": {},
   "outputs": [],
   "source": [
    "from sklearn.neighbors import KNeighborsClassifier\n",
    "KNN=KNeighborsClassifier()\n",
    "KNN.fit(X_train_filtered,y_train)\n",
    "y_pred_test=KNN.predict(X_test_filtered)\n",
    "y_pred_train=KNN.predict(X_train_filtered)\n",
    "\n",
    "\n",
    "y_prediction_values_train=KNN.predict_proba(X_train_filtered)\n",
    "y_prediction_values_test=KNN.predict_proba(X_test_filtered)\n"
   ]
  },
  {
   "cell_type": "code",
   "execution_count": 47,
   "id": "3e98d5a2",
   "metadata": {},
   "outputs": [
    {
     "name": "stdout",
     "output_type": "stream",
     "text": [
      "confusion matrix\n",
      " [[129  70]\n",
      " [ 76 151]]\n",
      "Classification Report:\n",
      "               precision    recall  f1-score   support\n",
      "\n",
      "           0     0.6293    0.6482    0.6386       199\n",
      "           1     0.6833    0.6652    0.6741       227\n",
      "\n",
      "    accuracy                         0.6573       426\n",
      "   macro avg     0.6563    0.6567    0.6564       426\n",
      "weighted avg     0.6580    0.6573    0.6575       426\n",
      "\n"
     ]
    }
   ],
   "source": [
    "knn_acc_train=accuracy_score(y_train,y_pred_train)*100\n",
    "knn_acc_test=accuracy_score(y_test,y_pred_test)*100\n",
    "knn_mcc_train=matthews_corrcoef(y_train, y_pred_train)\n",
    "knn_mcc_test=matthews_corrcoef(y_test, y_pred_test)\n",
    "knn_f1_train=f1_score(y_train, y_pred_train, average='macro')\n",
    "knn_f1_test=f1_score(y_test, y_pred_test, average='macro')\n",
    "knn_prec_train=precision_score(y_train, y_pred_train)\n",
    "knn_prec_test=precision_score(y_test, y_pred_test)\n",
    "knn_recall_train=recall_score(y_train, y_pred_train)\n",
    "knn_recall_test=recall_score(y_test, y_pred_test)\n",
    "knn_kappa_train=sklearn.metrics.cohen_kappa_score(y_train,y_pred_train)\n",
    "\n",
    "knn_kappa_test=sklearn.metrics.cohen_kappa_score(y_test,y_pred_test)\n",
    "\n",
    "knn_auc_train=roc_auc_score(y_train,y_prediction_values_train[:, 1])\n",
    "knn_auc_test=roc_auc_score(y_test,y_prediction_values_test[:, 1])\n",
    "\n",
    "print(\"confusion matrix\\n\",confusion_matrix(y_test,y_pred_test))\n",
    "print(\"Classification Report:\\n\",classification_report(y_test,y_pred_test,digits=4))"
   ]
  },
  {
   "cell_type": "code",
   "execution_count": 48,
   "id": "a0c47a36",
   "metadata": {},
   "outputs": [
    {
     "data": {
      "image/png": "[encoded data removed]",
      "text/plain": [
       "<Figure size 640x480 with 1 Axes>"
      ]
     },
     "metadata": {},
     "output_type": "display_data"
    }
   ],
   "source": [
    "#auc\n",
    "fpr, tpr, _ = roc_curve(y_test,y_prediction_values_test[:, 1])\n",
    "roc_auc = auc(fpr, tpr)\n",
    "auc_2=roc_auc\n",
    "\n",
    "#\n",
    "figcount=0\n",
    "Figureset=[]\n",
    "image=plt.figure(figcount)\n",
    "plt.plot(fpr, tpr, 'b', label = 'AUC = %0.2f' % roc_auc)\n",
    "plt.title(\"AUC/ROC\")\n",
    "plt.xlabel('False Positive Rate')\n",
    "plt.ylabel('True Positive Rate')\n",
    "plt.title(\"AUC/ROC\")\n",
    "plt.legend(loc=\"lower right\")\n",
    "figcount+=1\n",
    "Figureset.append(image)\n",
    "plt.show()"
   ]
  },
  {
   "cell_type": "markdown",
   "id": "d050448c",
   "metadata": {},
   "source": [
    "# SVC"
   ]
  },
  {
   "cell_type": "code",
   "execution_count": 49,
   "id": "c161b476",
   "metadata": {},
   "outputs": [],
   "source": [
    "from sklearn.svm import SVC\n",
    "model=SVC(probability=True)\n",
    "model.fit(X_train_filtered,y_train)\n",
    "y_pred_test=model.predict(X_test_filtered)\n",
    "y_pred_train=model.predict(X_train_filtered)\n",
    "\n",
    "y_prediction_values_train=model.predict_proba(X_train_filtered)\n",
    "y_prediction_values_test=model.predict_proba(X_test_filtered)"
   ]
  },
  {
   "cell_type": "code",
   "execution_count": 50,
   "id": "80f8418b",
   "metadata": {},
   "outputs": [
    {
     "name": "stdout",
     "output_type": "stream",
     "text": [
      "confusion matrix\n",
      " [[119  80]\n",
      " [ 69 158]]\n",
      "Classification Report:\n",
      "               precision    recall  f1-score   support\n",
      "\n",
      "           0     0.6330    0.5980    0.6150       199\n",
      "           1     0.6639    0.6960    0.6796       227\n",
      "\n",
      "    accuracy                         0.6502       426\n",
      "   macro avg     0.6484    0.6470    0.6473       426\n",
      "weighted avg     0.6494    0.6502    0.6494       426\n",
      "\n"
     ]
    }
   ],
   "source": [
    "svc_acc_train=accuracy_score(y_train,y_pred_train)*100\n",
    "svc_acc_test=accuracy_score(y_test,y_pred_test)*100\n",
    "svc_mcc_train=matthews_corrcoef(y_train, y_pred_train)\n",
    "svc_mcc_test=matthews_corrcoef(y_test, y_pred_test)\n",
    "svc_f1_train=f1_score(y_train, y_pred_train, average='macro')\n",
    "svc_f1_test=f1_score(y_test, y_pred_test, average='macro')\n",
    "svc_prec_train=precision_score(y_train, y_pred_train)\n",
    "svc_prec_test=precision_score(y_test, y_pred_test)\n",
    "svc_recall_train=recall_score(y_train, y_pred_train)\n",
    "svc_recall_test=recall_score(y_test, y_pred_test)\n",
    "svc_kappa_train=sklearn.metrics.cohen_kappa_score(y_train,y_pred_train)\n",
    "\n",
    "svc_kappa_test=sklearn.metrics.cohen_kappa_score(y_test,y_pred_test)\n",
    "\n",
    "\n",
    "svc_auc_train=roc_auc_score(y_train,y_prediction_values_train[:, 1])\n",
    "svc_auc_test=roc_auc_score(y_test,y_prediction_values_test[:, 1])\n",
    "\n",
    "print(\"confusion matrix\\n\",confusion_matrix(y_test,y_pred_test))\n",
    "print(\"Classification Report:\\n\",classification_report(y_test,y_pred_test,digits=4))"
   ]
  },
  {
   "cell_type": "code",
   "execution_count": 51,
   "id": "148f0a1d",
   "metadata": {},
   "outputs": [
    {
     "data": {
      "image/png": "[encoded data removed]",
      "text/plain": [
       "<Figure size 640x480 with 1 Axes>"
      ]
     },
     "metadata": {},
     "output_type": "display_data"
    }
   ],
   "source": [
    "#auc\n",
    "fpr, tpr, _ = roc_curve(y_test,y_prediction_values_test[:, 1])\n",
    "roc_auc = auc(fpr, tpr)\n",
    "auc_3=roc_auc\n",
    "\n",
    "#\n",
    "figcount=0\n",
    "Figureset=[]\n",
    "image=plt.figure(figcount)\n",
    "plt.plot(fpr, tpr, 'b', label = 'AUC = %0.2f' % roc_auc)\n",
    "plt.title(\"AUC/ROC\")\n",
    "plt.xlabel('False Positive Rate')\n",
    "plt.ylabel('True Positive Rate')\n",
    "plt.title(\"AUC/ROC\")\n",
    "plt.legend(loc=\"lower right\")\n",
    "figcount+=1\n",
    "Figureset.append(image)\n",
    "plt.show()"
   ]
  },
  {
   "cell_type": "markdown",
   "id": "31030dd7",
   "metadata": {},
   "source": [
    "## Logistic Regression"
   ]
  },
  {
   "cell_type": "code",
   "execution_count": 52,
   "id": "ddfa0c0c",
   "metadata": {},
   "outputs": [],
   "source": [
    "from sklearn.linear_model import LogisticRegression\n",
    "lr=LogisticRegression()\n",
    "lr.fit(X_train_filtered,y_train)\n",
    "y_pred_test=lr.predict(X_test_filtered)\n",
    "y_pred_train=lr.predict(X_train_filtered)\n",
    "\n",
    "y_prediction_values_train=lr.predict_proba(X_train_filtered)\n",
    "y_prediction_values_test=lr.predict_proba(X_test_filtered)                                     "
   ]
  },
  {
   "cell_type": "code",
   "execution_count": 53,
   "id": "07acb54c",
   "metadata": {},
   "outputs": [
    {
     "name": "stdout",
     "output_type": "stream",
     "text": [
      "confusion matrix\n",
      " [[117  82]\n",
      " [ 73 154]]\n",
      "Classification Report:\n",
      "               precision    recall  f1-score   support\n",
      "\n",
      "           0     0.6158    0.5879    0.6015       199\n",
      "           1     0.6525    0.6784    0.6652       227\n",
      "\n",
      "    accuracy                         0.6362       426\n",
      "   macro avg     0.6342    0.6332    0.6334       426\n",
      "weighted avg     0.6354    0.6362    0.6355       426\n",
      "\n"
     ]
    }
   ],
   "source": [
    "lr_acc_train=accuracy_score(y_train,y_pred_train)*100\n",
    "lr_acc_test=accuracy_score(y_test,y_pred_test)*100\n",
    "lr_mcc_train=matthews_corrcoef(y_train, y_pred_train)\n",
    "lr_mcc_test=matthews_corrcoef(y_test, y_pred_test)\n",
    "lr_f1_train=f1_score(y_train, y_pred_train, average='macro')\n",
    "lr_f1_test=f1_score(y_test, y_pred_test, average='macro')\n",
    "lr_prec_train=precision_score(y_train, y_pred_train)\n",
    "lr_prec_test=precision_score(y_test, y_pred_test)\n",
    "lr_recall_train=recall_score(y_train, y_pred_train)\n",
    "lr_recall_test=recall_score(y_test, y_pred_test)\n",
    "lr_kappa_train=sklearn.metrics.cohen_kappa_score(y_train,y_pred_train)\n",
    "\n",
    "lr_kappa_test=sklearn.metrics.cohen_kappa_score(y_test,y_pred_test)\n",
    "\n",
    "lr_auc_train=roc_auc_score(y_train,y_prediction_values_train[:, 1])\n",
    "lr_auc_test=roc_auc_score(y_test,y_prediction_values_test[:, 1])\n",
    "\n",
    "print(\"confusion matrix\\n\",confusion_matrix(y_test,y_pred_test))\n",
    "print(\"Classification Report:\\n\",classification_report(y_test,y_pred_test,digits=4))"
   ]
  },
  {
   "cell_type": "code",
   "execution_count": 54,
   "id": "773143f2",
   "metadata": {},
   "outputs": [
    {
     "data": {
      "image/png": "[encoded data removed]",
      "text/plain": [
       "<Figure size 640x480 with 1 Axes>"
      ]
     },
     "metadata": {},
     "output_type": "display_data"
    }
   ],
   "source": [
    "#auc\n",
    "fpr, tpr, _ = roc_curve(y_test,y_prediction_values_test[:, 1])\n",
    "roc_auc = auc(fpr, tpr)\n",
    "auc_4=roc_auc\n",
    "\n",
    "#\n",
    "figcount=0\n",
    "Figureset=[]\n",
    "image=plt.figure(figcount)\n",
    "plt.plot(fpr, tpr, 'b', label = 'AUC = %0.2f' % roc_auc)\n",
    "plt.title(\"AUC/ROC\")\n",
    "plt.xlabel('False Positive Rate')\n",
    "plt.ylabel('True Positive Rate')\n",
    "plt.title(\"AUC/ROC\")\n",
    "plt.legend(loc=\"lower right\")\n",
    "figcount+=1\n",
    "Figureset.append(image)\n",
    "plt.show()"
   ]
  },
  {
   "cell_type": "markdown",
   "id": "9df14299",
   "metadata": {},
   "source": [
    "# XGB"
   ]
  },
  {
   "cell_type": "code",
   "execution_count": 55,
   "id": "b56884e6",
   "metadata": {},
   "outputs": [
    {
     "name": "stdout",
     "output_type": "stream",
     "text": [
      "[13:22:25] WARNING: ../src/learner.cc:767: \n",
      "Parameters: { \"silent\" } are not used.\n",
      "\n"
     ]
    }
   ],
   "source": [
    "from xgboost import XGBClassifier\n",
    "xgb = XGBClassifier(learning_rate=0.02, n_estimators=600, objective='binary:logistic',silent=True, nthread=1)\n",
    "xgb.fit(X_train_filtered, y_train)\n",
    "y_pred_train = xgb.predict(X_train_filtered)\n",
    "y_pred_test = xgb.predict(X_test_filtered)\n",
    "\n",
    "y_prediction_values_train=xgb.predict_proba(X_train_filtered)\n",
    "y_prediction_values_test=xgb.predict_proba(X_test_filtered)"
   ]
  },
  {
   "cell_type": "code",
   "execution_count": 56,
   "id": "085fc35b",
   "metadata": {},
   "outputs": [
    {
     "name": "stdout",
     "output_type": "stream",
     "text": [
      "confusion matrix\n",
      " [[115  84]\n",
      " [ 71 156]]\n",
      "Classification Report:\n",
      "               precision    recall  f1-score   support\n",
      "\n",
      "           0     0.6183    0.5779    0.5974       199\n",
      "           1     0.6500    0.6872    0.6681       227\n",
      "\n",
      "    accuracy                         0.6362       426\n",
      "   macro avg     0.6341    0.6326    0.6327       426\n",
      "weighted avg     0.6352    0.6362    0.6351       426\n",
      "\n"
     ]
    }
   ],
   "source": [
    "xgb_acc_train=accuracy_score(y_train,y_pred_train)*100\n",
    "xgb_acc_test=accuracy_score(y_test,y_pred_test)*100\n",
    "xgb_mcc_train=matthews_corrcoef(y_train, y_pred_train)\n",
    "xgb_mcc_test=matthews_corrcoef(y_test, y_pred_test)\n",
    "xgb_f1_train=f1_score(y_train, y_pred_train, average='macro')\n",
    "xgb_f1_test=f1_score(y_test, y_pred_test, average='macro')\n",
    "xgb_prec_train=precision_score(y_train, y_pred_train)\n",
    "xgb_prec_test=precision_score(y_test, y_pred_test)\n",
    "xgb_recall_train=recall_score(y_train, y_pred_train)\n",
    "xgb_recall_test=recall_score(y_test, y_pred_test)\n",
    "\n",
    "xgb_kappa_train=sklearn.metrics.cohen_kappa_score(y_train,y_pred_train)\n",
    "\n",
    "xgb_kappa_test=sklearn.metrics.cohen_kappa_score(y_test,y_pred_test)\n",
    "\n",
    "\n",
    "\n",
    "xgb_auc_train=roc_auc_score(y_train,y_prediction_values_train[:, 1])\n",
    "xgb_auc_test=roc_auc_score(y_test,y_prediction_values_test[:, 1])\n",
    "print(\"confusion matrix\\n\",confusion_matrix(y_test,y_pred_test))\n",
    "print(\"Classification Report:\\n\",classification_report(y_test,y_pred_test,digits=4))"
   ]
  },
  {
   "cell_type": "code",
   "execution_count": 57,
   "id": "6c29f537",
   "metadata": {},
   "outputs": [
    {
     "data": {
      "image/png": "[encoded data removed]",
      "text/plain": [
       "<Figure size 640x480 with 1 Axes>"
      ]
     },
     "metadata": {},
     "output_type": "display_data"
    }
   ],
   "source": [
    "#auc\n",
    "fpr, tpr, _ = roc_curve(y_test,y_prediction_values_test[:, 1])\n",
    "roc_auc = auc(fpr, tpr)\n",
    "auc_5=roc_auc\n",
    "\n",
    "#\n",
    "figcount=0\n",
    "Figureset=[]\n",
    "image=plt.figure(figcount)\n",
    "plt.plot(fpr, tpr, 'b', label = 'AUC = %0.2f' % roc_auc)\n",
    "plt.title(\"AUC/ROC\")\n",
    "plt.xlabel('False Positive Rate')\n",
    "plt.ylabel('True Positive Rate')\n",
    "plt.title(\"AUC/ROC\")\n",
    "plt.legend(loc=\"lower right\")\n",
    "figcount+=1\n",
    "Figureset.append(image)\n",
    "plt.show()"
   ]
  },
  {
   "cell_type": "markdown",
   "id": "38bb0c0a",
   "metadata": {},
   "source": [
    "## Gaussian NB"
   ]
  },
  {
   "cell_type": "code",
   "execution_count": 58,
   "id": "81feedda",
   "metadata": {},
   "outputs": [],
   "source": [
    "from sklearn.naive_bayes import GaussianNB\n",
    "clf = GaussianNB()\n",
    "clf.fit(X_train_filtered, y_train)\n",
    "\n",
    "y_pred_train = clf.predict(X_train_filtered)\n",
    "y_pred_test = clf.predict(X_test_filtered)\n",
    "y_prediction_values_train=clf.predict_proba(X_train_filtered)\n",
    "y_prediction_values_test=clf.predict_proba(X_test_filtered)"
   ]
  },
  {
   "cell_type": "code",
   "execution_count": 59,
   "id": "307db28e",
   "metadata": {},
   "outputs": [
    {
     "name": "stdout",
     "output_type": "stream",
     "text": [
      "confusion matrix\n",
      " [[106  93]\n",
      " [ 64 163]]\n",
      "Classification Report:\n",
      "               precision    recall  f1-score   support\n",
      "\n",
      "           0     0.6235    0.5327    0.5745       199\n",
      "           1     0.6367    0.7181    0.6749       227\n",
      "\n",
      "    accuracy                         0.6315       426\n",
      "   macro avg     0.6301    0.6254    0.6247       426\n",
      "weighted avg     0.6306    0.6315    0.6280       426\n",
      "\n"
     ]
    }
   ],
   "source": [
    "clf_acc_train=accuracy_score(y_train,y_pred_train)*100\n",
    "clf_acc_test=accuracy_score(y_test,y_pred_test)*100\n",
    "clf_mcc_train=matthews_corrcoef(y_train, y_pred_train)\n",
    "clf_mcc_test=matthews_corrcoef(y_test, y_pred_test)\n",
    "clf_f1_train=f1_score(y_train, y_pred_train, average='macro')\n",
    "clf_f1_test=f1_score(y_test, y_pred_test, average='macro')\n",
    "clf_prec_train=precision_score(y_train, y_pred_train)\n",
    "clf_prec_test=precision_score(y_test, y_pred_test)\n",
    "clf_recall_train=recall_score(y_train, y_pred_train)\n",
    "clf_recall_test=recall_score(y_test, y_pred_test)\n",
    "clf_kappa_train=sklearn.metrics.cohen_kappa_score(y_train,y_pred_train)\n",
    "\n",
    "clf_kappa_test=sklearn.metrics.cohen_kappa_score(y_test,y_pred_test)\n",
    "\n",
    "clf_auc_train=roc_auc_score(y_train,y_prediction_values_train[:, 1])\n",
    "clf_auc_test=roc_auc_score(y_test,y_prediction_values_test[:, 1])\n",
    "\n",
    "print(\"confusion matrix\\n\",confusion_matrix(y_test,y_pred_test))\n",
    "print(\"Classification Report:\\n\",classification_report(y_test,y_pred_test,digits=4))"
   ]
  },
  {
   "cell_type": "code",
   "execution_count": 60,
   "id": "9959460c",
   "metadata": {},
   "outputs": [
    {
     "data": {
      "image/png": "[encoded data removed]",
      "text/plain": [
       "<Figure size 640x480 with 1 Axes>"
      ]
     },
     "metadata": {},
     "output_type": "display_data"
    }
   ],
   "source": [
    "#auc\n",
    "fpr, tpr, _ = roc_curve(y_test,y_prediction_values_test[:, 1])\n",
    "roc_auc = auc(fpr, tpr)\n",
    "auc_6=roc_auc\n",
    "\n",
    "#\n",
    "figcount=0\n",
    "Figureset=[]\n",
    "image=plt.figure(figcount)\n",
    "plt.plot(fpr, tpr, 'b', label = 'AUC = %0.2f' % roc_auc)\n",
    "plt.title(\"AUC/ROC\")\n",
    "plt.xlabel('False Positive Rate')\n",
    "plt.ylabel('True Positive Rate')\n",
    "plt.title(\"AUC/ROC\")\n",
    "plt.legend(loc=\"lower right\")\n",
    "figcount+=1\n",
    "Figureset.append(image)\n",
    "plt.show()"
   ]
  },
  {
   "cell_type": "markdown",
   "id": "72bd5a44",
   "metadata": {},
   "source": [
    "## MLP"
   ]
  },
  {
   "cell_type": "code",
   "execution_count": 61,
   "id": "824efea7",
   "metadata": {},
   "outputs": [],
   "source": [
    "from sklearn.neural_network import MLPClassifier\n",
    "mlp = MLPClassifier(hidden_layer_sizes=(100,), max_iter=1000)\n",
    "mlp.fit(X_train_filtered, y_train)\n",
    "\n",
    "y_pred_train = mlp.predict(X_train_filtered)\n",
    "y_pred_test = mlp.predict(X_test_filtered)\n",
    "y_prediction_values_train=mlp.predict_proba(X_train_filtered)\n",
    "y_prediction_values_test=mlp.predict_proba(X_test_filtered)"
   ]
  },
  {
   "cell_type": "code",
   "execution_count": 62,
   "id": "82052571",
   "metadata": {},
   "outputs": [
    {
     "name": "stdout",
     "output_type": "stream",
     "text": [
      "confusion matrix\n",
      " [[131  68]\n",
      " [ 91 136]]\n",
      "Classification Report:\n",
      "               precision    recall  f1-score   support\n",
      "\n",
      "           0     0.5901    0.6583    0.6223       199\n",
      "           1     0.6667    0.5991    0.6311       227\n",
      "\n",
      "    accuracy                         0.6268       426\n",
      "   macro avg     0.6284    0.6287    0.6267       426\n",
      "weighted avg     0.6309    0.6268    0.6270       426\n",
      "\n"
     ]
    }
   ],
   "source": [
    "mlp_acc_train=accuracy_score(y_train,y_pred_train)*100\n",
    "mlp_acc_test=accuracy_score(y_test,y_pred_test)*100\n",
    "mlp_mcc_train=matthews_corrcoef(y_train, y_pred_train)\n",
    "mlp_mcc_test=matthews_corrcoef(y_test, y_pred_test)\n",
    "mlp_f1_train=f1_score(y_train, y_pred_train, average='macro')\n",
    "mlp_f1_test=f1_score(y_test, y_pred_test, average='macro')\n",
    "mlp_prec_train=precision_score(y_train, y_pred_train)\n",
    "mlp_prec_test=precision_score(y_test, y_pred_test)\n",
    "mlp_recall_train=recall_score(y_train, y_pred_train)\n",
    "mlp_recall_test=recall_score(y_test, y_pred_test)\n",
    "\n",
    "mlp_kappa_train=sklearn.metrics.cohen_kappa_score(y_train,y_pred_train)\n",
    "\n",
    "mlp_kappa_test=sklearn.metrics.cohen_kappa_score(y_test,y_pred_test)\n",
    "\n",
    "\n",
    "mlp_auc_train=roc_auc_score(y_train,y_prediction_values_train[:, 1])\n",
    "mlp_auc_test=roc_auc_score(y_test,y_prediction_values_test[:, 1])\n",
    "print(\"confusion matrix\\n\",confusion_matrix(y_test,y_pred_test))\n",
    "print(\"Classification Report:\\n\",classification_report(y_test,y_pred_test,digits=4))"
   ]
  },
  {
   "cell_type": "code",
   "execution_count": 63,
   "id": "44cd7257",
   "metadata": {},
   "outputs": [
    {
     "data": {
      "image/png": "[encoded data removed]",
      "text/plain": [
       "<Figure size 640x480 with 1 Axes>"
      ]
     },
     "metadata": {},
     "output_type": "display_data"
    }
   ],
   "source": [
    "#auc\n",
    "fpr, tpr, _ = roc_curve(y_test,y_prediction_values_test[:, 1])\n",
    "roc_auc = auc(fpr, tpr)\n",
    "auc_7=roc_auc\n",
    "\n",
    "#\n",
    "figcount=0\n",
    "Figureset=[]\n",
    "image=plt.figure(figcount)\n",
    "plt.plot(fpr, tpr, 'b', label = 'AUC = %0.2f' % roc_auc)\n",
    "plt.title(\"AUC/ROC\")\n",
    "plt.xlabel('False Positive Rate')\n",
    "plt.ylabel('True Positive Rate')\n",
    "plt.title(\"AUC/ROC\")\n",
    "plt.legend(loc=\"lower right\")\n",
    "figcount+=1\n",
    "Figureset.append(image)\n",
    "plt.show()"
   ]
  },
  {
   "cell_type": "markdown",
   "id": "769e5d9c",
   "metadata": {},
   "source": [
    "## Extratree classifier"
   ]
  },
  {
   "cell_type": "code",
   "execution_count": 64,
   "id": "7e00b6c5",
   "metadata": {},
   "outputs": [],
   "source": [
    "from sklearn.ensemble import ExtraTreesClassifier\n",
    "etc=ExtraTreesClassifier(n_estimators=100, max_depth=None, min_samples_split=2, random_state=42)\n",
    "etc.fit(X_train_filtered, y_train)\n",
    "\n",
    "\n",
    "y_pred_train = etc.predict(X_train_filtered)\n",
    "y_pred_test = etc.predict(X_test_filtered)\n",
    "y_prediction_values_train=etc.predict_proba(X_train_filtered)\n",
    "y_prediction_values_test=etc.predict_proba(X_test_filtered)"
   ]
  },
  {
   "cell_type": "code",
   "execution_count": 65,
   "id": "58bf8105",
   "metadata": {},
   "outputs": [
    {
     "name": "stdout",
     "output_type": "stream",
     "text": [
      "confusion matrix\n",
      " [[124  75]\n",
      " [ 70 157]]\n",
      "Classification Report:\n",
      "               precision    recall  f1-score   support\n",
      "\n",
      "           0     0.6392    0.6231    0.6310       199\n",
      "           1     0.6767    0.6916    0.6841       227\n",
      "\n",
      "    accuracy                         0.6596       426\n",
      "   macro avg     0.6579    0.6574    0.6576       426\n",
      "weighted avg     0.6592    0.6596    0.6593       426\n",
      "\n"
     ]
    }
   ],
   "source": [
    "etc_acc_train=accuracy_score(y_train,y_pred_train)*100\n",
    "etc_acc_test=accuracy_score(y_test,y_pred_test)*100\n",
    "etc_mcc_train=matthews_corrcoef(y_train, y_pred_train)\n",
    "etc_mcc_test=matthews_corrcoef(y_test, y_pred_test)\n",
    "etc_f1_train=f1_score(y_train, y_pred_train, average='macro')\n",
    "etc_f1_test=f1_score(y_test, y_pred_test, average='macro')\n",
    "etc_prec_train=precision_score(y_train, y_pred_train)\n",
    "etc_prec_test=precision_score(y_test, y_pred_test)\n",
    "etc_recall_train=recall_score(y_train, y_pred_train)\n",
    "etc_recall_test=recall_score(y_test, y_pred_test)\n",
    "\n",
    "etc_kappa_train=sklearn.metrics.cohen_kappa_score(y_train,y_pred_train)\n",
    "\n",
    "etc_kappa_test=sklearn.metrics.cohen_kappa_score(y_test,y_pred_test)\n",
    "\n",
    "etc_auc_train=roc_auc_score(y_train,y_prediction_values_train[:, 1])\n",
    "etc_auc_test=roc_auc_score(y_test,y_prediction_values_test[:, 1])\n",
    "\n",
    "\n",
    "print(\"confusion matrix\\n\",confusion_matrix(y_test,y_pred_test))\n",
    "print(\"Classification Report:\\n\",classification_report(y_test,y_pred_test,digits=4))"
   ]
  },
  {
   "cell_type": "code",
   "execution_count": 66,
   "id": "8063b42a",
   "metadata": {},
   "outputs": [
    {
     "data": {
      "image/png": "[encoded data removed]",
      "text/plain": [
       "<Figure size 640x480 with 1 Axes>"
      ]
     },
     "metadata": {},
     "output_type": "display_data"
    }
   ],
   "source": [
    "#auc\n",
    "fpr, tpr, _ = roc_curve(y_test,y_prediction_values_test[:, 1])\n",
    "roc_auc = auc(fpr, tpr)\n",
    "auc_8=roc_auc\n",
    "\n",
    "#\n",
    "figcount=0\n",
    "Figureset=[]\n",
    "image=plt.figure(figcount)\n",
    "plt.plot(fpr, tpr, 'b', label = 'AUC = %0.2f' % roc_auc)\n",
    "plt.title(\"AUC/ROC\")\n",
    "plt.xlabel('False Positive Rate')\n",
    "plt.ylabel('True Positive Rate')\n",
    "plt.title(\"AUC/ROC\")\n",
    "plt.legend(loc=\"lower right\")\n",
    "figcount+=1\n",
    "Figureset.append(image)\n",
    "plt.show()"
   ]
  },
  {
   "cell_type": "markdown",
   "id": "b8afe666",
   "metadata": {},
   "source": [
    "## Decision Tree classifier"
   ]
  },
  {
   "cell_type": "code",
   "execution_count": 67,
   "id": "c4d11400",
   "metadata": {},
   "outputs": [],
   "source": [
    "## Decision Tree classifier\n",
    "\n",
    "from sklearn.tree import DecisionTreeClassifier\n",
    "dtc= DecisionTreeClassifier(criterion='gini',max_depth=5,min_samples_split=2,min_samples_leaf=1,random_state=42)\n",
    "dtc.fit(X_train_filtered, y_train)\n",
    "\n",
    "\n",
    "y_pred_train = dtc.predict(X_train_filtered)\n",
    "y_pred_test = dtc.predict(X_test_filtered)\n",
    "\n",
    "y_prediction_values_train=dtc.predict_proba(X_train_filtered)\n",
    "y_prediction_values_test=dtc.predict_proba(X_test_filtered)                           "
   ]
  },
  {
   "cell_type": "code",
   "execution_count": 68,
   "id": "5ce3b927",
   "metadata": {},
   "outputs": [
    {
     "name": "stdout",
     "output_type": "stream",
     "text": [
      "confusion matrix\n",
      " [[ 86 113]\n",
      " [ 68 159]]\n",
      "Classification Report:\n",
      "               precision    recall  f1-score   support\n",
      "\n",
      "           0     0.5584    0.4322    0.4873       199\n",
      "           1     0.5846    0.7004    0.6373       227\n",
      "\n",
      "    accuracy                         0.5751       426\n",
      "   macro avg     0.5715    0.5663    0.5623       426\n",
      "weighted avg     0.5724    0.5751    0.5672       426\n",
      "\n"
     ]
    }
   ],
   "source": [
    "dtc_acc_train=accuracy_score(y_train,y_pred_train)*100\n",
    "dtc_acc_test=accuracy_score(y_test,y_pred_test)*100\n",
    "dtc_mcc_train=matthews_corrcoef(y_train, y_pred_train)\n",
    "dtc_mcc_test=matthews_corrcoef(y_test, y_pred_test)\n",
    "dtc_f1_train=f1_score(y_train, y_pred_train, average='macro')\n",
    "dtc_f1_test=f1_score(y_test, y_pred_test, average='macro')\n",
    "dtc_prec_train=precision_score(y_train, y_pred_train)\n",
    "dtc_prec_test=precision_score(y_test, y_pred_test)\n",
    "dtc_recall_train=recall_score(y_train, y_pred_train)\n",
    "dtc_recall_test=recall_score(y_test, y_pred_test)\n",
    "\n",
    "dtc_kappa_train=sklearn.metrics.cohen_kappa_score(y_train,y_pred_train)\n",
    "\n",
    "dtc_kappa_test=sklearn.metrics.cohen_kappa_score(y_test,y_pred_test)\n",
    "\n",
    "dtc_auc_train=roc_auc_score(y_train,y_prediction_values_train[:, 1])\n",
    "dtc_auc_test=roc_auc_score(y_test,y_prediction_values_test[:, 1])\n",
    "print(\"confusion matrix\\n\",confusion_matrix(y_test,y_pred_test))\n",
    "print(\"Classification Report:\\n\",classification_report(y_test,y_pred_test,digits=4))"
   ]
  },
  {
   "cell_type": "code",
   "execution_count": 69,
   "id": "30caaaec",
   "metadata": {},
   "outputs": [
    {
     "data": {
      "image/png": "[encoded data removed]",
      "text/plain": [
       "<Figure size 640x480 with 1 Axes>"
      ]
     },
     "metadata": {},
     "output_type": "display_data"
    }
   ],
   "source": [
    "#auc\n",
    "fpr, tpr, _ = roc_curve(y_test,y_prediction_values_test[:, 1])\n",
    "roc_auc = auc(fpr, tpr)\n",
    "auc_9=roc_auc\n",
    "\n",
    "#\n",
    "figcount=0\n",
    "Figureset=[]\n",
    "image=plt.figure(figcount)\n",
    "plt.plot(fpr, tpr, 'b', label = 'AUC = %0.2f' % roc_auc)\n",
    "plt.title(\"AUC/ROC\")\n",
    "plt.xlabel('False Positive Rate')\n",
    "plt.ylabel('True Positive Rate')\n",
    "plt.title(\"AUC/ROC\")\n",
    "plt.legend(loc=\"lower right\")\n",
    "figcount+=1\n",
    "Figureset.append(image)\n",
    "plt.show()"
   ]
  },
  {
   "cell_type": "markdown",
   "id": "daa30fbc",
   "metadata": {},
   "source": [
    "## LDA"
   ]
  },
  {
   "cell_type": "code",
   "execution_count": 70,
   "id": "9e1ae8df",
   "metadata": {},
   "outputs": [],
   "source": [
    "from sklearn.discriminant_analysis import LinearDiscriminantAnalysis\n",
    "lda = LinearDiscriminantAnalysis()\n",
    "lda.fit(X_train_filtered, y_train)\n",
    "\n",
    "\n",
    "y_pred_train =lda.predict(X_train_filtered)\n",
    "y_pred_test = lda.predict(X_test_filtered)\n",
    "\n",
    "y_prediction_values_train=lda.predict_proba(X_train_filtered)\n",
    "y_prediction_values_test=lda.predict_proba(X_test_filtered)\n",
    "                                                        "
   ]
  },
  {
   "cell_type": "code",
   "execution_count": 71,
   "id": "d864fdf3",
   "metadata": {},
   "outputs": [
    {
     "name": "stdout",
     "output_type": "stream",
     "text": [
      "confusion matrix\n",
      " [[116  83]\n",
      " [ 70 157]]\n",
      "Classification Report:\n",
      "               precision    recall  f1-score   support\n",
      "\n",
      "           0     0.6237    0.5829    0.6026       199\n",
      "           1     0.6542    0.6916    0.6724       227\n",
      "\n",
      "    accuracy                         0.6408       426\n",
      "   macro avg     0.6389    0.6373    0.6375       426\n",
      "weighted avg     0.6399    0.6408    0.6398       426\n",
      "\n"
     ]
    }
   ],
   "source": [
    "lda_acc_train=accuracy_score(y_train,y_pred_train)*100\n",
    "lda_acc_test=accuracy_score(y_test,y_pred_test)*100\n",
    "lda_mcc_train=matthews_corrcoef(y_train, y_pred_train)\n",
    "lda_mcc_test=matthews_corrcoef(y_test, y_pred_test)\n",
    "lda_f1_train=f1_score(y_train, y_pred_train, average='macro')\n",
    "lda_f1_test=f1_score(y_test, y_pred_test, average='macro')\n",
    "lda_prec_train=precision_score(y_train, y_pred_train)\n",
    "lda_prec_test=precision_score(y_test, y_pred_test)\n",
    "lda_recall_train=recall_score(y_train, y_pred_train)\n",
    "lda_recall_test=recall_score(y_test, y_pred_test)\n",
    "\n",
    "lda_kappa_train=sklearn.metrics.cohen_kappa_score(y_train,y_pred_train)\n",
    "\n",
    "lda_kappa_test=sklearn.metrics.cohen_kappa_score(y_test,y_pred_test)\n",
    "\n",
    "\n",
    "lda_auc_train=roc_auc_score(y_train,y_prediction_values_train[:, 1])\n",
    "lda_auc_test=roc_auc_score(y_test,y_prediction_values_test[:, 1])\n",
    "print(\"confusion matrix\\n\",confusion_matrix(y_test,y_pred_test))\n",
    "print(\"Classification Report:\\n\",classification_report(y_test,y_pred_test,digits=4))"
   ]
  },
  {
   "cell_type": "code",
   "execution_count": 72,
   "id": "b01e9ff9",
   "metadata": {},
   "outputs": [
    {
     "data": {
      "image/png": "[encoded data removed]",
      "text/plain": [
       "<Figure size 640x480 with 1 Axes>"
      ]
     },
     "metadata": {},
     "output_type": "display_data"
    }
   ],
   "source": [
    "#auc\n",
    "fpr, tpr, _ = roc_curve(y_test,y_prediction_values_test[:, 1])\n",
    "roc_auc = auc(fpr, tpr)\n",
    "auc_10=roc_auc\n",
    "\n",
    "#\n",
    "figcount=0\n",
    "Figureset=[]\n",
    "image=plt.figure(figcount)\n",
    "plt.plot(fpr, tpr, 'b', label = 'AUC = %0.2f' % roc_auc)\n",
    "plt.title(\"AUC/ROC\")\n",
    "plt.xlabel('False Positive Rate')\n",
    "plt.ylabel('True Positive Rate')\n",
    "plt.title(\"AUC/ROC\")\n",
    "plt.legend(loc=\"lower right\")\n",
    "figcount+=1\n",
    "Figureset.append(image)\n",
    "plt.show()"
   ]
  },
  {
   "cell_type": "code",
   "execution_count": 73,
   "id": "8975d0fe",
   "metadata": {},
   "outputs": [],
   "source": [
    "data_train = {'Model': ['RFC','KNN','SVC','LR','XGB','GNB','MLP','ETC','DTC','LDA'],\n",
    "         'Accuracy_train':[rfc_acc_train,knn_acc_train,svc_acc_train,lr_acc_train,xgb_acc_train,clf_acc_train,mlp_acc_train,etc_acc_train,dtc_acc_train,lda_acc_train],\n",
    "       'MCC Score_train':[rfc_mcc_train,knn_mcc_train,svc_mcc_train,lr_mcc_train,xgb_mcc_train,clf_mcc_train,mlp_mcc_train,etc_mcc_train,dtc_mcc_train,lda_mcc_train],\n",
    "       'F1 Score_train':[rfc_f1_train,knn_f1_train,svc_f1_train,lr_f1_train,xgb_f1_train,clf_f1_train,mlp_f1_train,etc_f1_train,dtc_f1_train,lda_f1_train],\n",
    "       'Precision_train':[rfc_prec_train,knn_prec_train,svc_prec_train,lr_prec_train,xgb_prec_train,clf_prec_train,mlp_prec_train,etc_prec_train,dtc_prec_train,lda_prec_train],\n",
    "       'Recall_train':[rfc_recall_train,knn_recall_train,svc_recall_train,lr_recall_train,xgb_recall_train,clf_recall_train,mlp_recall_train,etc_recall_train,dtc_recall_train,lda_recall_train],\n",
    "         'kappa Score_train':[rfc_kappa_train,knn_kappa_train,svc_kappa_train,lr_kappa_train,xgb_kappa_train,clf_kappa_train,mlp_kappa_train,etc_kappa_train,dtc_kappa_train,lda_kappa_train],\n",
    "       'AUC/ROC_train':[rfc_auc_train,knn_auc_train,svc_auc_train,lr_auc_train,xgb_auc_train,clf_auc_train,mlp_auc_train,etc_auc_train,dtc_auc_train,lda_auc_train]}\n",
    "df_train = pd.DataFrame(data_train)"
   ]
  },
  {
   "cell_type": "code",
   "execution_count": 74,
   "id": "afd640eb",
   "metadata": {},
   "outputs": [],
   "source": [
    "data_test = {'Model': ['RFC','KNN','SVC','LR','XGB','GNB','MLP','ETC','DTC','LDA'],\n",
    "             'Accuracy_test': [rfc_acc_test,knn_acc_test,svc_acc_test,lr_acc_test,xgb_acc_test,clf_acc_test,mlp_acc_test,etc_acc_test,dtc_acc_test,lda_acc_test],\n",
    "             'MCC Score_test':[rfc_mcc_test,knn_mcc_test,svc_mcc_test,lr_mcc_test,xgb_mcc_test,clf_mcc_test,mlp_mcc_test,etc_mcc_test,dtc_mcc_test,lda_mcc_test],\n",
    "              'F1 Score_test':[rfc_f1_test,knn_f1_test,svc_f1_test,lr_f1_test,xgb_f1_test,clf_f1_test,mlp_f1_test,etc_f1_test,dtc_f1_test,lda_f1_test],\n",
    "               'Precision_test':[rfc_prec_test,knn_prec_test,svc_prec_test,lr_prec_test,xgb_prec_test,clf_prec_test,mlp_prec_test,etc_prec_test,dtc_prec_test,lda_prec_test],\n",
    "             'Recall_test':[rfc_recall_test,knn_recall_test,svc_recall_test,lr_recall_test,xgb_recall_test,clf_recall_test,mlp_recall_test,etc_recall_test,dtc_recall_test,lda_recall_test],\n",
    "              'kappa Score_test':[rfc_kappa_test,knn_kappa_test,svc_kappa_test,lr_kappa_test,xgb_kappa_test,clf_kappa_test,mlp_kappa_test,etc_kappa_test,dtc_kappa_test,lda_kappa_test],\n",
    "               'AUC/ROC_test':[rfc_auc_test,knn_auc_test,svc_auc_test,lr_auc_test,xgb_auc_test,clf_auc_test,mlp_auc_test,etc_auc_test,dtc_auc_test,lda_auc_test]}\n",
    "             \n",
    "df_test = pd.DataFrame(data_test)             "
   ]
  },
  {
   "cell_type": "code",
   "execution_count": 75,
   "id": "a0fefeb3",
   "metadata": {},
   "outputs": [
    {
     "data": {
      "text/html": [
       "<div>\n",
       "<style scoped>\n",
       "    .dataframe tbody tr th:only-of-type {\n",
       "        vertical-align: middle;\n",
       "    }\n",
       "\n",
       "    .dataframe tbody tr th {\n",
       "        vertical-align: top;\n",
       "    }\n",
       "\n",
       "    .dataframe thead th {\n",
       "        text-align: right;\n",
       "    }\n",
       "</style>\n",
       "<table border=\"1\" class=\"dataframe\">\n",
       "  <thead>\n",
       "    <tr style=\"text-align: right;\">\n",
       "      <th></th>\n",
       "      <th>Model</th>\n",
       "      <th>Accuracy_train</th>\n",
       "      <th>MCC Score_train</th>\n",
       "      <th>F1 Score_train</th>\n",
       "      <th>Precision_train</th>\n",
       "      <th>Recall_train</th>\n",
       "      <th>kappa Score_train</th>\n",
       "      <th>AUC/ROC_train</th>\n",
       "    </tr>\n",
       "  </thead>\n",
       "  <tbody>\n",
       "    <tr>\n",
       "      <th>0</th>\n",
       "      <td>RFC</td>\n",
       "      <td>78.038755</td>\n",
       "      <td>0.560679</td>\n",
       "      <td>0.779550</td>\n",
       "      <td>0.770140</td>\n",
       "      <td>0.817560</td>\n",
       "      <td>0.559544</td>\n",
       "      <td>0.883384</td>\n",
       "    </tr>\n",
       "    <tr>\n",
       "      <th>1</th>\n",
       "      <td>KNN</td>\n",
       "      <td>78.097475</td>\n",
       "      <td>0.561886</td>\n",
       "      <td>0.780123</td>\n",
       "      <td>0.770386</td>\n",
       "      <td>0.818700</td>\n",
       "      <td>0.560706</td>\n",
       "      <td>0.865359</td>\n",
       "    </tr>\n",
       "    <tr>\n",
       "      <th>2</th>\n",
       "      <td>SVC</td>\n",
       "      <td>78.273635</td>\n",
       "      <td>0.566578</td>\n",
       "      <td>0.781362</td>\n",
       "      <td>0.763788</td>\n",
       "      <td>0.836944</td>\n",
       "      <td>0.563793</td>\n",
       "      <td>0.863116</td>\n",
       "    </tr>\n",
       "    <tr>\n",
       "      <th>3</th>\n",
       "      <td>LR</td>\n",
       "      <td>67.938931</td>\n",
       "      <td>0.357755</td>\n",
       "      <td>0.677971</td>\n",
       "      <td>0.676251</td>\n",
       "      <td>0.724059</td>\n",
       "      <td>0.356799</td>\n",
       "      <td>0.755851</td>\n",
       "    </tr>\n",
       "    <tr>\n",
       "      <th>4</th>\n",
       "      <td>XGB</td>\n",
       "      <td>99.295361</td>\n",
       "      <td>0.985907</td>\n",
       "      <td>0.992948</td>\n",
       "      <td>0.995418</td>\n",
       "      <td>0.990878</td>\n",
       "      <td>0.985897</td>\n",
       "      <td>0.999642</td>\n",
       "    </tr>\n",
       "    <tr>\n",
       "      <th>5</th>\n",
       "      <td>GNB</td>\n",
       "      <td>67.234292</td>\n",
       "      <td>0.345093</td>\n",
       "      <td>0.668683</td>\n",
       "      <td>0.658706</td>\n",
       "      <td>0.754846</td>\n",
       "      <td>0.341129</td>\n",
       "      <td>0.733791</td>\n",
       "    </tr>\n",
       "    <tr>\n",
       "      <th>6</th>\n",
       "      <td>MLP</td>\n",
       "      <td>80.857311</td>\n",
       "      <td>0.618220</td>\n",
       "      <td>0.808570</td>\n",
       "      <td>0.830732</td>\n",
       "      <td>0.789054</td>\n",
       "      <td>0.617395</td>\n",
       "      <td>0.892763</td>\n",
       "    </tr>\n",
       "    <tr>\n",
       "      <th>7</th>\n",
       "      <td>ETC</td>\n",
       "      <td>99.706400</td>\n",
       "      <td>0.994124</td>\n",
       "      <td>0.997061</td>\n",
       "      <td>0.997717</td>\n",
       "      <td>0.996579</td>\n",
       "      <td>0.994123</td>\n",
       "      <td>0.999979</td>\n",
       "    </tr>\n",
       "    <tr>\n",
       "      <th>8</th>\n",
       "      <td>DTC</td>\n",
       "      <td>73.928362</td>\n",
       "      <td>0.488281</td>\n",
       "      <td>0.733494</td>\n",
       "      <td>0.701021</td>\n",
       "      <td>0.860889</td>\n",
       "      <td>0.474399</td>\n",
       "      <td>0.817915</td>\n",
       "    </tr>\n",
       "    <tr>\n",
       "      <th>9</th>\n",
       "      <td>LDA</td>\n",
       "      <td>67.586612</td>\n",
       "      <td>0.350721</td>\n",
       "      <td>0.674276</td>\n",
       "      <td>0.671958</td>\n",
       "      <td>0.724059</td>\n",
       "      <td>0.349593</td>\n",
       "      <td>0.755974</td>\n",
       "    </tr>\n",
       "  </tbody>\n",
       "</table>\n",
       "</div>"
      ],
      "text/plain": [
       "  Model  Accuracy_train  MCC Score_train  F1 Score_train  Precision_train  \\\n",
       "0   RFC       78.038755         0.560679        0.779550         0.770140   \n",
       "1   KNN       78.097475         0.561886        0.780123         0.770386   \n",
       "2   SVC       78.273635         0.566578        0.781362         0.763788   \n",
       "3    LR       67.938931         0.357755        0.677971         0.676251   \n",
       "4   XGB       99.295361         0.985907        0.992948         0.995418   \n",
       "5   GNB       67.234292         0.345093        0.668683         0.658706   \n",
       "6   MLP       80.857311         0.618220        0.808570         0.830732   \n",
       "7   ETC       99.706400         0.994124        0.997061         0.997717   \n",
       "8   DTC       73.928362         0.488281        0.733494         0.701021   \n",
       "9   LDA       67.586612         0.350721        0.674276         0.671958   \n",
       "\n",
       "   Recall_train  kappa Score_train  AUC/ROC_train  \n",
       "0      0.817560           0.559544       0.883384  \n",
       "1      0.818700           0.560706       0.865359  \n",
       "2      0.836944           0.563793       0.863116  \n",
       "3      0.724059           0.356799       0.755851  \n",
       "4      0.990878           0.985897       0.999642  \n",
       "5      0.754846           0.341129       0.733791  \n",
       "6      0.789054           0.617395       0.892763  \n",
       "7      0.996579           0.994123       0.999979  \n",
       "8      0.860889           0.474399       0.817915  \n",
       "9      0.724059           0.349593       0.755974  "
      ]
     },
     "execution_count": 75,
     "metadata": {},
     "output_type": "execute_result"
    }
   ],
   "source": [
    "df_train"
   ]
  },
  {
   "cell_type": "code",
   "execution_count": 76,
   "id": "b17d0963",
   "metadata": {},
   "outputs": [
    {
     "data": {
      "text/html": [
       "<div>\n",
       "<style scoped>\n",
       "    .dataframe tbody tr th:only-of-type {\n",
       "        vertical-align: middle;\n",
       "    }\n",
       "\n",
       "    .dataframe tbody tr th {\n",
       "        vertical-align: top;\n",
       "    }\n",
       "\n",
       "    .dataframe thead th {\n",
       "        text-align: right;\n",
       "    }\n",
       "</style>\n",
       "<table border=\"1\" class=\"dataframe\">\n",
       "  <thead>\n",
       "    <tr style=\"text-align: right;\">\n",
       "      <th></th>\n",
       "      <th>Model</th>\n",
       "      <th>Accuracy_test</th>\n",
       "      <th>MCC Score_test</th>\n",
       "      <th>F1 Score_test</th>\n",
       "      <th>Precision_test</th>\n",
       "      <th>Recall_test</th>\n",
       "      <th>kappa Score_test</th>\n",
       "      <th>AUC/ROC_test</th>\n",
       "    </tr>\n",
       "  </thead>\n",
       "  <tbody>\n",
       "    <tr>\n",
       "      <th>0</th>\n",
       "      <td>RFC</td>\n",
       "      <td>65.962441</td>\n",
       "      <td>0.316087</td>\n",
       "      <td>0.658040</td>\n",
       "      <td>0.679825</td>\n",
       "      <td>0.682819</td>\n",
       "      <td>0.316083</td>\n",
       "      <td>0.722201</td>\n",
       "    </tr>\n",
       "    <tr>\n",
       "      <th>1</th>\n",
       "      <td>KNN</td>\n",
       "      <td>65.727700</td>\n",
       "      <td>0.312982</td>\n",
       "      <td>0.656361</td>\n",
       "      <td>0.683258</td>\n",
       "      <td>0.665198</td>\n",
       "      <td>0.312858</td>\n",
       "      <td>0.686782</td>\n",
       "    </tr>\n",
       "    <tr>\n",
       "      <th>2</th>\n",
       "      <td>SVC</td>\n",
       "      <td>65.023474</td>\n",
       "      <td>0.295431</td>\n",
       "      <td>0.647278</td>\n",
       "      <td>0.663866</td>\n",
       "      <td>0.696035</td>\n",
       "      <td>0.295031</td>\n",
       "      <td>0.703008</td>\n",
       "    </tr>\n",
       "    <tr>\n",
       "      <th>3</th>\n",
       "      <td>LR</td>\n",
       "      <td>63.615023</td>\n",
       "      <td>0.267341</td>\n",
       "      <td>0.633385</td>\n",
       "      <td>0.652542</td>\n",
       "      <td>0.678414</td>\n",
       "      <td>0.267099</td>\n",
       "      <td>0.699289</td>\n",
       "    </tr>\n",
       "    <tr>\n",
       "      <th>4</th>\n",
       "      <td>XGB</td>\n",
       "      <td>63.615023</td>\n",
       "      <td>0.266692</td>\n",
       "      <td>0.632748</td>\n",
       "      <td>0.650000</td>\n",
       "      <td>0.687225</td>\n",
       "      <td>0.266187</td>\n",
       "      <td>0.681690</td>\n",
       "    </tr>\n",
       "    <tr>\n",
       "      <th>5</th>\n",
       "      <td>GNB</td>\n",
       "      <td>63.145540</td>\n",
       "      <td>0.255442</td>\n",
       "      <td>0.624737</td>\n",
       "      <td>0.636719</td>\n",
       "      <td>0.718062</td>\n",
       "      <td>0.252999</td>\n",
       "      <td>0.688066</td>\n",
       "    </tr>\n",
       "    <tr>\n",
       "      <th>6</th>\n",
       "      <td>MLP</td>\n",
       "      <td>62.676056</td>\n",
       "      <td>0.257083</td>\n",
       "      <td>0.626709</td>\n",
       "      <td>0.666667</td>\n",
       "      <td>0.599119</td>\n",
       "      <td>0.255589</td>\n",
       "      <td>0.675647</td>\n",
       "    </tr>\n",
       "    <tr>\n",
       "      <th>7</th>\n",
       "      <td>ETC</td>\n",
       "      <td>65.962441</td>\n",
       "      <td>0.315322</td>\n",
       "      <td>0.657570</td>\n",
       "      <td>0.676724</td>\n",
       "      <td>0.691630</td>\n",
       "      <td>0.315234</td>\n",
       "      <td>0.718250</td>\n",
       "    </tr>\n",
       "    <tr>\n",
       "      <th>8</th>\n",
       "      <td>DTC</td>\n",
       "      <td>57.511737</td>\n",
       "      <td>0.137703</td>\n",
       "      <td>0.562263</td>\n",
       "      <td>0.584559</td>\n",
       "      <td>0.700441</td>\n",
       "      <td>0.134477</td>\n",
       "      <td>0.635003</td>\n",
       "    </tr>\n",
       "    <tr>\n",
       "      <th>9</th>\n",
       "      <td>LDA</td>\n",
       "      <td>64.084507</td>\n",
       "      <td>0.276179</td>\n",
       "      <td>0.637487</td>\n",
       "      <td>0.654167</td>\n",
       "      <td>0.691630</td>\n",
       "      <td>0.275655</td>\n",
       "      <td>0.697518</td>\n",
       "    </tr>\n",
       "  </tbody>\n",
       "</table>\n",
       "</div>"
      ],
      "text/plain": [
       "  Model  Accuracy_test  MCC Score_test  F1 Score_test  Precision_test  \\\n",
       "0   RFC      65.962441        0.316087       0.658040        0.679825   \n",
       "1   KNN      65.727700        0.312982       0.656361        0.683258   \n",
       "2   SVC      65.023474        0.295431       0.647278        0.663866   \n",
       "3    LR      63.615023        0.267341       0.633385        0.652542   \n",
       "4   XGB      63.615023        0.266692       0.632748        0.650000   \n",
       "5   GNB      63.145540        0.255442       0.624737        0.636719   \n",
       "6   MLP      62.676056        0.257083       0.626709        0.666667   \n",
       "7   ETC      65.962441        0.315322       0.657570        0.676724   \n",
       "8   DTC      57.511737        0.137703       0.562263        0.584559   \n",
       "9   LDA      64.084507        0.276179       0.637487        0.654167   \n",
       "\n",
       "   Recall_test  kappa Score_test  AUC/ROC_test  \n",
       "0     0.682819          0.316083      0.722201  \n",
       "1     0.665198          0.312858      0.686782  \n",
       "2     0.696035          0.295031      0.703008  \n",
       "3     0.678414          0.267099      0.699289  \n",
       "4     0.687225          0.266187      0.681690  \n",
       "5     0.718062          0.252999      0.688066  \n",
       "6     0.599119          0.255589      0.675647  \n",
       "7     0.691630          0.315234      0.718250  \n",
       "8     0.700441          0.134477      0.635003  \n",
       "9     0.691630          0.275655      0.697518  "
      ]
     },
     "execution_count": 76,
     "metadata": {},
     "output_type": "execute_result"
    }
   ],
   "source": [
    "df_test"
   ]
  },
  {
   "cell_type": "code",
   "execution_count": null,
   "id": "aa9ce88d",
   "metadata": {},
   "outputs": [],
   "source": []
  }
 ],
 "metadata": {
  "kernelspec": {
   "display_name": "asvm",
   "language": "python",
   "name": "asvm"
  },
  "language_info": {
   "codemirror_mode": {
    "name": "ipython",
    "version": 3
   },
   "file_extension": ".py",
   "mimetype": "text/x-python",
   "name": "python",
   "nbconvert_exporter": "python",
   "pygments_lexer": "ipython3",
   "version": "3.10.9"
  }
 },
 "nbformat": 4,
 "nbformat_minor": 5
}

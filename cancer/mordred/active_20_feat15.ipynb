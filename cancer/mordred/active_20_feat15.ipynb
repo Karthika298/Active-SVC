{
 "cells": [
  {
   "cell_type": "code",
   "execution_count": 1,
   "id": "b66601d9",
   "metadata": {},
   "outputs": [],
   "source": [
    "import pandas as pd\n",
    "import numpy as np\n",
    "import datetime\n",
    "import sklearn\n",
    "import matplotlib.pyplot as plt\n",
    "from sklearn.metrics import roc_curve, auc\n",
    "from sklearn.ensemble import RandomForestClassifier\n",
    "from sklearn.neighbors import KNeighborsClassifier\n",
    "from sklearn.svm import SVC\n",
    "from sklearn.linear_model import LogisticRegression\n",
    "from xgboost import XGBClassifier\n",
    "from sklearn.naive_bayes import GaussianNB\n",
    "from sklearn.neural_network import MLPClassifier\n",
    "from sklearn.ensemble import ExtraTreesClassifier\n",
    "from sklearn.tree import DecisionTreeClassifier\n",
    "from sklearn.discriminant_analysis import LinearDiscriminantAnalysis\n",
    "import xgboost as xgb\n",
    "\n",
    "from sklearn.metrics import accuracy_score\n",
    "from sklearn.metrics import confusion_matrix\n",
    "from sklearn.metrics import classification_report\n",
    "from sklearn.metrics import accuracy_score, roc_auc_score, matthews_corrcoef, cohen_kappa_score, f1_score, precision_score, recall_score, roc_curve"
   ]
  },
  {
   "cell_type": "code",
   "execution_count": 2,
   "id": "549e17d6",
   "metadata": {},
   "outputs": [],
   "source": [
    "feat_file=pd.read_csv('cancer_mordred_preprocessed.csv')"
   ]
  },
  {
   "cell_type": "code",
   "execution_count": 3,
   "id": "d759c0e2",
   "metadata": {},
   "outputs": [
    {
     "data": {
      "text/html": [
       "<div>\n",
       "<style scoped>\n",
       "    .dataframe tbody tr th:only-of-type {\n",
       "        vertical-align: middle;\n",
       "    }\n",
       "\n",
       "    .dataframe tbody tr th {\n",
       "        vertical-align: top;\n",
       "    }\n",
       "\n",
       "    .dataframe thead th {\n",
       "        text-align: right;\n",
       "    }\n",
       "</style>\n",
       "<table border=\"1\" class=\"dataframe\">\n",
       "  <thead>\n",
       "    <tr style=\"text-align: right;\">\n",
       "      <th></th>\n",
       "      <th>ABC</th>\n",
       "      <th>nAcid</th>\n",
       "      <th>nBase</th>\n",
       "      <th>SpAbs_A</th>\n",
       "      <th>SpMax_A</th>\n",
       "      <th>SpMAD_A</th>\n",
       "      <th>LogEE_A</th>\n",
       "      <th>VE2_A</th>\n",
       "      <th>VR1_A</th>\n",
       "      <th>VR3_A</th>\n",
       "      <th>...</th>\n",
       "      <th>JGI9</th>\n",
       "      <th>JGI10</th>\n",
       "      <th>JGT10</th>\n",
       "      <th>Diameter</th>\n",
       "      <th>TopoShapeIndex</th>\n",
       "      <th>SRW03</th>\n",
       "      <th>SRW05</th>\n",
       "      <th>TSRW10</th>\n",
       "      <th>WPath</th>\n",
       "      <th>mZagreb1</th>\n",
       "    </tr>\n",
       "  </thead>\n",
       "  <tbody>\n",
       "    <tr>\n",
       "      <th>0</th>\n",
       "      <td>0.121378</td>\n",
       "      <td>0.0</td>\n",
       "      <td>0.0</td>\n",
       "      <td>0.165387</td>\n",
       "      <td>0.722883</td>\n",
       "      <td>0.785705</td>\n",
       "      <td>0.625380</td>\n",
       "      <td>0.172377</td>\n",
       "      <td>0.000007</td>\n",
       "      <td>0.325947</td>\n",
       "      <td>...</td>\n",
       "      <td>0.000000</td>\n",
       "      <td>0.000000</td>\n",
       "      <td>0.570573</td>\n",
       "      <td>8.000000e-08</td>\n",
       "      <td>0.60</td>\n",
       "      <td>0.0</td>\n",
       "      <td>0.000000</td>\n",
       "      <td>0.255696</td>\n",
       "      <td>1.210999e-09</td>\n",
       "      <td>0.142857</td>\n",
       "    </tr>\n",
       "    <tr>\n",
       "      <th>1</th>\n",
       "      <td>0.187982</td>\n",
       "      <td>0.2</td>\n",
       "      <td>0.2</td>\n",
       "      <td>0.183974</td>\n",
       "      <td>0.723677</td>\n",
       "      <td>0.830321</td>\n",
       "      <td>0.605608</td>\n",
       "      <td>0.205313</td>\n",
       "      <td>0.001804</td>\n",
       "      <td>0.317939</td>\n",
       "      <td>...</td>\n",
       "      <td>0.460767</td>\n",
       "      <td>0.614607</td>\n",
       "      <td>0.593865</td>\n",
       "      <td>1.000000e+00</td>\n",
       "      <td>0.00</td>\n",
       "      <td>0.0</td>\n",
       "      <td>0.555084</td>\n",
       "      <td>0.412322</td>\n",
       "      <td>1.242729e-02</td>\n",
       "      <td>0.133016</td>\n",
       "    </tr>\n",
       "    <tr>\n",
       "      <th>2</th>\n",
       "      <td>0.161982</td>\n",
       "      <td>0.0</td>\n",
       "      <td>0.0</td>\n",
       "      <td>0.232151</td>\n",
       "      <td>0.766968</td>\n",
       "      <td>0.882304</td>\n",
       "      <td>0.685177</td>\n",
       "      <td>0.152569</td>\n",
       "      <td>0.000011</td>\n",
       "      <td>0.359675</td>\n",
       "      <td>...</td>\n",
       "      <td>0.000000</td>\n",
       "      <td>0.000000</td>\n",
       "      <td>0.431425</td>\n",
       "      <td>8.000000e-08</td>\n",
       "      <td>1.00</td>\n",
       "      <td>0.0</td>\n",
       "      <td>0.000000</td>\n",
       "      <td>0.335127</td>\n",
       "      <td>1.919619e-09</td>\n",
       "      <td>0.125236</td>\n",
       "    </tr>\n",
       "    <tr>\n",
       "      <th>3</th>\n",
       "      <td>0.150052</td>\n",
       "      <td>0.1</td>\n",
       "      <td>0.0</td>\n",
       "      <td>0.183974</td>\n",
       "      <td>0.723677</td>\n",
       "      <td>0.830321</td>\n",
       "      <td>0.605608</td>\n",
       "      <td>0.205313</td>\n",
       "      <td>0.001804</td>\n",
       "      <td>0.317939</td>\n",
       "      <td>...</td>\n",
       "      <td>0.000000</td>\n",
       "      <td>0.000000</td>\n",
       "      <td>0.502729</td>\n",
       "      <td>1.000000e+00</td>\n",
       "      <td>0.00</td>\n",
       "      <td>0.0</td>\n",
       "      <td>0.437189</td>\n",
       "      <td>0.361216</td>\n",
       "      <td>1.586462e-02</td>\n",
       "      <td>0.153556</td>\n",
       "    </tr>\n",
       "    <tr>\n",
       "      <th>4</th>\n",
       "      <td>0.073037</td>\n",
       "      <td>0.0</td>\n",
       "      <td>0.0</td>\n",
       "      <td>0.115319</td>\n",
       "      <td>0.672574</td>\n",
       "      <td>0.876552</td>\n",
       "      <td>0.525463</td>\n",
       "      <td>0.248485</td>\n",
       "      <td>0.000004</td>\n",
       "      <td>0.264019</td>\n",
       "      <td>...</td>\n",
       "      <td>0.000000</td>\n",
       "      <td>0.000000</td>\n",
       "      <td>0.267857</td>\n",
       "      <td>7.000000e-08</td>\n",
       "      <td>0.75</td>\n",
       "      <td>0.0</td>\n",
       "      <td>0.000000</td>\n",
       "      <td>0.204382</td>\n",
       "      <td>3.516658e-10</td>\n",
       "      <td>0.053493</td>\n",
       "    </tr>\n",
       "  </tbody>\n",
       "</table>\n",
       "<p>5 rows × 820 columns</p>\n",
       "</div>"
      ],
      "text/plain": [
       "        ABC  nAcid  nBase   SpAbs_A   SpMax_A   SpMAD_A   LogEE_A     VE2_A  \\\n",
       "0  0.121378    0.0    0.0  0.165387  0.722883  0.785705  0.625380  0.172377   \n",
       "1  0.187982    0.2    0.2  0.183974  0.723677  0.830321  0.605608  0.205313   \n",
       "2  0.161982    0.0    0.0  0.232151  0.766968  0.882304  0.685177  0.152569   \n",
       "3  0.150052    0.1    0.0  0.183974  0.723677  0.830321  0.605608  0.205313   \n",
       "4  0.073037    0.0    0.0  0.115319  0.672574  0.876552  0.525463  0.248485   \n",
       "\n",
       "      VR1_A     VR3_A  ...      JGI9     JGI10     JGT10      Diameter  \\\n",
       "0  0.000007  0.325947  ...  0.000000  0.000000  0.570573  8.000000e-08   \n",
       "1  0.001804  0.317939  ...  0.460767  0.614607  0.593865  1.000000e+00   \n",
       "2  0.000011  0.359675  ...  0.000000  0.000000  0.431425  8.000000e-08   \n",
       "3  0.001804  0.317939  ...  0.000000  0.000000  0.502729  1.000000e+00   \n",
       "4  0.000004  0.264019  ...  0.000000  0.000000  0.267857  7.000000e-08   \n",
       "\n",
       "   TopoShapeIndex  SRW03     SRW05    TSRW10         WPath  mZagreb1  \n",
       "0            0.60    0.0  0.000000  0.255696  1.210999e-09  0.142857  \n",
       "1            0.00    0.0  0.555084  0.412322  1.242729e-02  0.133016  \n",
       "2            1.00    0.0  0.000000  0.335127  1.919619e-09  0.125236  \n",
       "3            0.00    0.0  0.437189  0.361216  1.586462e-02  0.153556  \n",
       "4            0.75    0.0  0.000000  0.204382  3.516658e-10  0.053493  \n",
       "\n",
       "[5 rows x 820 columns]"
      ]
     },
     "execution_count": 3,
     "metadata": {},
     "output_type": "execute_result"
    }
   ],
   "source": [
    "feat_file.head()"
   ]
  },
  {
   "cell_type": "code",
   "execution_count": 4,
   "id": "e27455e1",
   "metadata": {},
   "outputs": [
    {
     "data": {
      "text/plain": [
       "(2129, 820)"
      ]
     },
     "execution_count": 4,
     "metadata": {},
     "output_type": "execute_result"
    }
   ],
   "source": [
    "feat_file.shape"
   ]
  },
  {
   "cell_type": "code",
   "execution_count": 5,
   "id": "ab7abbc0",
   "metadata": {},
   "outputs": [],
   "source": [
    "X=feat_file.values"
   ]
  },
  {
   "cell_type": "code",
   "execution_count": 6,
   "id": "0b410c9e",
   "metadata": {
    "scrolled": true
   },
   "outputs": [
    {
     "data": {
      "text/html": [
       "<div>\n",
       "<style scoped>\n",
       "    .dataframe tbody tr th:only-of-type {\n",
       "        vertical-align: middle;\n",
       "    }\n",
       "\n",
       "    .dataframe tbody tr th {\n",
       "        vertical-align: top;\n",
       "    }\n",
       "\n",
       "    .dataframe thead th {\n",
       "        text-align: right;\n",
       "    }\n",
       "</style>\n",
       "<table border=\"1\" class=\"dataframe\">\n",
       "  <thead>\n",
       "    <tr style=\"text-align: right;\">\n",
       "      <th></th>\n",
       "      <th>Status</th>\n",
       "    </tr>\n",
       "  </thead>\n",
       "  <tbody>\n",
       "    <tr>\n",
       "      <th>0</th>\n",
       "      <td>0</td>\n",
       "    </tr>\n",
       "    <tr>\n",
       "      <th>1</th>\n",
       "      <td>0</td>\n",
       "    </tr>\n",
       "    <tr>\n",
       "      <th>2</th>\n",
       "      <td>0</td>\n",
       "    </tr>\n",
       "    <tr>\n",
       "      <th>3</th>\n",
       "      <td>1</td>\n",
       "    </tr>\n",
       "    <tr>\n",
       "      <th>4</th>\n",
       "      <td>0</td>\n",
       "    </tr>\n",
       "  </tbody>\n",
       "</table>\n",
       "</div>"
      ],
      "text/plain": [
       "   Status\n",
       "0       0\n",
       "1       0\n",
       "2       0\n",
       "3       1\n",
       "4       0"
      ]
     },
     "execution_count": 6,
     "metadata": {},
     "output_type": "execute_result"
    }
   ],
   "source": [
    "label= pd.read_csv('cancer_label.csv')\n",
    "label.head()"
   ]
  },
  {
   "cell_type": "code",
   "execution_count": 7,
   "id": "aae99626",
   "metadata": {},
   "outputs": [],
   "source": [
    "y=label.values.ravel()"
   ]
  },
  {
   "cell_type": "markdown",
   "id": "65e88af9",
   "metadata": {},
   "source": [
    "# split\n"
   ]
  },
  {
   "cell_type": "code",
   "execution_count": 8,
   "id": "34aa7a83",
   "metadata": {},
   "outputs": [],
   "source": [
    "from sklearn.model_selection import train_test_split\n",
    "X_train, X_test, y_train, y_test = train_test_split(X, y, test_size=0.2, random_state=42,shuffle=True)"
   ]
  },
  {
   "cell_type": "code",
   "execution_count": 9,
   "id": "c2f140f8",
   "metadata": {},
   "outputs": [
    {
     "data": {
      "text/plain": [
       "(1703, 820)"
      ]
     },
     "execution_count": 9,
     "metadata": {},
     "output_type": "execute_result"
    }
   ],
   "source": [
    "X_train.shape"
   ]
  },
  {
   "cell_type": "code",
   "execution_count": 10,
   "id": "fb97298c",
   "metadata": {},
   "outputs": [],
   "source": [
    "X_train_filtered=pd.read_csv('min_acqui_20(15)_train.csv')"
   ]
  },
  {
   "cell_type": "code",
   "execution_count": 11,
   "id": "f3712b86",
   "metadata": {},
   "outputs": [
    {
     "data": {
      "text/html": [
       "<div>\n",
       "<style scoped>\n",
       "    .dataframe tbody tr th:only-of-type {\n",
       "        vertical-align: middle;\n",
       "    }\n",
       "\n",
       "    .dataframe tbody tr th {\n",
       "        vertical-align: top;\n",
       "    }\n",
       "\n",
       "    .dataframe thead th {\n",
       "        text-align: right;\n",
       "    }\n",
       "</style>\n",
       "<table border=\"1\" class=\"dataframe\">\n",
       "  <thead>\n",
       "    <tr style=\"text-align: right;\">\n",
       "      <th></th>\n",
       "      <th>nBase</th>\n",
       "      <th>ATSC0v</th>\n",
       "      <th>Xp-0dv</th>\n",
       "      <th>NdS</th>\n",
       "      <th>MDEN-23</th>\n",
       "      <th>PEOE_VSA5</th>\n",
       "      <th>AATSC8d</th>\n",
       "      <th>AATSC8i</th>\n",
       "      <th>nG12FARing</th>\n",
       "      <th>MAXdsN</th>\n",
       "      <th>GATS4s</th>\n",
       "      <th>AATSC1se</th>\n",
       "      <th>VSA_EState1</th>\n",
       "      <th>MAXaaO</th>\n",
       "      <th>GATS7Z</th>\n",
       "    </tr>\n",
       "  </thead>\n",
       "  <tbody>\n",
       "    <tr>\n",
       "      <th>0</th>\n",
       "      <td>0.0</td>\n",
       "      <td>0.171466</td>\n",
       "      <td>0.182950</td>\n",
       "      <td>0.00</td>\n",
       "      <td>0.132781</td>\n",
       "      <td>0.0</td>\n",
       "      <td>0.351541</td>\n",
       "      <td>0.502423</td>\n",
       "      <td>0.333333</td>\n",
       "      <td>0.475173</td>\n",
       "      <td>0.126346</td>\n",
       "      <td>0.420574</td>\n",
       "      <td>0.008907</td>\n",
       "      <td>0.42314</td>\n",
       "      <td>0.143576</td>\n",
       "    </tr>\n",
       "    <tr>\n",
       "      <th>1</th>\n",
       "      <td>0.0</td>\n",
       "      <td>0.094158</td>\n",
       "      <td>0.133395</td>\n",
       "      <td>0.00</td>\n",
       "      <td>0.132781</td>\n",
       "      <td>0.0</td>\n",
       "      <td>0.299770</td>\n",
       "      <td>0.445194</td>\n",
       "      <td>0.000000</td>\n",
       "      <td>0.475173</td>\n",
       "      <td>0.167236</td>\n",
       "      <td>0.468971</td>\n",
       "      <td>0.008907</td>\n",
       "      <td>0.42314</td>\n",
       "      <td>0.143436</td>\n",
       "    </tr>\n",
       "    <tr>\n",
       "      <th>2</th>\n",
       "      <td>0.1</td>\n",
       "      <td>0.063312</td>\n",
       "      <td>0.064529</td>\n",
       "      <td>0.00</td>\n",
       "      <td>0.132781</td>\n",
       "      <td>0.0</td>\n",
       "      <td>0.400458</td>\n",
       "      <td>0.548529</td>\n",
       "      <td>0.000000</td>\n",
       "      <td>0.475173</td>\n",
       "      <td>0.114663</td>\n",
       "      <td>0.388369</td>\n",
       "      <td>0.008907</td>\n",
       "      <td>0.42314</td>\n",
       "      <td>0.228654</td>\n",
       "    </tr>\n",
       "    <tr>\n",
       "      <th>3</th>\n",
       "      <td>0.0</td>\n",
       "      <td>0.048654</td>\n",
       "      <td>0.051332</td>\n",
       "      <td>0.00</td>\n",
       "      <td>0.132781</td>\n",
       "      <td>0.0</td>\n",
       "      <td>0.382294</td>\n",
       "      <td>0.511714</td>\n",
       "      <td>0.000000</td>\n",
       "      <td>0.475173</td>\n",
       "      <td>0.326235</td>\n",
       "      <td>0.472462</td>\n",
       "      <td>0.010695</td>\n",
       "      <td>0.42314</td>\n",
       "      <td>0.000000</td>\n",
       "    </tr>\n",
       "    <tr>\n",
       "      <th>4</th>\n",
       "      <td>0.0</td>\n",
       "      <td>0.171109</td>\n",
       "      <td>0.221569</td>\n",
       "      <td>0.75</td>\n",
       "      <td>0.132781</td>\n",
       "      <td>0.0</td>\n",
       "      <td>0.382294</td>\n",
       "      <td>0.511714</td>\n",
       "      <td>0.000000</td>\n",
       "      <td>0.475173</td>\n",
       "      <td>0.225103</td>\n",
       "      <td>0.424164</td>\n",
       "      <td>0.012451</td>\n",
       "      <td>0.42314</td>\n",
       "      <td>0.149289</td>\n",
       "    </tr>\n",
       "  </tbody>\n",
       "</table>\n",
       "</div>"
      ],
      "text/plain": [
       "   nBase    ATSC0v    Xp-0dv   NdS   MDEN-23  PEOE_VSA5   AATSC8d   AATSC8i  \\\n",
       "0    0.0  0.171466  0.182950  0.00  0.132781        0.0  0.351541  0.502423   \n",
       "1    0.0  0.094158  0.133395  0.00  0.132781        0.0  0.299770  0.445194   \n",
       "2    0.1  0.063312  0.064529  0.00  0.132781        0.0  0.400458  0.548529   \n",
       "3    0.0  0.048654  0.051332  0.00  0.132781        0.0  0.382294  0.511714   \n",
       "4    0.0  0.171109  0.221569  0.75  0.132781        0.0  0.382294  0.511714   \n",
       "\n",
       "   nG12FARing    MAXdsN    GATS4s  AATSC1se  VSA_EState1   MAXaaO    GATS7Z  \n",
       "0    0.333333  0.475173  0.126346  0.420574     0.008907  0.42314  0.143576  \n",
       "1    0.000000  0.475173  0.167236  0.468971     0.008907  0.42314  0.143436  \n",
       "2    0.000000  0.475173  0.114663  0.388369     0.008907  0.42314  0.228654  \n",
       "3    0.000000  0.475173  0.326235  0.472462     0.010695  0.42314  0.000000  \n",
       "4    0.000000  0.475173  0.225103  0.424164     0.012451  0.42314  0.149289  "
      ]
     },
     "execution_count": 11,
     "metadata": {},
     "output_type": "execute_result"
    }
   ],
   "source": [
    "X_train_filtered.head()"
   ]
  },
  {
   "cell_type": "code",
   "execution_count": 12,
   "id": "0b17a24c",
   "metadata": {},
   "outputs": [],
   "source": [
    "X_test_filtered=pd.read_csv('min_acqui_20(15)_test.csv')"
   ]
  },
  {
   "cell_type": "code",
   "execution_count": 13,
   "id": "74390d88",
   "metadata": {},
   "outputs": [
    {
     "data": {
      "text/html": [
       "<div>\n",
       "<style scoped>\n",
       "    .dataframe tbody tr th:only-of-type {\n",
       "        vertical-align: middle;\n",
       "    }\n",
       "\n",
       "    .dataframe tbody tr th {\n",
       "        vertical-align: top;\n",
       "    }\n",
       "\n",
       "    .dataframe thead th {\n",
       "        text-align: right;\n",
       "    }\n",
       "</style>\n",
       "<table border=\"1\" class=\"dataframe\">\n",
       "  <thead>\n",
       "    <tr style=\"text-align: right;\">\n",
       "      <th></th>\n",
       "      <th>nBase</th>\n",
       "      <th>ATSC0v</th>\n",
       "      <th>Xp-0dv</th>\n",
       "      <th>NdS</th>\n",
       "      <th>MDEN-23</th>\n",
       "      <th>PEOE_VSA5</th>\n",
       "      <th>AATSC8d</th>\n",
       "      <th>AATSC8i</th>\n",
       "      <th>nG12FARing</th>\n",
       "      <th>MAXdsN</th>\n",
       "      <th>GATS4s</th>\n",
       "      <th>AATSC1se</th>\n",
       "      <th>VSA_EState1</th>\n",
       "      <th>MAXaaO</th>\n",
       "      <th>GATS7Z</th>\n",
       "    </tr>\n",
       "  </thead>\n",
       "  <tbody>\n",
       "    <tr>\n",
       "      <th>0</th>\n",
       "      <td>0.0</td>\n",
       "      <td>0.025357</td>\n",
       "      <td>0.029414</td>\n",
       "      <td>0.00</td>\n",
       "      <td>0.139991</td>\n",
       "      <td>0.052374</td>\n",
       "      <td>0.382294</td>\n",
       "      <td>0.511714</td>\n",
       "      <td>0.0</td>\n",
       "      <td>0.463410</td>\n",
       "      <td>0.406882</td>\n",
       "      <td>0.525640</td>\n",
       "      <td>0.008907</td>\n",
       "      <td>0.42314</td>\n",
       "      <td>0.149289</td>\n",
       "    </tr>\n",
       "    <tr>\n",
       "      <th>1</th>\n",
       "      <td>0.0</td>\n",
       "      <td>0.019413</td>\n",
       "      <td>0.125399</td>\n",
       "      <td>0.00</td>\n",
       "      <td>0.132781</td>\n",
       "      <td>0.250000</td>\n",
       "      <td>0.382294</td>\n",
       "      <td>0.511714</td>\n",
       "      <td>0.0</td>\n",
       "      <td>0.475173</td>\n",
       "      <td>0.225103</td>\n",
       "      <td>0.392016</td>\n",
       "      <td>0.023092</td>\n",
       "      <td>0.42314</td>\n",
       "      <td>0.149289</td>\n",
       "    </tr>\n",
       "    <tr>\n",
       "      <th>2</th>\n",
       "      <td>0.0</td>\n",
       "      <td>0.095806</td>\n",
       "      <td>0.166746</td>\n",
       "      <td>0.00</td>\n",
       "      <td>0.132781</td>\n",
       "      <td>0.000000</td>\n",
       "      <td>0.345304</td>\n",
       "      <td>0.531056</td>\n",
       "      <td>0.0</td>\n",
       "      <td>0.475173</td>\n",
       "      <td>0.213444</td>\n",
       "      <td>0.402254</td>\n",
       "      <td>0.080524</td>\n",
       "      <td>0.42314</td>\n",
       "      <td>0.116752</td>\n",
       "    </tr>\n",
       "    <tr>\n",
       "      <th>3</th>\n",
       "      <td>0.0</td>\n",
       "      <td>0.041542</td>\n",
       "      <td>0.125399</td>\n",
       "      <td>0.00</td>\n",
       "      <td>0.132781</td>\n",
       "      <td>0.000000</td>\n",
       "      <td>0.382294</td>\n",
       "      <td>0.511714</td>\n",
       "      <td>0.0</td>\n",
       "      <td>0.475173</td>\n",
       "      <td>0.256019</td>\n",
       "      <td>0.359955</td>\n",
       "      <td>0.106851</td>\n",
       "      <td>0.42314</td>\n",
       "      <td>0.000000</td>\n",
       "    </tr>\n",
       "    <tr>\n",
       "      <th>4</th>\n",
       "      <td>0.0</td>\n",
       "      <td>0.031785</td>\n",
       "      <td>0.029107</td>\n",
       "      <td>0.25</td>\n",
       "      <td>0.132781</td>\n",
       "      <td>0.000000</td>\n",
       "      <td>0.382294</td>\n",
       "      <td>0.511714</td>\n",
       "      <td>0.0</td>\n",
       "      <td>0.475173</td>\n",
       "      <td>0.000000</td>\n",
       "      <td>0.386335</td>\n",
       "      <td>0.008907</td>\n",
       "      <td>0.42314</td>\n",
       "      <td>0.149289</td>\n",
       "    </tr>\n",
       "  </tbody>\n",
       "</table>\n",
       "</div>"
      ],
      "text/plain": [
       "   nBase    ATSC0v    Xp-0dv   NdS   MDEN-23  PEOE_VSA5   AATSC8d   AATSC8i  \\\n",
       "0    0.0  0.025357  0.029414  0.00  0.139991   0.052374  0.382294  0.511714   \n",
       "1    0.0  0.019413  0.125399  0.00  0.132781   0.250000  0.382294  0.511714   \n",
       "2    0.0  0.095806  0.166746  0.00  0.132781   0.000000  0.345304  0.531056   \n",
       "3    0.0  0.041542  0.125399  0.00  0.132781   0.000000  0.382294  0.511714   \n",
       "4    0.0  0.031785  0.029107  0.25  0.132781   0.000000  0.382294  0.511714   \n",
       "\n",
       "   nG12FARing    MAXdsN    GATS4s  AATSC1se  VSA_EState1   MAXaaO    GATS7Z  \n",
       "0         0.0  0.463410  0.406882  0.525640     0.008907  0.42314  0.149289  \n",
       "1         0.0  0.475173  0.225103  0.392016     0.023092  0.42314  0.149289  \n",
       "2         0.0  0.475173  0.213444  0.402254     0.080524  0.42314  0.116752  \n",
       "3         0.0  0.475173  0.256019  0.359955     0.106851  0.42314  0.000000  \n",
       "4         0.0  0.475173  0.000000  0.386335     0.008907  0.42314  0.149289  "
      ]
     },
     "execution_count": 13,
     "metadata": {},
     "output_type": "execute_result"
    }
   ],
   "source": [
    "X_test_filtered.head()"
   ]
  },
  {
   "cell_type": "markdown",
   "id": "54f51a1c",
   "metadata": {},
   "source": [
    "## RFC"
   ]
  },
  {
   "cell_type": "code",
   "execution_count": 14,
   "id": "12c91ee6",
   "metadata": {},
   "outputs": [],
   "source": [
    "#define random forest classifier\n",
    "forest = RandomForestClassifier(n_jobs=-1, class_weight='balanced', max_depth=5)\n",
    "forest.fit(X_train_filtered,y_train)\n",
    "end=datetime.datetime.now()\n",
    "\n",
    "y_pred_train=forest.predict(X_train_filtered)\n",
    "y_pred_test=forest.predict(X_test_filtered)\n",
    "y_prediction_values=forest.predict_proba(X_test_filtered)"
   ]
  },
  {
   "cell_type": "code",
   "execution_count": 15,
   "id": "58e57037",
   "metadata": {},
   "outputs": [
    {
     "name": "stdout",
     "output_type": "stream",
     "text": [
      "confusion matrix\n",
      " [[144  55]\n",
      " [ 99 128]]\n",
      "Classification Report:\n",
      "               precision    recall  f1-score   support\n",
      "\n",
      "           0     0.5926    0.7236    0.6516       199\n",
      "           1     0.6995    0.5639    0.6244       227\n",
      "\n",
      "    accuracy                         0.6385       426\n",
      "   macro avg     0.6460    0.6437    0.6380       426\n",
      "weighted avg     0.6495    0.6385    0.6371       426\n",
      "\n"
     ]
    }
   ],
   "source": [
    "rfc_acc_train=accuracy_score(y_train,y_pred_train)*100\n",
    "rfc_acc_test=accuracy_score(y_test,y_pred_test)*100\n",
    "rfc_mcc_train=matthews_corrcoef(y_train, y_pred_train)\n",
    "rfc_mcc_test=matthews_corrcoef(y_test, y_pred_test)\n",
    "rfc_f1_train=f1_score(y_train, y_pred_train, average='macro')\n",
    "rfc_f1_test=f1_score(y_test, y_pred_test, average='macro')\n",
    "rfc_prec_train=precision_score(y_train, y_pred_train)\n",
    "rfc_prec_test=precision_score(y_test, y_pred_test)\n",
    "rfc_recall_train=recall_score(y_train, y_pred_train)\n",
    "rfc_recall_test=recall_score(y_test, y_pred_test)\n",
    "kappa_train=sklearn.metrics.cohen_kappa_score(y_train,y_pred_train)\n",
    "rfc_kappa_train=kappa_train\n",
    "kappa_test=sklearn.metrics.cohen_kappa_score(y_test,y_pred_test)\n",
    "rfc_kappa_test=kappa_test\n",
    "\n",
    "print(\"confusion matrix\\n\",confusion_matrix(y_test,y_pred_test))\n",
    "print(\"Classification Report:\\n\",classification_report(y_test,y_pred_test,digits=4))"
   ]
  },
  {
   "cell_type": "code",
   "execution_count": 16,
   "id": "03cd520f",
   "metadata": {
    "scrolled": true
   },
   "outputs": [
    {
     "data": {
      "image/png": "[encoded data removed]",
      "text/plain": [
       "<Figure size 640x480 with 1 Axes>"
      ]
     },
     "metadata": {},
     "output_type": "display_data"
    }
   ],
   "source": [
    "#auc\n",
    "fpr, tpr, _ = roc_curve(y_test,y_prediction_values[:, 1])\n",
    "roc_auc = auc(fpr, tpr)\n",
    "auc_1=roc_auc\n",
    "\n",
    "#\n",
    "figcount=0\n",
    "Figureset=[]\n",
    "image=plt.figure(figcount)\n",
    "plt.plot(fpr, tpr, 'b', label = 'AUC = %0.2f' % roc_auc)\n",
    "plt.title(\"AUC/ROC\")\n",
    "plt.xlabel('False Positive Rate')\n",
    "plt.ylabel('True Positive Rate')\n",
    "plt.title(\"AUC/ROC\")\n",
    "plt.legend(loc=\"lower right\")\n",
    "figcount+=1\n",
    "Figureset.append(image)\n",
    "plt.show()"
   ]
  },
  {
   "cell_type": "markdown",
   "id": "137b5dd3",
   "metadata": {},
   "source": [
    "## KNN"
   ]
  },
  {
   "cell_type": "code",
   "execution_count": 17,
   "id": "ba092324",
   "metadata": {},
   "outputs": [],
   "source": [
    "from sklearn.neighbors import KNeighborsClassifier\n",
    "KNN=KNeighborsClassifier()\n",
    "KNN.fit(X_train_filtered,y_train)\n",
    "y_pred_test=KNN.predict(X_test_filtered)\n",
    "y_pred_train=KNN.predict(X_train_filtered)\n",
    "y_prediction_values=KNN.predict_proba(X_test_filtered)"
   ]
  },
  {
   "cell_type": "code",
   "execution_count": 18,
   "id": "3e98d5a2",
   "metadata": {},
   "outputs": [
    {
     "name": "stdout",
     "output_type": "stream",
     "text": [
      "confusion matrix\n",
      " [[121  78]\n",
      " [ 82 145]]\n",
      "Classification Report:\n",
      "               precision    recall  f1-score   support\n",
      "\n",
      "           0     0.5961    0.6080    0.6020       199\n",
      "           1     0.6502    0.6388    0.6444       227\n",
      "\n",
      "    accuracy                         0.6244       426\n",
      "   macro avg     0.6231    0.6234    0.6232       426\n",
      "weighted avg     0.6249    0.6244    0.6246       426\n",
      "\n"
     ]
    }
   ],
   "source": [
    "knn_acc_train=accuracy_score(y_train,y_pred_train)*100\n",
    "knn_acc_test=accuracy_score(y_test,y_pred_test)*100\n",
    "knn_mcc_train=matthews_corrcoef(y_train, y_pred_train)\n",
    "knn_mcc_test=matthews_corrcoef(y_test, y_pred_test)\n",
    "knn_f1_train=f1_score(y_train, y_pred_train, average='macro')\n",
    "knn_f1_test=f1_score(y_test, y_pred_test, average='macro')\n",
    "knn_prec_train=precision_score(y_train, y_pred_train)\n",
    "knn_prec_test=precision_score(y_test, y_pred_test)\n",
    "knn_recall_train=recall_score(y_train, y_pred_train)\n",
    "knn_recall_test=recall_score(y_test, y_pred_test)\n",
    "knn_kappa_train=sklearn.metrics.cohen_kappa_score(y_train,y_pred_train)\n",
    "rfc_kappa=knn_kappa_train\n",
    "knn_kappa_test=sklearn.metrics.cohen_kappa_score(y_test,y_pred_test)\n",
    "rfc_kappa=knn_kappa_test\n",
    "\n",
    "print(\"confusion matrix\\n\",confusion_matrix(y_test,y_pred_test))\n",
    "print(\"Classification Report:\\n\",classification_report(y_test,y_pred_test,digits=4))"
   ]
  },
  {
   "cell_type": "code",
   "execution_count": 19,
   "id": "a0c47a36",
   "metadata": {},
   "outputs": [
    {
     "data": {
      "image/png": "[encoded data removed]",
      "text/plain": [
       "<Figure size 640x480 with 1 Axes>"
      ]
     },
     "metadata": {},
     "output_type": "display_data"
    }
   ],
   "source": [
    "#auc\n",
    "fpr, tpr, _ = roc_curve(y_test,y_prediction_values[:, 1])\n",
    "roc_auc = auc(fpr, tpr)\n",
    "auc_2=roc_auc\n",
    "\n",
    "#\n",
    "figcount=0\n",
    "Figureset=[]\n",
    "image=plt.figure(figcount)\n",
    "plt.plot(fpr, tpr, 'b', label = 'AUC = %0.2f' % roc_auc)\n",
    "plt.title(\"AUC/ROC\")\n",
    "plt.xlabel('False Positive Rate')\n",
    "plt.ylabel('True Positive Rate')\n",
    "plt.title(\"AUC/ROC\")\n",
    "plt.legend(loc=\"lower right\")\n",
    "figcount+=1\n",
    "Figureset.append(image)\n",
    "plt.show()"
   ]
  },
  {
   "cell_type": "markdown",
   "id": "d050448c",
   "metadata": {},
   "source": [
    "# SVC"
   ]
  },
  {
   "cell_type": "code",
   "execution_count": 20,
   "id": "c161b476",
   "metadata": {},
   "outputs": [],
   "source": [
    "from sklearn.svm import SVC\n",
    "model=SVC(probability=True)\n",
    "model.fit(X_train_filtered,y_train)\n",
    "y_pred_test=model.predict(X_test_filtered)\n",
    "y_pred_train=model.predict(X_train_filtered)\n",
    "y_prediction_values=model.predict_proba(X_test_filtered)"
   ]
  },
  {
   "cell_type": "code",
   "execution_count": 21,
   "id": "80f8418b",
   "metadata": {},
   "outputs": [
    {
     "name": "stdout",
     "output_type": "stream",
     "text": [
      "confusion matrix\n",
      " [[123  76]\n",
      " [ 79 148]]\n",
      "Classification Report:\n",
      "               precision    recall  f1-score   support\n",
      "\n",
      "           0     0.6089    0.6181    0.6135       199\n",
      "           1     0.6607    0.6520    0.6563       227\n",
      "\n",
      "    accuracy                         0.6362       426\n",
      "   macro avg     0.6348    0.6350    0.6349       426\n",
      "weighted avg     0.6365    0.6362    0.6363       426\n",
      "\n"
     ]
    }
   ],
   "source": [
    "svc_acc_train=accuracy_score(y_train,y_pred_train)*100\n",
    "svc_acc_test=accuracy_score(y_test,y_pred_test)*100\n",
    "svc_mcc_train=matthews_corrcoef(y_train, y_pred_train)\n",
    "svc_mcc_test=matthews_corrcoef(y_test, y_pred_test)\n",
    "svc_f1_train=f1_score(y_train, y_pred_train, average='macro')\n",
    "svc_f1_test=f1_score(y_test, y_pred_test, average='macro')\n",
    "svc_prec_train=precision_score(y_train, y_pred_train)\n",
    "svc_prec_test=precision_score(y_test, y_pred_test)\n",
    "svc_recall_train=recall_score(y_train, y_pred_train)\n",
    "svc_recall_test=recall_score(y_test, y_pred_test)\n",
    "svc_kappa_train=sklearn.metrics.cohen_kappa_score(y_train,y_pred_train)\n",
    "svc_kappa=knn_kappa_train\n",
    "svc_kappa_test=sklearn.metrics.cohen_kappa_score(y_test,y_pred_test)\n",
    "svc_kappa=knn_kappa_test\n",
    "\n",
    "print(\"confusion matrix\\n\",confusion_matrix(y_test,y_pred_test))\n",
    "print(\"Classification Report:\\n\",classification_report(y_test,y_pred_test,digits=4))"
   ]
  },
  {
   "cell_type": "code",
   "execution_count": 22,
   "id": "148f0a1d",
   "metadata": {},
   "outputs": [
    {
     "data": {
      "image/png": "[encoded data removed]",
      "text/plain": [
       "<Figure size 640x480 with 1 Axes>"
      ]
     },
     "metadata": {},
     "output_type": "display_data"
    }
   ],
   "source": [
    "#auc\n",
    "fpr, tpr, _ = roc_curve(y_test,y_prediction_values[:, 1])\n",
    "roc_auc = auc(fpr, tpr)\n",
    "auc_3=roc_auc\n",
    "\n",
    "#\n",
    "figcount=0\n",
    "Figureset=[]\n",
    "image=plt.figure(figcount)\n",
    "plt.plot(fpr, tpr, 'b', label = 'AUC = %0.2f' % roc_auc)\n",
    "plt.title(\"AUC/ROC\")\n",
    "plt.xlabel('False Positive Rate')\n",
    "plt.ylabel('True Positive Rate')\n",
    "plt.title(\"AUC/ROC\")\n",
    "plt.legend(loc=\"lower right\")\n",
    "figcount+=1\n",
    "Figureset.append(image)\n",
    "plt.show()"
   ]
  },
  {
   "cell_type": "markdown",
   "id": "31030dd7",
   "metadata": {},
   "source": [
    "## Logistic Regression"
   ]
  },
  {
   "cell_type": "code",
   "execution_count": 23,
   "id": "ddfa0c0c",
   "metadata": {},
   "outputs": [],
   "source": [
    "from sklearn.linear_model import LogisticRegression\n",
    "lr=LogisticRegression()\n",
    "lr.fit(X_train_filtered,y_train)\n",
    "y_pred_test=lr.predict(X_test_filtered)\n",
    "y_pred_train=lr.predict(X_train_filtered)\n",
    "y_prediction_values=lr.predict_proba(X_test_filtered)"
   ]
  },
  {
   "cell_type": "code",
   "execution_count": 24,
   "id": "07acb54c",
   "metadata": {},
   "outputs": [
    {
     "name": "stdout",
     "output_type": "stream",
     "text": [
      "confusion matrix\n",
      " [[113  86]\n",
      " [ 74 153]]\n",
      "Classification Report:\n",
      "               precision    recall  f1-score   support\n",
      "\n",
      "           0     0.6043    0.5678    0.5855       199\n",
      "           1     0.6402    0.6740    0.6567       227\n",
      "\n",
      "    accuracy                         0.6244       426\n",
      "   macro avg     0.6222    0.6209    0.6211       426\n",
      "weighted avg     0.6234    0.6244    0.6234       426\n",
      "\n"
     ]
    }
   ],
   "source": [
    "lr_acc_train=accuracy_score(y_train,y_pred_train)*100\n",
    "lr_acc_test=accuracy_score(y_test,y_pred_test)*100\n",
    "lr_mcc_train=matthews_corrcoef(y_train, y_pred_train)\n",
    "lr_mcc_test=matthews_corrcoef(y_test, y_pred_test)\n",
    "lr_f1_train=f1_score(y_train, y_pred_train, average='macro')\n",
    "lr_f1_test=f1_score(y_test, y_pred_test, average='macro')\n",
    "lr_prec_train=precision_score(y_train, y_pred_train)\n",
    "lr_prec_test=precision_score(y_test, y_pred_test)\n",
    "lr_recall_train=recall_score(y_train, y_pred_train)\n",
    "lr_recall_test=recall_score(y_test, y_pred_test)\n",
    "lr_kappa_train=sklearn.metrics.cohen_kappa_score(y_train,y_pred_train)\n",
    "lr_kappa=knn_kappa_train\n",
    "lr_kappa_test=sklearn.metrics.cohen_kappa_score(y_test,y_pred_test)\n",
    "lr_kappa=knn_kappa_test\n",
    "\n",
    "print(\"confusion matrix\\n\",confusion_matrix(y_test,y_pred_test))\n",
    "print(\"Classification Report:\\n\",classification_report(y_test,y_pred_test,digits=4))"
   ]
  },
  {
   "cell_type": "code",
   "execution_count": 25,
   "id": "773143f2",
   "metadata": {},
   "outputs": [
    {
     "data": {
      "image/png": "[encoded data removed]",
      "text/plain": [
       "<Figure size 640x480 with 1 Axes>"
      ]
     },
     "metadata": {},
     "output_type": "display_data"
    }
   ],
   "source": [
    "#auc\n",
    "fpr, tpr, _ = roc_curve(y_test,y_prediction_values[:, 1])\n",
    "roc_auc = auc(fpr, tpr)\n",
    "auc_4=roc_auc\n",
    "\n",
    "#\n",
    "figcount=0\n",
    "Figureset=[]\n",
    "image=plt.figure(figcount)\n",
    "plt.plot(fpr, tpr, 'b', label = 'AUC = %0.2f' % roc_auc)\n",
    "plt.title(\"AUC/ROC\")\n",
    "plt.xlabel('False Positive Rate')\n",
    "plt.ylabel('True Positive Rate')\n",
    "plt.title(\"AUC/ROC\")\n",
    "plt.legend(loc=\"lower right\")\n",
    "figcount+=1\n",
    "Figureset.append(image)\n",
    "plt.show()"
   ]
  },
  {
   "cell_type": "markdown",
   "id": "9df14299",
   "metadata": {},
   "source": [
    "# XGB"
   ]
  },
  {
   "cell_type": "code",
   "execution_count": 26,
   "id": "b56884e6",
   "metadata": {},
   "outputs": [
    {
     "name": "stdout",
     "output_type": "stream",
     "text": [
      "[10:55:10] WARNING: ../src/learner.cc:767: \n",
      "Parameters: { \"silent\" } are not used.\n",
      "\n"
     ]
    }
   ],
   "source": [
    "from xgboost import XGBClassifier\n",
    "xgb = XGBClassifier(learning_rate=0.02, n_estimators=600, objective='binary:logistic',silent=True, nthread=1)\n",
    "xgb.fit(X_train_filtered, y_train)\n",
    "y_pred_train = xgb.predict(X_train_filtered)\n",
    "y_pred_test = xgb.predict(X_test_filtered)\n",
    "\n",
    "y_prediction_values=xgb.predict_proba(X_test_filtered)"
   ]
  },
  {
   "cell_type": "code",
   "execution_count": 27,
   "id": "085fc35b",
   "metadata": {},
   "outputs": [
    {
     "name": "stdout",
     "output_type": "stream",
     "text": [
      "confusion matrix\n",
      " [[132  67]\n",
      " [ 83 144]]\n",
      "Classification Report:\n",
      "               precision    recall  f1-score   support\n",
      "\n",
      "           0     0.6140    0.6633    0.6377       199\n",
      "           1     0.6825    0.6344    0.6575       227\n",
      "\n",
      "    accuracy                         0.6479       426\n",
      "   macro avg     0.6482    0.6488    0.6476       426\n",
      "weighted avg     0.6505    0.6479    0.6483       426\n",
      "\n"
     ]
    }
   ],
   "source": [
    "xgb_acc_train=accuracy_score(y_train,y_pred_train)*100\n",
    "xgb_acc_test=accuracy_score(y_test,y_pred_test)*100\n",
    "xgb_mcc_train=matthews_corrcoef(y_train, y_pred_train)\n",
    "xgb_mcc_test=matthews_corrcoef(y_test, y_pred_test)\n",
    "xgb_f1_train=f1_score(y_train, y_pred_train, average='macro')\n",
    "xgb_f1_test=f1_score(y_test, y_pred_test, average='macro')\n",
    "xgb_prec_train=precision_score(y_train, y_pred_train)\n",
    "xgb_prec_test=precision_score(y_test, y_pred_test)\n",
    "xgb_recall_train=recall_score(y_train, y_pred_train)\n",
    "xgb_recall_test=recall_score(y_test, y_pred_test)\n",
    "xgb_kappa_train=sklearn.metrics.cohen_kappa_score(y_train,y_pred_train)\n",
    "xgb_kappa=knn_kappa_train\n",
    "xgb_kappa_test=sklearn.metrics.cohen_kappa_score(y_test,y_pred_test)\n",
    "xgb_kappa=knn_kappa_test\n",
    "\n",
    "print(\"confusion matrix\\n\",confusion_matrix(y_test,y_pred_test))\n",
    "print(\"Classification Report:\\n\",classification_report(y_test,y_pred_test,digits=4))"
   ]
  },
  {
   "cell_type": "code",
   "execution_count": 28,
   "id": "6c29f537",
   "metadata": {},
   "outputs": [
    {
     "data": {
      "image/png": "[encoded data removed]",
      "text/plain": [
       "<Figure size 640x480 with 1 Axes>"
      ]
     },
     "metadata": {},
     "output_type": "display_data"
    }
   ],
   "source": [
    "#auc\n",
    "fpr, tpr, _ = roc_curve(y_test,y_prediction_values[:, 1])\n",
    "roc_auc = auc(fpr, tpr)\n",
    "auc_5=roc_auc\n",
    "\n",
    "#\n",
    "figcount=0\n",
    "Figureset=[]\n",
    "image=plt.figure(figcount)\n",
    "plt.plot(fpr, tpr, 'b', label = 'AUC = %0.2f' % roc_auc)\n",
    "plt.title(\"AUC/ROC\")\n",
    "plt.xlabel('False Positive Rate')\n",
    "plt.ylabel('True Positive Rate')\n",
    "plt.title(\"AUC/ROC\")\n",
    "plt.legend(loc=\"lower right\")\n",
    "figcount+=1\n",
    "Figureset.append(image)\n",
    "plt.show()"
   ]
  },
  {
   "cell_type": "markdown",
   "id": "38bb0c0a",
   "metadata": {},
   "source": [
    "## Gaussian NB"
   ]
  },
  {
   "cell_type": "code",
   "execution_count": 29,
   "id": "81feedda",
   "metadata": {},
   "outputs": [],
   "source": [
    "from sklearn.naive_bayes import GaussianNB\n",
    "clf = GaussianNB()\n",
    "clf.fit(X_train_filtered, y_train)\n",
    "\n",
    "y_pred_train = clf.predict(X_train_filtered)\n",
    "y_pred_test = clf.predict(X_test_filtered)\n",
    "y_prediction_values=clf.predict_proba(X_test_filtered)"
   ]
  },
  {
   "cell_type": "code",
   "execution_count": 30,
   "id": "307db28e",
   "metadata": {},
   "outputs": [
    {
     "name": "stdout",
     "output_type": "stream",
     "text": [
      "confusion matrix\n",
      " [[ 52 147]\n",
      " [ 30 197]]\n",
      "Classification Report:\n",
      "               precision    recall  f1-score   support\n",
      "\n",
      "           0     0.6341    0.2613    0.3701       199\n",
      "           1     0.5727    0.8678    0.6900       227\n",
      "\n",
      "    accuracy                         0.5845       426\n",
      "   macro avg     0.6034    0.5646    0.5301       426\n",
      "weighted avg     0.6014    0.5845    0.5406       426\n",
      "\n"
     ]
    }
   ],
   "source": [
    "clf_acc_train=accuracy_score(y_train,y_pred_train)*100\n",
    "clf_acc_test=accuracy_score(y_test,y_pred_test)*100\n",
    "clf_mcc_train=matthews_corrcoef(y_train, y_pred_train)\n",
    "clf_mcc_test=matthews_corrcoef(y_test, y_pred_test)\n",
    "clf_f1_train=f1_score(y_train, y_pred_train, average='macro')\n",
    "clf_f1_test=f1_score(y_test, y_pred_test, average='macro')\n",
    "clf_prec_train=precision_score(y_train, y_pred_train)\n",
    "clf_prec_test=precision_score(y_test, y_pred_test)\n",
    "clf_recall_train=recall_score(y_train, y_pred_train)\n",
    "clf_recall_test=recall_score(y_test, y_pred_test)\n",
    "clf_kappa_train=sklearn.metrics.cohen_kappa_score(y_train,y_pred_train)\n",
    "clf_kappa=knn_kappa_train\n",
    "clf_kappa_test=sklearn.metrics.cohen_kappa_score(y_test,y_pred_test)\n",
    "clf_kappa=knn_kappa_test\n",
    "\n",
    "print(\"confusion matrix\\n\",confusion_matrix(y_test,y_pred_test))\n",
    "print(\"Classification Report:\\n\",classification_report(y_test,y_pred_test,digits=4))"
   ]
  },
  {
   "cell_type": "code",
   "execution_count": 31,
   "id": "9959460c",
   "metadata": {},
   "outputs": [
    {
     "data": {
      "image/png": "[encoded data removed]",
      "text/plain": [
       "<Figure size 640x480 with 1 Axes>"
      ]
     },
     "metadata": {},
     "output_type": "display_data"
    }
   ],
   "source": [
    "#auc\n",
    "fpr, tpr, _ = roc_curve(y_test,y_prediction_values[:, 1])\n",
    "roc_auc = auc(fpr, tpr)\n",
    "auc_6=roc_auc\n",
    "\n",
    "#\n",
    "figcount=0\n",
    "Figureset=[]\n",
    "image=plt.figure(figcount)\n",
    "plt.plot(fpr, tpr, 'b', label = 'AUC = %0.2f' % roc_auc)\n",
    "plt.title(\"AUC/ROC\")\n",
    "plt.xlabel('False Positive Rate')\n",
    "plt.ylabel('True Positive Rate')\n",
    "plt.title(\"AUC/ROC\")\n",
    "plt.legend(loc=\"lower right\")\n",
    "figcount+=1\n",
    "Figureset.append(image)\n",
    "plt.show()"
   ]
  },
  {
   "cell_type": "markdown",
   "id": "72bd5a44",
   "metadata": {},
   "source": [
    "## MLP"
   ]
  },
  {
   "cell_type": "code",
   "execution_count": 32,
   "id": "824efea7",
   "metadata": {},
   "outputs": [],
   "source": [
    "from sklearn.neural_network import MLPClassifier\n",
    "mlp = MLPClassifier(hidden_layer_sizes=(100,), max_iter=1000)\n",
    "mlp.fit(X_train_filtered, y_train)\n",
    "\n",
    "y_pred_train = mlp.predict(X_train_filtered)\n",
    "y_pred_test = mlp.predict(X_test_filtered)\n",
    "y_prediction_values=mlp.predict_proba(X_test_filtered)"
   ]
  },
  {
   "cell_type": "code",
   "execution_count": 33,
   "id": "82052571",
   "metadata": {},
   "outputs": [
    {
     "name": "stdout",
     "output_type": "stream",
     "text": [
      "confusion matrix\n",
      " [[123  76]\n",
      " [ 79 148]]\n",
      "Classification Report:\n",
      "               precision    recall  f1-score   support\n",
      "\n",
      "           0     0.6089    0.6181    0.6135       199\n",
      "           1     0.6607    0.6520    0.6563       227\n",
      "\n",
      "    accuracy                         0.6362       426\n",
      "   macro avg     0.6348    0.6350    0.6349       426\n",
      "weighted avg     0.6365    0.6362    0.6363       426\n",
      "\n"
     ]
    }
   ],
   "source": [
    "mlp_acc_train=accuracy_score(y_train,y_pred_train)*100\n",
    "mlp_acc_test=accuracy_score(y_test,y_pred_test)*100\n",
    "mlp_mcc_train=matthews_corrcoef(y_train, y_pred_train)\n",
    "mlp_mcc_test=matthews_corrcoef(y_test, y_pred_test)\n",
    "mlp_f1_train=f1_score(y_train, y_pred_train, average='macro')\n",
    "mlp_f1_test=f1_score(y_test, y_pred_test, average='macro')\n",
    "mlp_prec_train=precision_score(y_train, y_pred_train)\n",
    "mlp_prec_test=precision_score(y_test, y_pred_test)\n",
    "mlp_recall_train=recall_score(y_train, y_pred_train)\n",
    "mlp_recall_test=recall_score(y_test, y_pred_test)\n",
    "mlp_kappa_train=sklearn.metrics.cohen_kappa_score(y_train,y_pred_train)\n",
    "mlp_kappa=knn_kappa_train\n",
    "mlp_kappa_test=sklearn.metrics.cohen_kappa_score(y_test,y_pred_test)\n",
    "mlp_kappa=knn_kappa_test\n",
    "\n",
    "print(\"confusion matrix\\n\",confusion_matrix(y_test,y_pred_test))\n",
    "print(\"Classification Report:\\n\",classification_report(y_test,y_pred_test,digits=4))"
   ]
  },
  {
   "cell_type": "code",
   "execution_count": 34,
   "id": "44cd7257",
   "metadata": {},
   "outputs": [
    {
     "data": {
      "image/png": "[encoded data removed]",
      "text/plain": [
       "<Figure size 640x480 with 1 Axes>"
      ]
     },
     "metadata": {},
     "output_type": "display_data"
    }
   ],
   "source": [
    "#auc\n",
    "fpr, tpr, _ = roc_curve(y_test,y_prediction_values[:, 1])\n",
    "roc_auc = auc(fpr, tpr)\n",
    "auc_7=roc_auc\n",
    "\n",
    "#\n",
    "figcount=0\n",
    "Figureset=[]\n",
    "image=plt.figure(figcount)\n",
    "plt.plot(fpr, tpr, 'b', label = 'AUC = %0.2f' % roc_auc)\n",
    "plt.title(\"AUC/ROC\")\n",
    "plt.xlabel('False Positive Rate')\n",
    "plt.ylabel('True Positive Rate')\n",
    "plt.title(\"AUC/ROC\")\n",
    "plt.legend(loc=\"lower right\")\n",
    "figcount+=1\n",
    "Figureset.append(image)\n",
    "plt.show()"
   ]
  },
  {
   "cell_type": "markdown",
   "id": "769e5d9c",
   "metadata": {},
   "source": [
    "## Extratree classifier"
   ]
  },
  {
   "cell_type": "code",
   "execution_count": 35,
   "id": "7e00b6c5",
   "metadata": {},
   "outputs": [],
   "source": [
    "from sklearn.ensemble import ExtraTreesClassifier\n",
    "etc=ExtraTreesClassifier(n_estimators=100, max_depth=None, min_samples_split=2, random_state=42)\n",
    "etc.fit(X_train_filtered, y_train)\n",
    "\n",
    "\n",
    "y_pred_train = etc.predict(X_train_filtered)\n",
    "y_pred_test = etc.predict(X_test_filtered)\n",
    "y_prediction_values=etc.predict_proba(X_test_filtered)"
   ]
  },
  {
   "cell_type": "code",
   "execution_count": 36,
   "id": "58bf8105",
   "metadata": {},
   "outputs": [
    {
     "name": "stdout",
     "output_type": "stream",
     "text": [
      "confusion matrix\n",
      " [[131  68]\n",
      " [ 78 149]]\n",
      "Classification Report:\n",
      "               precision    recall  f1-score   support\n",
      "\n",
      "           0     0.6268    0.6583    0.6422       199\n",
      "           1     0.6866    0.6564    0.6712       227\n",
      "\n",
      "    accuracy                         0.6573       426\n",
      "   macro avg     0.6567    0.6573    0.6567       426\n",
      "weighted avg     0.6587    0.6573    0.6576       426\n",
      "\n"
     ]
    }
   ],
   "source": [
    "etc_acc_train=accuracy_score(y_train,y_pred_train)*100\n",
    "etc_acc_test=accuracy_score(y_test,y_pred_test)*100\n",
    "etc_mcc_train=matthews_corrcoef(y_train, y_pred_train)\n",
    "etc_mcc_test=matthews_corrcoef(y_test, y_pred_test)\n",
    "etc_f1_train=f1_score(y_train, y_pred_train, average='macro')\n",
    "etc_f1_test=f1_score(y_test, y_pred_test, average='macro')\n",
    "etc_prec_train=precision_score(y_train, y_pred_train)\n",
    "etc_prec_test=precision_score(y_test, y_pred_test)\n",
    "etc_recall_train=recall_score(y_train, y_pred_train)\n",
    "etc_recall_test=recall_score(y_test, y_pred_test)\n",
    "etc_kappa_train=sklearn.metrics.cohen_kappa_score(y_train,y_pred_train)\n",
    "etc_kappa=knn_kappa_train\n",
    "etc_kappa_test=sklearn.metrics.cohen_kappa_score(y_test,y_pred_test)\n",
    "etc_kappa=knn_kappa_test\n",
    "\n",
    "print(\"confusion matrix\\n\",confusion_matrix(y_test,y_pred_test))\n",
    "print(\"Classification Report:\\n\",classification_report(y_test,y_pred_test,digits=4))"
   ]
  },
  {
   "cell_type": "code",
   "execution_count": 37,
   "id": "8063b42a",
   "metadata": {},
   "outputs": [
    {
     "data": {
      "image/png": "[encoded data removed]",
      "text/plain": [
       "<Figure size 640x480 with 1 Axes>"
      ]
     },
     "metadata": {},
     "output_type": "display_data"
    }
   ],
   "source": [
    "#auc\n",
    "fpr, tpr, _ = roc_curve(y_test,y_prediction_values[:, 1])\n",
    "roc_auc = auc(fpr, tpr)\n",
    "auc_8=roc_auc\n",
    "\n",
    "#\n",
    "figcount=0\n",
    "Figureset=[]\n",
    "image=plt.figure(figcount)\n",
    "plt.plot(fpr, tpr, 'b', label = 'AUC = %0.2f' % roc_auc)\n",
    "plt.title(\"AUC/ROC\")\n",
    "plt.xlabel('False Positive Rate')\n",
    "plt.ylabel('True Positive Rate')\n",
    "plt.title(\"AUC/ROC\")\n",
    "plt.legend(loc=\"lower right\")\n",
    "figcount+=1\n",
    "Figureset.append(image)\n",
    "plt.show()"
   ]
  },
  {
   "cell_type": "markdown",
   "id": "b8afe666",
   "metadata": {},
   "source": [
    "## Decision Tree classifier"
   ]
  },
  {
   "cell_type": "code",
   "execution_count": 38,
   "id": "c4d11400",
   "metadata": {},
   "outputs": [],
   "source": [
    "## Decision Tree classifier\n",
    "\n",
    "from sklearn.tree import DecisionTreeClassifier\n",
    "dtc= DecisionTreeClassifier(criterion='gini',max_depth=5,min_samples_split=2,min_samples_leaf=1,random_state=42)\n",
    "dtc.fit(X_train_filtered, y_train)\n",
    "\n",
    "\n",
    "y_pred_train = dtc.predict(X_train_filtered)\n",
    "y_pred_test = dtc.predict(X_test_filtered)\n",
    "y_prediction_values=dtc.predict_proba(X_test_filtered)\n",
    "                            "
   ]
  },
  {
   "cell_type": "code",
   "execution_count": 39,
   "id": "5ce3b927",
   "metadata": {},
   "outputs": [
    {
     "name": "stdout",
     "output_type": "stream",
     "text": [
      "confusion matrix\n",
      " [[ 83 116]\n",
      " [ 52 175]]\n",
      "Classification Report:\n",
      "               precision    recall  f1-score   support\n",
      "\n",
      "           0     0.6148    0.4171    0.4970       199\n",
      "           1     0.6014    0.7709    0.6757       227\n",
      "\n",
      "    accuracy                         0.6056       426\n",
      "   macro avg     0.6081    0.5940    0.5863       426\n",
      "weighted avg     0.6077    0.6056    0.5922       426\n",
      "\n"
     ]
    }
   ],
   "source": [
    "dtc_acc_train=accuracy_score(y_train,y_pred_train)*100\n",
    "dtc_acc_test=accuracy_score(y_test,y_pred_test)*100\n",
    "dtc_mcc_train=matthews_corrcoef(y_train, y_pred_train)\n",
    "dtc_mcc_test=matthews_corrcoef(y_test, y_pred_test)\n",
    "dtc_f1_train=f1_score(y_train, y_pred_train, average='macro')\n",
    "dtc_f1_test=f1_score(y_test, y_pred_test, average='macro')\n",
    "dtc_prec_train=precision_score(y_train, y_pred_train)\n",
    "dtc_prec_test=precision_score(y_test, y_pred_test)\n",
    "dtc_recall_train=recall_score(y_train, y_pred_train)\n",
    "dtc_recall_test=recall_score(y_test, y_pred_test)\n",
    "dtc_kappa_train=sklearn.metrics.cohen_kappa_score(y_train,y_pred_train)\n",
    "dtc_kappa=knn_kappa_train\n",
    "dtc_kappa_test=sklearn.metrics.cohen_kappa_score(y_test,y_pred_test)\n",
    "dtc_kappa=knn_kappa_test\n",
    "print(\"confusion matrix\\n\",confusion_matrix(y_test,y_pred_test))\n",
    "print(\"Classification Report:\\n\",classification_report(y_test,y_pred_test,digits=4))"
   ]
  },
  {
   "cell_type": "code",
   "execution_count": 40,
   "id": "30caaaec",
   "metadata": {},
   "outputs": [
    {
     "data": {
      "image/png": "[encoded data removed]",
      "text/plain": [
       "<Figure size 640x480 with 1 Axes>"
      ]
     },
     "metadata": {},
     "output_type": "display_data"
    }
   ],
   "source": [
    "#auc\n",
    "fpr, tpr, _ = roc_curve(y_test,y_prediction_values[:, 1])\n",
    "roc_auc = auc(fpr, tpr)\n",
    "auc_9=roc_auc\n",
    "\n",
    "#\n",
    "figcount=0\n",
    "Figureset=[]\n",
    "image=plt.figure(figcount)\n",
    "plt.plot(fpr, tpr, 'b', label = 'AUC = %0.2f' % roc_auc)\n",
    "plt.title(\"AUC/ROC\")\n",
    "plt.xlabel('False Positive Rate')\n",
    "plt.ylabel('True Positive Rate')\n",
    "plt.title(\"AUC/ROC\")\n",
    "plt.legend(loc=\"lower right\")\n",
    "figcount+=1\n",
    "Figureset.append(image)\n",
    "plt.show()"
   ]
  },
  {
   "cell_type": "markdown",
   "id": "daa30fbc",
   "metadata": {},
   "source": [
    "## LDA"
   ]
  },
  {
   "cell_type": "code",
   "execution_count": 41,
   "id": "9e1ae8df",
   "metadata": {},
   "outputs": [],
   "source": [
    "from sklearn.discriminant_analysis import LinearDiscriminantAnalysis\n",
    "lda = LinearDiscriminantAnalysis()\n",
    "lda.fit(X_train_filtered, y_train)\n",
    "\n",
    "\n",
    "y_pred_train =lda.predict(X_train_filtered)\n",
    "y_pred_test = lda.predict(X_test_filtered)\n",
    "y_prediction_values=lda.predict_proba(X_test_filtered)\n",
    "                            "
   ]
  },
  {
   "cell_type": "code",
   "execution_count": 42,
   "id": "d864fdf3",
   "metadata": {},
   "outputs": [
    {
     "name": "stdout",
     "output_type": "stream",
     "text": [
      "confusion matrix\n",
      " [[115  84]\n",
      " [ 78 149]]\n",
      "Classification Report:\n",
      "               precision    recall  f1-score   support\n",
      "\n",
      "           0     0.5959    0.5779    0.5867       199\n",
      "           1     0.6395    0.6564    0.6478       227\n",
      "\n",
      "    accuracy                         0.6197       426\n",
      "   macro avg     0.6177    0.6171    0.6173       426\n",
      "weighted avg     0.6191    0.6197    0.6193       426\n",
      "\n"
     ]
    }
   ],
   "source": [
    "lda_acc_train=accuracy_score(y_train,y_pred_train)*100\n",
    "lda_acc_test=accuracy_score(y_test,y_pred_test)*100\n",
    "lda_mcc_train=matthews_corrcoef(y_train, y_pred_train)\n",
    "lda_mcc_test=matthews_corrcoef(y_test, y_pred_test)\n",
    "lda_f1_train=f1_score(y_train, y_pred_train, average='macro')\n",
    "lda_f1_test=f1_score(y_test, y_pred_test, average='macro')\n",
    "lda_prec_train=precision_score(y_train, y_pred_train)\n",
    "lda_prec_test=precision_score(y_test, y_pred_test)\n",
    "lda_recall_train=recall_score(y_train, y_pred_train)\n",
    "lda_recall_test=recall_score(y_test, y_pred_test)\n",
    "lda_kappa_train=sklearn.metrics.cohen_kappa_score(y_train,y_pred_train)\n",
    "lda_kappa=knn_kappa_train\n",
    "lda_kappa_test=sklearn.metrics.cohen_kappa_score(y_test,y_pred_test)\n",
    "lda_kappa=knn_kappa_test\n",
    "\n",
    "print(\"confusion matrix\\n\",confusion_matrix(y_test,y_pred_test))\n",
    "print(\"Classification Report:\\n\",classification_report(y_test,y_pred_test,digits=4))"
   ]
  },
  {
   "cell_type": "code",
   "execution_count": 43,
   "id": "b01e9ff9",
   "metadata": {},
   "outputs": [
    {
     "data": {
      "image/png": "[encoded data removed]",
      "text/plain": [
       "<Figure size 640x480 with 1 Axes>"
      ]
     },
     "metadata": {},
     "output_type": "display_data"
    }
   ],
   "source": [
    "#auc\n",
    "fpr, tpr, _ = roc_curve(y_test,y_prediction_values[:, 1])\n",
    "roc_auc = auc(fpr, tpr)\n",
    "auc_10=roc_auc\n",
    "\n",
    "#\n",
    "figcount=0\n",
    "Figureset=[]\n",
    "image=plt.figure(figcount)\n",
    "plt.plot(fpr, tpr, 'b', label = 'AUC = %0.2f' % roc_auc)\n",
    "plt.title(\"AUC/ROC\")\n",
    "plt.xlabel('False Positive Rate')\n",
    "plt.ylabel('True Positive Rate')\n",
    "plt.title(\"AUC/ROC\")\n",
    "plt.legend(loc=\"lower right\")\n",
    "figcount+=1\n",
    "Figureset.append(image)\n",
    "plt.show()"
   ]
  },
  {
   "cell_type": "code",
   "execution_count": 44,
   "id": "8975d0fe",
   "metadata": {},
   "outputs": [],
   "source": [
    "data_train = {'Model': ['RFC','KNN','SVC','LR','XGB','GNB','MLP','ETC','DTC','LDA'],\n",
    "         'Accuracy_train':[rfc_acc_train,knn_acc_train,svc_acc_train,lr_acc_train,xgb_acc_train,clf_acc_train,mlp_acc_train,etc_acc_train,dtc_acc_train,lda_acc_train],\n",
    "       'MCC Score_train':[rfc_mcc_train,knn_mcc_train,svc_mcc_train,lr_mcc_train,xgb_mcc_train,clf_mcc_train,mlp_mcc_train,etc_mcc_train,dtc_mcc_train,lda_mcc_train],\n",
    "       'F1 Score_train':[rfc_f1_train,knn_f1_train,svc_f1_train,lr_f1_train,xgb_f1_train,clf_f1_train,mlp_f1_train,etc_f1_train,dtc_f1_train,lda_f1_train],\n",
    "       'Precision_train':[rfc_prec_train,knn_prec_train,svc_prec_train,lr_prec_train,xgb_prec_train,clf_prec_train,mlp_prec_train,etc_prec_train,dtc_prec_train,lda_prec_train],\n",
    "       'Recall_train':[rfc_recall_train,knn_recall_train,svc_recall_train,lr_recall_train,xgb_recall_train,clf_recall_train,mlp_recall_train,etc_recall_train,dtc_recall_train,lda_recall_train],\n",
    "         'kappa Score_train':[rfc_kappa_train,knn_kappa_train,svc_kappa_train,lr_kappa_train,xgb_kappa_train,clf_kappa_train,mlp_kappa_train,etc_kappa_train,dtc_kappa_train,lda_kappa_train],\n",
    "       'AUC/ROC':[auc_1,auc_2,auc_3,auc_4,auc_5,auc_6,auc_7,auc_8,auc_9,auc_10]}\n",
    "df_train = pd.DataFrame(data_train)"
   ]
  },
  {
   "cell_type": "code",
   "execution_count": 45,
   "id": "afd640eb",
   "metadata": {},
   "outputs": [],
   "source": [
    "data_test = {'Model': ['RFC','KNN','SVC','LR','XGB','GNB','MLP','ETC','DTC','LDA'],\n",
    "             'Accuracy_test': [rfc_acc_test,knn_acc_test,svc_acc_test,lr_acc_test,xgb_acc_test,clf_acc_test,mlp_acc_test,etc_acc_test,dtc_acc_test,lda_acc_test],\n",
    "             'MCC Score_test':[rfc_mcc_test,knn_mcc_test,svc_mcc_test,lr_mcc_test,xgb_mcc_test,clf_mcc_test,mlp_mcc_test,etc_mcc_test,dtc_mcc_test,lda_mcc_test],\n",
    "              'F1 Score_test':[rfc_f1_test,knn_f1_test,svc_f1_test,lr_f1_test,xgb_f1_test,clf_f1_test,mlp_f1_test,etc_f1_test,dtc_f1_test,lda_f1_test],\n",
    "               'Precision_test':[rfc_prec_test,knn_prec_test,svc_prec_test,lr_prec_test,xgb_prec_test,clf_prec_test,mlp_prec_test,etc_prec_test,dtc_prec_test,lda_prec_test],\n",
    "             'Recall_test':[rfc_recall_test,knn_recall_test,svc_recall_test,lr_recall_test,xgb_recall_test,clf_recall_test,mlp_recall_test,etc_recall_test,dtc_recall_test,lda_recall_test],\n",
    "              'kappa Score_test':[rfc_kappa_test,knn_kappa_test,svc_kappa_test,lr_kappa_test,xgb_kappa_test,clf_kappa_test,mlp_kappa_test,etc_kappa_test,dtc_kappa_test,lda_kappa],\n",
    "               'AUC/ROC':[auc_1,auc_2,auc_3,auc_4,auc_5,auc_6,auc_7,auc_8,auc_9,auc_10]}\n",
    "             \n",
    "             \n",
    "df_test = pd.DataFrame(data_test)             "
   ]
  },
  {
   "cell_type": "code",
   "execution_count": 46,
   "id": "ec096ef0",
   "metadata": {},
   "outputs": [
    {
     "data": {
      "text/html": [
       "<div>\n",
       "<style scoped>\n",
       "    .dataframe tbody tr th:only-of-type {\n",
       "        vertical-align: middle;\n",
       "    }\n",
       "\n",
       "    .dataframe tbody tr th {\n",
       "        vertical-align: top;\n",
       "    }\n",
       "\n",
       "    .dataframe thead th {\n",
       "        text-align: right;\n",
       "    }\n",
       "</style>\n",
       "<table border=\"1\" class=\"dataframe\">\n",
       "  <thead>\n",
       "    <tr style=\"text-align: right;\">\n",
       "      <th></th>\n",
       "      <th>Model</th>\n",
       "      <th>Accuracy_train</th>\n",
       "      <th>MCC Score_train</th>\n",
       "      <th>F1 Score_train</th>\n",
       "      <th>Precision_train</th>\n",
       "      <th>Recall_train</th>\n",
       "      <th>kappa Score_train</th>\n",
       "      <th>AUC/ROC</th>\n",
       "    </tr>\n",
       "  </thead>\n",
       "  <tbody>\n",
       "    <tr>\n",
       "      <th>0</th>\n",
       "      <td>RFC</td>\n",
       "      <td>72.695244</td>\n",
       "      <td>0.460967</td>\n",
       "      <td>0.726408</td>\n",
       "      <td>0.774667</td>\n",
       "      <td>0.662486</td>\n",
       "      <td>0.455847</td>\n",
       "      <td>0.719202</td>\n",
       "    </tr>\n",
       "    <tr>\n",
       "      <th>1</th>\n",
       "      <td>KNN</td>\n",
       "      <td>77.099237</td>\n",
       "      <td>0.541772</td>\n",
       "      <td>0.770860</td>\n",
       "      <td>0.780854</td>\n",
       "      <td>0.771950</td>\n",
       "      <td>0.541735</td>\n",
       "      <td>0.656476</td>\n",
       "    </tr>\n",
       "    <tr>\n",
       "      <th>2</th>\n",
       "      <td>SVC</td>\n",
       "      <td>65.942454</td>\n",
       "      <td>0.317845</td>\n",
       "      <td>0.658832</td>\n",
       "      <td>0.665552</td>\n",
       "      <td>0.680730</td>\n",
       "      <td>0.317757</td>\n",
       "      <td>0.682974</td>\n",
       "    </tr>\n",
       "    <tr>\n",
       "      <th>3</th>\n",
       "      <td>LR</td>\n",
       "      <td>65.472695</td>\n",
       "      <td>0.308759</td>\n",
       "      <td>0.651613</td>\n",
       "      <td>0.646403</td>\n",
       "      <td>0.727480</td>\n",
       "      <td>0.306147</td>\n",
       "      <td>0.687889</td>\n",
       "    </tr>\n",
       "    <tr>\n",
       "      <th>4</th>\n",
       "      <td>XGB</td>\n",
       "      <td>93.188491</td>\n",
       "      <td>0.863648</td>\n",
       "      <td>0.931824</td>\n",
       "      <td>0.933865</td>\n",
       "      <td>0.933865</td>\n",
       "      <td>0.863648</td>\n",
       "      <td>0.698293</td>\n",
       "    </tr>\n",
       "    <tr>\n",
       "      <th>5</th>\n",
       "      <td>GNB</td>\n",
       "      <td>58.896066</td>\n",
       "      <td>0.197762</td>\n",
       "      <td>0.546157</td>\n",
       "      <td>0.565604</td>\n",
       "      <td>0.870011</td>\n",
       "      <td>0.163281</td>\n",
       "      <td>0.666881</td>\n",
       "    </tr>\n",
       "    <tr>\n",
       "      <th>6</th>\n",
       "      <td>MLP</td>\n",
       "      <td>66.059894</td>\n",
       "      <td>0.320199</td>\n",
       "      <td>0.660008</td>\n",
       "      <td>0.666667</td>\n",
       "      <td>0.681870</td>\n",
       "      <td>0.320110</td>\n",
       "      <td>0.705886</td>\n",
       "    </tr>\n",
       "    <tr>\n",
       "      <th>7</th>\n",
       "      <td>ETC</td>\n",
       "      <td>99.530241</td>\n",
       "      <td>0.990609</td>\n",
       "      <td>0.995299</td>\n",
       "      <td>0.997709</td>\n",
       "      <td>0.993158</td>\n",
       "      <td>0.990598</td>\n",
       "      <td>0.724149</td>\n",
       "    </tr>\n",
       "    <tr>\n",
       "      <th>8</th>\n",
       "      <td>DTC</td>\n",
       "      <td>65.120376</td>\n",
       "      <td>0.316327</td>\n",
       "      <td>0.634793</td>\n",
       "      <td>0.619208</td>\n",
       "      <td>0.838084</td>\n",
       "      <td>0.294078</td>\n",
       "      <td>0.650997</td>\n",
       "    </tr>\n",
       "    <tr>\n",
       "      <th>9</th>\n",
       "      <td>LDA</td>\n",
       "      <td>64.298297</td>\n",
       "      <td>0.284548</td>\n",
       "      <td>0.641672</td>\n",
       "      <td>0.644779</td>\n",
       "      <td>0.683010</td>\n",
       "      <td>0.284014</td>\n",
       "      <td>0.680982</td>\n",
       "    </tr>\n",
       "  </tbody>\n",
       "</table>\n",
       "</div>"
      ],
      "text/plain": [
       "  Model  Accuracy_train  MCC Score_train  F1 Score_train  Precision_train  \\\n",
       "0   RFC       72.695244         0.460967        0.726408         0.774667   \n",
       "1   KNN       77.099237         0.541772        0.770860         0.780854   \n",
       "2   SVC       65.942454         0.317845        0.658832         0.665552   \n",
       "3    LR       65.472695         0.308759        0.651613         0.646403   \n",
       "4   XGB       93.188491         0.863648        0.931824         0.933865   \n",
       "5   GNB       58.896066         0.197762        0.546157         0.565604   \n",
       "6   MLP       66.059894         0.320199        0.660008         0.666667   \n",
       "7   ETC       99.530241         0.990609        0.995299         0.997709   \n",
       "8   DTC       65.120376         0.316327        0.634793         0.619208   \n",
       "9   LDA       64.298297         0.284548        0.641672         0.644779   \n",
       "\n",
       "   Recall_train  kappa Score_train   AUC/ROC  \n",
       "0      0.662486           0.455847  0.719202  \n",
       "1      0.771950           0.541735  0.656476  \n",
       "2      0.680730           0.317757  0.682974  \n",
       "3      0.727480           0.306147  0.687889  \n",
       "4      0.933865           0.863648  0.698293  \n",
       "5      0.870011           0.163281  0.666881  \n",
       "6      0.681870           0.320110  0.705886  \n",
       "7      0.993158           0.990598  0.724149  \n",
       "8      0.838084           0.294078  0.650997  \n",
       "9      0.683010           0.284014  0.680982  "
      ]
     },
     "execution_count": 46,
     "metadata": {},
     "output_type": "execute_result"
    }
   ],
   "source": [
    "df_train"
   ]
  },
  {
   "cell_type": "code",
   "execution_count": 47,
   "id": "3fb7dcf8",
   "metadata": {},
   "outputs": [
    {
     "data": {
      "text/html": [
       "<div>\n",
       "<style scoped>\n",
       "    .dataframe tbody tr th:only-of-type {\n",
       "        vertical-align: middle;\n",
       "    }\n",
       "\n",
       "    .dataframe tbody tr th {\n",
       "        vertical-align: top;\n",
       "    }\n",
       "\n",
       "    .dataframe thead th {\n",
       "        text-align: right;\n",
       "    }\n",
       "</style>\n",
       "<table border=\"1\" class=\"dataframe\">\n",
       "  <thead>\n",
       "    <tr style=\"text-align: right;\">\n",
       "      <th></th>\n",
       "      <th>Model</th>\n",
       "      <th>Accuracy_test</th>\n",
       "      <th>MCC Score_test</th>\n",
       "      <th>F1 Score_test</th>\n",
       "      <th>Precision_test</th>\n",
       "      <th>Recall_test</th>\n",
       "      <th>kappa Score_test</th>\n",
       "      <th>AUC/ROC</th>\n",
       "    </tr>\n",
       "  </thead>\n",
       "  <tbody>\n",
       "    <tr>\n",
       "      <th>0</th>\n",
       "      <td>RFC</td>\n",
       "      <td>63.849765</td>\n",
       "      <td>0.289762</td>\n",
       "      <td>0.637987</td>\n",
       "      <td>0.699454</td>\n",
       "      <td>0.563877</td>\n",
       "      <td>0.283627</td>\n",
       "      <td>0.719202</td>\n",
       "    </tr>\n",
       "    <tr>\n",
       "      <th>1</th>\n",
       "      <td>KNN</td>\n",
       "      <td>62.441315</td>\n",
       "      <td>0.246545</td>\n",
       "      <td>0.623217</td>\n",
       "      <td>0.650224</td>\n",
       "      <td>0.638767</td>\n",
       "      <td>0.246501</td>\n",
       "      <td>0.656476</td>\n",
       "    </tr>\n",
       "    <tr>\n",
       "      <th>2</th>\n",
       "      <td>SVC</td>\n",
       "      <td>63.615023</td>\n",
       "      <td>0.269849</td>\n",
       "      <td>0.634893</td>\n",
       "      <td>0.660714</td>\n",
       "      <td>0.651982</td>\n",
       "      <td>0.269822</td>\n",
       "      <td>0.682974</td>\n",
       "    </tr>\n",
       "    <tr>\n",
       "      <th>3</th>\n",
       "      <td>LR</td>\n",
       "      <td>62.441315</td>\n",
       "      <td>0.243143</td>\n",
       "      <td>0.621072</td>\n",
       "      <td>0.640167</td>\n",
       "      <td>0.674009</td>\n",
       "      <td>0.242751</td>\n",
       "      <td>0.687889</td>\n",
       "    </tr>\n",
       "    <tr>\n",
       "      <th>4</th>\n",
       "      <td>XGB</td>\n",
       "      <td>64.788732</td>\n",
       "      <td>0.297047</td>\n",
       "      <td>0.647608</td>\n",
       "      <td>0.682464</td>\n",
       "      <td>0.634361</td>\n",
       "      <td>0.296209</td>\n",
       "      <td>0.698293</td>\n",
       "    </tr>\n",
       "    <tr>\n",
       "      <th>5</th>\n",
       "      <td>GNB</td>\n",
       "      <td>58.450704</td>\n",
       "      <td>0.163433</td>\n",
       "      <td>0.530062</td>\n",
       "      <td>0.572674</td>\n",
       "      <td>0.867841</td>\n",
       "      <td>0.134007</td>\n",
       "      <td>0.666881</td>\n",
       "    </tr>\n",
       "    <tr>\n",
       "      <th>6</th>\n",
       "      <td>MLP</td>\n",
       "      <td>63.615023</td>\n",
       "      <td>0.269849</td>\n",
       "      <td>0.634893</td>\n",
       "      <td>0.660714</td>\n",
       "      <td>0.651982</td>\n",
       "      <td>0.269822</td>\n",
       "      <td>0.705886</td>\n",
       "    </tr>\n",
       "    <tr>\n",
       "      <th>7</th>\n",
       "      <td>ETC</td>\n",
       "      <td>65.727700</td>\n",
       "      <td>0.314054</td>\n",
       "      <td>0.656664</td>\n",
       "      <td>0.686636</td>\n",
       "      <td>0.656388</td>\n",
       "      <td>0.313707</td>\n",
       "      <td>0.724149</td>\n",
       "    </tr>\n",
       "    <tr>\n",
       "      <th>8</th>\n",
       "      <td>DTC</td>\n",
       "      <td>60.563380</td>\n",
       "      <td>0.201608</td>\n",
       "      <td>0.586341</td>\n",
       "      <td>0.601375</td>\n",
       "      <td>0.770925</td>\n",
       "      <td>0.191815</td>\n",
       "      <td>0.650997</td>\n",
       "    </tr>\n",
       "    <tr>\n",
       "      <th>9</th>\n",
       "      <td>LDA</td>\n",
       "      <td>61.971831</td>\n",
       "      <td>0.234808</td>\n",
       "      <td>0.617280</td>\n",
       "      <td>0.639485</td>\n",
       "      <td>0.656388</td>\n",
       "      <td>0.246501</td>\n",
       "      <td>0.680982</td>\n",
       "    </tr>\n",
       "  </tbody>\n",
       "</table>\n",
       "</div>"
      ],
      "text/plain": [
       "  Model  Accuracy_test  MCC Score_test  F1 Score_test  Precision_test  \\\n",
       "0   RFC      63.849765        0.289762       0.637987        0.699454   \n",
       "1   KNN      62.441315        0.246545       0.623217        0.650224   \n",
       "2   SVC      63.615023        0.269849       0.634893        0.660714   \n",
       "3    LR      62.441315        0.243143       0.621072        0.640167   \n",
       "4   XGB      64.788732        0.297047       0.647608        0.682464   \n",
       "5   GNB      58.450704        0.163433       0.530062        0.572674   \n",
       "6   MLP      63.615023        0.269849       0.634893        0.660714   \n",
       "7   ETC      65.727700        0.314054       0.656664        0.686636   \n",
       "8   DTC      60.563380        0.201608       0.586341        0.601375   \n",
       "9   LDA      61.971831        0.234808       0.617280        0.639485   \n",
       "\n",
       "   Recall_test  kappa Score_test   AUC/ROC  \n",
       "0     0.563877          0.283627  0.719202  \n",
       "1     0.638767          0.246501  0.656476  \n",
       "2     0.651982          0.269822  0.682974  \n",
       "3     0.674009          0.242751  0.687889  \n",
       "4     0.634361          0.296209  0.698293  \n",
       "5     0.867841          0.134007  0.666881  \n",
       "6     0.651982          0.269822  0.705886  \n",
       "7     0.656388          0.313707  0.724149  \n",
       "8     0.770925          0.191815  0.650997  \n",
       "9     0.656388          0.246501  0.680982  "
      ]
     },
     "execution_count": 47,
     "metadata": {},
     "output_type": "execute_result"
    }
   ],
   "source": [
    "df_test"
   ]
  },
  {
   "cell_type": "code",
   "execution_count": null,
   "id": "1ac50f20",
   "metadata": {},
   "outputs": [],
   "source": []
  }
 ],
 "metadata": {
  "kernelspec": {
   "display_name": "asvm",
   "language": "python",
   "name": "asvm"
  },
  "language_info": {
   "codemirror_mode": {
    "name": "ipython",
    "version": 3
   },
   "file_extension": ".py",
   "mimetype": "text/x-python",
   "name": "python",
   "nbconvert_exporter": "python",
   "pygments_lexer": "ipython3",
   "version": "3.10.9"
  }
 },
 "nbformat": 4,
 "nbformat_minor": 5
}

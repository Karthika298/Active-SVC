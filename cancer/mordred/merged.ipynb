{
 "cells": [
  {
   "cell_type": "code",
   "execution_count": 1,
   "id": "a8ee75d0",
   "metadata": {},
   "outputs": [],
   "source": [
    "list1=['nBase',\n",
    " 'SpAbs_A',\n",
    " 'LogEE_A',\n",
    " 'VR1_A',\n",
    " 'nH',\n",
    " 'ATS0s',\n",
    " 'ATS2s',\n",
    " 'ATS0Z',\n",
    " 'ATS1Z',\n",
    " 'ATS3Z',\n",
    " 'ATS0p',\n",
    " 'AATS8dv',\n",
    " 'AATS3d',\n",
    " 'AATS8s',\n",
    " 'AATS1v',\n",
    " 'AATS3v',\n",
    " 'AATS8se',\n",
    " 'AATS0p',\n",
    " 'AATS1p',\n",
    " 'AATS2p',\n",
    " 'AATS0i',\n",
    " 'AATS2i',\n",
    " 'AATS3i',\n",
    " 'ATSC0c',\n",
    " 'ATSC1c',\n",
    " 'ATSC3dv',\n",
    " 'ATSC1s',\n",
    " 'ATSC2s',\n",
    " 'ATSC1Z',\n",
    " 'ATSC2Z',\n",
    " 'ATSC0v',\n",
    " 'ATSC1v',\n",
    " 'ATSC8v',\n",
    " 'ATSC0se',\n",
    " 'ATSC1se',\n",
    " 'ATSC2se',\n",
    " 'ATSC5se',\n",
    " 'ATSC0pe',\n",
    " 'ATSC1pe',\n",
    " 'ATSC5pe',\n",
    " 'ATSC1p',\n",
    " 'ATSC2p',\n",
    " 'ATSC0i',\n",
    " 'ATSC1i',\n",
    " 'ATSC2i',\n",
    " 'AATSC1c',\n",
    " 'AATSC1dv',\n",
    " 'AATSC1s',\n",
    " 'AATSC2s',\n",
    " 'AATSC2Z',\n",
    " 'AATSC0v',\n",
    " 'AATSC1v',\n",
    " 'AATSC4v',\n",
    " 'AATSC1se',\n",
    " 'AATSC1pe',\n",
    " 'AATSC1p',\n",
    " 'AATSC0i',\n",
    " 'AATSC7i',\n",
    " 'MATS1v',\n",
    " 'MATS4v',\n",
    " 'MATS1se',\n",
    " 'MATS1p',\n",
    " 'GATS5c',\n",
    " 'GATS8c',\n",
    " 'GATS1d',\n",
    " 'GATS1s',\n",
    " 'GATS5s',\n",
    " 'GATS8s',\n",
    " 'GATS1v',\n",
    " 'GATS4v',\n",
    " 'GATS1se',\n",
    " 'GATS5se',\n",
    " 'GATS8se',\n",
    " 'GATS1p',\n",
    " 'GATS2p',\n",
    " 'BCUTc-1h',\n",
    " 'BCUTc-1l',\n",
    " 'BCUTdv-1h',\n",
    " 'BCUTd-1h',\n",
    " 'BCUTd-1l',\n",
    " 'BCUTs-1h',\n",
    " 'BCUTs-1l',\n",
    " 'BCUTZ-1h',\n",
    " 'BCUTv-1h',\n",
    " 'BCUTv-1l',\n",
    " 'BCUTse-1h',\n",
    " 'BCUTp-1h',\n",
    " 'BCUTp-1l',\n",
    " 'BCUTi-1h',\n",
    " 'BCUTi-1l',\n",
    " 'BertzCT',\n",
    " 'Xc-3dv',\n",
    " 'Xc-5dv',\n",
    " 'Xpc-4d',\n",
    " 'Xpc-4dv',\n",
    " 'AXp-1d',\n",
    " 'AXp-4d',\n",
    " 'AXp-6d',\n",
    " 'Xp-0dv',\n",
    " 'AXp-2dv',\n",
    " 'Mp',\n",
    " 'SdssC',\n",
    " 'MAXsNH2',\n",
    " 'MAXdsN',\n",
    " 'MAXsssN',\n",
    " 'MINdO',\n",
    " 'AETA_alpha',\n",
    " 'ETA_beta',\n",
    " 'ETA_eta',\n",
    " 'AETA_eta',\n",
    " 'ETA_eta_F',\n",
    " 'ETA_epsilon_5',\n",
    " 'fragCpx',\n",
    " 'ZMIC1',\n",
    " 'ZMIC2',\n",
    " 'ZMIC3',\n",
    " 'Kier2',\n",
    " 'Kier3',\n",
    " 'PEOE_VSA1',\n",
    " 'PEOE_VSA5',\n",
    " 'SlogP_VSA2',\n",
    " 'SlogP_VSA3',\n",
    " 'VSA_EState4',\n",
    " 'VSA_EState5',\n",
    " 'VSA_EState8',\n",
    " 'MDEN-23',\n",
    " 'AMID_N',\n",
    " 'nRot',\n",
    " 'SLogP']"
   ]
  },
  {
   "cell_type": "code",
   "execution_count": 2,
   "id": "f14b71e0",
   "metadata": {},
   "outputs": [],
   "source": [
    "list2=['AMID_N',\n",
    " 'MATS6c',\n",
    " 'MDEN-11',\n",
    " 'ATSC1i',\n",
    " 'GATS8Z',\n",
    " 'n10FHRing',\n",
    " 'MAXdsN',\n",
    " 'PEOE_VSA5',\n",
    " 'NdsN',\n",
    " 'SdsssP',\n",
    " 'ATSC2se',\n",
    " 'MATS2se',\n",
    " 'MAXsssN',\n",
    " 'AATSC4i',\n",
    " 'ATSC4i',\n",
    " 'AATSC2dv',\n",
    " 'AETA_eta_B',\n",
    " 'AATSC3d',\n",
    " 'ATSC6i',\n",
    " 'MDEC-11',\n",
    " 'AATSC1se',\n",
    " 'AATSC1pe',\n",
    " 'ATSC6Z',\n",
    " 'MATS4c',\n",
    " 'AETA_eta_FL',\n",
    " 'MATS3d',\n",
    " 'AXp-7dv',\n",
    " 'NsCH3',\n",
    " 'MATS7p',\n",
    " 'MAXsssNH',\n",
    " 'ATSC5s',\n",
    " 'AATSC0Z',\n",
    " 'NaaS',\n",
    " 'NssS',\n",
    " 'n10FARing',\n",
    " 'AETA_eta_L',\n",
    " 'GATS7s',\n",
    " 'AATSC7v',\n",
    " 'GATS2i',\n",
    " 'C1SP2',\n",
    " 'EState_VSA2',\n",
    " 'n9FARing',\n",
    " 'NssNH',\n",
    " 'MATS3i',\n",
    " 'GATS5c',\n",
    " 'nBase',\n",
    " 'MATS4se',\n",
    " 'NtsC',\n",
    " 'AATSC5d',\n",
    " 'AATSC4c',\n",
    " 'ATSC2i',\n",
    " 'SaasC',\n",
    " 'n10FAHRing',\n",
    " 'AETA_beta',\n",
    " 'AXp-7d',\n",
    " 'MDEC-13',\n",
    " 'MATS5d',\n",
    " 'BCUTc-1l',\n",
    " 'MAXdO',\n",
    " 'GATS6v',\n",
    " 'MAXsNH3',\n",
    " 'GATS4v',\n",
    " 'n12Ring',\n",
    " 'GATS2c',\n",
    " 'ATSC7dv',\n",
    " 'GATS6p',\n",
    " 'MATS1Z',\n",
    " 'NsssCH',\n",
    " 'VSA_EState2',\n",
    " 'MINsssCH',\n",
    " 'ATSC5se',\n",
    " 'MATS1v',\n",
    " 'AATSC4dv',\n",
    " 'PEOE_VSA13',\n",
    " 'BCUTZ-1l',\n",
    " 'PEOE_VSA7',\n",
    " 'AATS7v',\n",
    " 'ATSC4d',\n",
    " 'NdssS',\n",
    " 'n9FRing',\n",
    " 'n5aRing',\n",
    " 'SMR_VSA2',\n",
    " 'MAXaasC',\n",
    " 'MAXddssS',\n",
    " 'JGI9',\n",
    " 'MINaasC',\n",
    " 'GATS8v',\n",
    " 'fMF',\n",
    " 'MINssO',\n",
    " 'ATSC4dv',\n",
    " 'GATS6Z',\n",
    " 'SMR_VSA4',\n",
    " 'GATS2s',\n",
    " 'AATSC7Z',\n",
    " 'ATSC8i',\n",
    " 'MATS7Z',\n",
    " 'GATS7c',\n",
    " 'MAXssCH2',\n",
    " 'MINssCH2',\n",
    " 'MINdsCH',\n",
    " 'NdS',\n",
    " 'SsssNH',\n",
    " 'AATSC6se',\n",
    " 'NdsCH',\n",
    " 'nFAHRing',\n",
    " 'n3HRing',\n",
    " 'n9FaRing',\n",
    " 'GATS3p',\n",
    " 'NddsN',\n",
    " 'GATS1se',\n",
    " 'AATS6dv',\n",
    " 'AATSC0pe',\n",
    " 'BCUTare-1l',\n",
    " 'MATS4d',\n",
    " 'AATS7d',\n",
    " 'GATS8d',\n",
    " 'MATS8p',\n",
    " 'ATSC5pe',\n",
    " 'MID_X',\n",
    " 'EState_VSA8',\n",
    " 'GATS4d',\n",
    " 'MATS4dv',\n",
    " 'JGI4',\n",
    " 'BCUTv-1h',\n",
    " 'AATSC8p',\n",
    " 'AATS5i',\n",
    " 'GATS1c',\n",
    " 'MATS1p',\n",
    " 'JGI1']"
   ]
  },
  {
   "cell_type": "code",
   "execution_count": 3,
   "id": "898ccc65",
   "metadata": {},
   "outputs": [
    {
     "data": {
      "text/plain": [
       "129"
      ]
     },
     "execution_count": 3,
     "metadata": {},
     "output_type": "execute_result"
    }
   ],
   "source": [
    "len(list1)"
   ]
  },
  {
   "cell_type": "code",
   "execution_count": 4,
   "id": "110762cc",
   "metadata": {},
   "outputs": [
    {
     "data": {
      "text/plain": [
       "129"
      ]
     },
     "execution_count": 4,
     "metadata": {},
     "output_type": "execute_result"
    }
   ],
   "source": [
    "len(list2)"
   ]
  },
  {
   "cell_type": "code",
   "execution_count": 5,
   "id": "add9d6ae",
   "metadata": {},
   "outputs": [],
   "source": [
    "unique_elements=set(list1+list2)"
   ]
  },
  {
   "cell_type": "code",
   "execution_count": 6,
   "id": "7b466dbe",
   "metadata": {},
   "outputs": [
    {
     "data": {
      "text/plain": [
       "{'AATS0i',\n",
       " 'AATS0p',\n",
       " 'AATS1p',\n",
       " 'AATS1v',\n",
       " 'AATS2i',\n",
       " 'AATS2p',\n",
       " 'AATS3d',\n",
       " 'AATS3i',\n",
       " 'AATS3v',\n",
       " 'AATS5i',\n",
       " 'AATS6dv',\n",
       " 'AATS7d',\n",
       " 'AATS7v',\n",
       " 'AATS8dv',\n",
       " 'AATS8s',\n",
       " 'AATS8se',\n",
       " 'AATSC0Z',\n",
       " 'AATSC0i',\n",
       " 'AATSC0pe',\n",
       " 'AATSC0v',\n",
       " 'AATSC1c',\n",
       " 'AATSC1dv',\n",
       " 'AATSC1p',\n",
       " 'AATSC1pe',\n",
       " 'AATSC1s',\n",
       " 'AATSC1se',\n",
       " 'AATSC1v',\n",
       " 'AATSC2Z',\n",
       " 'AATSC2dv',\n",
       " 'AATSC2s',\n",
       " 'AATSC3d',\n",
       " 'AATSC4c',\n",
       " 'AATSC4dv',\n",
       " 'AATSC4i',\n",
       " 'AATSC4v',\n",
       " 'AATSC5d',\n",
       " 'AATSC6se',\n",
       " 'AATSC7Z',\n",
       " 'AATSC7i',\n",
       " 'AATSC7v',\n",
       " 'AATSC8p',\n",
       " 'AETA_alpha',\n",
       " 'AETA_beta',\n",
       " 'AETA_eta',\n",
       " 'AETA_eta_B',\n",
       " 'AETA_eta_FL',\n",
       " 'AETA_eta_L',\n",
       " 'AMID_N',\n",
       " 'ATS0Z',\n",
       " 'ATS0p',\n",
       " 'ATS0s',\n",
       " 'ATS1Z',\n",
       " 'ATS2s',\n",
       " 'ATS3Z',\n",
       " 'ATSC0c',\n",
       " 'ATSC0i',\n",
       " 'ATSC0pe',\n",
       " 'ATSC0se',\n",
       " 'ATSC0v',\n",
       " 'ATSC1Z',\n",
       " 'ATSC1c',\n",
       " 'ATSC1i',\n",
       " 'ATSC1p',\n",
       " 'ATSC1pe',\n",
       " 'ATSC1s',\n",
       " 'ATSC1se',\n",
       " 'ATSC1v',\n",
       " 'ATSC2Z',\n",
       " 'ATSC2i',\n",
       " 'ATSC2p',\n",
       " 'ATSC2s',\n",
       " 'ATSC2se',\n",
       " 'ATSC3dv',\n",
       " 'ATSC4d',\n",
       " 'ATSC4dv',\n",
       " 'ATSC4i',\n",
       " 'ATSC5pe',\n",
       " 'ATSC5s',\n",
       " 'ATSC5se',\n",
       " 'ATSC6Z',\n",
       " 'ATSC6i',\n",
       " 'ATSC7dv',\n",
       " 'ATSC8i',\n",
       " 'ATSC8v',\n",
       " 'AXp-1d',\n",
       " 'AXp-2dv',\n",
       " 'AXp-4d',\n",
       " 'AXp-6d',\n",
       " 'AXp-7d',\n",
       " 'AXp-7dv',\n",
       " 'BCUTZ-1h',\n",
       " 'BCUTZ-1l',\n",
       " 'BCUTare-1l',\n",
       " 'BCUTc-1h',\n",
       " 'BCUTc-1l',\n",
       " 'BCUTd-1h',\n",
       " 'BCUTd-1l',\n",
       " 'BCUTdv-1h',\n",
       " 'BCUTi-1h',\n",
       " 'BCUTi-1l',\n",
       " 'BCUTp-1h',\n",
       " 'BCUTp-1l',\n",
       " 'BCUTs-1h',\n",
       " 'BCUTs-1l',\n",
       " 'BCUTse-1h',\n",
       " 'BCUTv-1h',\n",
       " 'BCUTv-1l',\n",
       " 'BertzCT',\n",
       " 'C1SP2',\n",
       " 'EState_VSA2',\n",
       " 'EState_VSA8',\n",
       " 'ETA_beta',\n",
       " 'ETA_epsilon_5',\n",
       " 'ETA_eta',\n",
       " 'ETA_eta_F',\n",
       " 'GATS1c',\n",
       " 'GATS1d',\n",
       " 'GATS1p',\n",
       " 'GATS1s',\n",
       " 'GATS1se',\n",
       " 'GATS1v',\n",
       " 'GATS2c',\n",
       " 'GATS2i',\n",
       " 'GATS2p',\n",
       " 'GATS2s',\n",
       " 'GATS3p',\n",
       " 'GATS4d',\n",
       " 'GATS4v',\n",
       " 'GATS5c',\n",
       " 'GATS5s',\n",
       " 'GATS5se',\n",
       " 'GATS6Z',\n",
       " 'GATS6p',\n",
       " 'GATS6v',\n",
       " 'GATS7c',\n",
       " 'GATS7s',\n",
       " 'GATS8Z',\n",
       " 'GATS8c',\n",
       " 'GATS8d',\n",
       " 'GATS8s',\n",
       " 'GATS8se',\n",
       " 'GATS8v',\n",
       " 'JGI1',\n",
       " 'JGI4',\n",
       " 'JGI9',\n",
       " 'Kier2',\n",
       " 'Kier3',\n",
       " 'LogEE_A',\n",
       " 'MATS1Z',\n",
       " 'MATS1p',\n",
       " 'MATS1se',\n",
       " 'MATS1v',\n",
       " 'MATS2se',\n",
       " 'MATS3d',\n",
       " 'MATS3i',\n",
       " 'MATS4c',\n",
       " 'MATS4d',\n",
       " 'MATS4dv',\n",
       " 'MATS4se',\n",
       " 'MATS4v',\n",
       " 'MATS5d',\n",
       " 'MATS6c',\n",
       " 'MATS7Z',\n",
       " 'MATS7p',\n",
       " 'MATS8p',\n",
       " 'MAXaasC',\n",
       " 'MAXdO',\n",
       " 'MAXddssS',\n",
       " 'MAXdsN',\n",
       " 'MAXsNH2',\n",
       " 'MAXsNH3',\n",
       " 'MAXssCH2',\n",
       " 'MAXsssN',\n",
       " 'MAXsssNH',\n",
       " 'MDEC-11',\n",
       " 'MDEC-13',\n",
       " 'MDEN-11',\n",
       " 'MDEN-23',\n",
       " 'MID_X',\n",
       " 'MINaasC',\n",
       " 'MINdO',\n",
       " 'MINdsCH',\n",
       " 'MINssCH2',\n",
       " 'MINssO',\n",
       " 'MINsssCH',\n",
       " 'Mp',\n",
       " 'NaaS',\n",
       " 'NdS',\n",
       " 'NddsN',\n",
       " 'NdsCH',\n",
       " 'NdsN',\n",
       " 'NdssS',\n",
       " 'NsCH3',\n",
       " 'NssNH',\n",
       " 'NssS',\n",
       " 'NsssCH',\n",
       " 'NtsC',\n",
       " 'PEOE_VSA1',\n",
       " 'PEOE_VSA13',\n",
       " 'PEOE_VSA5',\n",
       " 'PEOE_VSA7',\n",
       " 'SLogP',\n",
       " 'SMR_VSA2',\n",
       " 'SMR_VSA4',\n",
       " 'SaasC',\n",
       " 'SdssC',\n",
       " 'SdsssP',\n",
       " 'SlogP_VSA2',\n",
       " 'SlogP_VSA3',\n",
       " 'SpAbs_A',\n",
       " 'SsssNH',\n",
       " 'VR1_A',\n",
       " 'VSA_EState2',\n",
       " 'VSA_EState4',\n",
       " 'VSA_EState5',\n",
       " 'VSA_EState8',\n",
       " 'Xc-3dv',\n",
       " 'Xc-5dv',\n",
       " 'Xp-0dv',\n",
       " 'Xpc-4d',\n",
       " 'Xpc-4dv',\n",
       " 'ZMIC1',\n",
       " 'ZMIC2',\n",
       " 'ZMIC3',\n",
       " 'fMF',\n",
       " 'fragCpx',\n",
       " 'n10FAHRing',\n",
       " 'n10FARing',\n",
       " 'n10FHRing',\n",
       " 'n12Ring',\n",
       " 'n3HRing',\n",
       " 'n5aRing',\n",
       " 'n9FARing',\n",
       " 'n9FRing',\n",
       " 'n9FaRing',\n",
       " 'nBase',\n",
       " 'nFAHRing',\n",
       " 'nH',\n",
       " 'nRot'}"
      ]
     },
     "execution_count": 6,
     "metadata": {},
     "output_type": "execute_result"
    }
   ],
   "source": [
    "unique_elements"
   ]
  },
  {
   "cell_type": "code",
   "execution_count": 7,
   "id": "0353bfdc",
   "metadata": {},
   "outputs": [
    {
     "data": {
      "text/plain": [
       "239"
      ]
     },
     "execution_count": 7,
     "metadata": {},
     "output_type": "execute_result"
    }
   ],
   "source": [
    "len(unique_elements)"
   ]
  },
  {
   "cell_type": "code",
   "execution_count": 8,
   "id": "b58e1a88",
   "metadata": {},
   "outputs": [],
   "source": [
    "import pandas as pd"
   ]
  },
  {
   "cell_type": "code",
   "execution_count": 9,
   "id": "549e17d6",
   "metadata": {},
   "outputs": [],
   "source": [
    "feat_file=pd.read_csv('cancer_mordred_preprocessed.csv')"
   ]
  },
  {
   "cell_type": "code",
   "execution_count": 10,
   "id": "d759c0e2",
   "metadata": {},
   "outputs": [
    {
     "data": {
      "text/html": [
       "<div>\n",
       "<style scoped>\n",
       "    .dataframe tbody tr th:only-of-type {\n",
       "        vertical-align: middle;\n",
       "    }\n",
       "\n",
       "    .dataframe tbody tr th {\n",
       "        vertical-align: top;\n",
       "    }\n",
       "\n",
       "    .dataframe thead th {\n",
       "        text-align: right;\n",
       "    }\n",
       "</style>\n",
       "<table border=\"1\" class=\"dataframe\">\n",
       "  <thead>\n",
       "    <tr style=\"text-align: right;\">\n",
       "      <th></th>\n",
       "      <th>ABC</th>\n",
       "      <th>nAcid</th>\n",
       "      <th>nBase</th>\n",
       "      <th>SpAbs_A</th>\n",
       "      <th>SpMax_A</th>\n",
       "      <th>SpMAD_A</th>\n",
       "      <th>LogEE_A</th>\n",
       "      <th>VE2_A</th>\n",
       "      <th>VR1_A</th>\n",
       "      <th>VR3_A</th>\n",
       "      <th>...</th>\n",
       "      <th>JGI9</th>\n",
       "      <th>JGI10</th>\n",
       "      <th>JGT10</th>\n",
       "      <th>Diameter</th>\n",
       "      <th>TopoShapeIndex</th>\n",
       "      <th>SRW03</th>\n",
       "      <th>SRW05</th>\n",
       "      <th>TSRW10</th>\n",
       "      <th>WPath</th>\n",
       "      <th>mZagreb1</th>\n",
       "    </tr>\n",
       "  </thead>\n",
       "  <tbody>\n",
       "    <tr>\n",
       "      <th>0</th>\n",
       "      <td>0.121378</td>\n",
       "      <td>0.0</td>\n",
       "      <td>0.0</td>\n",
       "      <td>0.165387</td>\n",
       "      <td>0.722883</td>\n",
       "      <td>0.785705</td>\n",
       "      <td>0.625380</td>\n",
       "      <td>0.172377</td>\n",
       "      <td>0.000007</td>\n",
       "      <td>0.325947</td>\n",
       "      <td>...</td>\n",
       "      <td>0.000000</td>\n",
       "      <td>0.000000</td>\n",
       "      <td>0.570573</td>\n",
       "      <td>8.000000e-08</td>\n",
       "      <td>0.60</td>\n",
       "      <td>0.0</td>\n",
       "      <td>0.000000</td>\n",
       "      <td>0.255696</td>\n",
       "      <td>1.210999e-09</td>\n",
       "      <td>0.142857</td>\n",
       "    </tr>\n",
       "    <tr>\n",
       "      <th>1</th>\n",
       "      <td>0.187982</td>\n",
       "      <td>0.2</td>\n",
       "      <td>0.2</td>\n",
       "      <td>0.183974</td>\n",
       "      <td>0.723677</td>\n",
       "      <td>0.830321</td>\n",
       "      <td>0.605608</td>\n",
       "      <td>0.205313</td>\n",
       "      <td>0.001804</td>\n",
       "      <td>0.317939</td>\n",
       "      <td>...</td>\n",
       "      <td>0.460767</td>\n",
       "      <td>0.614607</td>\n",
       "      <td>0.593865</td>\n",
       "      <td>1.000000e+00</td>\n",
       "      <td>0.00</td>\n",
       "      <td>0.0</td>\n",
       "      <td>0.555084</td>\n",
       "      <td>0.412322</td>\n",
       "      <td>1.242729e-02</td>\n",
       "      <td>0.133016</td>\n",
       "    </tr>\n",
       "    <tr>\n",
       "      <th>2</th>\n",
       "      <td>0.161982</td>\n",
       "      <td>0.0</td>\n",
       "      <td>0.0</td>\n",
       "      <td>0.232151</td>\n",
       "      <td>0.766968</td>\n",
       "      <td>0.882304</td>\n",
       "      <td>0.685177</td>\n",
       "      <td>0.152569</td>\n",
       "      <td>0.000011</td>\n",
       "      <td>0.359675</td>\n",
       "      <td>...</td>\n",
       "      <td>0.000000</td>\n",
       "      <td>0.000000</td>\n",
       "      <td>0.431425</td>\n",
       "      <td>8.000000e-08</td>\n",
       "      <td>1.00</td>\n",
       "      <td>0.0</td>\n",
       "      <td>0.000000</td>\n",
       "      <td>0.335127</td>\n",
       "      <td>1.919619e-09</td>\n",
       "      <td>0.125236</td>\n",
       "    </tr>\n",
       "    <tr>\n",
       "      <th>3</th>\n",
       "      <td>0.150052</td>\n",
       "      <td>0.1</td>\n",
       "      <td>0.0</td>\n",
       "      <td>0.183974</td>\n",
       "      <td>0.723677</td>\n",
       "      <td>0.830321</td>\n",
       "      <td>0.605608</td>\n",
       "      <td>0.205313</td>\n",
       "      <td>0.001804</td>\n",
       "      <td>0.317939</td>\n",
       "      <td>...</td>\n",
       "      <td>0.000000</td>\n",
       "      <td>0.000000</td>\n",
       "      <td>0.502729</td>\n",
       "      <td>1.000000e+00</td>\n",
       "      <td>0.00</td>\n",
       "      <td>0.0</td>\n",
       "      <td>0.437189</td>\n",
       "      <td>0.361216</td>\n",
       "      <td>1.586462e-02</td>\n",
       "      <td>0.153556</td>\n",
       "    </tr>\n",
       "    <tr>\n",
       "      <th>4</th>\n",
       "      <td>0.073037</td>\n",
       "      <td>0.0</td>\n",
       "      <td>0.0</td>\n",
       "      <td>0.115319</td>\n",
       "      <td>0.672574</td>\n",
       "      <td>0.876552</td>\n",
       "      <td>0.525463</td>\n",
       "      <td>0.248485</td>\n",
       "      <td>0.000004</td>\n",
       "      <td>0.264019</td>\n",
       "      <td>...</td>\n",
       "      <td>0.000000</td>\n",
       "      <td>0.000000</td>\n",
       "      <td>0.267857</td>\n",
       "      <td>7.000000e-08</td>\n",
       "      <td>0.75</td>\n",
       "      <td>0.0</td>\n",
       "      <td>0.000000</td>\n",
       "      <td>0.204382</td>\n",
       "      <td>3.516658e-10</td>\n",
       "      <td>0.053493</td>\n",
       "    </tr>\n",
       "  </tbody>\n",
       "</table>\n",
       "<p>5 rows × 820 columns</p>\n",
       "</div>"
      ],
      "text/plain": [
       "        ABC  nAcid  nBase   SpAbs_A   SpMax_A   SpMAD_A   LogEE_A     VE2_A  \\\n",
       "0  0.121378    0.0    0.0  0.165387  0.722883  0.785705  0.625380  0.172377   \n",
       "1  0.187982    0.2    0.2  0.183974  0.723677  0.830321  0.605608  0.205313   \n",
       "2  0.161982    0.0    0.0  0.232151  0.766968  0.882304  0.685177  0.152569   \n",
       "3  0.150052    0.1    0.0  0.183974  0.723677  0.830321  0.605608  0.205313   \n",
       "4  0.073037    0.0    0.0  0.115319  0.672574  0.876552  0.525463  0.248485   \n",
       "\n",
       "      VR1_A     VR3_A  ...      JGI9     JGI10     JGT10      Diameter  \\\n",
       "0  0.000007  0.325947  ...  0.000000  0.000000  0.570573  8.000000e-08   \n",
       "1  0.001804  0.317939  ...  0.460767  0.614607  0.593865  1.000000e+00   \n",
       "2  0.000011  0.359675  ...  0.000000  0.000000  0.431425  8.000000e-08   \n",
       "3  0.001804  0.317939  ...  0.000000  0.000000  0.502729  1.000000e+00   \n",
       "4  0.000004  0.264019  ...  0.000000  0.000000  0.267857  7.000000e-08   \n",
       "\n",
       "   TopoShapeIndex  SRW03     SRW05    TSRW10         WPath  mZagreb1  \n",
       "0            0.60    0.0  0.000000  0.255696  1.210999e-09  0.142857  \n",
       "1            0.00    0.0  0.555084  0.412322  1.242729e-02  0.133016  \n",
       "2            1.00    0.0  0.000000  0.335127  1.919619e-09  0.125236  \n",
       "3            0.00    0.0  0.437189  0.361216  1.586462e-02  0.153556  \n",
       "4            0.75    0.0  0.000000  0.204382  3.516658e-10  0.053493  \n",
       "\n",
       "[5 rows x 820 columns]"
      ]
     },
     "execution_count": 10,
     "metadata": {},
     "output_type": "execute_result"
    }
   ],
   "source": [
    "feat_file.head()"
   ]
  },
  {
   "cell_type": "code",
   "execution_count": 11,
   "id": "e27455e1",
   "metadata": {},
   "outputs": [
    {
     "data": {
      "text/plain": [
       "(2129, 820)"
      ]
     },
     "execution_count": 11,
     "metadata": {},
     "output_type": "execute_result"
    }
   ],
   "source": [
    "feat_file.shape"
   ]
  },
  {
   "cell_type": "code",
   "execution_count": 12,
   "id": "0b410c9e",
   "metadata": {},
   "outputs": [
    {
     "data": {
      "text/html": [
       "<div>\n",
       "<style scoped>\n",
       "    .dataframe tbody tr th:only-of-type {\n",
       "        vertical-align: middle;\n",
       "    }\n",
       "\n",
       "    .dataframe tbody tr th {\n",
       "        vertical-align: top;\n",
       "    }\n",
       "\n",
       "    .dataframe thead th {\n",
       "        text-align: right;\n",
       "    }\n",
       "</style>\n",
       "<table border=\"1\" class=\"dataframe\">\n",
       "  <thead>\n",
       "    <tr style=\"text-align: right;\">\n",
       "      <th></th>\n",
       "      <th>Status</th>\n",
       "    </tr>\n",
       "  </thead>\n",
       "  <tbody>\n",
       "    <tr>\n",
       "      <th>0</th>\n",
       "      <td>0</td>\n",
       "    </tr>\n",
       "    <tr>\n",
       "      <th>1</th>\n",
       "      <td>0</td>\n",
       "    </tr>\n",
       "    <tr>\n",
       "      <th>2</th>\n",
       "      <td>0</td>\n",
       "    </tr>\n",
       "    <tr>\n",
       "      <th>3</th>\n",
       "      <td>1</td>\n",
       "    </tr>\n",
       "    <tr>\n",
       "      <th>4</th>\n",
       "      <td>0</td>\n",
       "    </tr>\n",
       "  </tbody>\n",
       "</table>\n",
       "</div>"
      ],
      "text/plain": [
       "   Status\n",
       "0       0\n",
       "1       0\n",
       "2       0\n",
       "3       1\n",
       "4       0"
      ]
     },
     "execution_count": 12,
     "metadata": {},
     "output_type": "execute_result"
    }
   ],
   "source": [
    "label= pd.read_csv('cancer_label.csv')\n",
    "label.head()"
   ]
  },
  {
   "cell_type": "code",
   "execution_count": 13,
   "id": "aae99626",
   "metadata": {},
   "outputs": [],
   "source": [
    "y=label.values.ravel()"
   ]
  },
  {
   "cell_type": "code",
   "execution_count": 14,
   "id": "18842508",
   "metadata": {},
   "outputs": [
    {
     "name": "stderr",
     "output_type": "stream",
     "text": [
      "/tmp/ipykernel_418582/2396830925.py:1: FutureWarning: Passing a set as an indexer is deprecated and will raise in a future version. Use a list instead.\n",
      "  new_df_test=feat_file.loc[:,unique_elements]\n"
     ]
    }
   ],
   "source": [
    "new_df_test=feat_file.loc[:,unique_elements]"
   ]
  },
  {
   "cell_type": "code",
   "execution_count": 16,
   "id": "a9abf4be",
   "metadata": {},
   "outputs": [
    {
     "name": "stderr",
     "output_type": "stream",
     "text": [
      "/tmp/ipykernel_418582/2334440904.py:1: FutureWarning: Passing a set as an indexer is deprecated and will raise in a future version. Use a list instead.\n",
      "  new_df_train=feat_file.loc[:,unique_elements]\n"
     ]
    }
   ],
   "source": [
    "new_df_train=feat_file.loc[:,unique_elements]"
   ]
  },
  {
   "cell_type": "code",
   "execution_count": 25,
   "id": "a89638da",
   "metadata": {},
   "outputs": [],
   "source": [
    "new_df_train.to_csv('merged_mordred.csv',index=False)\n",
    "#new_df_test.to_csv('merged_test_mordred.csv',index=False)\n"
   ]
  },
  {
   "cell_type": "code",
   "execution_count": 26,
   "id": "3978d631",
   "metadata": {},
   "outputs": [],
   "source": [
    "X=new_df_train.values\n"
   ]
  },
  {
   "cell_type": "code",
   "execution_count": 27,
   "id": "25bdfe42",
   "metadata": {},
   "outputs": [],
   "source": [
    "from sklearn.model_selection import train_test_split\n",
    "X_train, X_test, y_train, y_test = train_test_split(X, y, test_size=0.2, random_state=42,shuffle=True)"
   ]
  },
  {
   "cell_type": "code",
   "execution_count": 31,
   "id": "9a7e0ea6",
   "metadata": {},
   "outputs": [],
   "source": [
    "X_train_filtered=X_train\n",
    "X_test_filtered=X_test"
   ]
  },
  {
   "cell_type": "code",
   "execution_count": 32,
   "id": "88f17951",
   "metadata": {},
   "outputs": [
    {
     "data": {
      "text/plain": [
       "(1703, 239)"
      ]
     },
     "execution_count": 32,
     "metadata": {},
     "output_type": "execute_result"
    }
   ],
   "source": [
    "X_train_filtered.shape"
   ]
  },
  {
   "cell_type": "code",
   "execution_count": 33,
   "id": "19805b67",
   "metadata": {},
   "outputs": [],
   "source": [
    "from sklearn import datasets\n",
    "from sklearn.cluster import KMeans\n",
    "from sklearn.metrics import silhouette_score\n",
    "import matplotlib.pyplot as plt\n",
    "from matplotlib.colors import ListedColormap\n",
    "import numpy as np\n",
    "import matplotlib.pyplot as plt\n",
    "from sklearn.datasets import make_blobs\n",
    "from sklearn.cluster import KMeans\n",
    "from sklearn.manifold import TSNE\n",
    "from sklearn.metrics import adjusted_rand_score\n",
    "from sklearn.metrics.cluster import normalized_mutual_info_score"
   ]
  },
  {
   "cell_type": "code",
   "execution_count": 34,
   "id": "608284d4",
   "metadata": {},
   "outputs": [
    {
     "name": "stderr",
     "output_type": "stream",
     "text": [
      "/home/ahujalab4/.conda/envs/asvm/lib/python3.10/site-packages/sklearn/cluster/_kmeans.py:870: FutureWarning: The default value of `n_init` will change from 10 to 'auto' in 1.4. Set the value of `n_init` explicitly to suppress the warning\n",
      "  warnings.warn(\n"
     ]
    }
   ],
   "source": [
    "km = KMeans(n_clusters=2, random_state=42)\n",
    "#Fit the KMeans model\n",
    "km.fit_predict(X_train_filtered)\n",
    "y_pred = km.labels_"
   ]
  },
  {
   "cell_type": "code",
   "execution_count": 35,
   "id": "fac41c2c",
   "metadata": {},
   "outputs": [],
   "source": [
    "from sklearn.metrics import silhouette_score\n",
    "score = silhouette_score(X_train_filtered,y_train, metric='euclidean')\n",
    "ari = adjusted_rand_score(y_train, y_pred)\n",
    "nmi = normalized_mutual_info_score(y_train, y_pred)"
   ]
  },
  {
   "cell_type": "code",
   "execution_count": 36,
   "id": "284f7782",
   "metadata": {},
   "outputs": [],
   "source": [
    "data = pd.DataFrame({'Clustering_scores': ['silhouette_score', 'adjusted_rand_score', 'normalized_mutual_info_score'],\n",
    "        'Scores':[score,ari,nmi]})"
   ]
  },
  {
   "cell_type": "code",
   "execution_count": 37,
   "id": "643cdbdf",
   "metadata": {},
   "outputs": [
    {
     "data": {
      "text/html": [
       "<div>\n",
       "<style scoped>\n",
       "    .dataframe tbody tr th:only-of-type {\n",
       "        vertical-align: middle;\n",
       "    }\n",
       "\n",
       "    .dataframe tbody tr th {\n",
       "        vertical-align: top;\n",
       "    }\n",
       "\n",
       "    .dataframe thead th {\n",
       "        text-align: right;\n",
       "    }\n",
       "</style>\n",
       "<table border=\"1\" class=\"dataframe\">\n",
       "  <thead>\n",
       "    <tr style=\"text-align: right;\">\n",
       "      <th></th>\n",
       "      <th>Clustering_scores</th>\n",
       "      <th>Scores</th>\n",
       "    </tr>\n",
       "  </thead>\n",
       "  <tbody>\n",
       "    <tr>\n",
       "      <th>0</th>\n",
       "      <td>silhouette_score</td>\n",
       "      <td>0.005046</td>\n",
       "    </tr>\n",
       "    <tr>\n",
       "      <th>1</th>\n",
       "      <td>adjusted_rand_score</td>\n",
       "      <td>0.003972</td>\n",
       "    </tr>\n",
       "    <tr>\n",
       "      <th>2</th>\n",
       "      <td>normalized_mutual_info_score</td>\n",
       "      <td>0.003652</td>\n",
       "    </tr>\n",
       "  </tbody>\n",
       "</table>\n",
       "</div>"
      ],
      "text/plain": [
       "              Clustering_scores    Scores\n",
       "0              silhouette_score  0.005046\n",
       "1           adjusted_rand_score  0.003972\n",
       "2  normalized_mutual_info_score  0.003652"
      ]
     },
     "execution_count": 37,
     "metadata": {},
     "output_type": "execute_result"
    }
   ],
   "source": [
    "data"
   ]
  },
  {
   "cell_type": "code",
   "execution_count": 38,
   "id": "ff0bf3b4",
   "metadata": {
    "scrolled": true
   },
   "outputs": [
    {
     "data": {
      "image/png": "[encoded data removed]",
      "text/plain": [
       "<Figure size 640x480 with 1 Axes>"
      ]
     },
     "metadata": {},
     "output_type": "display_data"
    }
   ],
   "source": [
    "# Use t-SNE to reduce dimensionality of data to 2 dimensions\n",
    "tsne = TSNE(n_components=2, perplexity=30, random_state=0)\n",
    "X_tsne = tsne.fit_transform(X_train_filtered)\n",
    "colors = ['blue', 'green']  # red for cluster 0, grey for cluster 1\n",
    "cmap = ListedColormap(colors)\n",
    "\n",
    "#plt.legend()\n",
    "\n",
    "# Plot t-SNE reduced data points colored by cluster label\n",
    "plt.scatter(X_tsne[:, 0], X_tsne[:, 1], c=y_train,cmap=cmap)\n",
    "plt.title('Merged(239) using mordred, score=0.0050')\n",
    "plt.show()"
   ]
  },
  {
   "cell_type": "code",
   "execution_count": 46,
   "id": "54170891",
   "metadata": {},
   "outputs": [],
   "source": [
    "from sklearn.metrics import roc_curve, auc\n",
    "from sklearn.ensemble import RandomForestClassifier\n",
    "from sklearn.metrics import roc_curve, auc\n",
    "from sklearn.ensemble import RandomForestClassifier\n",
    "from sklearn.neighbors import KNeighborsClassifier\n",
    "from sklearn.svm import SVC\n",
    "from sklearn.linear_model import LogisticRegression\n",
    "from xgboost import XGBClassifier\n",
    "from sklearn.naive_bayes import GaussianNB\n",
    "from sklearn.neural_network import MLPClassifier\n",
    "from sklearn.ensemble import ExtraTreesClassifier\n",
    "from sklearn.tree import DecisionTreeClassifier\n",
    "from sklearn.discriminant_analysis import LinearDiscriminantAnalysis\n",
    "import xgboost as xgb\n",
    "import datetime\n",
    "import sklearn\n",
    "from sklearn.metrics import accuracy_score\n",
    "from sklearn.metrics import confusion_matrix\n",
    "from sklearn.metrics import classification_report\n",
    "from sklearn.metrics import accuracy_score, roc_auc_score, matthews_corrcoef, cohen_kappa_score, f1_score, precision_score, recall_score, roc_curve"
   ]
  },
  {
   "cell_type": "markdown",
   "id": "1fb0d440",
   "metadata": {},
   "source": [
    "## RFC"
   ]
  },
  {
   "cell_type": "code",
   "execution_count": 47,
   "id": "12c91ee6",
   "metadata": {},
   "outputs": [],
   "source": [
    "#define random forest classifier\n",
    "forest = RandomForestClassifier(n_jobs=-1, class_weight='balanced', max_depth=5)\n",
    "forest.fit(X_train_filtered,y_train)\n",
    "end=datetime.datetime.now()\n",
    "\n",
    "y_pred_train=forest.predict(X_train_filtered)\n",
    "y_pred_test=forest.predict(X_test_filtered)\n",
    "y_prediction_values_train=forest.predict_proba(X_train_filtered)\n",
    "y_prediction_values_test=forest.predict_proba(X_test_filtered)"
   ]
  },
  {
   "cell_type": "code",
   "execution_count": 48,
   "id": "58e57037",
   "metadata": {},
   "outputs": [
    {
     "name": "stdout",
     "output_type": "stream",
     "text": [
      "confusion matrix\n",
      " [[142  57]\n",
      " [ 88 139]]\n",
      "Classification Report:\n",
      "               precision    recall  f1-score   support\n",
      "\n",
      "           0     0.6174    0.7136    0.6620       199\n",
      "           1     0.7092    0.6123    0.6572       227\n",
      "\n",
      "    accuracy                         0.6596       426\n",
      "   macro avg     0.6633    0.6630    0.6596       426\n",
      "weighted avg     0.6663    0.6596    0.6594       426\n",
      "\n"
     ]
    }
   ],
   "source": [
    "rfc_acc_train=accuracy_score(y_train,y_pred_train)*100\n",
    "rfc_acc_test=accuracy_score(y_test,y_pred_test)*100\n",
    "rfc_mcc_train=matthews_corrcoef(y_train, y_pred_train)\n",
    "rfc_mcc_test=matthews_corrcoef(y_test, y_pred_test)\n",
    "rfc_f1_train=f1_score(y_train, y_pred_train, average='macro')\n",
    "rfc_f1_test=f1_score(y_test, y_pred_test, average='macro')\n",
    "rfc_prec_train=precision_score(y_train, y_pred_train)\n",
    "rfc_prec_test=precision_score(y_test, y_pred_test)\n",
    "rfc_recall_train=recall_score(y_train, y_pred_train)\n",
    "rfc_recall_test=recall_score(y_test, y_pred_test)\n",
    "kappa_train=sklearn.metrics.cohen_kappa_score(y_train,y_pred_train)\n",
    "rfc_kappa_train=kappa_train\n",
    "kappa_test=sklearn.metrics.cohen_kappa_score(y_test,y_pred_test)\n",
    "rfc_kappa_test=kappa_test\n",
    "\n",
    "rfc_auc_train=roc_auc_score(y_train,y_prediction_values_train[:, 1])\n",
    "rfc_auc_test=roc_auc_score(y_test,y_prediction_values_test[:, 1])\n",
    "\n",
    "print(\"confusion matrix\\n\",confusion_matrix(y_test,y_pred_test))\n",
    "print(\"Classification Report:\\n\",classification_report(y_test,y_pred_test,digits=4))"
   ]
  },
  {
   "cell_type": "code",
   "execution_count": 49,
   "id": "03cd520f",
   "metadata": {
    "scrolled": true
   },
   "outputs": [
    {
     "data": {
      "image/png": "[encoded data removed]",
      "text/plain": [
       "<Figure size 640x480 with 1 Axes>"
      ]
     },
     "metadata": {},
     "output_type": "display_data"
    }
   ],
   "source": [
    "#auc\n",
    "fpr, tpr, _ = roc_curve(y_test,y_prediction_values_test[:, 1])\n",
    "roc_auc = auc(fpr, tpr)\n",
    "auc_1=roc_auc\n",
    "\n",
    "#\n",
    "figcount=0\n",
    "Figureset=[]\n",
    "image=plt.figure(figcount)\n",
    "plt.plot(fpr, tpr, 'b', label = 'AUC = %0.2f' % roc_auc)\n",
    "plt.title(\"AUC/ROC\")\n",
    "plt.xlabel('False Positive Rate')\n",
    "plt.ylabel('True Positive Rate')\n",
    "plt.title(\"AUC/ROC\")\n",
    "plt.legend(loc=\"lower right\")\n",
    "figcount+=1\n",
    "Figureset.append(image)\n",
    "plt.show()"
   ]
  },
  {
   "cell_type": "markdown",
   "id": "137b5dd3",
   "metadata": {},
   "source": [
    "## KNN"
   ]
  },
  {
   "cell_type": "code",
   "execution_count": 50,
   "id": "ba092324",
   "metadata": {},
   "outputs": [],
   "source": [
    "from sklearn.neighbors import KNeighborsClassifier\n",
    "KNN=KNeighborsClassifier()\n",
    "KNN.fit(X_train_filtered,y_train)\n",
    "y_pred_test=KNN.predict(X_test_filtered)\n",
    "y_pred_train=KNN.predict(X_train_filtered)\n",
    "\n",
    "\n",
    "y_prediction_values_train=KNN.predict_proba(X_train_filtered)\n",
    "y_prediction_values_test=KNN.predict_proba(X_test_filtered)\n"
   ]
  },
  {
   "cell_type": "code",
   "execution_count": 51,
   "id": "3e98d5a2",
   "metadata": {},
   "outputs": [
    {
     "name": "stdout",
     "output_type": "stream",
     "text": [
      "confusion matrix\n",
      " [[124  75]\n",
      " [ 71 156]]\n",
      "Classification Report:\n",
      "               precision    recall  f1-score   support\n",
      "\n",
      "           0     0.6359    0.6231    0.6294       199\n",
      "           1     0.6753    0.6872    0.6812       227\n",
      "\n",
      "    accuracy                         0.6573       426\n",
      "   macro avg     0.6556    0.6552    0.6553       426\n",
      "weighted avg     0.6569    0.6573    0.6570       426\n",
      "\n"
     ]
    }
   ],
   "source": [
    "knn_acc_train=accuracy_score(y_train,y_pred_train)*100\n",
    "knn_acc_test=accuracy_score(y_test,y_pred_test)*100\n",
    "knn_mcc_train=matthews_corrcoef(y_train, y_pred_train)\n",
    "knn_mcc_test=matthews_corrcoef(y_test, y_pred_test)\n",
    "knn_f1_train=f1_score(y_train, y_pred_train, average='macro')\n",
    "knn_f1_test=f1_score(y_test, y_pred_test, average='macro')\n",
    "knn_prec_train=precision_score(y_train, y_pred_train)\n",
    "knn_prec_test=precision_score(y_test, y_pred_test)\n",
    "knn_recall_train=recall_score(y_train, y_pred_train)\n",
    "knn_recall_test=recall_score(y_test, y_pred_test)\n",
    "knn_kappa_train=sklearn.metrics.cohen_kappa_score(y_train,y_pred_train)\n",
    "\n",
    "knn_kappa_test=sklearn.metrics.cohen_kappa_score(y_test,y_pred_test)\n",
    "\n",
    "knn_auc_train=roc_auc_score(y_train,y_prediction_values_train[:, 1])\n",
    "knn_auc_test=roc_auc_score(y_test,y_prediction_values_test[:, 1])\n",
    "\n",
    "print(\"confusion matrix\\n\",confusion_matrix(y_test,y_pred_test))\n",
    "print(\"Classification Report:\\n\",classification_report(y_test,y_pred_test,digits=4))"
   ]
  },
  {
   "cell_type": "code",
   "execution_count": 52,
   "id": "a0c47a36",
   "metadata": {},
   "outputs": [
    {
     "data": {
      "image/png": "[encoded data removed]",
      "text/plain": [
       "<Figure size 640x480 with 1 Axes>"
      ]
     },
     "metadata": {},
     "output_type": "display_data"
    }
   ],
   "source": [
    "#auc\n",
    "fpr, tpr, _ = roc_curve(y_test,y_prediction_values_test[:, 1])\n",
    "roc_auc = auc(fpr, tpr)\n",
    "auc_2=roc_auc\n",
    "\n",
    "#\n",
    "figcount=0\n",
    "Figureset=[]\n",
    "image=plt.figure(figcount)\n",
    "plt.plot(fpr, tpr, 'b', label = 'AUC = %0.2f' % roc_auc)\n",
    "plt.title(\"AUC/ROC\")\n",
    "plt.xlabel('False Positive Rate')\n",
    "plt.ylabel('True Positive Rate')\n",
    "plt.title(\"AUC/ROC\")\n",
    "plt.legend(loc=\"lower right\")\n",
    "figcount+=1\n",
    "Figureset.append(image)\n",
    "plt.show()"
   ]
  },
  {
   "cell_type": "markdown",
   "id": "d050448c",
   "metadata": {},
   "source": [
    "# SVC"
   ]
  },
  {
   "cell_type": "code",
   "execution_count": 53,
   "id": "c161b476",
   "metadata": {},
   "outputs": [],
   "source": [
    "from sklearn.svm import SVC\n",
    "model=SVC(probability=True)\n",
    "model.fit(X_train_filtered,y_train)\n",
    "y_pred_test=model.predict(X_test_filtered)\n",
    "y_pred_train=model.predict(X_train_filtered)\n",
    "\n",
    "y_prediction_values_train=model.predict_proba(X_train_filtered)\n",
    "y_prediction_values_test=model.predict_proba(X_test_filtered)"
   ]
  },
  {
   "cell_type": "code",
   "execution_count": 54,
   "id": "80f8418b",
   "metadata": {},
   "outputs": [
    {
     "name": "stdout",
     "output_type": "stream",
     "text": [
      "confusion matrix\n",
      " [[116  83]\n",
      " [ 66 161]]\n",
      "Classification Report:\n",
      "               precision    recall  f1-score   support\n",
      "\n",
      "           0     0.6374    0.5829    0.6089       199\n",
      "           1     0.6598    0.7093    0.6837       227\n",
      "\n",
      "    accuracy                         0.6502       426\n",
      "   macro avg     0.6486    0.6461    0.6463       426\n",
      "weighted avg     0.6493    0.6502    0.6487       426\n",
      "\n"
     ]
    }
   ],
   "source": [
    "svc_acc_train=accuracy_score(y_train,y_pred_train)*100\n",
    "svc_acc_test=accuracy_score(y_test,y_pred_test)*100\n",
    "svc_mcc_train=matthews_corrcoef(y_train, y_pred_train)\n",
    "svc_mcc_test=matthews_corrcoef(y_test, y_pred_test)\n",
    "svc_f1_train=f1_score(y_train, y_pred_train, average='macro')\n",
    "svc_f1_test=f1_score(y_test, y_pred_test, average='macro')\n",
    "svc_prec_train=precision_score(y_train, y_pred_train)\n",
    "svc_prec_test=precision_score(y_test, y_pred_test)\n",
    "svc_recall_train=recall_score(y_train, y_pred_train)\n",
    "svc_recall_test=recall_score(y_test, y_pred_test)\n",
    "svc_kappa_train=sklearn.metrics.cohen_kappa_score(y_train,y_pred_train)\n",
    "\n",
    "svc_kappa_test=sklearn.metrics.cohen_kappa_score(y_test,y_pred_test)\n",
    "\n",
    "\n",
    "svc_auc_train=roc_auc_score(y_train,y_prediction_values_train[:, 1])\n",
    "svc_auc_test=roc_auc_score(y_test,y_prediction_values_test[:, 1])\n",
    "\n",
    "print(\"confusion matrix\\n\",confusion_matrix(y_test,y_pred_test))\n",
    "print(\"Classification Report:\\n\",classification_report(y_test,y_pred_test,digits=4))"
   ]
  },
  {
   "cell_type": "code",
   "execution_count": 55,
   "id": "148f0a1d",
   "metadata": {},
   "outputs": [
    {
     "data": {
      "image/png": "[encoded data removed]",
      "text/plain": [
       "<Figure size 640x480 with 1 Axes>"
      ]
     },
     "metadata": {},
     "output_type": "display_data"
    }
   ],
   "source": [
    "#auc\n",
    "fpr, tpr, _ = roc_curve(y_test,y_prediction_values_test[:, 1])\n",
    "roc_auc = auc(fpr, tpr)\n",
    "auc_3=roc_auc\n",
    "\n",
    "#\n",
    "figcount=0\n",
    "Figureset=[]\n",
    "image=plt.figure(figcount)\n",
    "plt.plot(fpr, tpr, 'b', label = 'AUC = %0.2f' % roc_auc)\n",
    "plt.title(\"AUC/ROC\")\n",
    "plt.xlabel('False Positive Rate')\n",
    "plt.ylabel('True Positive Rate')\n",
    "plt.title(\"AUC/ROC\")\n",
    "plt.legend(loc=\"lower right\")\n",
    "figcount+=1\n",
    "Figureset.append(image)\n",
    "plt.show()"
   ]
  },
  {
   "cell_type": "markdown",
   "id": "31030dd7",
   "metadata": {},
   "source": [
    "## Logistic Regression"
   ]
  },
  {
   "cell_type": "code",
   "execution_count": 56,
   "id": "ddfa0c0c",
   "metadata": {},
   "outputs": [
    {
     "name": "stderr",
     "output_type": "stream",
     "text": [
      "/home/ahujalab4/.conda/envs/asvm/lib/python3.10/site-packages/sklearn/linear_model/_logistic.py:458: ConvergenceWarning: lbfgs failed to converge (status=1):\n",
      "STOP: TOTAL NO. of ITERATIONS REACHED LIMIT.\n",
      "\n",
      "Increase the number of iterations (max_iter) or scale the data as shown in:\n",
      "    https://scikit-learn.org/stable/modules/preprocessing.html\n",
      "Please also refer to the documentation for alternative solver options:\n",
      "    https://scikit-learn.org/stable/modules/linear_model.html#logistic-regression\n",
      "  n_iter_i = _check_optimize_result(\n"
     ]
    }
   ],
   "source": [
    "from sklearn.linear_model import LogisticRegression\n",
    "lr=LogisticRegression()\n",
    "lr.fit(X_train_filtered,y_train)\n",
    "y_pred_test=lr.predict(X_test_filtered)\n",
    "y_pred_train=lr.predict(X_train_filtered)\n",
    "\n",
    "y_prediction_values_train=lr.predict_proba(X_train_filtered)\n",
    "y_prediction_values_test=lr.predict_proba(X_test_filtered)                                     "
   ]
  },
  {
   "cell_type": "code",
   "execution_count": 57,
   "id": "07acb54c",
   "metadata": {},
   "outputs": [
    {
     "name": "stdout",
     "output_type": "stream",
     "text": [
      "confusion matrix\n",
      " [[131  68]\n",
      " [ 76 151]]\n",
      "Classification Report:\n",
      "               precision    recall  f1-score   support\n",
      "\n",
      "           0     0.6329    0.6583    0.6453       199\n",
      "           1     0.6895    0.6652    0.6771       227\n",
      "\n",
      "    accuracy                         0.6620       426\n",
      "   macro avg     0.6612    0.6617    0.6612       426\n",
      "weighted avg     0.6630    0.6620    0.6623       426\n",
      "\n"
     ]
    }
   ],
   "source": [
    "lr_acc_train=accuracy_score(y_train,y_pred_train)*100\n",
    "lr_acc_test=accuracy_score(y_test,y_pred_test)*100\n",
    "lr_mcc_train=matthews_corrcoef(y_train, y_pred_train)\n",
    "lr_mcc_test=matthews_corrcoef(y_test, y_pred_test)\n",
    "lr_f1_train=f1_score(y_train, y_pred_train, average='macro')\n",
    "lr_f1_test=f1_score(y_test, y_pred_test, average='macro')\n",
    "lr_prec_train=precision_score(y_train, y_pred_train)\n",
    "lr_prec_test=precision_score(y_test, y_pred_test)\n",
    "lr_recall_train=recall_score(y_train, y_pred_train)\n",
    "lr_recall_test=recall_score(y_test, y_pred_test)\n",
    "lr_kappa_train=sklearn.metrics.cohen_kappa_score(y_train,y_pred_train)\n",
    "\n",
    "lr_kappa_test=sklearn.metrics.cohen_kappa_score(y_test,y_pred_test)\n",
    "\n",
    "lr_auc_train=roc_auc_score(y_train,y_prediction_values_train[:, 1])\n",
    "lr_auc_test=roc_auc_score(y_test,y_prediction_values_test[:, 1])\n",
    "\n",
    "print(\"confusion matrix\\n\",confusion_matrix(y_test,y_pred_test))\n",
    "print(\"Classification Report:\\n\",classification_report(y_test,y_pred_test,digits=4))"
   ]
  },
  {
   "cell_type": "code",
   "execution_count": 58,
   "id": "773143f2",
   "metadata": {},
   "outputs": [
    {
     "data": {
      "image/png": "[encoded data removed]",
      "text/plain": [
       "<Figure size 640x480 with 1 Axes>"
      ]
     },
     "metadata": {},
     "output_type": "display_data"
    }
   ],
   "source": [
    "#auc\n",
    "fpr, tpr, _ = roc_curve(y_test,y_prediction_values_test[:, 1])\n",
    "roc_auc = auc(fpr, tpr)\n",
    "auc_4=roc_auc\n",
    "\n",
    "#\n",
    "figcount=0\n",
    "Figureset=[]\n",
    "image=plt.figure(figcount)\n",
    "plt.plot(fpr, tpr, 'b', label = 'AUC = %0.2f' % roc_auc)\n",
    "plt.title(\"AUC/ROC\")\n",
    "plt.xlabel('False Positive Rate')\n",
    "plt.ylabel('True Positive Rate')\n",
    "plt.title(\"AUC/ROC\")\n",
    "plt.legend(loc=\"lower right\")\n",
    "figcount+=1\n",
    "Figureset.append(image)\n",
    "plt.show()"
   ]
  },
  {
   "cell_type": "markdown",
   "id": "9df14299",
   "metadata": {},
   "source": [
    "# XGB"
   ]
  },
  {
   "cell_type": "code",
   "execution_count": 59,
   "id": "b56884e6",
   "metadata": {},
   "outputs": [
    {
     "name": "stdout",
     "output_type": "stream",
     "text": [
      "[12:01:13] WARNING: ../src/learner.cc:767: \n",
      "Parameters: { \"silent\" } are not used.\n",
      "\n"
     ]
    }
   ],
   "source": [
    "from xgboost import XGBClassifier\n",
    "xgb = XGBClassifier(learning_rate=0.02, n_estimators=600, objective='binary:logistic',silent=True, nthread=1)\n",
    "xgb.fit(X_train_filtered, y_train)\n",
    "y_pred_train = xgb.predict(X_train_filtered)\n",
    "y_pred_test = xgb.predict(X_test_filtered)\n",
    "\n",
    "y_prediction_values_train=xgb.predict_proba(X_train_filtered)\n",
    "y_prediction_values_test=xgb.predict_proba(X_test_filtered)"
   ]
  },
  {
   "cell_type": "code",
   "execution_count": 60,
   "id": "085fc35b",
   "metadata": {},
   "outputs": [
    {
     "name": "stdout",
     "output_type": "stream",
     "text": [
      "confusion matrix\n",
      " [[142  57]\n",
      " [ 76 151]]\n",
      "Classification Report:\n",
      "               precision    recall  f1-score   support\n",
      "\n",
      "           0     0.6514    0.7136    0.6811       199\n",
      "           1     0.7260    0.6652    0.6943       227\n",
      "\n",
      "    accuracy                         0.6878       426\n",
      "   macro avg     0.6887    0.6894    0.6877       426\n",
      "weighted avg     0.6911    0.6878    0.6881       426\n",
      "\n"
     ]
    }
   ],
   "source": [
    "xgb_acc_train=accuracy_score(y_train,y_pred_train)*100\n",
    "xgb_acc_test=accuracy_score(y_test,y_pred_test)*100\n",
    "xgb_mcc_train=matthews_corrcoef(y_train, y_pred_train)\n",
    "xgb_mcc_test=matthews_corrcoef(y_test, y_pred_test)\n",
    "xgb_f1_train=f1_score(y_train, y_pred_train, average='macro')\n",
    "xgb_f1_test=f1_score(y_test, y_pred_test, average='macro')\n",
    "xgb_prec_train=precision_score(y_train, y_pred_train)\n",
    "xgb_prec_test=precision_score(y_test, y_pred_test)\n",
    "xgb_recall_train=recall_score(y_train, y_pred_train)\n",
    "xgb_recall_test=recall_score(y_test, y_pred_test)\n",
    "\n",
    "xgb_kappa_train=sklearn.metrics.cohen_kappa_score(y_train,y_pred_train)\n",
    "\n",
    "xgb_kappa_test=sklearn.metrics.cohen_kappa_score(y_test,y_pred_test)\n",
    "\n",
    "\n",
    "\n",
    "xgb_auc_train=roc_auc_score(y_train,y_prediction_values_train[:, 1])\n",
    "xgb_auc_test=roc_auc_score(y_test,y_prediction_values_test[:, 1])\n",
    "print(\"confusion matrix\\n\",confusion_matrix(y_test,y_pred_test))\n",
    "print(\"Classification Report:\\n\",classification_report(y_test,y_pred_test,digits=4))"
   ]
  },
  {
   "cell_type": "code",
   "execution_count": 61,
   "id": "6c29f537",
   "metadata": {},
   "outputs": [
    {
     "data": {
      "image/png": "[encoded data removed]",
      "text/plain": [
       "<Figure size 640x480 with 1 Axes>"
      ]
     },
     "metadata": {},
     "output_type": "display_data"
    }
   ],
   "source": [
    "#auc\n",
    "fpr, tpr, _ = roc_curve(y_test,y_prediction_values_test[:, 1])\n",
    "roc_auc = auc(fpr, tpr)\n",
    "auc_5=roc_auc\n",
    "\n",
    "#\n",
    "figcount=0\n",
    "Figureset=[]\n",
    "image=plt.figure(figcount)\n",
    "plt.plot(fpr, tpr, 'b', label = 'AUC = %0.2f' % roc_auc)\n",
    "plt.title(\"AUC/ROC\")\n",
    "plt.xlabel('False Positive Rate')\n",
    "plt.ylabel('True Positive Rate')\n",
    "plt.title(\"AUC/ROC\")\n",
    "plt.legend(loc=\"lower right\")\n",
    "figcount+=1\n",
    "Figureset.append(image)\n",
    "plt.show()"
   ]
  },
  {
   "cell_type": "markdown",
   "id": "38bb0c0a",
   "metadata": {},
   "source": [
    "## Gaussian NB"
   ]
  },
  {
   "cell_type": "code",
   "execution_count": 62,
   "id": "81feedda",
   "metadata": {},
   "outputs": [],
   "source": [
    "from sklearn.naive_bayes import GaussianNB\n",
    "clf = GaussianNB()\n",
    "clf.fit(X_train_filtered, y_train)\n",
    "\n",
    "y_pred_train = clf.predict(X_train_filtered)\n",
    "y_pred_test = clf.predict(X_test_filtered)\n",
    "y_prediction_values_train=clf.predict_proba(X_train_filtered)\n",
    "y_prediction_values_test=clf.predict_proba(X_test_filtered)"
   ]
  },
  {
   "cell_type": "code",
   "execution_count": 63,
   "id": "307db28e",
   "metadata": {},
   "outputs": [
    {
     "name": "stdout",
     "output_type": "stream",
     "text": [
      "confusion matrix\n",
      " [[119  80]\n",
      " [ 78 149]]\n",
      "Classification Report:\n",
      "               precision    recall  f1-score   support\n",
      "\n",
      "           0     0.6041    0.5980    0.6010       199\n",
      "           1     0.6507    0.6564    0.6535       227\n",
      "\n",
      "    accuracy                         0.6291       426\n",
      "   macro avg     0.6274    0.6272    0.6273       426\n",
      "weighted avg     0.6289    0.6291    0.6290       426\n",
      "\n"
     ]
    }
   ],
   "source": [
    "clf_acc_train=accuracy_score(y_train,y_pred_train)*100\n",
    "clf_acc_test=accuracy_score(y_test,y_pred_test)*100\n",
    "clf_mcc_train=matthews_corrcoef(y_train, y_pred_train)\n",
    "clf_mcc_test=matthews_corrcoef(y_test, y_pred_test)\n",
    "clf_f1_train=f1_score(y_train, y_pred_train, average='macro')\n",
    "clf_f1_test=f1_score(y_test, y_pred_test, average='macro')\n",
    "clf_prec_train=precision_score(y_train, y_pred_train)\n",
    "clf_prec_test=precision_score(y_test, y_pred_test)\n",
    "clf_recall_train=recall_score(y_train, y_pred_train)\n",
    "clf_recall_test=recall_score(y_test, y_pred_test)\n",
    "clf_kappa_train=sklearn.metrics.cohen_kappa_score(y_train,y_pred_train)\n",
    "\n",
    "clf_kappa_test=sklearn.metrics.cohen_kappa_score(y_test,y_pred_test)\n",
    "\n",
    "clf_auc_train=roc_auc_score(y_train,y_prediction_values_train[:, 1])\n",
    "clf_auc_test=roc_auc_score(y_test,y_prediction_values_test[:, 1])\n",
    "\n",
    "print(\"confusion matrix\\n\",confusion_matrix(y_test,y_pred_test))\n",
    "print(\"Classification Report:\\n\",classification_report(y_test,y_pred_test,digits=4))"
   ]
  },
  {
   "cell_type": "code",
   "execution_count": 64,
   "id": "9959460c",
   "metadata": {},
   "outputs": [
    {
     "data": {
      "image/png": "[encoded data removed]",
      "text/plain": [
       "<Figure size 640x480 with 1 Axes>"
      ]
     },
     "metadata": {},
     "output_type": "display_data"
    }
   ],
   "source": [
    "#auc\n",
    "fpr, tpr, _ = roc_curve(y_test,y_prediction_values_test[:, 1])\n",
    "roc_auc = auc(fpr, tpr)\n",
    "auc_6=roc_auc\n",
    "\n",
    "#\n",
    "figcount=0\n",
    "Figureset=[]\n",
    "image=plt.figure(figcount)\n",
    "plt.plot(fpr, tpr, 'b', label = 'AUC = %0.2f' % roc_auc)\n",
    "plt.title(\"AUC/ROC\")\n",
    "plt.xlabel('False Positive Rate')\n",
    "plt.ylabel('True Positive Rate')\n",
    "plt.title(\"AUC/ROC\")\n",
    "plt.legend(loc=\"lower right\")\n",
    "figcount+=1\n",
    "Figureset.append(image)\n",
    "plt.show()"
   ]
  },
  {
   "cell_type": "markdown",
   "id": "72bd5a44",
   "metadata": {},
   "source": [
    "## MLP"
   ]
  },
  {
   "cell_type": "code",
   "execution_count": 65,
   "id": "824efea7",
   "metadata": {},
   "outputs": [],
   "source": [
    "from sklearn.neural_network import MLPClassifier\n",
    "mlp = MLPClassifier(hidden_layer_sizes=(100,), max_iter=1000)\n",
    "mlp.fit(X_train_filtered, y_train)\n",
    "\n",
    "y_pred_train = mlp.predict(X_train_filtered)\n",
    "y_pred_test = mlp.predict(X_test_filtered)\n",
    "y_prediction_values_train=mlp.predict_proba(X_train_filtered)\n",
    "y_prediction_values_test=mlp.predict_proba(X_test_filtered)"
   ]
  },
  {
   "cell_type": "code",
   "execution_count": 66,
   "id": "82052571",
   "metadata": {},
   "outputs": [
    {
     "name": "stdout",
     "output_type": "stream",
     "text": [
      "confusion matrix\n",
      " [[138  61]\n",
      " [ 70 157]]\n",
      "Classification Report:\n",
      "               precision    recall  f1-score   support\n",
      "\n",
      "           0     0.6635    0.6935    0.6781       199\n",
      "           1     0.7202    0.6916    0.7056       227\n",
      "\n",
      "    accuracy                         0.6925       426\n",
      "   macro avg     0.6918    0.6925    0.6919       426\n",
      "weighted avg     0.6937    0.6925    0.6928       426\n",
      "\n"
     ]
    }
   ],
   "source": [
    "mlp_acc_train=accuracy_score(y_train,y_pred_train)*100\n",
    "mlp_acc_test=accuracy_score(y_test,y_pred_test)*100\n",
    "mlp_mcc_train=matthews_corrcoef(y_train, y_pred_train)\n",
    "mlp_mcc_test=matthews_corrcoef(y_test, y_pred_test)\n",
    "mlp_f1_train=f1_score(y_train, y_pred_train, average='macro')\n",
    "mlp_f1_test=f1_score(y_test, y_pred_test, average='macro')\n",
    "mlp_prec_train=precision_score(y_train, y_pred_train)\n",
    "mlp_prec_test=precision_score(y_test, y_pred_test)\n",
    "mlp_recall_train=recall_score(y_train, y_pred_train)\n",
    "mlp_recall_test=recall_score(y_test, y_pred_test)\n",
    "\n",
    "mlp_kappa_train=sklearn.metrics.cohen_kappa_score(y_train,y_pred_train)\n",
    "\n",
    "mlp_kappa_test=sklearn.metrics.cohen_kappa_score(y_test,y_pred_test)\n",
    "\n",
    "\n",
    "mlp_auc_train=roc_auc_score(y_train,y_prediction_values_train[:, 1])\n",
    "mlp_auc_test=roc_auc_score(y_test,y_prediction_values_test[:, 1])\n",
    "print(\"confusion matrix\\n\",confusion_matrix(y_test,y_pred_test))\n",
    "print(\"Classification Report:\\n\",classification_report(y_test,y_pred_test,digits=4))"
   ]
  },
  {
   "cell_type": "code",
   "execution_count": 67,
   "id": "44cd7257",
   "metadata": {},
   "outputs": [
    {
     "data": {
      "image/png": "[encoded data removed]",
      "text/plain": [
       "<Figure size 640x480 with 1 Axes>"
      ]
     },
     "metadata": {},
     "output_type": "display_data"
    }
   ],
   "source": [
    "#auc\n",
    "fpr, tpr, _ = roc_curve(y_test,y_prediction_values_test[:, 1])\n",
    "roc_auc = auc(fpr, tpr)\n",
    "auc_7=roc_auc\n",
    "\n",
    "#\n",
    "figcount=0\n",
    "Figureset=[]\n",
    "image=plt.figure(figcount)\n",
    "plt.plot(fpr, tpr, 'b', label = 'AUC = %0.2f' % roc_auc)\n",
    "plt.title(\"AUC/ROC\")\n",
    "plt.xlabel('False Positive Rate')\n",
    "plt.ylabel('True Positive Rate')\n",
    "plt.title(\"AUC/ROC\")\n",
    "plt.legend(loc=\"lower right\")\n",
    "figcount+=1\n",
    "Figureset.append(image)\n",
    "plt.show()"
   ]
  },
  {
   "cell_type": "markdown",
   "id": "769e5d9c",
   "metadata": {},
   "source": [
    "## Extratree classifier"
   ]
  },
  {
   "cell_type": "code",
   "execution_count": 68,
   "id": "7e00b6c5",
   "metadata": {},
   "outputs": [],
   "source": [
    "from sklearn.ensemble import ExtraTreesClassifier\n",
    "etc=ExtraTreesClassifier(n_estimators=100, max_depth=None, min_samples_split=2, random_state=42)\n",
    "etc.fit(X_train_filtered, y_train)\n",
    "\n",
    "\n",
    "y_pred_train = etc.predict(X_train_filtered)\n",
    "y_pred_test = etc.predict(X_test_filtered)\n",
    "y_prediction_values_train=etc.predict_proba(X_train_filtered)\n",
    "y_prediction_values_test=etc.predict_proba(X_test_filtered)"
   ]
  },
  {
   "cell_type": "code",
   "execution_count": 69,
   "id": "58bf8105",
   "metadata": {},
   "outputs": [
    {
     "name": "stdout",
     "output_type": "stream",
     "text": [
      "confusion matrix\n",
      " [[134  65]\n",
      " [ 78 149]]\n",
      "Classification Report:\n",
      "               precision    recall  f1-score   support\n",
      "\n",
      "           0     0.6321    0.6734    0.6521       199\n",
      "           1     0.6963    0.6564    0.6757       227\n",
      "\n",
      "    accuracy                         0.6643       426\n",
      "   macro avg     0.6642    0.6649    0.6639       426\n",
      "weighted avg     0.6663    0.6643    0.6647       426\n",
      "\n"
     ]
    }
   ],
   "source": [
    "etc_acc_train=accuracy_score(y_train,y_pred_train)*100\n",
    "etc_acc_test=accuracy_score(y_test,y_pred_test)*100\n",
    "etc_mcc_train=matthews_corrcoef(y_train, y_pred_train)\n",
    "etc_mcc_test=matthews_corrcoef(y_test, y_pred_test)\n",
    "etc_f1_train=f1_score(y_train, y_pred_train, average='macro')\n",
    "etc_f1_test=f1_score(y_test, y_pred_test, average='macro')\n",
    "etc_prec_train=precision_score(y_train, y_pred_train)\n",
    "etc_prec_test=precision_score(y_test, y_pred_test)\n",
    "etc_recall_train=recall_score(y_train, y_pred_train)\n",
    "etc_recall_test=recall_score(y_test, y_pred_test)\n",
    "\n",
    "etc_kappa_train=sklearn.metrics.cohen_kappa_score(y_train,y_pred_train)\n",
    "\n",
    "etc_kappa_test=sklearn.metrics.cohen_kappa_score(y_test,y_pred_test)\n",
    "\n",
    "etc_auc_train=roc_auc_score(y_train,y_prediction_values_train[:, 1])\n",
    "etc_auc_test=roc_auc_score(y_test,y_prediction_values_test[:, 1])\n",
    "\n",
    "\n",
    "print(\"confusion matrix\\n\",confusion_matrix(y_test,y_pred_test))\n",
    "print(\"Classification Report:\\n\",classification_report(y_test,y_pred_test,digits=4))"
   ]
  },
  {
   "cell_type": "code",
   "execution_count": 70,
   "id": "8063b42a",
   "metadata": {},
   "outputs": [
    {
     "data": {
      "image/png": "[encoded data removed]",
      "text/plain": [
       "<Figure size 640x480 with 1 Axes>"
      ]
     },
     "metadata": {},
     "output_type": "display_data"
    }
   ],
   "source": [
    "#auc\n",
    "fpr, tpr, _ = roc_curve(y_test,y_prediction_values_test[:, 1])\n",
    "roc_auc = auc(fpr, tpr)\n",
    "auc_8=roc_auc\n",
    "\n",
    "#\n",
    "figcount=0\n",
    "Figureset=[]\n",
    "image=plt.figure(figcount)\n",
    "plt.plot(fpr, tpr, 'b', label = 'AUC = %0.2f' % roc_auc)\n",
    "plt.title(\"AUC/ROC\")\n",
    "plt.xlabel('False Positive Rate')\n",
    "plt.ylabel('True Positive Rate')\n",
    "plt.title(\"AUC/ROC\")\n",
    "plt.legend(loc=\"lower right\")\n",
    "figcount+=1\n",
    "Figureset.append(image)\n",
    "plt.show()"
   ]
  },
  {
   "cell_type": "markdown",
   "id": "b8afe666",
   "metadata": {},
   "source": [
    "## Decision Tree classifier"
   ]
  },
  {
   "cell_type": "code",
   "execution_count": 71,
   "id": "c4d11400",
   "metadata": {},
   "outputs": [],
   "source": [
    "## Decision Tree classifier\n",
    "\n",
    "from sklearn.tree import DecisionTreeClassifier\n",
    "dtc= DecisionTreeClassifier(criterion='gini',max_depth=5,min_samples_split=2,min_samples_leaf=1,random_state=42)\n",
    "dtc.fit(X_train_filtered, y_train)\n",
    "\n",
    "\n",
    "y_pred_train = dtc.predict(X_train_filtered)\n",
    "y_pred_test = dtc.predict(X_test_filtered)\n",
    "\n",
    "y_prediction_values_train=dtc.predict_proba(X_train_filtered)\n",
    "y_prediction_values_test=dtc.predict_proba(X_test_filtered)                           "
   ]
  },
  {
   "cell_type": "code",
   "execution_count": 72,
   "id": "5ce3b927",
   "metadata": {},
   "outputs": [
    {
     "name": "stdout",
     "output_type": "stream",
     "text": [
      "confusion matrix\n",
      " [[101  98]\n",
      " [ 78 149]]\n",
      "Classification Report:\n",
      "               precision    recall  f1-score   support\n",
      "\n",
      "           0     0.5642    0.5075    0.5344       199\n",
      "           1     0.6032    0.6564    0.6287       227\n",
      "\n",
      "    accuracy                         0.5869       426\n",
      "   macro avg     0.5837    0.5820    0.5815       426\n",
      "weighted avg     0.5850    0.5869    0.5846       426\n",
      "\n"
     ]
    }
   ],
   "source": [
    "dtc_acc_train=accuracy_score(y_train,y_pred_train)*100\n",
    "dtc_acc_test=accuracy_score(y_test,y_pred_test)*100\n",
    "dtc_mcc_train=matthews_corrcoef(y_train, y_pred_train)\n",
    "dtc_mcc_test=matthews_corrcoef(y_test, y_pred_test)\n",
    "dtc_f1_train=f1_score(y_train, y_pred_train, average='macro')\n",
    "dtc_f1_test=f1_score(y_test, y_pred_test, average='macro')\n",
    "dtc_prec_train=precision_score(y_train, y_pred_train)\n",
    "dtc_prec_test=precision_score(y_test, y_pred_test)\n",
    "dtc_recall_train=recall_score(y_train, y_pred_train)\n",
    "dtc_recall_test=recall_score(y_test, y_pred_test)\n",
    "\n",
    "dtc_kappa_train=sklearn.metrics.cohen_kappa_score(y_train,y_pred_train)\n",
    "\n",
    "dtc_kappa_test=sklearn.metrics.cohen_kappa_score(y_test,y_pred_test)\n",
    "\n",
    "dtc_auc_train=roc_auc_score(y_train,y_prediction_values_train[:, 1])\n",
    "dtc_auc_test=roc_auc_score(y_test,y_prediction_values_test[:, 1])\n",
    "print(\"confusion matrix\\n\",confusion_matrix(y_test,y_pred_test))\n",
    "print(\"Classification Report:\\n\",classification_report(y_test,y_pred_test,digits=4))"
   ]
  },
  {
   "cell_type": "code",
   "execution_count": 73,
   "id": "30caaaec",
   "metadata": {},
   "outputs": [
    {
     "data": {
      "image/png": "[encoded data removed]",
      "text/plain": [
       "<Figure size 640x480 with 1 Axes>"
      ]
     },
     "metadata": {},
     "output_type": "display_data"
    }
   ],
   "source": [
    "#auc\n",
    "fpr, tpr, _ = roc_curve(y_test,y_prediction_values_test[:, 1])\n",
    "roc_auc = auc(fpr, tpr)\n",
    "auc_9=roc_auc\n",
    "\n",
    "#\n",
    "figcount=0\n",
    "Figureset=[]\n",
    "image=plt.figure(figcount)\n",
    "plt.plot(fpr, tpr, 'b', label = 'AUC = %0.2f' % roc_auc)\n",
    "plt.title(\"AUC/ROC\")\n",
    "plt.xlabel('False Positive Rate')\n",
    "plt.ylabel('True Positive Rate')\n",
    "plt.title(\"AUC/ROC\")\n",
    "plt.legend(loc=\"lower right\")\n",
    "figcount+=1\n",
    "Figureset.append(image)\n",
    "plt.show()"
   ]
  },
  {
   "cell_type": "markdown",
   "id": "daa30fbc",
   "metadata": {},
   "source": [
    "## LDA"
   ]
  },
  {
   "cell_type": "code",
   "execution_count": 74,
   "id": "9e1ae8df",
   "metadata": {},
   "outputs": [],
   "source": [
    "from sklearn.discriminant_analysis import LinearDiscriminantAnalysis\n",
    "lda = LinearDiscriminantAnalysis()\n",
    "lda.fit(X_train_filtered, y_train)\n",
    "\n",
    "\n",
    "y_pred_train =lda.predict(X_train_filtered)\n",
    "y_pred_test = lda.predict(X_test_filtered)\n",
    "\n",
    "y_prediction_values_train=lda.predict_proba(X_train_filtered)\n",
    "y_prediction_values_test=lda.predict_proba(X_test_filtered)\n",
    "                                                        "
   ]
  },
  {
   "cell_type": "code",
   "execution_count": 75,
   "id": "d864fdf3",
   "metadata": {},
   "outputs": [
    {
     "name": "stdout",
     "output_type": "stream",
     "text": [
      "confusion matrix\n",
      " [[137  62]\n",
      " [ 71 156]]\n",
      "Classification Report:\n",
      "               precision    recall  f1-score   support\n",
      "\n",
      "           0     0.6587    0.6884    0.6732       199\n",
      "           1     0.7156    0.6872    0.7011       227\n",
      "\n",
      "    accuracy                         0.6878       426\n",
      "   macro avg     0.6871    0.6878    0.6872       426\n",
      "weighted avg     0.6890    0.6878    0.6881       426\n",
      "\n"
     ]
    }
   ],
   "source": [
    "lda_acc_train=accuracy_score(y_train,y_pred_train)*100\n",
    "lda_acc_test=accuracy_score(y_test,y_pred_test)*100\n",
    "lda_mcc_train=matthews_corrcoef(y_train, y_pred_train)\n",
    "lda_mcc_test=matthews_corrcoef(y_test, y_pred_test)\n",
    "lda_f1_train=f1_score(y_train, y_pred_train, average='macro')\n",
    "lda_f1_test=f1_score(y_test, y_pred_test, average='macro')\n",
    "lda_prec_train=precision_score(y_train, y_pred_train)\n",
    "lda_prec_test=precision_score(y_test, y_pred_test)\n",
    "lda_recall_train=recall_score(y_train, y_pred_train)\n",
    "lda_recall_test=recall_score(y_test, y_pred_test)\n",
    "\n",
    "lda_kappa_train=sklearn.metrics.cohen_kappa_score(y_train,y_pred_train)\n",
    "\n",
    "lda_kappa_test=sklearn.metrics.cohen_kappa_score(y_test,y_pred_test)\n",
    "\n",
    "\n",
    "lda_auc_train=roc_auc_score(y_train,y_prediction_values_train[:, 1])\n",
    "lda_auc_test=roc_auc_score(y_test,y_prediction_values_test[:, 1])\n",
    "print(\"confusion matrix\\n\",confusion_matrix(y_test,y_pred_test))\n",
    "print(\"Classification Report:\\n\",classification_report(y_test,y_pred_test,digits=4))"
   ]
  },
  {
   "cell_type": "code",
   "execution_count": 76,
   "id": "b01e9ff9",
   "metadata": {},
   "outputs": [
    {
     "data": {
      "image/png": "[encoded data removed]",
      "text/plain": [
       "<Figure size 640x480 with 1 Axes>"
      ]
     },
     "metadata": {},
     "output_type": "display_data"
    }
   ],
   "source": [
    "#auc\n",
    "fpr, tpr, _ = roc_curve(y_test,y_prediction_values_test[:, 1])\n",
    "roc_auc = auc(fpr, tpr)\n",
    "auc_10=roc_auc\n",
    "\n",
    "#\n",
    "figcount=0\n",
    "Figureset=[]\n",
    "image=plt.figure(figcount)\n",
    "plt.plot(fpr, tpr, 'b', label = 'AUC = %0.2f' % roc_auc)\n",
    "plt.title(\"AUC/ROC\")\n",
    "plt.xlabel('False Positive Rate')\n",
    "plt.ylabel('True Positive Rate')\n",
    "plt.title(\"AUC/ROC\")\n",
    "plt.legend(loc=\"lower right\")\n",
    "figcount+=1\n",
    "Figureset.append(image)\n",
    "plt.show()"
   ]
  },
  {
   "cell_type": "code",
   "execution_count": 77,
   "id": "8975d0fe",
   "metadata": {},
   "outputs": [],
   "source": [
    "data_train = {'Model': ['RFC','KNN','SVC','LR','XGB','GNB','MLP','ETC','DTC','LDA'],\n",
    "         'Accuracy_train':[rfc_acc_train,knn_acc_train,svc_acc_train,lr_acc_train,xgb_acc_train,clf_acc_train,mlp_acc_train,etc_acc_train,dtc_acc_train,lda_acc_train],\n",
    "       'MCC Score_train':[rfc_mcc_train,knn_mcc_train,svc_mcc_train,lr_mcc_train,xgb_mcc_train,clf_mcc_train,mlp_mcc_train,etc_mcc_train,dtc_mcc_train,lda_mcc_train],\n",
    "       'F1 Score_train':[rfc_f1_train,knn_f1_train,svc_f1_train,lr_f1_train,xgb_f1_train,clf_f1_train,mlp_f1_train,etc_f1_train,dtc_f1_train,lda_f1_train],\n",
    "       'Precision_train':[rfc_prec_train,knn_prec_train,svc_prec_train,lr_prec_train,xgb_prec_train,clf_prec_train,mlp_prec_train,etc_prec_train,dtc_prec_train,lda_prec_train],\n",
    "       'Recall_train':[rfc_recall_train,knn_recall_train,svc_recall_train,lr_recall_train,xgb_recall_train,clf_recall_train,mlp_recall_train,etc_recall_train,dtc_recall_train,lda_recall_train],\n",
    "         'kappa Score_train':[rfc_kappa_train,knn_kappa_train,svc_kappa_train,lr_kappa_train,xgb_kappa_train,clf_kappa_train,mlp_kappa_train,etc_kappa_train,dtc_kappa_train,lda_kappa_train],\n",
    "       'AUC/ROC_train':[rfc_auc_train,knn_auc_train,svc_auc_train,lr_auc_train,xgb_auc_train,clf_auc_train,mlp_auc_train,etc_auc_train,dtc_auc_train,lda_auc_train]}\n",
    "df_train = pd.DataFrame(data_train)"
   ]
  },
  {
   "cell_type": "code",
   "execution_count": 78,
   "id": "afd640eb",
   "metadata": {},
   "outputs": [],
   "source": [
    "data_test = {'Model': ['RFC','KNN','SVC','LR','XGB','GNB','MLP','ETC','DTC','LDA'],\n",
    "             'Accuracy_test': [rfc_acc_test,knn_acc_test,svc_acc_test,lr_acc_test,xgb_acc_test,clf_acc_test,mlp_acc_test,etc_acc_test,dtc_acc_test,lda_acc_test],\n",
    "             'MCC Score_test':[rfc_mcc_test,knn_mcc_test,svc_mcc_test,lr_mcc_test,xgb_mcc_test,clf_mcc_test,mlp_mcc_test,etc_mcc_test,dtc_mcc_test,lda_mcc_test],\n",
    "              'F1 Score_test':[rfc_f1_test,knn_f1_test,svc_f1_test,lr_f1_test,xgb_f1_test,clf_f1_test,mlp_f1_test,etc_f1_test,dtc_f1_test,lda_f1_test],\n",
    "               'Precision_test':[rfc_prec_test,knn_prec_test,svc_prec_test,lr_prec_test,xgb_prec_test,clf_prec_test,mlp_prec_test,etc_prec_test,dtc_prec_test,lda_prec_test],\n",
    "             'Recall_test':[rfc_recall_test,knn_recall_test,svc_recall_test,lr_recall_test,xgb_recall_test,clf_recall_test,mlp_recall_test,etc_recall_test,dtc_recall_test,lda_recall_test],\n",
    "              'kappa Score_test':[rfc_kappa_test,knn_kappa_test,svc_kappa_test,lr_kappa_test,xgb_kappa_test,clf_kappa_test,mlp_kappa_test,etc_kappa_test,dtc_kappa_test,lda_kappa_test],\n",
    "               'AUC/ROC_test':[rfc_auc_test,knn_auc_test,svc_auc_test,lr_auc_test,xgb_auc_test,clf_auc_test,mlp_auc_test,etc_auc_test,dtc_auc_test,lda_auc_test]}\n",
    "             \n",
    "df_test = pd.DataFrame(data_test)             "
   ]
  },
  {
   "cell_type": "code",
   "execution_count": 79,
   "id": "df529d0c",
   "metadata": {},
   "outputs": [
    {
     "data": {
      "text/html": [
       "<div>\n",
       "<style scoped>\n",
       "    .dataframe tbody tr th:only-of-type {\n",
       "        vertical-align: middle;\n",
       "    }\n",
       "\n",
       "    .dataframe tbody tr th {\n",
       "        vertical-align: top;\n",
       "    }\n",
       "\n",
       "    .dataframe thead th {\n",
       "        text-align: right;\n",
       "    }\n",
       "</style>\n",
       "<table border=\"1\" class=\"dataframe\">\n",
       "  <thead>\n",
       "    <tr style=\"text-align: right;\">\n",
       "      <th></th>\n",
       "      <th>Model</th>\n",
       "      <th>Accuracy_train</th>\n",
       "      <th>MCC Score_train</th>\n",
       "      <th>F1 Score_train</th>\n",
       "      <th>Precision_train</th>\n",
       "      <th>Recall_train</th>\n",
       "      <th>kappa Score_train</th>\n",
       "      <th>AUC/ROC_train</th>\n",
       "    </tr>\n",
       "  </thead>\n",
       "  <tbody>\n",
       "    <tr>\n",
       "      <th>0</th>\n",
       "      <td>RFC</td>\n",
       "      <td>80.857311</td>\n",
       "      <td>0.619984</td>\n",
       "      <td>0.808544</td>\n",
       "      <td>0.842236</td>\n",
       "      <td>0.773090</td>\n",
       "      <td>0.617771</td>\n",
       "      <td>0.905691</td>\n",
       "    </tr>\n",
       "    <tr>\n",
       "      <th>1</th>\n",
       "      <td>KNN</td>\n",
       "      <td>79.741632</td>\n",
       "      <td>0.594374</td>\n",
       "      <td>0.797165</td>\n",
       "      <td>0.800226</td>\n",
       "      <td>0.808438</td>\n",
       "      <td>0.594340</td>\n",
       "      <td>0.884487</td>\n",
       "    </tr>\n",
       "    <tr>\n",
       "      <th>2</th>\n",
       "      <td>SVC</td>\n",
       "      <td>69.406929</td>\n",
       "      <td>0.388782</td>\n",
       "      <td>0.691063</td>\n",
       "      <td>0.679074</td>\n",
       "      <td>0.769669</td>\n",
       "      <td>0.385057</td>\n",
       "      <td>0.769731</td>\n",
       "    </tr>\n",
       "    <tr>\n",
       "      <th>3</th>\n",
       "      <td>LR</td>\n",
       "      <td>70.757487</td>\n",
       "      <td>0.414272</td>\n",
       "      <td>0.706944</td>\n",
       "      <td>0.709392</td>\n",
       "      <td>0.732041</td>\n",
       "      <td>0.414047</td>\n",
       "      <td>0.795686</td>\n",
       "    </tr>\n",
       "    <tr>\n",
       "      <th>4</th>\n",
       "      <td>XGB</td>\n",
       "      <td>99.706400</td>\n",
       "      <td>0.994123</td>\n",
       "      <td>0.997061</td>\n",
       "      <td>0.996583</td>\n",
       "      <td>0.997719</td>\n",
       "      <td>0.994123</td>\n",
       "      <td>0.999921</td>\n",
       "    </tr>\n",
       "    <tr>\n",
       "      <th>5</th>\n",
       "      <td>GNB</td>\n",
       "      <td>62.184381</td>\n",
       "      <td>0.242075</td>\n",
       "      <td>0.620455</td>\n",
       "      <td>0.625404</td>\n",
       "      <td>0.662486</td>\n",
       "      <td>0.241621</td>\n",
       "      <td>0.695540</td>\n",
       "    </tr>\n",
       "    <tr>\n",
       "      <th>6</th>\n",
       "      <td>MLP</td>\n",
       "      <td>88.138579</td>\n",
       "      <td>0.763541</td>\n",
       "      <td>0.881377</td>\n",
       "      <td>0.901308</td>\n",
       "      <td>0.864310</td>\n",
       "      <td>0.762859</td>\n",
       "      <td>0.957839</td>\n",
       "    </tr>\n",
       "    <tr>\n",
       "      <th>7</th>\n",
       "      <td>ETC</td>\n",
       "      <td>99.765120</td>\n",
       "      <td>0.995298</td>\n",
       "      <td>0.997649</td>\n",
       "      <td>0.997719</td>\n",
       "      <td>0.997719</td>\n",
       "      <td>0.995298</td>\n",
       "      <td>0.999986</td>\n",
       "    </tr>\n",
       "    <tr>\n",
       "      <th>8</th>\n",
       "      <td>DTC</td>\n",
       "      <td>70.463887</td>\n",
       "      <td>0.413078</td>\n",
       "      <td>0.699900</td>\n",
       "      <td>0.679808</td>\n",
       "      <td>0.806157</td>\n",
       "      <td>0.405335</td>\n",
       "      <td>0.783312</td>\n",
       "    </tr>\n",
       "    <tr>\n",
       "      <th>9</th>\n",
       "      <td>LDA</td>\n",
       "      <td>75.044040</td>\n",
       "      <td>0.500529</td>\n",
       "      <td>0.750258</td>\n",
       "      <td>0.759174</td>\n",
       "      <td>0.754846</td>\n",
       "      <td>0.500521</td>\n",
       "      <td>0.842696</td>\n",
       "    </tr>\n",
       "  </tbody>\n",
       "</table>\n",
       "</div>"
      ],
      "text/plain": [
       "  Model  Accuracy_train  MCC Score_train  F1 Score_train  Precision_train  \\\n",
       "0   RFC       80.857311         0.619984        0.808544         0.842236   \n",
       "1   KNN       79.741632         0.594374        0.797165         0.800226   \n",
       "2   SVC       69.406929         0.388782        0.691063         0.679074   \n",
       "3    LR       70.757487         0.414272        0.706944         0.709392   \n",
       "4   XGB       99.706400         0.994123        0.997061         0.996583   \n",
       "5   GNB       62.184381         0.242075        0.620455         0.625404   \n",
       "6   MLP       88.138579         0.763541        0.881377         0.901308   \n",
       "7   ETC       99.765120         0.995298        0.997649         0.997719   \n",
       "8   DTC       70.463887         0.413078        0.699900         0.679808   \n",
       "9   LDA       75.044040         0.500529        0.750258         0.759174   \n",
       "\n",
       "   Recall_train  kappa Score_train  AUC/ROC_train  \n",
       "0      0.773090           0.617771       0.905691  \n",
       "1      0.808438           0.594340       0.884487  \n",
       "2      0.769669           0.385057       0.769731  \n",
       "3      0.732041           0.414047       0.795686  \n",
       "4      0.997719           0.994123       0.999921  \n",
       "5      0.662486           0.241621       0.695540  \n",
       "6      0.864310           0.762859       0.957839  \n",
       "7      0.997719           0.995298       0.999986  \n",
       "8      0.806157           0.405335       0.783312  \n",
       "9      0.754846           0.500521       0.842696  "
      ]
     },
     "execution_count": 79,
     "metadata": {},
     "output_type": "execute_result"
    }
   ],
   "source": [
    "df_train"
   ]
  },
  {
   "cell_type": "code",
   "execution_count": 80,
   "id": "b256f296",
   "metadata": {},
   "outputs": [
    {
     "data": {
      "text/html": [
       "<div>\n",
       "<style scoped>\n",
       "    .dataframe tbody tr th:only-of-type {\n",
       "        vertical-align: middle;\n",
       "    }\n",
       "\n",
       "    .dataframe tbody tr th {\n",
       "        vertical-align: top;\n",
       "    }\n",
       "\n",
       "    .dataframe thead th {\n",
       "        text-align: right;\n",
       "    }\n",
       "</style>\n",
       "<table border=\"1\" class=\"dataframe\">\n",
       "  <thead>\n",
       "    <tr style=\"text-align: right;\">\n",
       "      <th></th>\n",
       "      <th>Model</th>\n",
       "      <th>Accuracy_test</th>\n",
       "      <th>MCC Score_test</th>\n",
       "      <th>F1 Score_test</th>\n",
       "      <th>Precision_test</th>\n",
       "      <th>Recall_test</th>\n",
       "      <th>kappa Score_test</th>\n",
       "      <th>AUC/ROC_test</th>\n",
       "    </tr>\n",
       "  </thead>\n",
       "  <tbody>\n",
       "    <tr>\n",
       "      <th>0</th>\n",
       "      <td>RFC</td>\n",
       "      <td>65.962441</td>\n",
       "      <td>0.326239</td>\n",
       "      <td>0.659608</td>\n",
       "      <td>0.709184</td>\n",
       "      <td>0.612335</td>\n",
       "      <td>0.322801</td>\n",
       "      <td>0.725101</td>\n",
       "    </tr>\n",
       "    <tr>\n",
       "      <th>1</th>\n",
       "      <td>KNN</td>\n",
       "      <td>65.727700</td>\n",
       "      <td>0.310781</td>\n",
       "      <td>0.655332</td>\n",
       "      <td>0.675325</td>\n",
       "      <td>0.687225</td>\n",
       "      <td>0.310725</td>\n",
       "      <td>0.692139</td>\n",
       "    </tr>\n",
       "    <tr>\n",
       "      <th>2</th>\n",
       "      <td>SVC</td>\n",
       "      <td>65.023474</td>\n",
       "      <td>0.294671</td>\n",
       "      <td>0.646288</td>\n",
       "      <td>0.659836</td>\n",
       "      <td>0.709251</td>\n",
       "      <td>0.293713</td>\n",
       "      <td>0.715704</td>\n",
       "    </tr>\n",
       "    <tr>\n",
       "      <th>3</th>\n",
       "      <td>LR</td>\n",
       "      <td>66.197183</td>\n",
       "      <td>0.322918</td>\n",
       "      <td>0.661225</td>\n",
       "      <td>0.689498</td>\n",
       "      <td>0.665198</td>\n",
       "      <td>0.322690</td>\n",
       "      <td>0.729927</td>\n",
       "    </tr>\n",
       "    <tr>\n",
       "      <th>4</th>\n",
       "      <td>XGB</td>\n",
       "      <td>68.779343</td>\n",
       "      <td>0.378051</td>\n",
       "      <td>0.687654</td>\n",
       "      <td>0.725962</td>\n",
       "      <td>0.665198</td>\n",
       "      <td>0.376549</td>\n",
       "      <td>0.758373</td>\n",
       "    </tr>\n",
       "    <tr>\n",
       "      <th>5</th>\n",
       "      <td>GNB</td>\n",
       "      <td>62.910798</td>\n",
       "      <td>0.254547</td>\n",
       "      <td>0.627259</td>\n",
       "      <td>0.650655</td>\n",
       "      <td>0.656388</td>\n",
       "      <td>0.254535</td>\n",
       "      <td>0.679831</td>\n",
       "    </tr>\n",
       "    <tr>\n",
       "      <th>6</th>\n",
       "      <td>MLP</td>\n",
       "      <td>69.248826</td>\n",
       "      <td>0.384370</td>\n",
       "      <td>0.691875</td>\n",
       "      <td>0.720183</td>\n",
       "      <td>0.691630</td>\n",
       "      <td>0.384026</td>\n",
       "      <td>0.729418</td>\n",
       "    </tr>\n",
       "    <tr>\n",
       "      <th>7</th>\n",
       "      <td>ETC</td>\n",
       "      <td>66.431925</td>\n",
       "      <td>0.329045</td>\n",
       "      <td>0.663903</td>\n",
       "      <td>0.696262</td>\n",
       "      <td>0.656388</td>\n",
       "      <td>0.328431</td>\n",
       "      <td>0.750437</td>\n",
       "    </tr>\n",
       "    <tr>\n",
       "      <th>8</th>\n",
       "      <td>DTC</td>\n",
       "      <td>58.685446</td>\n",
       "      <td>0.165695</td>\n",
       "      <td>0.581542</td>\n",
       "      <td>0.603239</td>\n",
       "      <td>0.656388</td>\n",
       "      <td>0.164948</td>\n",
       "      <td>0.590043</td>\n",
       "    </tr>\n",
       "    <tr>\n",
       "      <th>9</th>\n",
       "      <td>LDA</td>\n",
       "      <td>68.779343</td>\n",
       "      <td>0.374958</td>\n",
       "      <td>0.687171</td>\n",
       "      <td>0.715596</td>\n",
       "      <td>0.687225</td>\n",
       "      <td>0.374622</td>\n",
       "      <td>0.725013</td>\n",
       "    </tr>\n",
       "  </tbody>\n",
       "</table>\n",
       "</div>"
      ],
      "text/plain": [
       "  Model  Accuracy_test  MCC Score_test  F1 Score_test  Precision_test  \\\n",
       "0   RFC      65.962441        0.326239       0.659608        0.709184   \n",
       "1   KNN      65.727700        0.310781       0.655332        0.675325   \n",
       "2   SVC      65.023474        0.294671       0.646288        0.659836   \n",
       "3    LR      66.197183        0.322918       0.661225        0.689498   \n",
       "4   XGB      68.779343        0.378051       0.687654        0.725962   \n",
       "5   GNB      62.910798        0.254547       0.627259        0.650655   \n",
       "6   MLP      69.248826        0.384370       0.691875        0.720183   \n",
       "7   ETC      66.431925        0.329045       0.663903        0.696262   \n",
       "8   DTC      58.685446        0.165695       0.581542        0.603239   \n",
       "9   LDA      68.779343        0.374958       0.687171        0.715596   \n",
       "\n",
       "   Recall_test  kappa Score_test  AUC/ROC_test  \n",
       "0     0.612335          0.322801      0.725101  \n",
       "1     0.687225          0.310725      0.692139  \n",
       "2     0.709251          0.293713      0.715704  \n",
       "3     0.665198          0.322690      0.729927  \n",
       "4     0.665198          0.376549      0.758373  \n",
       "5     0.656388          0.254535      0.679831  \n",
       "6     0.691630          0.384026      0.729418  \n",
       "7     0.656388          0.328431      0.750437  \n",
       "8     0.656388          0.164948      0.590043  \n",
       "9     0.687225          0.374622      0.725013  "
      ]
     },
     "execution_count": 80,
     "metadata": {},
     "output_type": "execute_result"
    }
   ],
   "source": [
    "df_test\n"
   ]
  },
  {
   "cell_type": "code",
   "execution_count": null,
   "id": "883d931f",
   "metadata": {},
   "outputs": [],
   "source": []
  }
 ],
 "metadata": {
  "kernelspec": {
   "display_name": "asvm",
   "language": "python",
   "name": "asvm"
  },
  "language_info": {
   "codemirror_mode": {
    "name": "ipython",
    "version": 3
   },
   "file_extension": ".py",
   "mimetype": "text/x-python",
   "name": "python",
   "nbconvert_exporter": "python",
   "pygments_lexer": "ipython3",
   "version": "3.10.9"
  }
 },
 "nbformat": 4,
 "nbformat_minor": 5
}

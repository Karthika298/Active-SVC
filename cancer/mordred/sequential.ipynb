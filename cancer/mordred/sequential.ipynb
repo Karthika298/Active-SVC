{
 "cells": [
  {
   "cell_type": "code",
   "execution_count": 1,
   "id": "e4bcdfb6",
   "metadata": {},
   "outputs": [],
   "source": [
    "import pandas as pd\n",
    "import numpy as np\n",
    "import datetime\n",
    "import sklearn\n",
    "import matplotlib.pyplot as plt\n",
    "from sklearn.metrics import roc_curve, auc\n",
    "from sklearn.ensemble import RandomForestClassifier\n",
    "from sklearn.metrics import roc_curve, auc\n",
    "from sklearn.ensemble import RandomForestClassifier\n",
    "from sklearn.neighbors import KNeighborsClassifier\n",
    "from sklearn.svm import SVC\n",
    "from sklearn.linear_model import LogisticRegression\n",
    "from xgboost import XGBClassifier\n",
    "from sklearn.naive_bayes import GaussianNB\n",
    "from sklearn.neural_network import MLPClassifier\n",
    "from sklearn.ensemble import ExtraTreesClassifier\n",
    "from sklearn.tree import DecisionTreeClassifier\n",
    "from sklearn.discriminant_analysis import LinearDiscriminantAnalysis\n",
    "import xgboost as xgb\n",
    "\n",
    "from sklearn.metrics import accuracy_score\n",
    "from sklearn.metrics import confusion_matrix\n",
    "from sklearn.metrics import classification_report\n",
    "from sklearn.metrics import accuracy_score, roc_auc_score, matthews_corrcoef, cohen_kappa_score, f1_score, precision_score, recall_score, roc_curve"
   ]
  },
  {
   "cell_type": "markdown",
   "id": "670d4665",
   "metadata": {},
   "source": [
    "# Loading of data file"
   ]
  },
  {
   "cell_type": "code",
   "execution_count": 2,
   "id": "549e17d6",
   "metadata": {},
   "outputs": [],
   "source": [
    "feat_file=pd.read_csv('cancer_mordred_preprocessed.csv')"
   ]
  },
  {
   "cell_type": "code",
   "execution_count": 3,
   "id": "d759c0e2",
   "metadata": {},
   "outputs": [
    {
     "data": {
      "text/html": [
       "<div>\n",
       "<style scoped>\n",
       "    .dataframe tbody tr th:only-of-type {\n",
       "        vertical-align: middle;\n",
       "    }\n",
       "\n",
       "    .dataframe tbody tr th {\n",
       "        vertical-align: top;\n",
       "    }\n",
       "\n",
       "    .dataframe thead th {\n",
       "        text-align: right;\n",
       "    }\n",
       "</style>\n",
       "<table border=\"1\" class=\"dataframe\">\n",
       "  <thead>\n",
       "    <tr style=\"text-align: right;\">\n",
       "      <th></th>\n",
       "      <th>ABC</th>\n",
       "      <th>nAcid</th>\n",
       "      <th>nBase</th>\n",
       "      <th>SpAbs_A</th>\n",
       "      <th>SpMax_A</th>\n",
       "      <th>SpMAD_A</th>\n",
       "      <th>LogEE_A</th>\n",
       "      <th>VE2_A</th>\n",
       "      <th>VR1_A</th>\n",
       "      <th>VR3_A</th>\n",
       "      <th>...</th>\n",
       "      <th>JGI9</th>\n",
       "      <th>JGI10</th>\n",
       "      <th>JGT10</th>\n",
       "      <th>Diameter</th>\n",
       "      <th>TopoShapeIndex</th>\n",
       "      <th>SRW03</th>\n",
       "      <th>SRW05</th>\n",
       "      <th>TSRW10</th>\n",
       "      <th>WPath</th>\n",
       "      <th>mZagreb1</th>\n",
       "    </tr>\n",
       "  </thead>\n",
       "  <tbody>\n",
       "    <tr>\n",
       "      <th>0</th>\n",
       "      <td>0.121378</td>\n",
       "      <td>0.0</td>\n",
       "      <td>0.0</td>\n",
       "      <td>0.165387</td>\n",
       "      <td>0.722883</td>\n",
       "      <td>0.785705</td>\n",
       "      <td>0.625380</td>\n",
       "      <td>0.172377</td>\n",
       "      <td>0.000007</td>\n",
       "      <td>0.325947</td>\n",
       "      <td>...</td>\n",
       "      <td>0.000000</td>\n",
       "      <td>0.000000</td>\n",
       "      <td>0.570573</td>\n",
       "      <td>8.000000e-08</td>\n",
       "      <td>0.60</td>\n",
       "      <td>0.0</td>\n",
       "      <td>0.000000</td>\n",
       "      <td>0.255696</td>\n",
       "      <td>1.210999e-09</td>\n",
       "      <td>0.142857</td>\n",
       "    </tr>\n",
       "    <tr>\n",
       "      <th>1</th>\n",
       "      <td>0.187982</td>\n",
       "      <td>0.2</td>\n",
       "      <td>0.2</td>\n",
       "      <td>0.183974</td>\n",
       "      <td>0.723677</td>\n",
       "      <td>0.830321</td>\n",
       "      <td>0.605608</td>\n",
       "      <td>0.205313</td>\n",
       "      <td>0.001804</td>\n",
       "      <td>0.317939</td>\n",
       "      <td>...</td>\n",
       "      <td>0.460767</td>\n",
       "      <td>0.614607</td>\n",
       "      <td>0.593865</td>\n",
       "      <td>1.000000e+00</td>\n",
       "      <td>0.00</td>\n",
       "      <td>0.0</td>\n",
       "      <td>0.555084</td>\n",
       "      <td>0.412322</td>\n",
       "      <td>1.242729e-02</td>\n",
       "      <td>0.133016</td>\n",
       "    </tr>\n",
       "    <tr>\n",
       "      <th>2</th>\n",
       "      <td>0.161982</td>\n",
       "      <td>0.0</td>\n",
       "      <td>0.0</td>\n",
       "      <td>0.232151</td>\n",
       "      <td>0.766968</td>\n",
       "      <td>0.882304</td>\n",
       "      <td>0.685177</td>\n",
       "      <td>0.152569</td>\n",
       "      <td>0.000011</td>\n",
       "      <td>0.359675</td>\n",
       "      <td>...</td>\n",
       "      <td>0.000000</td>\n",
       "      <td>0.000000</td>\n",
       "      <td>0.431425</td>\n",
       "      <td>8.000000e-08</td>\n",
       "      <td>1.00</td>\n",
       "      <td>0.0</td>\n",
       "      <td>0.000000</td>\n",
       "      <td>0.335127</td>\n",
       "      <td>1.919619e-09</td>\n",
       "      <td>0.125236</td>\n",
       "    </tr>\n",
       "    <tr>\n",
       "      <th>3</th>\n",
       "      <td>0.150052</td>\n",
       "      <td>0.1</td>\n",
       "      <td>0.0</td>\n",
       "      <td>0.183974</td>\n",
       "      <td>0.723677</td>\n",
       "      <td>0.830321</td>\n",
       "      <td>0.605608</td>\n",
       "      <td>0.205313</td>\n",
       "      <td>0.001804</td>\n",
       "      <td>0.317939</td>\n",
       "      <td>...</td>\n",
       "      <td>0.000000</td>\n",
       "      <td>0.000000</td>\n",
       "      <td>0.502729</td>\n",
       "      <td>1.000000e+00</td>\n",
       "      <td>0.00</td>\n",
       "      <td>0.0</td>\n",
       "      <td>0.437189</td>\n",
       "      <td>0.361216</td>\n",
       "      <td>1.586462e-02</td>\n",
       "      <td>0.153556</td>\n",
       "    </tr>\n",
       "    <tr>\n",
       "      <th>4</th>\n",
       "      <td>0.073037</td>\n",
       "      <td>0.0</td>\n",
       "      <td>0.0</td>\n",
       "      <td>0.115319</td>\n",
       "      <td>0.672574</td>\n",
       "      <td>0.876552</td>\n",
       "      <td>0.525463</td>\n",
       "      <td>0.248485</td>\n",
       "      <td>0.000004</td>\n",
       "      <td>0.264019</td>\n",
       "      <td>...</td>\n",
       "      <td>0.000000</td>\n",
       "      <td>0.000000</td>\n",
       "      <td>0.267857</td>\n",
       "      <td>7.000000e-08</td>\n",
       "      <td>0.75</td>\n",
       "      <td>0.0</td>\n",
       "      <td>0.000000</td>\n",
       "      <td>0.204382</td>\n",
       "      <td>3.516658e-10</td>\n",
       "      <td>0.053493</td>\n",
       "    </tr>\n",
       "  </tbody>\n",
       "</table>\n",
       "<p>5 rows × 820 columns</p>\n",
       "</div>"
      ],
      "text/plain": [
       "        ABC  nAcid  nBase   SpAbs_A   SpMax_A   SpMAD_A   LogEE_A     VE2_A  \\\n",
       "0  0.121378    0.0    0.0  0.165387  0.722883  0.785705  0.625380  0.172377   \n",
       "1  0.187982    0.2    0.2  0.183974  0.723677  0.830321  0.605608  0.205313   \n",
       "2  0.161982    0.0    0.0  0.232151  0.766968  0.882304  0.685177  0.152569   \n",
       "3  0.150052    0.1    0.0  0.183974  0.723677  0.830321  0.605608  0.205313   \n",
       "4  0.073037    0.0    0.0  0.115319  0.672574  0.876552  0.525463  0.248485   \n",
       "\n",
       "      VR1_A     VR3_A  ...      JGI9     JGI10     JGT10      Diameter  \\\n",
       "0  0.000007  0.325947  ...  0.000000  0.000000  0.570573  8.000000e-08   \n",
       "1  0.001804  0.317939  ...  0.460767  0.614607  0.593865  1.000000e+00   \n",
       "2  0.000011  0.359675  ...  0.000000  0.000000  0.431425  8.000000e-08   \n",
       "3  0.001804  0.317939  ...  0.000000  0.000000  0.502729  1.000000e+00   \n",
       "4  0.000004  0.264019  ...  0.000000  0.000000  0.267857  7.000000e-08   \n",
       "\n",
       "   TopoShapeIndex  SRW03     SRW05    TSRW10         WPath  mZagreb1  \n",
       "0            0.60    0.0  0.000000  0.255696  1.210999e-09  0.142857  \n",
       "1            0.00    0.0  0.555084  0.412322  1.242729e-02  0.133016  \n",
       "2            1.00    0.0  0.000000  0.335127  1.919619e-09  0.125236  \n",
       "3            0.00    0.0  0.437189  0.361216  1.586462e-02  0.153556  \n",
       "4            0.75    0.0  0.000000  0.204382  3.516658e-10  0.053493  \n",
       "\n",
       "[5 rows x 820 columns]"
      ]
     },
     "execution_count": 3,
     "metadata": {},
     "output_type": "execute_result"
    }
   ],
   "source": [
    "feat_file.head()"
   ]
  },
  {
   "cell_type": "code",
   "execution_count": 4,
   "id": "e27455e1",
   "metadata": {},
   "outputs": [
    {
     "data": {
      "text/plain": [
       "(2129, 820)"
      ]
     },
     "execution_count": 4,
     "metadata": {},
     "output_type": "execute_result"
    }
   ],
   "source": [
    "feat_file.shape"
   ]
  },
  {
   "cell_type": "code",
   "execution_count": 5,
   "id": "ab7abbc0",
   "metadata": {},
   "outputs": [],
   "source": [
    "X=feat_file.values"
   ]
  },
  {
   "cell_type": "code",
   "execution_count": 6,
   "id": "0b410c9e",
   "metadata": {},
   "outputs": [
    {
     "data": {
      "text/html": [
       "<div>\n",
       "<style scoped>\n",
       "    .dataframe tbody tr th:only-of-type {\n",
       "        vertical-align: middle;\n",
       "    }\n",
       "\n",
       "    .dataframe tbody tr th {\n",
       "        vertical-align: top;\n",
       "    }\n",
       "\n",
       "    .dataframe thead th {\n",
       "        text-align: right;\n",
       "    }\n",
       "</style>\n",
       "<table border=\"1\" class=\"dataframe\">\n",
       "  <thead>\n",
       "    <tr style=\"text-align: right;\">\n",
       "      <th></th>\n",
       "      <th>Status</th>\n",
       "    </tr>\n",
       "  </thead>\n",
       "  <tbody>\n",
       "    <tr>\n",
       "      <th>0</th>\n",
       "      <td>0</td>\n",
       "    </tr>\n",
       "    <tr>\n",
       "      <th>1</th>\n",
       "      <td>0</td>\n",
       "    </tr>\n",
       "    <tr>\n",
       "      <th>2</th>\n",
       "      <td>0</td>\n",
       "    </tr>\n",
       "    <tr>\n",
       "      <th>3</th>\n",
       "      <td>1</td>\n",
       "    </tr>\n",
       "    <tr>\n",
       "      <th>4</th>\n",
       "      <td>0</td>\n",
       "    </tr>\n",
       "  </tbody>\n",
       "</table>\n",
       "</div>"
      ],
      "text/plain": [
       "   Status\n",
       "0       0\n",
       "1       0\n",
       "2       0\n",
       "3       1\n",
       "4       0"
      ]
     },
     "execution_count": 6,
     "metadata": {},
     "output_type": "execute_result"
    }
   ],
   "source": [
    "label= pd.read_csv('cancer_label.csv')\n",
    "label.head()"
   ]
  },
  {
   "cell_type": "code",
   "execution_count": 7,
   "id": "aae99626",
   "metadata": {},
   "outputs": [],
   "source": [
    "y=label.values.ravel()"
   ]
  },
  {
   "cell_type": "markdown",
   "id": "65e88af9",
   "metadata": {},
   "source": [
    "# split\n"
   ]
  },
  {
   "cell_type": "code",
   "execution_count": 8,
   "id": "34aa7a83",
   "metadata": {},
   "outputs": [],
   "source": [
    "from sklearn.model_selection import train_test_split\n",
    "X_train, X_test, y_train, y_test = train_test_split(X, y, test_size=0.2, random_state=42,shuffle=True)"
   ]
  },
  {
   "cell_type": "code",
   "execution_count": 9,
   "id": "c2f140f8",
   "metadata": {},
   "outputs": [
    {
     "data": {
      "text/plain": [
       "(1703, 820)"
      ]
     },
     "execution_count": 9,
     "metadata": {},
     "output_type": "execute_result"
    }
   ],
   "source": [
    "X_train.shape"
   ]
  },
  {
   "cell_type": "markdown",
   "id": "a0f3df4d",
   "metadata": {},
   "source": [
    "# boruta"
   ]
  },
  {
   "cell_type": "code",
   "execution_count": 10,
   "id": "a18256fb",
   "metadata": {},
   "outputs": [],
   "source": [
    "forest = RandomForestClassifier(n_jobs=-1, class_weight='balanced', max_depth=5)\n"
   ]
  },
  {
   "cell_type": "code",
   "execution_count": 11,
   "id": "f45e175b",
   "metadata": {},
   "outputs": [
    {
     "name": "stdout",
     "output_type": "stream",
     "text": [
      "Iteration: \t1 / 100\n",
      "Confirmed: \t0\n",
      "Tentative: \t820\n",
      "Rejected: \t0\n",
      "Iteration: \t2 / 100\n",
      "Confirmed: \t0\n",
      "Tentative: \t820\n",
      "Rejected: \t0\n",
      "Iteration: \t3 / 100\n",
      "Confirmed: \t0\n",
      "Tentative: \t820\n",
      "Rejected: \t0\n",
      "Iteration: \t4 / 100\n",
      "Confirmed: \t0\n",
      "Tentative: \t820\n",
      "Rejected: \t0\n",
      "Iteration: \t5 / 100\n",
      "Confirmed: \t0\n",
      "Tentative: \t820\n",
      "Rejected: \t0\n",
      "Iteration: \t6 / 100\n",
      "Confirmed: \t0\n",
      "Tentative: \t820\n",
      "Rejected: \t0\n",
      "Iteration: \t7 / 100\n",
      "Confirmed: \t0\n",
      "Tentative: \t820\n",
      "Rejected: \t0\n",
      "Iteration: \t8 / 100\n",
      "Confirmed: \t88\n",
      "Tentative: \t201\n",
      "Rejected: \t531\n",
      "Iteration: \t9 / 100\n",
      "Confirmed: \t88\n",
      "Tentative: \t201\n",
      "Rejected: \t531\n",
      "Iteration: \t10 / 100\n",
      "Confirmed: \t88\n",
      "Tentative: \t201\n",
      "Rejected: \t531\n",
      "Iteration: \t11 / 100\n",
      "Confirmed: \t88\n",
      "Tentative: \t201\n",
      "Rejected: \t531\n",
      "Iteration: \t12 / 100\n",
      "Confirmed: \t96\n",
      "Tentative: \t149\n",
      "Rejected: \t575\n",
      "Iteration: \t13 / 100\n",
      "Confirmed: \t96\n",
      "Tentative: \t149\n",
      "Rejected: \t575\n",
      "Iteration: \t14 / 100\n",
      "Confirmed: \t96\n",
      "Tentative: \t149\n",
      "Rejected: \t575\n",
      "Iteration: \t15 / 100\n",
      "Confirmed: \t96\n",
      "Tentative: \t149\n",
      "Rejected: \t575\n",
      "Iteration: \t16 / 100\n",
      "Confirmed: \t99\n",
      "Tentative: \t133\n",
      "Rejected: \t588\n",
      "Iteration: \t17 / 100\n",
      "Confirmed: \t99\n",
      "Tentative: \t133\n",
      "Rejected: \t588\n",
      "Iteration: \t18 / 100\n",
      "Confirmed: \t99\n",
      "Tentative: \t133\n",
      "Rejected: \t588\n",
      "Iteration: \t19 / 100\n",
      "Confirmed: \t102\n",
      "Tentative: \t130\n",
      "Rejected: \t588\n",
      "Iteration: \t20 / 100\n",
      "Confirmed: \t102\n",
      "Tentative: \t130\n",
      "Rejected: \t588\n",
      "Iteration: \t21 / 100\n",
      "Confirmed: \t102\n",
      "Tentative: \t130\n",
      "Rejected: \t588\n",
      "Iteration: \t22 / 100\n",
      "Confirmed: \t106\n",
      "Tentative: \t124\n",
      "Rejected: \t590\n",
      "Iteration: \t23 / 100\n",
      "Confirmed: \t106\n",
      "Tentative: \t124\n",
      "Rejected: \t590\n",
      "Iteration: \t24 / 100\n",
      "Confirmed: \t106\n",
      "Tentative: \t124\n",
      "Rejected: \t590\n",
      "Iteration: \t25 / 100\n",
      "Confirmed: \t106\n",
      "Tentative: \t124\n",
      "Rejected: \t590\n",
      "Iteration: \t26 / 100\n",
      "Confirmed: \t110\n",
      "Tentative: \t113\n",
      "Rejected: \t597\n",
      "Iteration: \t27 / 100\n",
      "Confirmed: \t110\n",
      "Tentative: \t113\n",
      "Rejected: \t597\n",
      "Iteration: \t28 / 100\n",
      "Confirmed: \t110\n",
      "Tentative: \t113\n",
      "Rejected: \t597\n",
      "Iteration: \t29 / 100\n",
      "Confirmed: \t113\n",
      "Tentative: \t110\n",
      "Rejected: \t597\n",
      "Iteration: \t30 / 100\n",
      "Confirmed: \t113\n",
      "Tentative: \t110\n",
      "Rejected: \t597\n",
      "Iteration: \t31 / 100\n",
      "Confirmed: \t113\n",
      "Tentative: \t110\n",
      "Rejected: \t597\n",
      "Iteration: \t32 / 100\n",
      "Confirmed: \t114\n",
      "Tentative: \t109\n",
      "Rejected: \t597\n",
      "Iteration: \t33 / 100\n",
      "Confirmed: \t114\n",
      "Tentative: \t109\n",
      "Rejected: \t597\n",
      "Iteration: \t34 / 100\n",
      "Confirmed: \t117\n",
      "Tentative: \t106\n",
      "Rejected: \t597\n",
      "Iteration: \t35 / 100\n",
      "Confirmed: \t117\n",
      "Tentative: \t106\n",
      "Rejected: \t597\n",
      "Iteration: \t36 / 100\n",
      "Confirmed: \t117\n",
      "Tentative: \t102\n",
      "Rejected: \t601\n",
      "Iteration: \t37 / 100\n",
      "Confirmed: \t118\n",
      "Tentative: \t101\n",
      "Rejected: \t601\n",
      "Iteration: \t38 / 100\n",
      "Confirmed: \t118\n",
      "Tentative: \t101\n",
      "Rejected: \t601\n",
      "Iteration: \t39 / 100\n",
      "Confirmed: \t118\n",
      "Tentative: \t101\n",
      "Rejected: \t601\n",
      "Iteration: \t40 / 100\n",
      "Confirmed: \t119\n",
      "Tentative: \t100\n",
      "Rejected: \t601\n",
      "Iteration: \t41 / 100\n",
      "Confirmed: \t119\n",
      "Tentative: \t100\n",
      "Rejected: \t601\n",
      "Iteration: \t42 / 100\n",
      "Confirmed: \t119\n",
      "Tentative: \t100\n",
      "Rejected: \t601\n",
      "Iteration: \t43 / 100\n",
      "Confirmed: \t122\n",
      "Tentative: \t92\n",
      "Rejected: \t606\n",
      "Iteration: \t44 / 100\n",
      "Confirmed: \t122\n",
      "Tentative: \t92\n",
      "Rejected: \t606\n",
      "Iteration: \t45 / 100\n",
      "Confirmed: \t122\n",
      "Tentative: \t92\n",
      "Rejected: \t606\n",
      "Iteration: \t46 / 100\n",
      "Confirmed: \t122\n",
      "Tentative: \t92\n",
      "Rejected: \t606\n",
      "Iteration: \t47 / 100\n",
      "Confirmed: \t122\n",
      "Tentative: \t92\n",
      "Rejected: \t606\n",
      "Iteration: \t48 / 100\n",
      "Confirmed: \t122\n",
      "Tentative: \t92\n",
      "Rejected: \t606\n",
      "Iteration: \t49 / 100\n",
      "Confirmed: \t124\n",
      "Tentative: \t85\n",
      "Rejected: \t611\n",
      "Iteration: \t50 / 100\n",
      "Confirmed: \t124\n",
      "Tentative: \t85\n",
      "Rejected: \t611\n",
      "Iteration: \t51 / 100\n",
      "Confirmed: \t125\n",
      "Tentative: \t84\n",
      "Rejected: \t611\n",
      "Iteration: \t52 / 100\n",
      "Confirmed: \t125\n",
      "Tentative: \t84\n",
      "Rejected: \t611\n",
      "Iteration: \t53 / 100\n",
      "Confirmed: \t125\n",
      "Tentative: \t84\n",
      "Rejected: \t611\n",
      "Iteration: \t54 / 100\n",
      "Confirmed: \t125\n",
      "Tentative: \t84\n",
      "Rejected: \t611\n",
      "Iteration: \t55 / 100\n",
      "Confirmed: \t125\n",
      "Tentative: \t84\n",
      "Rejected: \t611\n",
      "Iteration: \t56 / 100\n",
      "Confirmed: \t125\n",
      "Tentative: \t84\n",
      "Rejected: \t611\n",
      "Iteration: \t57 / 100\n",
      "Confirmed: \t125\n",
      "Tentative: \t84\n",
      "Rejected: \t611\n",
      "Iteration: \t58 / 100\n",
      "Confirmed: \t125\n",
      "Tentative: \t82\n",
      "Rejected: \t613\n",
      "Iteration: \t59 / 100\n",
      "Confirmed: \t126\n",
      "Tentative: \t81\n",
      "Rejected: \t613\n",
      "Iteration: \t60 / 100\n",
      "Confirmed: \t126\n",
      "Tentative: \t81\n",
      "Rejected: \t613\n",
      "Iteration: \t61 / 100\n",
      "Confirmed: \t126\n",
      "Tentative: \t81\n",
      "Rejected: \t613\n",
      "Iteration: \t62 / 100\n",
      "Confirmed: \t126\n",
      "Tentative: \t81\n",
      "Rejected: \t613\n",
      "Iteration: \t63 / 100\n",
      "Confirmed: \t126\n",
      "Tentative: \t81\n",
      "Rejected: \t613\n",
      "Iteration: \t64 / 100\n",
      "Confirmed: \t126\n",
      "Tentative: \t81\n",
      "Rejected: \t613\n",
      "Iteration: \t65 / 100\n",
      "Confirmed: \t126\n",
      "Tentative: \t81\n",
      "Rejected: \t613\n",
      "Iteration: \t66 / 100\n",
      "Confirmed: \t126\n",
      "Tentative: \t81\n",
      "Rejected: \t613\n",
      "Iteration: \t67 / 100\n",
      "Confirmed: \t126\n",
      "Tentative: \t81\n",
      "Rejected: \t613\n",
      "Iteration: \t68 / 100\n",
      "Confirmed: \t126\n",
      "Tentative: \t81\n",
      "Rejected: \t613\n",
      "Iteration: \t69 / 100\n",
      "Confirmed: \t126\n",
      "Tentative: \t81\n",
      "Rejected: \t613\n",
      "Iteration: \t70 / 100\n",
      "Confirmed: \t126\n",
      "Tentative: \t80\n",
      "Rejected: \t614\n",
      "Iteration: \t71 / 100\n",
      "Confirmed: \t126\n",
      "Tentative: \t80\n",
      "Rejected: \t614\n",
      "Iteration: \t72 / 100\n",
      "Confirmed: \t127\n",
      "Tentative: \t79\n",
      "Rejected: \t614\n",
      "Iteration: \t73 / 100\n",
      "Confirmed: \t127\n",
      "Tentative: \t79\n",
      "Rejected: \t614\n",
      "Iteration: \t74 / 100\n",
      "Confirmed: \t127\n",
      "Tentative: \t79\n",
      "Rejected: \t614\n",
      "Iteration: \t75 / 100\n",
      "Confirmed: \t128\n",
      "Tentative: \t77\n",
      "Rejected: \t615\n",
      "Iteration: \t76 / 100\n",
      "Confirmed: \t128\n",
      "Tentative: \t77\n",
      "Rejected: \t615\n",
      "Iteration: \t77 / 100\n",
      "Confirmed: \t128\n",
      "Tentative: \t77\n",
      "Rejected: \t615\n",
      "Iteration: \t78 / 100\n",
      "Confirmed: \t128\n",
      "Tentative: \t77\n",
      "Rejected: \t615\n",
      "Iteration: \t79 / 100\n",
      "Confirmed: \t128\n",
      "Tentative: \t77\n",
      "Rejected: \t615\n",
      "Iteration: \t80 / 100\n",
      "Confirmed: \t128\n",
      "Tentative: \t77\n",
      "Rejected: \t615\n",
      "Iteration: \t81 / 100\n",
      "Confirmed: \t128\n",
      "Tentative: \t77\n",
      "Rejected: \t615\n",
      "Iteration: \t82 / 100\n",
      "Confirmed: \t128\n",
      "Tentative: \t77\n",
      "Rejected: \t615\n",
      "Iteration: \t83 / 100\n",
      "Confirmed: \t128\n",
      "Tentative: \t77\n",
      "Rejected: \t615\n",
      "Iteration: \t84 / 100\n",
      "Confirmed: \t128\n",
      "Tentative: \t77\n",
      "Rejected: \t615\n",
      "Iteration: \t85 / 100\n",
      "Confirmed: \t129\n",
      "Tentative: \t76\n",
      "Rejected: \t615\n",
      "Iteration: \t86 / 100\n",
      "Confirmed: \t129\n",
      "Tentative: \t76\n",
      "Rejected: \t615\n",
      "Iteration: \t87 / 100\n",
      "Confirmed: \t129\n",
      "Tentative: \t76\n",
      "Rejected: \t615\n",
      "Iteration: \t88 / 100\n",
      "Confirmed: \t129\n",
      "Tentative: \t75\n",
      "Rejected: \t616\n",
      "Iteration: \t89 / 100\n",
      "Confirmed: \t129\n",
      "Tentative: \t75\n",
      "Rejected: \t616\n",
      "Iteration: \t90 / 100\n",
      "Confirmed: \t129\n",
      "Tentative: \t75\n",
      "Rejected: \t616\n",
      "Iteration: \t91 / 100\n",
      "Confirmed: \t129\n",
      "Tentative: \t75\n",
      "Rejected: \t616\n",
      "Iteration: \t92 / 100\n",
      "Confirmed: \t129\n",
      "Tentative: \t75\n",
      "Rejected: \t616\n",
      "Iteration: \t93 / 100\n",
      "Confirmed: \t129\n",
      "Tentative: \t74\n",
      "Rejected: \t617\n",
      "Iteration: \t94 / 100\n",
      "Confirmed: \t129\n",
      "Tentative: \t74\n",
      "Rejected: \t617\n",
      "Iteration: \t95 / 100\n",
      "Confirmed: \t129\n",
      "Tentative: \t74\n",
      "Rejected: \t617\n",
      "Iteration: \t96 / 100\n",
      "Confirmed: \t129\n",
      "Tentative: \t73\n",
      "Rejected: \t618\n",
      "Iteration: \t97 / 100\n",
      "Confirmed: \t129\n",
      "Tentative: \t73\n",
      "Rejected: \t618\n",
      "Iteration: \t98 / 100\n",
      "Confirmed: \t129\n",
      "Tentative: \t72\n",
      "Rejected: \t619\n",
      "Iteration: \t99 / 100\n",
      "Confirmed: \t129\n",
      "Tentative: \t72\n",
      "Rejected: \t619\n",
      "\n",
      "\n",
      "BorutaPy finished running.\n",
      "\n",
      "Iteration: \t100 / 100\n",
      "Confirmed: \t129\n",
      "Tentative: \t47\n",
      "Rejected: \t619\n"
     ]
    }
   ],
   "source": [
    "from boruta import BorutaPy\n",
    "\n",
    "# define Boruta feature selection method\n",
    "feat_selector = BorutaPy(forest, n_estimators='auto', verbose=2, random_state=1)\n",
    "\n",
    "# find all relevant features\n",
    "feat_selector.fit(X_train, y_train)\n",
    "\n",
    "# check selected features\n",
    "feat_selector.support_\n",
    "\n",
    "# check ranking of features\n",
    "feat_selector.ranking_\n",
    "\n",
    "# call transform() on X to filter it down to selected features\n",
    "X_train_filtered = feat_selector.transform(X_train)\n",
    "X_test_filtered = feat_selector.transform(X_test)"
   ]
  },
  {
   "cell_type": "code",
   "execution_count": 12,
   "id": "71aabf00",
   "metadata": {
    "scrolled": true
   },
   "outputs": [
    {
     "data": {
      "text/plain": [
       "(1703, 129)"
      ]
     },
     "execution_count": 12,
     "metadata": {},
     "output_type": "execute_result"
    }
   ],
   "source": [
    "X_train_filtered.shape"
   ]
  },
  {
   "cell_type": "code",
   "execution_count": 13,
   "id": "b3f5eb20",
   "metadata": {},
   "outputs": [
    {
     "data": {
      "text/plain": [
       "(1703,)"
      ]
     },
     "execution_count": 13,
     "metadata": {},
     "output_type": "execute_result"
    }
   ],
   "source": [
    "y_train.shape"
   ]
  },
  {
   "cell_type": "code",
   "execution_count": 14,
   "id": "6231e80a",
   "metadata": {},
   "outputs": [],
   "source": [
    "selected_feat_indices = np.where(feat_selector.support_ == True)[0]"
   ]
  },
  {
   "cell_type": "code",
   "execution_count": 15,
   "id": "f28e6e68",
   "metadata": {},
   "outputs": [
    {
     "data": {
      "text/plain": [
       "array([  2,   3,   6,   8,  14,  28,  30,  32,  33,  34,  35,  44,  47,\n",
       "        61,  72,  73,  87,  88,  89,  90,  97,  99, 100, 106, 107, 117,\n",
       "       131, 132, 139, 140, 147, 148, 155, 156, 157, 158, 161, 165, 166,\n",
       "       168, 171, 172, 175, 176, 177, 185, 194, 211, 212, 221, 228, 229,\n",
       "       232, 238, 247, 250, 257, 264, 300, 303, 305, 313, 331, 334, 343,\n",
       "       351, 355, 358, 367, 370, 375, 379, 382, 383, 384, 399, 400, 401,\n",
       "       403, 404, 405, 406, 407, 409, 410, 411, 415, 416, 417, 418, 429,\n",
       "       457, 459, 461, 462, 464, 467, 469, 471, 474, 481, 529, 558, 565,\n",
       "       567, 598, 601, 605, 611, 612, 615, 626, 634, 654, 655, 656, 658,\n",
       "       659, 662, 666, 683, 684, 704, 705, 707, 726, 732, 795, 797])"
      ]
     },
     "execution_count": 15,
     "metadata": {},
     "output_type": "execute_result"
    }
   ],
   "source": [
    "selected_feat_indices"
   ]
  },
  {
   "cell_type": "code",
   "execution_count": 16,
   "id": "821232cc",
   "metadata": {},
   "outputs": [],
   "source": [
    "selected_feat_names = list(feat_file.columns[selected_feat_indices])"
   ]
  },
  {
   "cell_type": "code",
   "execution_count": 17,
   "id": "18d9f63b",
   "metadata": {},
   "outputs": [
    {
     "data": {
      "text/plain": [
       "['nBase',\n",
       " 'SpAbs_A',\n",
       " 'LogEE_A',\n",
       " 'VR1_A',\n",
       " 'nH',\n",
       " 'ATS0s',\n",
       " 'ATS2s',\n",
       " 'ATS0Z',\n",
       " 'ATS1Z',\n",
       " 'ATS3Z',\n",
       " 'ATS0p',\n",
       " 'AATS8dv',\n",
       " 'AATS3d',\n",
       " 'AATS8s',\n",
       " 'AATS1v',\n",
       " 'AATS3v',\n",
       " 'AATS8se',\n",
       " 'AATS0p',\n",
       " 'AATS1p',\n",
       " 'AATS2p',\n",
       " 'AATS0i',\n",
       " 'AATS2i',\n",
       " 'AATS3i',\n",
       " 'ATSC0c',\n",
       " 'ATSC1c',\n",
       " 'ATSC3dv',\n",
       " 'ATSC1s',\n",
       " 'ATSC2s',\n",
       " 'ATSC1Z',\n",
       " 'ATSC2Z',\n",
       " 'ATSC0v',\n",
       " 'ATSC1v',\n",
       " 'ATSC8v',\n",
       " 'ATSC0se',\n",
       " 'ATSC1se',\n",
       " 'ATSC2se',\n",
       " 'ATSC5se',\n",
       " 'ATSC0pe',\n",
       " 'ATSC1pe',\n",
       " 'ATSC5pe',\n",
       " 'ATSC1p',\n",
       " 'ATSC2p',\n",
       " 'ATSC0i',\n",
       " 'ATSC1i',\n",
       " 'ATSC2i',\n",
       " 'AATSC1c',\n",
       " 'AATSC1dv',\n",
       " 'AATSC1s',\n",
       " 'AATSC2s',\n",
       " 'AATSC2Z',\n",
       " 'AATSC0v',\n",
       " 'AATSC1v',\n",
       " 'AATSC4v',\n",
       " 'AATSC1se',\n",
       " 'AATSC1pe',\n",
       " 'AATSC1p',\n",
       " 'AATSC0i',\n",
       " 'AATSC7i',\n",
       " 'MATS1v',\n",
       " 'MATS4v',\n",
       " 'MATS1se',\n",
       " 'MATS1p',\n",
       " 'GATS5c',\n",
       " 'GATS8c',\n",
       " 'GATS1d',\n",
       " 'GATS1s',\n",
       " 'GATS5s',\n",
       " 'GATS8s',\n",
       " 'GATS1v',\n",
       " 'GATS4v',\n",
       " 'GATS1se',\n",
       " 'GATS5se',\n",
       " 'GATS8se',\n",
       " 'GATS1p',\n",
       " 'GATS2p',\n",
       " 'BCUTc-1h',\n",
       " 'BCUTc-1l',\n",
       " 'BCUTdv-1h',\n",
       " 'BCUTd-1h',\n",
       " 'BCUTd-1l',\n",
       " 'BCUTs-1h',\n",
       " 'BCUTs-1l',\n",
       " 'BCUTZ-1h',\n",
       " 'BCUTv-1h',\n",
       " 'BCUTv-1l',\n",
       " 'BCUTse-1h',\n",
       " 'BCUTp-1h',\n",
       " 'BCUTp-1l',\n",
       " 'BCUTi-1h',\n",
       " 'BCUTi-1l',\n",
       " 'BertzCT',\n",
       " 'Xc-3dv',\n",
       " 'Xc-5dv',\n",
       " 'Xpc-4d',\n",
       " 'Xpc-4dv',\n",
       " 'AXp-1d',\n",
       " 'AXp-4d',\n",
       " 'AXp-6d',\n",
       " 'Xp-0dv',\n",
       " 'AXp-2dv',\n",
       " 'Mp',\n",
       " 'SdssC',\n",
       " 'MAXsNH2',\n",
       " 'MAXdsN',\n",
       " 'MAXsssN',\n",
       " 'MINdO',\n",
       " 'AETA_alpha',\n",
       " 'ETA_beta',\n",
       " 'ETA_eta',\n",
       " 'AETA_eta',\n",
       " 'ETA_eta_F',\n",
       " 'ETA_epsilon_5',\n",
       " 'fragCpx',\n",
       " 'ZMIC1',\n",
       " 'ZMIC2',\n",
       " 'ZMIC3',\n",
       " 'Kier2',\n",
       " 'Kier3',\n",
       " 'PEOE_VSA1',\n",
       " 'PEOE_VSA5',\n",
       " 'SlogP_VSA2',\n",
       " 'SlogP_VSA3',\n",
       " 'VSA_EState4',\n",
       " 'VSA_EState5',\n",
       " 'VSA_EState8',\n",
       " 'MDEN-23',\n",
       " 'AMID_N',\n",
       " 'nRot',\n",
       " 'SLogP']"
      ]
     },
     "execution_count": 17,
     "metadata": {},
     "output_type": "execute_result"
    }
   ],
   "source": [
    "selected_feat_names"
   ]
  },
  {
   "cell_type": "code",
   "execution_count": 18,
   "id": "18ddc9ba",
   "metadata": {},
   "outputs": [],
   "source": [
    "train_x = pd.DataFrame(X_train)\n",
    "test_x = pd.DataFrame(X_test)"
   ]
  },
  {
   "cell_type": "code",
   "execution_count": 19,
   "id": "9a91b19c",
   "metadata": {},
   "outputs": [],
   "source": [
    "train_x.columns=feat_file.columns\n",
    "test_x.columns=feat_file.columns"
   ]
  },
  {
   "cell_type": "code",
   "execution_count": 20,
   "id": "c97450a4",
   "metadata": {},
   "outputs": [],
   "source": [
    "new_df=train_x.loc[:,selected_feat_names]\n",
    "X_train_filtered=new_df\n",
    "\n",
    "new_df_test=test_x.loc[:,selected_feat_names]\n",
    "X_test_filtered=new_df_test"
   ]
  },
  {
   "cell_type": "markdown",
   "id": "8d1eaf42",
   "metadata": {},
   "source": [
    "# Boruta+ActiveSVM"
   ]
  },
  {
   "cell_type": "code",
   "execution_count": 21,
   "id": "177c44c5",
   "metadata": {},
   "outputs": [],
   "source": [
    "from sklearn.preprocessing import StandardScaler\n",
    "from sklearn.decomposition import KernelPCA"
   ]
  },
  {
   "cell_type": "code",
   "execution_count": 22,
   "id": "cae54279",
   "metadata": {},
   "outputs": [],
   "source": [
    "import numpy as np\n",
    "import time\n",
    "import random\n",
    "import os\n",
    "\n",
    "from sklearn.preprocessing import normalize \n",
    "from sklearn.manifold import TSNE\n",
    "from sklearn.decomposition import PCA\n",
    "\n",
    "import matplotlib.pyplot as plt\n",
    "from matplotlib import gridspec\n",
    "\n",
    "from activeSVC import min_complexity, min_acquisition,min_complexity_cv, min_acquisition_cv,min_complexity_h5py, min_acquisition_h5py\n",
    "import pandas as pd\n",
    "import pickle\n",
    "import os, psutil"
   ]
  },
  {
   "cell_type": "code",
   "execution_count": 23,
   "id": "6fa9035a",
   "metadata": {},
   "outputs": [
    {
     "name": "stderr",
     "output_type": "stream",
     "text": [
      "2023-04-24 12:19:29.846035: I tensorflow/core/platform/cpu_feature_guard.cc:182] This TensorFlow binary is optimized to use available CPU instructions in performance-critical operations.\n",
      "To enable the following instructions: AVX2 FMA, in other operations, rebuild TensorFlow with the appropriate compiler flags.\n",
      "2023-04-24 12:19:32.244115: W tensorflow/compiler/tf2tensorrt/utils/py_utils.cc:38] TF-TRT Warning: Could not find TensorRT\n"
     ]
    }
   ],
   "source": [
    "from sklearn.decomposition import KernelPCA\n",
    "from sklearn.preprocessing import StandardScaler\n",
    "from sklearn.multiclass import OneVsRestClassifier\n",
    "from sklearn.utils import class_weight\n",
    "from sklearn.svm import SVC\n",
    "from sklearn.model_selection import GridSearchCV\n",
    "from sklearn.utils import class_weight\n",
    "from sklearn.metrics import roc_curve, auc, roc_auc_score, f1_score\n",
    "from sklearn.model_selection import train_test_split\n",
    "from skmultilearn.model_selection import iterative_train_test_split\n",
    "import pickle\n",
    "from keras.layers import Dense, Activation, Dropout, BatchNormalization, Input\n",
    "from keras.models import Sequential, Model\n",
    "from keras import optimizers, regularizers, initializers\n",
    "from keras.callbacks import ModelCheckpoint, Callback\n",
    "from keras import backend as K\n",
    "from keras.optimizers import Adam\n",
    "import tensorflow as tf\n",
    "import matplotlib.pyplot as plt\n",
    "import warnings\n",
    "warnings.filterwarnings(\"ignore\")"
   ]
  },
  {
   "cell_type": "code",
   "execution_count": 24,
   "id": "d574f4fa",
   "metadata": {},
   "outputs": [],
   "source": [
    "def text_create(path, name, msg):\n",
    "    full_path = path + \"/\" + name + '.pickle'\n",
    "    f=open(full_path,'wb') \n",
    "    pickle.dump(msg,f)\n",
    "    f.close()\n",
    "\n",
    "class TimerError(Exception):\n",
    "     \"\"\"A custom exception used to report errors in use of Timer class\"\"\"\n",
    "\n",
    "class Timer:\n",
    "    def __init__(self):\n",
    "        self._start_time = None\n",
    "\n",
    "    def start(self):\n",
    "        if self._start_time is not None:\n",
    "            raise TimerError(f\"Timer is running. Use .stop() to stop it\")\n",
    "\n",
    "        self._start_time = time.perf_counter()\n",
    "\n",
    "    def stop(self):\n",
    "        if self._start_time is None:\n",
    "            raise TimerError(f\"Timer is not running. Use .start() to start it\")\n",
    "\n",
    "        elapsed_time = time.perf_counter() - self._start_time\n",
    "        self._start_time = None\n",
    "        print(f\"Total run time: {elapsed_time:0.4f} seconds\")\n",
    "        return elapsed_time"
   ]
  },
  {
   "cell_type": "code",
   "execution_count": 25,
   "id": "e49c278f",
   "metadata": {},
   "outputs": [
    {
     "name": "stdout",
     "output_type": "stream",
     "text": [
      "(1703, 129)\n",
      "(1703,)\n",
      "(426, 129)\n",
      "(426,)\n"
     ]
    }
   ],
   "source": [
    "print(np.shape(X_train_filtered))\n",
    "print(np.shape(y_train))\n",
    "print(np.shape(X_test_filtered))\n",
    "print(np.shape(y_test))"
   ]
  },
  {
   "cell_type": "code",
   "execution_count": 26,
   "id": "b2f47d61",
   "metadata": {},
   "outputs": [
    {
     "name": "stdout",
     "output_type": "stream",
     "text": [
      "Elapsed time: 0.6984 seconds\n",
      "feature 0 : gene [103]  200 samples\n",
      "training error=0.46917204932472106 test error=0.45774647887323944\n",
      "training accuracy=0.5308279506752789 test accuracy=0.5422535211267606\n",
      "Elapsed time: 0.8450 seconds\n",
      "feature 1 : gene 104  200 samples\n",
      "training error=0.43335290663534937 test error=0.45774647887323944\n",
      "training accuracy=0.5666470933646506 test accuracy=0.5422535211267606\n",
      "Elapsed time: 0.6520 seconds\n",
      "feature 2 : gene 122  205 samples\n",
      "training error=0.3934233705226072 test error=0.4131455399061033\n",
      "training accuracy=0.6065766294773929 test accuracy=0.5868544600938967\n",
      "Elapsed time: 0.7167 seconds\n",
      "feature 3 : gene 34  242 samples\n",
      "training error=0.39048737522019966 test error=0.3826291079812207\n",
      "training accuracy=0.6095126247798004 test accuracy=0.6173708920187794\n",
      "Elapsed time: 0.5894 seconds\n",
      "feature 4 : gene 61  242 samples\n",
      "training error=0.4028185554903112 test error=0.392018779342723\n",
      "training accuracy=0.5971814445096888 test accuracy=0.607981220657277\n",
      "Elapsed time: 0.6373 seconds\n",
      "feature 5 : gene 11  242 samples\n",
      "training error=0.3928361714621257 test error=0.40375586854460094\n",
      "training accuracy=0.6071638285378743 test accuracy=0.596244131455399\n",
      "Elapsed time: 0.7581 seconds\n",
      "feature 6 : gene 43  255 samples\n",
      "training error=0.369935408103347 test error=0.38967136150234744\n",
      "training accuracy=0.630064591896653 test accuracy=0.6103286384976526\n",
      "Elapsed time: 0.9163 seconds\n",
      "feature 7 : gene 69  262 samples\n",
      "training error=0.3693482090428655 test error=0.392018779342723\n",
      "training accuracy=0.6306517909571344 test accuracy=0.607981220657277\n",
      "Elapsed time: 0.7035 seconds\n",
      "feature 8 : gene 66  262 samples\n",
      "training error=0.35819142689371697 test error=0.38497652582159625\n",
      "training accuracy=0.641808573106283 test accuracy=0.6150234741784038\n",
      "Elapsed time: 0.9037 seconds\n",
      "feature 9 : gene 28  262 samples\n",
      "training error=0.3599530240751615 test error=0.38967136150234744\n",
      "training accuracy=0.6400469759248385 test accuracy=0.6103286384976526\n",
      "Elapsed time: 0.8421 seconds\n",
      "feature 10 : gene 62  262 samples\n",
      "training error=0.360540223135643 test error=0.38028169014084506\n",
      "training accuracy=0.6394597768643571 test accuracy=0.6197183098591549\n",
      "Elapsed time: 0.8186 seconds\n",
      "feature 11 : gene 127  262 samples\n",
      "training error=0.34879624192601294 test error=0.3755868544600939\n",
      "training accuracy=0.6512037580739871 test accuracy=0.6244131455399061\n",
      "Elapsed time: 0.7977 seconds\n",
      "feature 12 : gene 117  265 samples\n",
      "training error=0.3499706400469759 test error=0.3755868544600939\n",
      "training accuracy=0.650029359953024 test accuracy=0.6244131455399061\n",
      "Elapsed time: 0.8336 seconds\n",
      "feature 13 : gene 125  265 samples\n",
      "training error=0.3499706400469759 test error=0.38028169014084506\n",
      "training accuracy=0.650029359953024 test accuracy=0.6197183098591549\n",
      "Elapsed time: 1.0283 seconds\n",
      "feature 14 : gene 7  265 samples\n",
      "training error=0.35231943628890194 test error=0.38967136150234744\n",
      "training accuracy=0.6476805637110981 test accuracy=0.6103286384976526\n",
      "Elapsed time: 0.7792 seconds\n",
      "feature 15 : gene 33  265 samples\n",
      "training error=0.3505578391074574 test error=0.392018779342723\n",
      "training accuracy=0.6494421608925426 test accuracy=0.607981220657277\n",
      "Elapsed time: 0.7984 seconds\n",
      "feature 16 : gene 32  265 samples\n",
      "training error=0.3511450381679389 test error=0.39436619718309857\n",
      "training accuracy=0.648854961832061 test accuracy=0.6056338028169014\n",
      "Elapsed time: 0.8788 seconds\n",
      "feature 17 : gene 110  265 samples\n",
      "training error=0.35231943628890194 test error=0.3967136150234742\n",
      "training accuracy=0.6476805637110981 test accuracy=0.6032863849765259\n",
      "Elapsed time: 0.8759 seconds\n",
      "feature 18 : gene 15  265 samples\n",
      "training error=0.3511450381679389 test error=0.39436619718309857\n",
      "training accuracy=0.648854961832061 test accuracy=0.6056338028169014\n",
      "Elapsed time: 0.8719 seconds\n",
      "feature 19 : gene 107  265 samples\n",
      "training error=0.3505578391074574 test error=0.3967136150234742\n",
      "training accuracy=0.6494421608925426 test accuracy=0.6032863849765259\n",
      "Total run time: 15.9943 seconds\n"
     ]
    }
   ],
   "source": [
    "'''\n",
    "Parameters\n",
    "'''\n",
    "num_features = 20\n",
    "num_samples=100\n",
    "init_samples=200\n",
    "\n",
    "if __name__ == '__main__':\n",
    "\n",
    "    t=Timer()\n",
    "    t.start()\n",
    "    feature_selected, num_samples_list, samples_global, train_errors,test_errors,train_scores,test_scores,step_times= min_acquisition(\n",
    "       X_train_filtered.values,y_train,X_test_filtered.values,y_test,num_features=num_features,num_samples=num_samples, init_samples=init_samples)\n",
    "    elapsed_time=t.stop()"
   ]
  },
  {
   "cell_type": "code",
   "execution_count": 27,
   "id": "dba48d94",
   "metadata": {},
   "outputs": [
    {
     "data": {
      "text/plain": [
       "[103,\n",
       " 104,\n",
       " 122,\n",
       " 34,\n",
       " 61,\n",
       " 11,\n",
       " 43,\n",
       " 69,\n",
       " 66,\n",
       " 28,\n",
       " 62,\n",
       " 127,\n",
       " 117,\n",
       " 125,\n",
       " 7,\n",
       " 33,\n",
       " 32,\n",
       " 110,\n",
       " 15,\n",
       " 107]"
      ]
     },
     "execution_count": 27,
     "metadata": {},
     "output_type": "execute_result"
    }
   ],
   "source": [
    "feature_selected"
   ]
  },
  {
   "cell_type": "code",
   "execution_count": 35,
   "id": "3e8e124a",
   "metadata": {},
   "outputs": [],
   "source": [
    "selected_feat_names = list(X_train_filtered.columns[feature_selected])"
   ]
  },
  {
   "cell_type": "code",
   "execution_count": 36,
   "id": "4435bd5e",
   "metadata": {},
   "outputs": [
    {
     "data": {
      "text/plain": [
       "['MAXdsN',\n",
       " 'MAXsssN',\n",
       " 'VSA_EState4',\n",
       " 'ATSC1se',\n",
       " 'MATS1p',\n",
       " 'AATS8dv',\n",
       " 'ATSC1i',\n",
       " 'GATS4v',\n",
       " 'GATS5s',\n",
       " 'ATSC1Z',\n",
       " 'GATS5c',\n",
       " 'nRot',\n",
       " 'Kier3',\n",
       " 'MDEN-23',\n",
       " 'ATS0Z',\n",
       " 'ATSC0se',\n",
       " 'ATSC8v',\n",
       " 'ETA_eta_F',\n",
       " 'AATS3v',\n",
       " 'ETA_beta']"
      ]
     },
     "execution_count": 36,
     "metadata": {},
     "output_type": "execute_result"
    }
   ],
   "source": [
    "selected_feat_names"
   ]
  },
  {
   "cell_type": "code",
   "execution_count": 37,
   "id": "3aedfbe5",
   "metadata": {},
   "outputs": [],
   "source": [
    "new_df = X_train_filtered.loc[:,selected_feat_names]"
   ]
  },
  {
   "cell_type": "code",
   "execution_count": 39,
   "id": "25b52a1d",
   "metadata": {},
   "outputs": [],
   "source": [
    "new_test=X_test_filtered.loc[:,selected_feat_names]"
   ]
  },
  {
   "cell_type": "code",
   "execution_count": 40,
   "id": "c6075fb1",
   "metadata": {},
   "outputs": [],
   "source": [
    "new_df.to_csv('sequential_train_mordred.csv',index=False)\n",
    "new_test.to_csv('sequential_test_mordred.csv',index=False)"
   ]
  },
  {
   "cell_type": "code",
   "execution_count": 44,
   "id": "5cf6e0b9",
   "metadata": {},
   "outputs": [],
   "source": [
    "X_train_filtered=new_df\n",
    "X_test_filtered=new_test"
   ]
  },
  {
   "cell_type": "code",
   "execution_count": 43,
   "id": "6b9185b5",
   "metadata": {},
   "outputs": [
    {
     "data": {
      "text/plain": [
       "(1703, 20)"
      ]
     },
     "execution_count": 43,
     "metadata": {},
     "output_type": "execute_result"
    }
   ],
   "source": [
    "X_train_filtered.shape"
   ]
  },
  {
   "cell_type": "code",
   "execution_count": 46,
   "id": "da504b45",
   "metadata": {},
   "outputs": [
    {
     "data": {
      "text/plain": [
       "(426, 20)"
      ]
     },
     "execution_count": 46,
     "metadata": {},
     "output_type": "execute_result"
    }
   ],
   "source": [
    "X_test_filtered.shape"
   ]
  },
  {
   "cell_type": "code",
   "execution_count": 47,
   "id": "19805b67",
   "metadata": {},
   "outputs": [],
   "source": [
    "from sklearn import datasets\n",
    "from sklearn.cluster import KMeans\n",
    "from sklearn.metrics import silhouette_score\n",
    "import matplotlib.pyplot as plt\n",
    "from matplotlib.colors import ListedColormap\n",
    "import numpy as np\n",
    "import matplotlib.pyplot as plt\n",
    "from sklearn.datasets import make_blobs\n",
    "from sklearn.cluster import KMeans\n",
    "from sklearn.manifold import TSNE\n",
    "from sklearn.metrics import adjusted_rand_score\n",
    "from sklearn.metrics.cluster import normalized_mutual_info_score"
   ]
  },
  {
   "cell_type": "code",
   "execution_count": 48,
   "id": "608284d4",
   "metadata": {},
   "outputs": [],
   "source": [
    "km = KMeans(n_clusters=2, random_state=42)\n",
    "#Fit the KMeans model\n",
    "km.fit_predict(X_train_filtered)\n",
    "y_pred = km.labels_"
   ]
  },
  {
   "cell_type": "code",
   "execution_count": 49,
   "id": "fac41c2c",
   "metadata": {},
   "outputs": [],
   "source": [
    "from sklearn.metrics import silhouette_score\n",
    "score = silhouette_score(X_train_filtered,y_train, metric='euclidean')\n",
    "ari = adjusted_rand_score(y_train, y_pred)\n",
    "nmi = normalized_mutual_info_score(y_train, y_pred)"
   ]
  },
  {
   "cell_type": "code",
   "execution_count": 50,
   "id": "284f7782",
   "metadata": {},
   "outputs": [],
   "source": [
    "data = pd.DataFrame({'Clustering_scores': ['silhouette_score', 'adjusted_rand_score', 'normalized_mutual_info_score'],\n",
    "        'Scores':[score,ari,nmi]})"
   ]
  },
  {
   "cell_type": "code",
   "execution_count": 51,
   "id": "643cdbdf",
   "metadata": {},
   "outputs": [
    {
     "data": {
      "text/html": [
       "<div>\n",
       "<style scoped>\n",
       "    .dataframe tbody tr th:only-of-type {\n",
       "        vertical-align: middle;\n",
       "    }\n",
       "\n",
       "    .dataframe tbody tr th {\n",
       "        vertical-align: top;\n",
       "    }\n",
       "\n",
       "    .dataframe thead th {\n",
       "        text-align: right;\n",
       "    }\n",
       "</style>\n",
       "<table border=\"1\" class=\"dataframe\">\n",
       "  <thead>\n",
       "    <tr style=\"text-align: right;\">\n",
       "      <th></th>\n",
       "      <th>Clustering_scores</th>\n",
       "      <th>Scores</th>\n",
       "    </tr>\n",
       "  </thead>\n",
       "  <tbody>\n",
       "    <tr>\n",
       "      <th>0</th>\n",
       "      <td>silhouette_score</td>\n",
       "      <td>0.010460</td>\n",
       "    </tr>\n",
       "    <tr>\n",
       "      <th>1</th>\n",
       "      <td>adjusted_rand_score</td>\n",
       "      <td>0.005131</td>\n",
       "    </tr>\n",
       "    <tr>\n",
       "      <th>2</th>\n",
       "      <td>normalized_mutual_info_score</td>\n",
       "      <td>0.005656</td>\n",
       "    </tr>\n",
       "  </tbody>\n",
       "</table>\n",
       "</div>"
      ],
      "text/plain": [
       "              Clustering_scores    Scores\n",
       "0              silhouette_score  0.010460\n",
       "1           adjusted_rand_score  0.005131\n",
       "2  normalized_mutual_info_score  0.005656"
      ]
     },
     "execution_count": 51,
     "metadata": {},
     "output_type": "execute_result"
    }
   ],
   "source": [
    "data"
   ]
  },
  {
   "cell_type": "code",
   "execution_count": 52,
   "id": "ff0bf3b4",
   "metadata": {},
   "outputs": [
    {
     "data": {
      "image/png": "[encoded data removed]",
      "text/plain": [
       "<Figure size 640x480 with 1 Axes>"
      ]
     },
     "metadata": {},
     "output_type": "display_data"
    }
   ],
   "source": [
    "# Use t-SNE to reduce dimensionality of data to 2 dimensions\n",
    "tsne = TSNE(n_components=2, perplexity=30, random_state=0)\n",
    "X_tsne = tsne.fit_transform(X_train_filtered)\n",
    "colors = ['blue', 'green']  # red for cluster 0, grey for cluster 1\n",
    "cmap = ListedColormap(colors)\n",
    "\n",
    "#plt.legend()\n",
    "\n",
    "# Plot t-SNE reduced data points colored by cluster label\n",
    "plt.scatter(X_tsne[:, 0], X_tsne[:, 1], c=y_train,cmap=cmap)\n",
    "plt.title('Sequential using mordred, score=0.0104')\n",
    "plt.show()"
   ]
  },
  {
   "cell_type": "markdown",
   "id": "1fb0d440",
   "metadata": {},
   "source": [
    "## RFC"
   ]
  },
  {
   "cell_type": "code",
   "execution_count": 53,
   "id": "12c91ee6",
   "metadata": {},
   "outputs": [],
   "source": [
    "#define random forest classifier\n",
    "forest = RandomForestClassifier(n_jobs=-1, class_weight='balanced', max_depth=5)\n",
    "forest.fit(X_train_filtered,y_train)\n",
    "end=datetime.datetime.now()\n",
    "\n",
    "y_pred_train=forest.predict(X_train_filtered)\n",
    "y_pred_test=forest.predict(X_test_filtered)\n",
    "y_prediction_values_train=forest.predict_proba(X_train_filtered)\n",
    "y_prediction_values_test=forest.predict_proba(X_test_filtered)"
   ]
  },
  {
   "cell_type": "code",
   "execution_count": 54,
   "id": "58e57037",
   "metadata": {},
   "outputs": [
    {
     "name": "stdout",
     "output_type": "stream",
     "text": [
      "confusion matrix\n",
      " [[136  63]\n",
      " [ 89 138]]\n",
      "Classification Report:\n",
      "               precision    recall  f1-score   support\n",
      "\n",
      "           0     0.6044    0.6834    0.6415       199\n",
      "           1     0.6866    0.6079    0.6449       227\n",
      "\n",
      "    accuracy                         0.6432       426\n",
      "   macro avg     0.6455    0.6457    0.6432       426\n",
      "weighted avg     0.6482    0.6432    0.6433       426\n",
      "\n"
     ]
    }
   ],
   "source": [
    "rfc_acc_train=accuracy_score(y_train,y_pred_train)*100\n",
    "rfc_acc_test=accuracy_score(y_test,y_pred_test)*100\n",
    "rfc_mcc_train=matthews_corrcoef(y_train, y_pred_train)\n",
    "rfc_mcc_test=matthews_corrcoef(y_test, y_pred_test)\n",
    "rfc_f1_train=f1_score(y_train, y_pred_train, average='macro')\n",
    "rfc_f1_test=f1_score(y_test, y_pred_test, average='macro')\n",
    "rfc_prec_train=precision_score(y_train, y_pred_train)\n",
    "rfc_prec_test=precision_score(y_test, y_pred_test)\n",
    "rfc_recall_train=recall_score(y_train, y_pred_train)\n",
    "rfc_recall_test=recall_score(y_test, y_pred_test)\n",
    "kappa_train=sklearn.metrics.cohen_kappa_score(y_train,y_pred_train)\n",
    "rfc_kappa_train=kappa_train\n",
    "kappa_test=sklearn.metrics.cohen_kappa_score(y_test,y_pred_test)\n",
    "rfc_kappa_test=kappa_test\n",
    "\n",
    "rfc_auc_train=roc_auc_score(y_train,y_prediction_values_train[:, 1])\n",
    "rfc_auc_test=roc_auc_score(y_test,y_prediction_values_test[:, 1])\n",
    "\n",
    "print(\"confusion matrix\\n\",confusion_matrix(y_test,y_pred_test))\n",
    "print(\"Classification Report:\\n\",classification_report(y_test,y_pred_test,digits=4))"
   ]
  },
  {
   "cell_type": "code",
   "execution_count": 55,
   "id": "03cd520f",
   "metadata": {
    "scrolled": true
   },
   "outputs": [
    {
     "data": {
      "image/png": "[encoded data removed]",
      "text/plain": [
       "<Figure size 640x480 with 1 Axes>"
      ]
     },
     "metadata": {},
     "output_type": "display_data"
    }
   ],
   "source": [
    "#auc\n",
    "fpr, tpr, _ = roc_curve(y_test,y_prediction_values_test[:, 1])\n",
    "roc_auc = auc(fpr, tpr)\n",
    "auc_1=roc_auc\n",
    "\n",
    "#\n",
    "figcount=0\n",
    "Figureset=[]\n",
    "image=plt.figure(figcount)\n",
    "plt.plot(fpr, tpr, 'b', label = 'AUC = %0.2f' % roc_auc)\n",
    "plt.title(\"AUC/ROC\")\n",
    "plt.xlabel('False Positive Rate')\n",
    "plt.ylabel('True Positive Rate')\n",
    "plt.title(\"AUC/ROC\")\n",
    "plt.legend(loc=\"lower right\")\n",
    "figcount+=1\n",
    "Figureset.append(image)\n",
    "plt.show()"
   ]
  },
  {
   "cell_type": "markdown",
   "id": "137b5dd3",
   "metadata": {},
   "source": [
    "## KNN"
   ]
  },
  {
   "cell_type": "code",
   "execution_count": 56,
   "id": "ba092324",
   "metadata": {},
   "outputs": [],
   "source": [
    "from sklearn.neighbors import KNeighborsClassifier\n",
    "KNN=KNeighborsClassifier()\n",
    "KNN.fit(X_train_filtered,y_train)\n",
    "y_pred_test=KNN.predict(X_test_filtered)\n",
    "y_pred_train=KNN.predict(X_train_filtered)\n",
    "\n",
    "\n",
    "y_prediction_values_train=KNN.predict_proba(X_train_filtered)\n",
    "y_prediction_values_test=KNN.predict_proba(X_test_filtered)\n"
   ]
  },
  {
   "cell_type": "code",
   "execution_count": 57,
   "id": "3e98d5a2",
   "metadata": {},
   "outputs": [
    {
     "name": "stdout",
     "output_type": "stream",
     "text": [
      "confusion matrix\n",
      " [[113  86]\n",
      " [ 76 151]]\n",
      "Classification Report:\n",
      "               precision    recall  f1-score   support\n",
      "\n",
      "           0     0.5979    0.5678    0.5825       199\n",
      "           1     0.6371    0.6652    0.6509       227\n",
      "\n",
      "    accuracy                         0.6197       426\n",
      "   macro avg     0.6175    0.6165    0.6167       426\n",
      "weighted avg     0.6188    0.6197    0.6189       426\n",
      "\n"
     ]
    }
   ],
   "source": [
    "knn_acc_train=accuracy_score(y_train,y_pred_train)*100\n",
    "knn_acc_test=accuracy_score(y_test,y_pred_test)*100\n",
    "knn_mcc_train=matthews_corrcoef(y_train, y_pred_train)\n",
    "knn_mcc_test=matthews_corrcoef(y_test, y_pred_test)\n",
    "knn_f1_train=f1_score(y_train, y_pred_train, average='macro')\n",
    "knn_f1_test=f1_score(y_test, y_pred_test, average='macro')\n",
    "knn_prec_train=precision_score(y_train, y_pred_train)\n",
    "knn_prec_test=precision_score(y_test, y_pred_test)\n",
    "knn_recall_train=recall_score(y_train, y_pred_train)\n",
    "knn_recall_test=recall_score(y_test, y_pred_test)\n",
    "knn_kappa_train=sklearn.metrics.cohen_kappa_score(y_train,y_pred_train)\n",
    "\n",
    "knn_kappa_test=sklearn.metrics.cohen_kappa_score(y_test,y_pred_test)\n",
    "\n",
    "knn_auc_train=roc_auc_score(y_train,y_prediction_values_train[:, 1])\n",
    "knn_auc_test=roc_auc_score(y_test,y_prediction_values_test[:, 1])\n",
    "\n",
    "print(\"confusion matrix\\n\",confusion_matrix(y_test,y_pred_test))\n",
    "print(\"Classification Report:\\n\",classification_report(y_test,y_pred_test,digits=4))"
   ]
  },
  {
   "cell_type": "code",
   "execution_count": 58,
   "id": "a0c47a36",
   "metadata": {},
   "outputs": [
    {
     "data": {
      "image/png": "[encoded data removed]",
      "text/plain": [
       "<Figure size 640x480 with 1 Axes>"
      ]
     },
     "metadata": {},
     "output_type": "display_data"
    }
   ],
   "source": [
    "#auc\n",
    "fpr, tpr, _ = roc_curve(y_test,y_prediction_values_test[:, 1])\n",
    "roc_auc = auc(fpr, tpr)\n",
    "auc_2=roc_auc\n",
    "\n",
    "#\n",
    "figcount=0\n",
    "Figureset=[]\n",
    "image=plt.figure(figcount)\n",
    "plt.plot(fpr, tpr, 'b', label = 'AUC = %0.2f' % roc_auc)\n",
    "plt.title(\"AUC/ROC\")\n",
    "plt.xlabel('False Positive Rate')\n",
    "plt.ylabel('True Positive Rate')\n",
    "plt.title(\"AUC/ROC\")\n",
    "plt.legend(loc=\"lower right\")\n",
    "figcount+=1\n",
    "Figureset.append(image)\n",
    "plt.show()"
   ]
  },
  {
   "cell_type": "markdown",
   "id": "d050448c",
   "metadata": {},
   "source": [
    "# SVC"
   ]
  },
  {
   "cell_type": "code",
   "execution_count": 59,
   "id": "c161b476",
   "metadata": {},
   "outputs": [],
   "source": [
    "from sklearn.svm import SVC\n",
    "model=SVC(probability=True)\n",
    "model.fit(X_train_filtered,y_train)\n",
    "y_pred_test=model.predict(X_test_filtered)\n",
    "y_pred_train=model.predict(X_train_filtered)\n",
    "\n",
    "y_prediction_values_train=model.predict_proba(X_train_filtered)\n",
    "y_prediction_values_test=model.predict_proba(X_test_filtered)"
   ]
  },
  {
   "cell_type": "code",
   "execution_count": 60,
   "id": "80f8418b",
   "metadata": {},
   "outputs": [
    {
     "name": "stdout",
     "output_type": "stream",
     "text": [
      "confusion matrix\n",
      " [[108  91]\n",
      " [ 77 150]]\n",
      "Classification Report:\n",
      "               precision    recall  f1-score   support\n",
      "\n",
      "           0     0.5838    0.5427    0.5625       199\n",
      "           1     0.6224    0.6608    0.6410       227\n",
      "\n",
      "    accuracy                         0.6056       426\n",
      "   macro avg     0.6031    0.6018    0.6018       426\n",
      "weighted avg     0.6044    0.6056    0.6043       426\n",
      "\n"
     ]
    }
   ],
   "source": [
    "svc_acc_train=accuracy_score(y_train,y_pred_train)*100\n",
    "svc_acc_test=accuracy_score(y_test,y_pred_test)*100\n",
    "svc_mcc_train=matthews_corrcoef(y_train, y_pred_train)\n",
    "svc_mcc_test=matthews_corrcoef(y_test, y_pred_test)\n",
    "svc_f1_train=f1_score(y_train, y_pred_train, average='macro')\n",
    "svc_f1_test=f1_score(y_test, y_pred_test, average='macro')\n",
    "svc_prec_train=precision_score(y_train, y_pred_train)\n",
    "svc_prec_test=precision_score(y_test, y_pred_test)\n",
    "svc_recall_train=recall_score(y_train, y_pred_train)\n",
    "svc_recall_test=recall_score(y_test, y_pred_test)\n",
    "svc_kappa_train=sklearn.metrics.cohen_kappa_score(y_train,y_pred_train)\n",
    "\n",
    "svc_kappa_test=sklearn.metrics.cohen_kappa_score(y_test,y_pred_test)\n",
    "\n",
    "\n",
    "svc_auc_train=roc_auc_score(y_train,y_prediction_values_train[:, 1])\n",
    "svc_auc_test=roc_auc_score(y_test,y_prediction_values_test[:, 1])\n",
    "\n",
    "print(\"confusion matrix\\n\",confusion_matrix(y_test,y_pred_test))\n",
    "print(\"Classification Report:\\n\",classification_report(y_test,y_pred_test,digits=4))"
   ]
  },
  {
   "cell_type": "code",
   "execution_count": 61,
   "id": "148f0a1d",
   "metadata": {},
   "outputs": [
    {
     "data": {
      "image/png": "[encoded data removed]",
      "text/plain": [
       "<Figure size 640x480 with 1 Axes>"
      ]
     },
     "metadata": {},
     "output_type": "display_data"
    }
   ],
   "source": [
    "#auc\n",
    "fpr, tpr, _ = roc_curve(y_test,y_prediction_values_test[:, 1])\n",
    "roc_auc = auc(fpr, tpr)\n",
    "auc_3=roc_auc\n",
    "\n",
    "#\n",
    "figcount=0\n",
    "Figureset=[]\n",
    "image=plt.figure(figcount)\n",
    "plt.plot(fpr, tpr, 'b', label = 'AUC = %0.2f' % roc_auc)\n",
    "plt.title(\"AUC/ROC\")\n",
    "plt.xlabel('False Positive Rate')\n",
    "plt.ylabel('True Positive Rate')\n",
    "plt.title(\"AUC/ROC\")\n",
    "plt.legend(loc=\"lower right\")\n",
    "figcount+=1\n",
    "Figureset.append(image)\n",
    "plt.show()"
   ]
  },
  {
   "cell_type": "markdown",
   "id": "31030dd7",
   "metadata": {},
   "source": [
    "## Logistic Regression"
   ]
  },
  {
   "cell_type": "code",
   "execution_count": 62,
   "id": "ddfa0c0c",
   "metadata": {},
   "outputs": [],
   "source": [
    "from sklearn.linear_model import LogisticRegression\n",
    "lr=LogisticRegression()\n",
    "lr.fit(X_train_filtered,y_train)\n",
    "y_pred_test=lr.predict(X_test_filtered)\n",
    "y_pred_train=lr.predict(X_train_filtered)\n",
    "\n",
    "y_prediction_values_train=lr.predict_proba(X_train_filtered)\n",
    "y_prediction_values_test=lr.predict_proba(X_test_filtered)                                     "
   ]
  },
  {
   "cell_type": "code",
   "execution_count": 63,
   "id": "07acb54c",
   "metadata": {},
   "outputs": [
    {
     "name": "stdout",
     "output_type": "stream",
     "text": [
      "confusion matrix\n",
      " [[122  77]\n",
      " [ 80 147]]\n",
      "Classification Report:\n",
      "               precision    recall  f1-score   support\n",
      "\n",
      "           0     0.6040    0.6131    0.6085       199\n",
      "           1     0.6562    0.6476    0.6519       227\n",
      "\n",
      "    accuracy                         0.6315       426\n",
      "   macro avg     0.6301    0.6303    0.6302       426\n",
      "weighted avg     0.6318    0.6315    0.6316       426\n",
      "\n"
     ]
    }
   ],
   "source": [
    "lr_acc_train=accuracy_score(y_train,y_pred_train)*100\n",
    "lr_acc_test=accuracy_score(y_test,y_pred_test)*100\n",
    "lr_mcc_train=matthews_corrcoef(y_train, y_pred_train)\n",
    "lr_mcc_test=matthews_corrcoef(y_test, y_pred_test)\n",
    "lr_f1_train=f1_score(y_train, y_pred_train, average='macro')\n",
    "lr_f1_test=f1_score(y_test, y_pred_test, average='macro')\n",
    "lr_prec_train=precision_score(y_train, y_pred_train)\n",
    "lr_prec_test=precision_score(y_test, y_pred_test)\n",
    "lr_recall_train=recall_score(y_train, y_pred_train)\n",
    "lr_recall_test=recall_score(y_test, y_pred_test)\n",
    "lr_kappa_train=sklearn.metrics.cohen_kappa_score(y_train,y_pred_train)\n",
    "\n",
    "lr_kappa_test=sklearn.metrics.cohen_kappa_score(y_test,y_pred_test)\n",
    "\n",
    "lr_auc_train=roc_auc_score(y_train,y_prediction_values_train[:, 1])\n",
    "lr_auc_test=roc_auc_score(y_test,y_prediction_values_test[:, 1])\n",
    "\n",
    "print(\"confusion matrix\\n\",confusion_matrix(y_test,y_pred_test))\n",
    "print(\"Classification Report:\\n\",classification_report(y_test,y_pred_test,digits=4))"
   ]
  },
  {
   "cell_type": "code",
   "execution_count": 64,
   "id": "773143f2",
   "metadata": {},
   "outputs": [
    {
     "data": {
      "image/png": "[encoded data removed]",
      "text/plain": [
       "<Figure size 640x480 with 1 Axes>"
      ]
     },
     "metadata": {},
     "output_type": "display_data"
    }
   ],
   "source": [
    "#auc\n",
    "fpr, tpr, _ = roc_curve(y_test,y_prediction_values_test[:, 1])\n",
    "roc_auc = auc(fpr, tpr)\n",
    "auc_4=roc_auc\n",
    "\n",
    "#\n",
    "figcount=0\n",
    "Figureset=[]\n",
    "image=plt.figure(figcount)\n",
    "plt.plot(fpr, tpr, 'b', label = 'AUC = %0.2f' % roc_auc)\n",
    "plt.title(\"AUC/ROC\")\n",
    "plt.xlabel('False Positive Rate')\n",
    "plt.ylabel('True Positive Rate')\n",
    "plt.title(\"AUC/ROC\")\n",
    "plt.legend(loc=\"lower right\")\n",
    "figcount+=1\n",
    "Figureset.append(image)\n",
    "plt.show()"
   ]
  },
  {
   "cell_type": "markdown",
   "id": "9df14299",
   "metadata": {},
   "source": [
    "# XGB"
   ]
  },
  {
   "cell_type": "code",
   "execution_count": 65,
   "id": "b56884e6",
   "metadata": {},
   "outputs": [
    {
     "name": "stdout",
     "output_type": "stream",
     "text": [
      "[12:49:45] WARNING: ../src/learner.cc:767: \n",
      "Parameters: { \"silent\" } are not used.\n",
      "\n"
     ]
    }
   ],
   "source": [
    "from xgboost import XGBClassifier\n",
    "xgb = XGBClassifier(learning_rate=0.02, n_estimators=600, objective='binary:logistic',silent=True, nthread=1)\n",
    "xgb.fit(X_train_filtered, y_train)\n",
    "y_pred_train = xgb.predict(X_train_filtered)\n",
    "y_pred_test = xgb.predict(X_test_filtered)\n",
    "\n",
    "y_prediction_values_train=xgb.predict_proba(X_train_filtered)\n",
    "y_prediction_values_test=xgb.predict_proba(X_test_filtered)"
   ]
  },
  {
   "cell_type": "code",
   "execution_count": 66,
   "id": "085fc35b",
   "metadata": {},
   "outputs": [
    {
     "name": "stdout",
     "output_type": "stream",
     "text": [
      "confusion matrix\n",
      " [[132  67]\n",
      " [ 74 153]]\n",
      "Classification Report:\n",
      "               precision    recall  f1-score   support\n",
      "\n",
      "           0     0.6408    0.6633    0.6519       199\n",
      "           1     0.6955    0.6740    0.6846       227\n",
      "\n",
      "    accuracy                         0.6690       426\n",
      "   macro avg     0.6681    0.6687    0.6682       426\n",
      "weighted avg     0.6699    0.6690    0.6693       426\n",
      "\n"
     ]
    }
   ],
   "source": [
    "xgb_acc_train=accuracy_score(y_train,y_pred_train)*100\n",
    "xgb_acc_test=accuracy_score(y_test,y_pred_test)*100\n",
    "xgb_mcc_train=matthews_corrcoef(y_train, y_pred_train)\n",
    "xgb_mcc_test=matthews_corrcoef(y_test, y_pred_test)\n",
    "xgb_f1_train=f1_score(y_train, y_pred_train, average='macro')\n",
    "xgb_f1_test=f1_score(y_test, y_pred_test, average='macro')\n",
    "xgb_prec_train=precision_score(y_train, y_pred_train)\n",
    "xgb_prec_test=precision_score(y_test, y_pred_test)\n",
    "xgb_recall_train=recall_score(y_train, y_pred_train)\n",
    "xgb_recall_test=recall_score(y_test, y_pred_test)\n",
    "\n",
    "xgb_kappa_train=sklearn.metrics.cohen_kappa_score(y_train,y_pred_train)\n",
    "\n",
    "xgb_kappa_test=sklearn.metrics.cohen_kappa_score(y_test,y_pred_test)\n",
    "\n",
    "\n",
    "\n",
    "xgb_auc_train=roc_auc_score(y_train,y_prediction_values_train[:, 1])\n",
    "xgb_auc_test=roc_auc_score(y_test,y_prediction_values_test[:, 1])\n",
    "print(\"confusion matrix\\n\",confusion_matrix(y_test,y_pred_test))\n",
    "print(\"Classification Report:\\n\",classification_report(y_test,y_pred_test,digits=4))"
   ]
  },
  {
   "cell_type": "code",
   "execution_count": 67,
   "id": "6c29f537",
   "metadata": {},
   "outputs": [
    {
     "data": {
      "image/png": "[encoded data removed]",
      "text/plain": [
       "<Figure size 640x480 with 1 Axes>"
      ]
     },
     "metadata": {},
     "output_type": "display_data"
    }
   ],
   "source": [
    "#auc\n",
    "fpr, tpr, _ = roc_curve(y_test,y_prediction_values_test[:, 1])\n",
    "roc_auc = auc(fpr, tpr)\n",
    "auc_5=roc_auc\n",
    "\n",
    "#\n",
    "figcount=0\n",
    "Figureset=[]\n",
    "image=plt.figure(figcount)\n",
    "plt.plot(fpr, tpr, 'b', label = 'AUC = %0.2f' % roc_auc)\n",
    "plt.title(\"AUC/ROC\")\n",
    "plt.xlabel('False Positive Rate')\n",
    "plt.ylabel('True Positive Rate')\n",
    "plt.title(\"AUC/ROC\")\n",
    "plt.legend(loc=\"lower right\")\n",
    "figcount+=1\n",
    "Figureset.append(image)\n",
    "plt.show()"
   ]
  },
  {
   "cell_type": "markdown",
   "id": "38bb0c0a",
   "metadata": {},
   "source": [
    "## Gaussian NB"
   ]
  },
  {
   "cell_type": "code",
   "execution_count": 68,
   "id": "81feedda",
   "metadata": {},
   "outputs": [],
   "source": [
    "from sklearn.naive_bayes import GaussianNB\n",
    "clf = GaussianNB()\n",
    "clf.fit(X_train_filtered, y_train)\n",
    "\n",
    "y_pred_train = clf.predict(X_train_filtered)\n",
    "y_pred_test = clf.predict(X_test_filtered)\n",
    "y_prediction_values_train=clf.predict_proba(X_train_filtered)\n",
    "y_prediction_values_test=clf.predict_proba(X_test_filtered)"
   ]
  },
  {
   "cell_type": "code",
   "execution_count": 69,
   "id": "307db28e",
   "metadata": {},
   "outputs": [
    {
     "name": "stdout",
     "output_type": "stream",
     "text": [
      "confusion matrix\n",
      " [[ 78 121]\n",
      " [ 58 169]]\n",
      "Classification Report:\n",
      "               precision    recall  f1-score   support\n",
      "\n",
      "           0     0.5735    0.3920    0.4657       199\n",
      "           1     0.5828    0.7445    0.6538       227\n",
      "\n",
      "    accuracy                         0.5798       426\n",
      "   macro avg     0.5781    0.5682    0.5597       426\n",
      "weighted avg     0.5784    0.5798    0.5659       426\n",
      "\n"
     ]
    }
   ],
   "source": [
    "clf_acc_train=accuracy_score(y_train,y_pred_train)*100\n",
    "clf_acc_test=accuracy_score(y_test,y_pred_test)*100\n",
    "clf_mcc_train=matthews_corrcoef(y_train, y_pred_train)\n",
    "clf_mcc_test=matthews_corrcoef(y_test, y_pred_test)\n",
    "clf_f1_train=f1_score(y_train, y_pred_train, average='macro')\n",
    "clf_f1_test=f1_score(y_test, y_pred_test, average='macro')\n",
    "clf_prec_train=precision_score(y_train, y_pred_train)\n",
    "clf_prec_test=precision_score(y_test, y_pred_test)\n",
    "clf_recall_train=recall_score(y_train, y_pred_train)\n",
    "clf_recall_test=recall_score(y_test, y_pred_test)\n",
    "clf_kappa_train=sklearn.metrics.cohen_kappa_score(y_train,y_pred_train)\n",
    "\n",
    "clf_kappa_test=sklearn.metrics.cohen_kappa_score(y_test,y_pred_test)\n",
    "\n",
    "clf_auc_train=roc_auc_score(y_train,y_prediction_values_train[:, 1])\n",
    "clf_auc_test=roc_auc_score(y_test,y_prediction_values_test[:, 1])\n",
    "\n",
    "print(\"confusion matrix\\n\",confusion_matrix(y_test,y_pred_test))\n",
    "print(\"Classification Report:\\n\",classification_report(y_test,y_pred_test,digits=4))"
   ]
  },
  {
   "cell_type": "code",
   "execution_count": 70,
   "id": "9959460c",
   "metadata": {},
   "outputs": [
    {
     "data": {
      "image/png": "[encoded data removed]",
      "text/plain": [
       "<Figure size 640x480 with 1 Axes>"
      ]
     },
     "metadata": {},
     "output_type": "display_data"
    }
   ],
   "source": [
    "#auc\n",
    "fpr, tpr, _ = roc_curve(y_test,y_prediction_values_test[:, 1])\n",
    "roc_auc = auc(fpr, tpr)\n",
    "auc_6=roc_auc\n",
    "\n",
    "#\n",
    "figcount=0\n",
    "Figureset=[]\n",
    "image=plt.figure(figcount)\n",
    "plt.plot(fpr, tpr, 'b', label = 'AUC = %0.2f' % roc_auc)\n",
    "plt.title(\"AUC/ROC\")\n",
    "plt.xlabel('False Positive Rate')\n",
    "plt.ylabel('True Positive Rate')\n",
    "plt.title(\"AUC/ROC\")\n",
    "plt.legend(loc=\"lower right\")\n",
    "figcount+=1\n",
    "Figureset.append(image)\n",
    "plt.show()"
   ]
  },
  {
   "cell_type": "markdown",
   "id": "72bd5a44",
   "metadata": {},
   "source": [
    "## MLP"
   ]
  },
  {
   "cell_type": "code",
   "execution_count": 71,
   "id": "824efea7",
   "metadata": {},
   "outputs": [],
   "source": [
    "from sklearn.neural_network import MLPClassifier\n",
    "mlp = MLPClassifier(hidden_layer_sizes=(100,), max_iter=1000)\n",
    "mlp.fit(X_train_filtered, y_train)\n",
    "\n",
    "y_pred_train = mlp.predict(X_train_filtered)\n",
    "y_pred_test = mlp.predict(X_test_filtered)\n",
    "y_prediction_values_train=mlp.predict_proba(X_train_filtered)\n",
    "y_prediction_values_test=mlp.predict_proba(X_test_filtered)"
   ]
  },
  {
   "cell_type": "code",
   "execution_count": 72,
   "id": "82052571",
   "metadata": {},
   "outputs": [
    {
     "name": "stdout",
     "output_type": "stream",
     "text": [
      "confusion matrix\n",
      " [[125  74]\n",
      " [ 95 132]]\n",
      "Classification Report:\n",
      "               precision    recall  f1-score   support\n",
      "\n",
      "           0     0.5682    0.6281    0.5967       199\n",
      "           1     0.6408    0.5815    0.6097       227\n",
      "\n",
      "    accuracy                         0.6033       426\n",
      "   macro avg     0.6045    0.6048    0.6032       426\n",
      "weighted avg     0.6069    0.6033    0.6036       426\n",
      "\n"
     ]
    }
   ],
   "source": [
    "mlp_acc_train=accuracy_score(y_train,y_pred_train)*100\n",
    "mlp_acc_test=accuracy_score(y_test,y_pred_test)*100\n",
    "mlp_mcc_train=matthews_corrcoef(y_train, y_pred_train)\n",
    "mlp_mcc_test=matthews_corrcoef(y_test, y_pred_test)\n",
    "mlp_f1_train=f1_score(y_train, y_pred_train, average='macro')\n",
    "mlp_f1_test=f1_score(y_test, y_pred_test, average='macro')\n",
    "mlp_prec_train=precision_score(y_train, y_pred_train)\n",
    "mlp_prec_test=precision_score(y_test, y_pred_test)\n",
    "mlp_recall_train=recall_score(y_train, y_pred_train)\n",
    "mlp_recall_test=recall_score(y_test, y_pred_test)\n",
    "\n",
    "mlp_kappa_train=sklearn.metrics.cohen_kappa_score(y_train,y_pred_train)\n",
    "\n",
    "mlp_kappa_test=sklearn.metrics.cohen_kappa_score(y_test,y_pred_test)\n",
    "\n",
    "\n",
    "mlp_auc_train=roc_auc_score(y_train,y_prediction_values_train[:, 1])\n",
    "mlp_auc_test=roc_auc_score(y_test,y_prediction_values_test[:, 1])\n",
    "print(\"confusion matrix\\n\",confusion_matrix(y_test,y_pred_test))\n",
    "print(\"Classification Report:\\n\",classification_report(y_test,y_pred_test,digits=4))"
   ]
  },
  {
   "cell_type": "code",
   "execution_count": 73,
   "id": "44cd7257",
   "metadata": {},
   "outputs": [
    {
     "data": {
      "image/png": "[encoded data removed]",
      "text/plain": [
       "<Figure size 640x480 with 1 Axes>"
      ]
     },
     "metadata": {},
     "output_type": "display_data"
    }
   ],
   "source": [
    "#auc\n",
    "fpr, tpr, _ = roc_curve(y_test,y_prediction_values_test[:, 1])\n",
    "roc_auc = auc(fpr, tpr)\n",
    "auc_7=roc_auc\n",
    "\n",
    "#\n",
    "figcount=0\n",
    "Figureset=[]\n",
    "image=plt.figure(figcount)\n",
    "plt.plot(fpr, tpr, 'b', label = 'AUC = %0.2f' % roc_auc)\n",
    "plt.title(\"AUC/ROC\")\n",
    "plt.xlabel('False Positive Rate')\n",
    "plt.ylabel('True Positive Rate')\n",
    "plt.title(\"AUC/ROC\")\n",
    "plt.legend(loc=\"lower right\")\n",
    "figcount+=1\n",
    "Figureset.append(image)\n",
    "plt.show()"
   ]
  },
  {
   "cell_type": "markdown",
   "id": "769e5d9c",
   "metadata": {},
   "source": [
    "## Extratree classifier"
   ]
  },
  {
   "cell_type": "code",
   "execution_count": 74,
   "id": "7e00b6c5",
   "metadata": {},
   "outputs": [],
   "source": [
    "from sklearn.ensemble import ExtraTreesClassifier\n",
    "etc=ExtraTreesClassifier(n_estimators=100, max_depth=None, min_samples_split=2, random_state=42)\n",
    "etc.fit(X_train_filtered, y_train)\n",
    "\n",
    "\n",
    "y_pred_train = etc.predict(X_train_filtered)\n",
    "y_pred_test = etc.predict(X_test_filtered)\n",
    "y_prediction_values_train=etc.predict_proba(X_train_filtered)\n",
    "y_prediction_values_test=etc.predict_proba(X_test_filtered)"
   ]
  },
  {
   "cell_type": "code",
   "execution_count": 75,
   "id": "58bf8105",
   "metadata": {},
   "outputs": [
    {
     "name": "stdout",
     "output_type": "stream",
     "text": [
      "confusion matrix\n",
      " [[129  70]\n",
      " [ 80 147]]\n",
      "Classification Report:\n",
      "               precision    recall  f1-score   support\n",
      "\n",
      "           0     0.6172    0.6482    0.6324       199\n",
      "           1     0.6774    0.6476    0.6622       227\n",
      "\n",
      "    accuracy                         0.6479       426\n",
      "   macro avg     0.6473    0.6479    0.6473       426\n",
      "weighted avg     0.6493    0.6479    0.6482       426\n",
      "\n"
     ]
    }
   ],
   "source": [
    "etc_acc_train=accuracy_score(y_train,y_pred_train)*100\n",
    "etc_acc_test=accuracy_score(y_test,y_pred_test)*100\n",
    "etc_mcc_train=matthews_corrcoef(y_train, y_pred_train)\n",
    "etc_mcc_test=matthews_corrcoef(y_test, y_pred_test)\n",
    "etc_f1_train=f1_score(y_train, y_pred_train, average='macro')\n",
    "etc_f1_test=f1_score(y_test, y_pred_test, average='macro')\n",
    "etc_prec_train=precision_score(y_train, y_pred_train)\n",
    "etc_prec_test=precision_score(y_test, y_pred_test)\n",
    "etc_recall_train=recall_score(y_train, y_pred_train)\n",
    "etc_recall_test=recall_score(y_test, y_pred_test)\n",
    "\n",
    "etc_kappa_train=sklearn.metrics.cohen_kappa_score(y_train,y_pred_train)\n",
    "\n",
    "etc_kappa_test=sklearn.metrics.cohen_kappa_score(y_test,y_pred_test)\n",
    "\n",
    "etc_auc_train=roc_auc_score(y_train,y_prediction_values_train[:, 1])\n",
    "etc_auc_test=roc_auc_score(y_test,y_prediction_values_test[:, 1])\n",
    "\n",
    "\n",
    "print(\"confusion matrix\\n\",confusion_matrix(y_test,y_pred_test))\n",
    "print(\"Classification Report:\\n\",classification_report(y_test,y_pred_test,digits=4))"
   ]
  },
  {
   "cell_type": "code",
   "execution_count": 76,
   "id": "8063b42a",
   "metadata": {},
   "outputs": [
    {
     "data": {
      "image/png": "[encoded data removed]",
      "text/plain": [
       "<Figure size 640x480 with 1 Axes>"
      ]
     },
     "metadata": {},
     "output_type": "display_data"
    }
   ],
   "source": [
    "#auc\n",
    "fpr, tpr, _ = roc_curve(y_test,y_prediction_values_test[:, 1])\n",
    "roc_auc = auc(fpr, tpr)\n",
    "auc_8=roc_auc\n",
    "\n",
    "#\n",
    "figcount=0\n",
    "Figureset=[]\n",
    "image=plt.figure(figcount)\n",
    "plt.plot(fpr, tpr, 'b', label = 'AUC = %0.2f' % roc_auc)\n",
    "plt.title(\"AUC/ROC\")\n",
    "plt.xlabel('False Positive Rate')\n",
    "plt.ylabel('True Positive Rate')\n",
    "plt.title(\"AUC/ROC\")\n",
    "plt.legend(loc=\"lower right\")\n",
    "figcount+=1\n",
    "Figureset.append(image)\n",
    "plt.show()"
   ]
  },
  {
   "cell_type": "markdown",
   "id": "b8afe666",
   "metadata": {},
   "source": [
    "## Decision Tree classifier"
   ]
  },
  {
   "cell_type": "code",
   "execution_count": 77,
   "id": "c4d11400",
   "metadata": {},
   "outputs": [],
   "source": [
    "## Decision Tree classifier\n",
    "\n",
    "from sklearn.tree import DecisionTreeClassifier\n",
    "dtc= DecisionTreeClassifier(criterion='gini',max_depth=5,min_samples_split=2,min_samples_leaf=1,random_state=42)\n",
    "dtc.fit(X_train_filtered, y_train)\n",
    "\n",
    "\n",
    "y_pred_train = dtc.predict(X_train_filtered)\n",
    "y_pred_test = dtc.predict(X_test_filtered)\n",
    "\n",
    "y_prediction_values_train=dtc.predict_proba(X_train_filtered)\n",
    "y_prediction_values_test=dtc.predict_proba(X_test_filtered)                           "
   ]
  },
  {
   "cell_type": "code",
   "execution_count": 78,
   "id": "5ce3b927",
   "metadata": {},
   "outputs": [
    {
     "name": "stdout",
     "output_type": "stream",
     "text": [
      "confusion matrix\n",
      " [[110  89]\n",
      " [ 88 139]]\n",
      "Classification Report:\n",
      "               precision    recall  f1-score   support\n",
      "\n",
      "           0     0.5556    0.5528    0.5542       199\n",
      "           1     0.6096    0.6123    0.6110       227\n",
      "\n",
      "    accuracy                         0.5845       426\n",
      "   macro avg     0.5826    0.5825    0.5826       426\n",
      "weighted avg     0.5844    0.5845    0.5844       426\n",
      "\n"
     ]
    }
   ],
   "source": [
    "dtc_acc_train=accuracy_score(y_train,y_pred_train)*100\n",
    "dtc_acc_test=accuracy_score(y_test,y_pred_test)*100\n",
    "dtc_mcc_train=matthews_corrcoef(y_train, y_pred_train)\n",
    "dtc_mcc_test=matthews_corrcoef(y_test, y_pred_test)\n",
    "dtc_f1_train=f1_score(y_train, y_pred_train, average='macro')\n",
    "dtc_f1_test=f1_score(y_test, y_pred_test, average='macro')\n",
    "dtc_prec_train=precision_score(y_train, y_pred_train)\n",
    "dtc_prec_test=precision_score(y_test, y_pred_test)\n",
    "dtc_recall_train=recall_score(y_train, y_pred_train)\n",
    "dtc_recall_test=recall_score(y_test, y_pred_test)\n",
    "\n",
    "dtc_kappa_train=sklearn.metrics.cohen_kappa_score(y_train,y_pred_train)\n",
    "\n",
    "dtc_kappa_test=sklearn.metrics.cohen_kappa_score(y_test,y_pred_test)\n",
    "\n",
    "dtc_auc_train=roc_auc_score(y_train,y_prediction_values_train[:, 1])\n",
    "dtc_auc_test=roc_auc_score(y_test,y_prediction_values_test[:, 1])\n",
    "print(\"confusion matrix\\n\",confusion_matrix(y_test,y_pred_test))\n",
    "print(\"Classification Report:\\n\",classification_report(y_test,y_pred_test,digits=4))"
   ]
  },
  {
   "cell_type": "code",
   "execution_count": 79,
   "id": "30caaaec",
   "metadata": {},
   "outputs": [
    {
     "data": {
      "image/png": "[encoded data removed]",
      "text/plain": [
       "<Figure size 640x480 with 1 Axes>"
      ]
     },
     "metadata": {},
     "output_type": "display_data"
    }
   ],
   "source": [
    "#auc\n",
    "fpr, tpr, _ = roc_curve(y_test,y_prediction_values_test[:, 1])\n",
    "roc_auc = auc(fpr, tpr)\n",
    "auc_9=roc_auc\n",
    "\n",
    "#\n",
    "figcount=0\n",
    "Figureset=[]\n",
    "image=plt.figure(figcount)\n",
    "plt.plot(fpr, tpr, 'b', label = 'AUC = %0.2f' % roc_auc)\n",
    "plt.title(\"AUC/ROC\")\n",
    "plt.xlabel('False Positive Rate')\n",
    "plt.ylabel('True Positive Rate')\n",
    "plt.title(\"AUC/ROC\")\n",
    "plt.legend(loc=\"lower right\")\n",
    "figcount+=1\n",
    "Figureset.append(image)\n",
    "plt.show()"
   ]
  },
  {
   "cell_type": "markdown",
   "id": "daa30fbc",
   "metadata": {},
   "source": [
    "## LDA"
   ]
  },
  {
   "cell_type": "code",
   "execution_count": 80,
   "id": "9e1ae8df",
   "metadata": {},
   "outputs": [],
   "source": [
    "from sklearn.discriminant_analysis import LinearDiscriminantAnalysis\n",
    "lda = LinearDiscriminantAnalysis()\n",
    "lda.fit(X_train_filtered, y_train)\n",
    "\n",
    "\n",
    "y_pred_train =lda.predict(X_train_filtered)\n",
    "y_pred_test = lda.predict(X_test_filtered)\n",
    "\n",
    "y_prediction_values_train=lda.predict_proba(X_train_filtered)\n",
    "y_prediction_values_test=lda.predict_proba(X_test_filtered)\n",
    "                                                        "
   ]
  },
  {
   "cell_type": "code",
   "execution_count": 81,
   "id": "d864fdf3",
   "metadata": {},
   "outputs": [
    {
     "name": "stdout",
     "output_type": "stream",
     "text": [
      "confusion matrix\n",
      " [[122  77]\n",
      " [ 93 134]]\n",
      "Classification Report:\n",
      "               precision    recall  f1-score   support\n",
      "\n",
      "           0     0.5674    0.6131    0.5894       199\n",
      "           1     0.6351    0.5903    0.6119       227\n",
      "\n",
      "    accuracy                         0.6009       426\n",
      "   macro avg     0.6013    0.6017    0.6006       426\n",
      "weighted avg     0.6035    0.6009    0.6014       426\n",
      "\n"
     ]
    }
   ],
   "source": [
    "lda_acc_train=accuracy_score(y_train,y_pred_train)*100\n",
    "lda_acc_test=accuracy_score(y_test,y_pred_test)*100\n",
    "lda_mcc_train=matthews_corrcoef(y_train, y_pred_train)\n",
    "lda_mcc_test=matthews_corrcoef(y_test, y_pred_test)\n",
    "lda_f1_train=f1_score(y_train, y_pred_train, average='macro')\n",
    "lda_f1_test=f1_score(y_test, y_pred_test, average='macro')\n",
    "lda_prec_train=precision_score(y_train, y_pred_train)\n",
    "lda_prec_test=precision_score(y_test, y_pred_test)\n",
    "lda_recall_train=recall_score(y_train, y_pred_train)\n",
    "lda_recall_test=recall_score(y_test, y_pred_test)\n",
    "\n",
    "lda_kappa_train=sklearn.metrics.cohen_kappa_score(y_train,y_pred_train)\n",
    "\n",
    "lda_kappa_test=sklearn.metrics.cohen_kappa_score(y_test,y_pred_test)\n",
    "\n",
    "\n",
    "lda_auc_train=roc_auc_score(y_train,y_prediction_values_train[:, 1])\n",
    "lda_auc_test=roc_auc_score(y_test,y_prediction_values_test[:, 1])\n",
    "print(\"confusion matrix\\n\",confusion_matrix(y_test,y_pred_test))\n",
    "print(\"Classification Report:\\n\",classification_report(y_test,y_pred_test,digits=4))"
   ]
  },
  {
   "cell_type": "code",
   "execution_count": 82,
   "id": "b01e9ff9",
   "metadata": {},
   "outputs": [
    {
     "data": {
      "image/png": "[encoded data removed]",
      "text/plain": [
       "<Figure size 640x480 with 1 Axes>"
      ]
     },
     "metadata": {},
     "output_type": "display_data"
    }
   ],
   "source": [
    "#auc\n",
    "fpr, tpr, _ = roc_curve(y_test,y_prediction_values_test[:, 1])\n",
    "roc_auc = auc(fpr, tpr)\n",
    "auc_10=roc_auc\n",
    "\n",
    "#\n",
    "figcount=0\n",
    "Figureset=[]\n",
    "image=plt.figure(figcount)\n",
    "plt.plot(fpr, tpr, 'b', label = 'AUC = %0.2f' % roc_auc)\n",
    "plt.title(\"AUC/ROC\")\n",
    "plt.xlabel('False Positive Rate')\n",
    "plt.ylabel('True Positive Rate')\n",
    "plt.title(\"AUC/ROC\")\n",
    "plt.legend(loc=\"lower right\")\n",
    "figcount+=1\n",
    "Figureset.append(image)\n",
    "plt.show()"
   ]
  },
  {
   "cell_type": "code",
   "execution_count": 83,
   "id": "8975d0fe",
   "metadata": {},
   "outputs": [],
   "source": [
    "data_train = {'Model': ['RFC','KNN','SVC','LR','XGB','GNB','MLP','ETC','DTC','LDA'],\n",
    "         'Accuracy_train':[rfc_acc_train,knn_acc_train,svc_acc_train,lr_acc_train,xgb_acc_train,clf_acc_train,mlp_acc_train,etc_acc_train,dtc_acc_train,lda_acc_train],\n",
    "       'MCC Score_train':[rfc_mcc_train,knn_mcc_train,svc_mcc_train,lr_mcc_train,xgb_mcc_train,clf_mcc_train,mlp_mcc_train,etc_mcc_train,dtc_mcc_train,lda_mcc_train],\n",
    "       'F1 Score_train':[rfc_f1_train,knn_f1_train,svc_f1_train,lr_f1_train,xgb_f1_train,clf_f1_train,mlp_f1_train,etc_f1_train,dtc_f1_train,lda_f1_train],\n",
    "       'Precision_train':[rfc_prec_train,knn_prec_train,svc_prec_train,lr_prec_train,xgb_prec_train,clf_prec_train,mlp_prec_train,etc_prec_train,dtc_prec_train,lda_prec_train],\n",
    "       'Recall_train':[rfc_recall_train,knn_recall_train,svc_recall_train,lr_recall_train,xgb_recall_train,clf_recall_train,mlp_recall_train,etc_recall_train,dtc_recall_train,lda_recall_train],\n",
    "         'kappa Score_train':[rfc_kappa_train,knn_kappa_train,svc_kappa_train,lr_kappa_train,xgb_kappa_train,clf_kappa_train,mlp_kappa_train,etc_kappa_train,dtc_kappa_train,lda_kappa_train],\n",
    "       'AUC/ROC_train':[rfc_auc_train,knn_auc_train,svc_auc_train,lr_auc_train,xgb_auc_train,clf_auc_train,mlp_auc_train,etc_auc_train,dtc_auc_train,lda_auc_train]}\n",
    "df_train = pd.DataFrame(data_train)"
   ]
  },
  {
   "cell_type": "code",
   "execution_count": 84,
   "id": "afd640eb",
   "metadata": {},
   "outputs": [],
   "source": [
    "data_test = {'Model': ['RFC','KNN','SVC','LR','XGB','GNB','MLP','ETC','DTC','LDA'],\n",
    "             'Accuracy_test': [rfc_acc_test,knn_acc_test,svc_acc_test,lr_acc_test,xgb_acc_test,clf_acc_test,mlp_acc_test,etc_acc_test,dtc_acc_test,lda_acc_test],\n",
    "             'MCC Score_test':[rfc_mcc_test,knn_mcc_test,svc_mcc_test,lr_mcc_test,xgb_mcc_test,clf_mcc_test,mlp_mcc_test,etc_mcc_test,dtc_mcc_test,lda_mcc_test],\n",
    "              'F1 Score_test':[rfc_f1_test,knn_f1_test,svc_f1_test,lr_f1_test,xgb_f1_test,clf_f1_test,mlp_f1_test,etc_f1_test,dtc_f1_test,lda_f1_test],\n",
    "               'Precision_test':[rfc_prec_test,knn_prec_test,svc_prec_test,lr_prec_test,xgb_prec_test,clf_prec_test,mlp_prec_test,etc_prec_test,dtc_prec_test,lda_prec_test],\n",
    "             'Recall_test':[rfc_recall_test,knn_recall_test,svc_recall_test,lr_recall_test,xgb_recall_test,clf_recall_test,mlp_recall_test,etc_recall_test,dtc_recall_test,lda_recall_test],\n",
    "              'kappa Score_test':[rfc_kappa_test,knn_kappa_test,svc_kappa_test,lr_kappa_test,xgb_kappa_test,clf_kappa_test,mlp_kappa_test,etc_kappa_test,dtc_kappa_test,lda_kappa_test],\n",
    "               'AUC/ROC_test':[rfc_auc_test,knn_auc_test,svc_auc_test,lr_auc_test,xgb_auc_test,clf_auc_test,mlp_auc_test,etc_auc_test,dtc_auc_test,lda_auc_test]}\n",
    "             \n",
    "df_test = pd.DataFrame(data_test)             "
   ]
  },
  {
   "cell_type": "code",
   "execution_count": 85,
   "id": "f7b03398",
   "metadata": {},
   "outputs": [
    {
     "data": {
      "text/html": [
       "<div>\n",
       "<style scoped>\n",
       "    .dataframe tbody tr th:only-of-type {\n",
       "        vertical-align: middle;\n",
       "    }\n",
       "\n",
       "    .dataframe tbody tr th {\n",
       "        vertical-align: top;\n",
       "    }\n",
       "\n",
       "    .dataframe thead th {\n",
       "        text-align: right;\n",
       "    }\n",
       "</style>\n",
       "<table border=\"1\" class=\"dataframe\">\n",
       "  <thead>\n",
       "    <tr style=\"text-align: right;\">\n",
       "      <th></th>\n",
       "      <th>Model</th>\n",
       "      <th>Accuracy_train</th>\n",
       "      <th>MCC Score_train</th>\n",
       "      <th>F1 Score_train</th>\n",
       "      <th>Precision_train</th>\n",
       "      <th>Recall_train</th>\n",
       "      <th>kappa Score_train</th>\n",
       "      <th>AUC/ROC_train</th>\n",
       "    </tr>\n",
       "  </thead>\n",
       "  <tbody>\n",
       "    <tr>\n",
       "      <th>0</th>\n",
       "      <td>RFC</td>\n",
       "      <td>76.159718</td>\n",
       "      <td>0.524955</td>\n",
       "      <td>0.761593</td>\n",
       "      <td>0.787546</td>\n",
       "      <td>0.735462</td>\n",
       "      <td>0.523739</td>\n",
       "      <td>0.860978</td>\n",
       "    </tr>\n",
       "    <tr>\n",
       "      <th>1</th>\n",
       "      <td>KNN</td>\n",
       "      <td>77.334116</td>\n",
       "      <td>0.546214</td>\n",
       "      <td>0.772720</td>\n",
       "      <td>0.768306</td>\n",
       "      <td>0.801596</td>\n",
       "      <td>0.545668</td>\n",
       "      <td>0.861395</td>\n",
       "    </tr>\n",
       "    <tr>\n",
       "      <th>2</th>\n",
       "      <td>SVC</td>\n",
       "      <td>65.766295</td>\n",
       "      <td>0.315010</td>\n",
       "      <td>0.654135</td>\n",
       "      <td>0.647295</td>\n",
       "      <td>0.736602</td>\n",
       "      <td>0.311780</td>\n",
       "      <td>0.730220</td>\n",
       "    </tr>\n",
       "    <tr>\n",
       "      <th>3</th>\n",
       "      <td>LR</td>\n",
       "      <td>64.415737</td>\n",
       "      <td>0.286894</td>\n",
       "      <td>0.642747</td>\n",
       "      <td>0.645230</td>\n",
       "      <td>0.686431</td>\n",
       "      <td>0.286269</td>\n",
       "      <td>0.707682</td>\n",
       "    </tr>\n",
       "    <tr>\n",
       "      <th>4</th>\n",
       "      <td>XGB</td>\n",
       "      <td>97.122725</td>\n",
       "      <td>0.942421</td>\n",
       "      <td>0.971194</td>\n",
       "      <td>0.968326</td>\n",
       "      <td>0.976055</td>\n",
       "      <td>0.942389</td>\n",
       "      <td>0.996508</td>\n",
       "    </tr>\n",
       "    <tr>\n",
       "      <th>5</th>\n",
       "      <td>GNB</td>\n",
       "      <td>61.127422</td>\n",
       "      <td>0.228886</td>\n",
       "      <td>0.593615</td>\n",
       "      <td>0.591025</td>\n",
       "      <td>0.795895</td>\n",
       "      <td>0.213433</td>\n",
       "      <td>0.674680</td>\n",
       "    </tr>\n",
       "    <tr>\n",
       "      <th>6</th>\n",
       "      <td>MLP</td>\n",
       "      <td>68.819730</td>\n",
       "      <td>0.375903</td>\n",
       "      <td>0.687949</td>\n",
       "      <td>0.697941</td>\n",
       "      <td>0.695553</td>\n",
       "      <td>0.375901</td>\n",
       "      <td>0.748905</td>\n",
       "    </tr>\n",
       "    <tr>\n",
       "      <th>7</th>\n",
       "      <td>ETC</td>\n",
       "      <td>99.765120</td>\n",
       "      <td>0.995298</td>\n",
       "      <td>0.997649</td>\n",
       "      <td>0.997719</td>\n",
       "      <td>0.997719</td>\n",
       "      <td>0.995298</td>\n",
       "      <td>0.999986</td>\n",
       "    </tr>\n",
       "    <tr>\n",
       "      <th>8</th>\n",
       "      <td>DTC</td>\n",
       "      <td>67.469172</td>\n",
       "      <td>0.348254</td>\n",
       "      <td>0.673589</td>\n",
       "      <td>0.674595</td>\n",
       "      <td>0.711517</td>\n",
       "      <td>0.347697</td>\n",
       "      <td>0.735906</td>\n",
       "    </tr>\n",
       "    <tr>\n",
       "      <th>9</th>\n",
       "      <td>LDA</td>\n",
       "      <td>65.179096</td>\n",
       "      <td>0.302421</td>\n",
       "      <td>0.651021</td>\n",
       "      <td>0.656733</td>\n",
       "      <td>0.678449</td>\n",
       "      <td>0.302244</td>\n",
       "      <td>0.712036</td>\n",
       "    </tr>\n",
       "  </tbody>\n",
       "</table>\n",
       "</div>"
      ],
      "text/plain": [
       "  Model  Accuracy_train  MCC Score_train  F1 Score_train  Precision_train  \\\n",
       "0   RFC       76.159718         0.524955        0.761593         0.787546   \n",
       "1   KNN       77.334116         0.546214        0.772720         0.768306   \n",
       "2   SVC       65.766295         0.315010        0.654135         0.647295   \n",
       "3    LR       64.415737         0.286894        0.642747         0.645230   \n",
       "4   XGB       97.122725         0.942421        0.971194         0.968326   \n",
       "5   GNB       61.127422         0.228886        0.593615         0.591025   \n",
       "6   MLP       68.819730         0.375903        0.687949         0.697941   \n",
       "7   ETC       99.765120         0.995298        0.997649         0.997719   \n",
       "8   DTC       67.469172         0.348254        0.673589         0.674595   \n",
       "9   LDA       65.179096         0.302421        0.651021         0.656733   \n",
       "\n",
       "   Recall_train  kappa Score_train  AUC/ROC_train  \n",
       "0      0.735462           0.523739       0.860978  \n",
       "1      0.801596           0.545668       0.861395  \n",
       "2      0.736602           0.311780       0.730220  \n",
       "3      0.686431           0.286269       0.707682  \n",
       "4      0.976055           0.942389       0.996508  \n",
       "5      0.795895           0.213433       0.674680  \n",
       "6      0.695553           0.375901       0.748905  \n",
       "7      0.997719           0.995298       0.999986  \n",
       "8      0.711517           0.347697       0.735906  \n",
       "9      0.678449           0.302244       0.712036  "
      ]
     },
     "execution_count": 85,
     "metadata": {},
     "output_type": "execute_result"
    }
   ],
   "source": [
    "df_train"
   ]
  },
  {
   "cell_type": "code",
   "execution_count": 86,
   "id": "0094c6b4",
   "metadata": {},
   "outputs": [
    {
     "data": {
      "text/html": [
       "<div>\n",
       "<style scoped>\n",
       "    .dataframe tbody tr th:only-of-type {\n",
       "        vertical-align: middle;\n",
       "    }\n",
       "\n",
       "    .dataframe tbody tr th {\n",
       "        vertical-align: top;\n",
       "    }\n",
       "\n",
       "    .dataframe thead th {\n",
       "        text-align: right;\n",
       "    }\n",
       "</style>\n",
       "<table border=\"1\" class=\"dataframe\">\n",
       "  <thead>\n",
       "    <tr style=\"text-align: right;\">\n",
       "      <th></th>\n",
       "      <th>Model</th>\n",
       "      <th>Accuracy_test</th>\n",
       "      <th>MCC Score_test</th>\n",
       "      <th>F1 Score_test</th>\n",
       "      <th>Precision_test</th>\n",
       "      <th>Recall_test</th>\n",
       "      <th>kappa Score_test</th>\n",
       "      <th>AUC/ROC_test</th>\n",
       "    </tr>\n",
       "  </thead>\n",
       "  <tbody>\n",
       "    <tr>\n",
       "      <th>0</th>\n",
       "      <td>RFC</td>\n",
       "      <td>64.319249</td>\n",
       "      <td>0.291179</td>\n",
       "      <td>0.643185</td>\n",
       "      <td>0.686567</td>\n",
       "      <td>0.607930</td>\n",
       "      <td>0.289018</td>\n",
       "      <td>0.699621</td>\n",
       "    </tr>\n",
       "    <tr>\n",
       "      <th>1</th>\n",
       "      <td>KNN</td>\n",
       "      <td>61.971831</td>\n",
       "      <td>0.234024</td>\n",
       "      <td>0.616668</td>\n",
       "      <td>0.637131</td>\n",
       "      <td>0.665198</td>\n",
       "      <td>0.233762</td>\n",
       "      <td>0.646171</td>\n",
       "    </tr>\n",
       "    <tr>\n",
       "      <th>2</th>\n",
       "      <td>SVC</td>\n",
       "      <td>60.563380</td>\n",
       "      <td>0.204844</td>\n",
       "      <td>0.601763</td>\n",
       "      <td>0.622407</td>\n",
       "      <td>0.660793</td>\n",
       "      <td>0.204393</td>\n",
       "      <td>0.664711</td>\n",
       "    </tr>\n",
       "    <tr>\n",
       "      <th>3</th>\n",
       "      <td>LR</td>\n",
       "      <td>63.145540</td>\n",
       "      <td>0.260426</td>\n",
       "      <td>0.630182</td>\n",
       "      <td>0.656250</td>\n",
       "      <td>0.647577</td>\n",
       "      <td>0.260400</td>\n",
       "      <td>0.672349</td>\n",
       "    </tr>\n",
       "    <tr>\n",
       "      <th>4</th>\n",
       "      <td>XGB</td>\n",
       "      <td>66.901408</td>\n",
       "      <td>0.336778</td>\n",
       "      <td>0.668208</td>\n",
       "      <td>0.695455</td>\n",
       "      <td>0.674009</td>\n",
       "      <td>0.336595</td>\n",
       "      <td>0.728577</td>\n",
       "    </tr>\n",
       "    <tr>\n",
       "      <th>5</th>\n",
       "      <td>GNB</td>\n",
       "      <td>57.981221</td>\n",
       "      <td>0.146034</td>\n",
       "      <td>0.559722</td>\n",
       "      <td>0.582759</td>\n",
       "      <td>0.744493</td>\n",
       "      <td>0.139170</td>\n",
       "      <td>0.604565</td>\n",
       "    </tr>\n",
       "    <tr>\n",
       "      <th>6</th>\n",
       "      <td>MLP</td>\n",
       "      <td>60.328638</td>\n",
       "      <td>0.209298</td>\n",
       "      <td>0.603179</td>\n",
       "      <td>0.640777</td>\n",
       "      <td>0.581498</td>\n",
       "      <td>0.208283</td>\n",
       "      <td>0.671596</td>\n",
       "    </tr>\n",
       "    <tr>\n",
       "      <th>7</th>\n",
       "      <td>ETC</td>\n",
       "      <td>64.788732</td>\n",
       "      <td>0.295231</td>\n",
       "      <td>0.647258</td>\n",
       "      <td>0.677419</td>\n",
       "      <td>0.647577</td>\n",
       "      <td>0.294904</td>\n",
       "      <td>0.732263</td>\n",
       "    </tr>\n",
       "    <tr>\n",
       "      <th>8</th>\n",
       "      <td>DTC</td>\n",
       "      <td>58.450704</td>\n",
       "      <td>0.165152</td>\n",
       "      <td>0.582573</td>\n",
       "      <td>0.609649</td>\n",
       "      <td>0.612335</td>\n",
       "      <td>0.165150</td>\n",
       "      <td>0.616319</td>\n",
       "    </tr>\n",
       "    <tr>\n",
       "      <th>9</th>\n",
       "      <td>LDA</td>\n",
       "      <td>60.093897</td>\n",
       "      <td>0.202943</td>\n",
       "      <td>0.600622</td>\n",
       "      <td>0.635071</td>\n",
       "      <td>0.590308</td>\n",
       "      <td>0.202370</td>\n",
       "      <td>0.671153</td>\n",
       "    </tr>\n",
       "  </tbody>\n",
       "</table>\n",
       "</div>"
      ],
      "text/plain": [
       "  Model  Accuracy_test  MCC Score_test  F1 Score_test  Precision_test  \\\n",
       "0   RFC      64.319249        0.291179       0.643185        0.686567   \n",
       "1   KNN      61.971831        0.234024       0.616668        0.637131   \n",
       "2   SVC      60.563380        0.204844       0.601763        0.622407   \n",
       "3    LR      63.145540        0.260426       0.630182        0.656250   \n",
       "4   XGB      66.901408        0.336778       0.668208        0.695455   \n",
       "5   GNB      57.981221        0.146034       0.559722        0.582759   \n",
       "6   MLP      60.328638        0.209298       0.603179        0.640777   \n",
       "7   ETC      64.788732        0.295231       0.647258        0.677419   \n",
       "8   DTC      58.450704        0.165152       0.582573        0.609649   \n",
       "9   LDA      60.093897        0.202943       0.600622        0.635071   \n",
       "\n",
       "   Recall_test  kappa Score_test  AUC/ROC_test  \n",
       "0     0.607930          0.289018      0.699621  \n",
       "1     0.665198          0.233762      0.646171  \n",
       "2     0.660793          0.204393      0.664711  \n",
       "3     0.647577          0.260400      0.672349  \n",
       "4     0.674009          0.336595      0.728577  \n",
       "5     0.744493          0.139170      0.604565  \n",
       "6     0.581498          0.208283      0.671596  \n",
       "7     0.647577          0.294904      0.732263  \n",
       "8     0.612335          0.165150      0.616319  \n",
       "9     0.590308          0.202370      0.671153  "
      ]
     },
     "execution_count": 86,
     "metadata": {},
     "output_type": "execute_result"
    }
   ],
   "source": [
    "df_test"
   ]
  },
  {
   "cell_type": "code",
   "execution_count": null,
   "id": "81d96c55",
   "metadata": {},
   "outputs": [],
   "source": []
  }
 ],
 "metadata": {
  "kernelspec": {
   "display_name": "asvm",
   "language": "python",
   "name": "asvm"
  },
  "language_info": {
   "codemirror_mode": {
    "name": "ipython",
    "version": 3
   },
   "file_extension": ".py",
   "mimetype": "text/x-python",
   "name": "python",
   "nbconvert_exporter": "python",
   "pygments_lexer": "ipython3",
   "version": "3.10.9"
  }
 },
 "nbformat": 4,
 "nbformat_minor": 5
}
